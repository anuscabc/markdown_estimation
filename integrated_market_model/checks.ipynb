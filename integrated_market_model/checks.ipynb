{
 "cells": [
  {
   "cell_type": "code",
   "execution_count": 5,
   "metadata": {},
   "outputs": [],
   "source": [
    "import pandas as pd\n",
    "import matplotlib.pyplot as plt \n",
    "import numpy as np"
   ]
  },
  {
   "cell_type": "code",
   "execution_count": 6,
   "metadata": {},
   "outputs": [
    {
     "name": "stdout",
     "output_type": "stream",
     "text": [
      "     time  product  characteristic1  characteristic2      price  \\\n",
      "0       1        1         5.433865         5.433865   2.741721   \n",
      "1       1        2         5.907737         5.907737   2.324290   \n",
      "2       1        3         5.943911         5.943911   2.266723   \n",
      "3       1        4         5.329441         5.329441   2.883364   \n",
      "4       1        5         5.083033         5.083033   3.019253   \n",
      "..    ...      ...              ...              ...        ...   \n",
      "995   100        6         5.360283         5.360283  13.369821   \n",
      "996   100        7         5.958183         5.958183  11.987793   \n",
      "997   100        8         5.184745         5.184745  15.139601   \n",
      "998   100        9         5.223118         5.223118  15.122381   \n",
      "999   100       10         5.019838         5.019838  16.462569   \n",
      "\n",
      "     marginal_cost    mshare   profits   markups  e_quantity   capital  \\\n",
      "0         0.781560  0.095718  0.187623  3.508012   47.858965  0.912243   \n",
      "1         0.532653  0.081786  0.146531  4.363609   40.893002  1.001140   \n",
      "2         0.498882  0.082055  0.145061  4.543601   41.027677  0.929392   \n",
      "3         0.867357  0.096926  0.195404  3.324309   48.463187  0.874897   \n",
      "4         0.949951  0.110474  0.228604  3.178324   55.237084  0.997609   \n",
      "..             ...       ...       ...       ...         ...       ...   \n",
      "995       7.715492  0.084080  0.475415  1.732854   42.039903  1.230161   \n",
      "996       6.662812  0.066650  0.354908  1.799209   33.324819  1.152491   \n",
      "997       9.121059  0.071956  0.433073  1.659851   35.978249  1.263784   \n",
      "998       9.108399  0.069976  0.420836  1.660268   34.988139  1.096188   \n",
      "999      10.197210  0.066543  0.416915  1.614419   33.271456  1.114328   \n",
      "\n",
      "     investment  productivity      labor_q       labor_o      mu_o      mu_q  \n",
      "0      0.136382      0.995023   638.060438   3189.641619 -0.382928  2.084722  \n",
      "1      0.147558      0.973903   326.206134   2682.544636 -0.468524  3.370573  \n",
      "2      0.140959      1.016676   340.163618   2554.046883 -0.453818  3.100895  \n",
      "3      0.129858      0.984261   760.258771   3237.153371 -0.352500  1.757029  \n",
      "4      0.150819      1.011803   789.729852   4100.395199 -0.389907  2.167692  \n",
      "..          ...           ...          ...           ...       ...       ...  \n",
      "995    0.077949      0.133649  3640.575185  12083.206846 -0.302256  1.315840  \n",
      "996    0.061462      0.033295  2730.387634   8392.694225 -0.286002  1.194694  \n",
      "997    0.059006     -0.033101  3546.784359  11683.277365 -0.300672  1.303620  \n",
      "998    0.053452     -0.012382  4203.541561  10421.380404 -0.238435  0.888065  \n",
      "999    0.046125     -0.086070  4373.467595  10765.108800 -0.236793  0.878602  \n",
      "\n",
      "[1000 rows x 17 columns]\n"
     ]
    }
   ],
   "source": [
    "df = pd.read_csv(f'../data/market_integrates_100.csv')\n",
    "print(df)\n"
   ]
  },
  {
   "cell_type": "code",
   "execution_count": null,
   "metadata": {},
   "outputs": [],
   "source": [
    "np.random.seed(300)"
   ]
  },
  {
   "cell_type": "code",
   "execution_count": 7,
   "metadata": {},
   "outputs": [
    {
     "data": {
      "image/png": "[encoded data removed]",
      "text/plain": [
       "<Figure size 640x480 with 1 Axes>"
      ]
     },
     "metadata": {},
     "output_type": "display_data"
    }
   ],
   "source": [
    "# Plotting the markups \n",
    "\n",
    "bins = np.linspace(-10, 10, 100)\n",
    "\n",
    "\n",
    "plt.hist(df['markups'], bins, alpha=0.5, label='demand side markup')\n",
    "# plt.hist(df['mu_o'], bins, alpha=0.5, label='optimal')\n",
    "plt.hist(df['mu_q'], bins, alpha=0.5, label='production side markup')\n",
    "plt.legend(loc='upper right')\n",
    "plt\n",
    "plt.show()\n"
   ]
  },
  {
   "cell_type": "code",
   "execution_count": 9,
   "metadata": {},
   "outputs": [],
   "source": [
    "# Some checks for the marginal cost computation \n",
    "def compute_marginal_cost(wage, theta_L, theta_0, n_consumers, market_shares, t, productivity_shocks, \n",
    "                          theta_K, capital):\n",
    "    \"\"\" Function to compute the marginal cost as a function of the \n",
    "    equilibiurm quantity produced in the market in each time period\n",
    "\n",
    "    Args:\n",
    "        market_shares (_float_): the market shares for that one particular period \n",
    "        t (_int_): the time period for which the cost has to be computed \n",
    "\n",
    "    Returns:\n",
    "        _float_: the marginal cost for the time period t \n",
    "    \"\"\"\n",
    "    MC = (wage*(1/theta_L)*(n_consumers * market_shares/(np.exp(theta_0 + productivity_shocks[:,t])*\n",
    "        capital[:,t]**theta_K))**((1-theta_L)/theta_L) *\n",
    "        (1/np.exp(theta_0 + productivity_shocks[:,t])*\n",
    "        capital[:,t]**theta_K))\n",
    "    return MC\n",
    "\n"
   ]
  },
  {
   "cell_type": "code",
   "execution_count": 12,
   "metadata": {},
   "outputs": [
    {
     "name": "stdout",
     "output_type": "stream",
     "text": [
      "[[0.7]\n",
      " [0.7]]\n",
      "[[ 1.44103308]\n",
      " [-1.23551195]]\n"
     ]
    },
    {
     "ename": "IndexError",
     "evalue": "index 1 is out of bounds for axis 1 with size 1",
     "output_type": "error",
     "traceback": [
      "\u001b[0;31m---------------------------------------------------------------------------\u001b[0m",
      "\u001b[0;31mIndexError\u001b[0m                                Traceback (most recent call last)",
      "Cell \u001b[0;32mIn[12], line 8\u001b[0m\n\u001b[1;32m      5\u001b[0m \u001b[39mprint\u001b[39m(prod)\n\u001b[1;32m      7\u001b[0m \u001b[39mfor\u001b[39;00m t \u001b[39min\u001b[39;00m \u001b[39mrange\u001b[39m(\u001b[39m0\u001b[39m, \u001b[39m2\u001b[39m, \u001b[39m1\u001b[39m):\n\u001b[0;32m----> 8\u001b[0m     mc \u001b[39m=\u001b[39m compute_marginal_cost(\u001b[39m1\u001b[39;49m, \u001b[39m0.3\u001b[39;49m, \u001b[39m1\u001b[39;49m, \u001b[39m10\u001b[39;49m, \u001b[39m0.05\u001b[39;49m, t, prod, \u001b[39m0.7\u001b[39;49m, K)\n",
      "Cell \u001b[0;32mIn[9], line 14\u001b[0m, in \u001b[0;36mcompute_marginal_cost\u001b[0;34m(wage, theta_L, theta_0, n_consumers, market_shares, t, productivity_shocks, theta_K, capital)\u001b[0m\n\u001b[1;32m      2\u001b[0m \u001b[39mdef\u001b[39;00m \u001b[39mcompute_marginal_cost\u001b[39m(wage, theta_L, theta_0, n_consumers, market_shares, t, productivity_shocks, \n\u001b[1;32m      3\u001b[0m                           theta_K, capital):\n\u001b[1;32m      4\u001b[0m \u001b[39m    \u001b[39m\u001b[39m\"\"\" Function to compute the marginal cost as a function of the \u001b[39;00m\n\u001b[1;32m      5\u001b[0m \u001b[39m    equilibiurm quantity produced in the market in each time period\u001b[39;00m\n\u001b[1;32m      6\u001b[0m \n\u001b[0;32m   (...)\u001b[0m\n\u001b[1;32m     12\u001b[0m \u001b[39m        _float_: the marginal cost for the time period t \u001b[39;00m\n\u001b[1;32m     13\u001b[0m \u001b[39m    \"\"\"\u001b[39;00m\n\u001b[0;32m---> 14\u001b[0m     MC \u001b[39m=\u001b[39m (wage\u001b[39m*\u001b[39m(\u001b[39m1\u001b[39m\u001b[39m/\u001b[39mtheta_L)\u001b[39m*\u001b[39m(n_consumers \u001b[39m*\u001b[39m market_shares\u001b[39m/\u001b[39m(np\u001b[39m.\u001b[39mexp(theta_0 \u001b[39m+\u001b[39m productivity_shocks[:,t])\u001b[39m*\u001b[39m\n\u001b[1;32m     15\u001b[0m         capital[:,t]\u001b[39m*\u001b[39m\u001b[39m*\u001b[39mtheta_K))\u001b[39m*\u001b[39m\u001b[39m*\u001b[39m((\u001b[39m1\u001b[39m\u001b[39m-\u001b[39mtheta_L)\u001b[39m/\u001b[39mtheta_L) \u001b[39m*\u001b[39m\n\u001b[1;32m     16\u001b[0m         (\u001b[39m1\u001b[39m\u001b[39m/\u001b[39mnp\u001b[39m.\u001b[39mexp(theta_0 \u001b[39m+\u001b[39m productivity_shocks[:,t])\u001b[39m*\u001b[39m\n\u001b[1;32m     17\u001b[0m         capital[:,t]\u001b[39m*\u001b[39m\u001b[39m*\u001b[39mtheta_K))\n\u001b[1;32m     18\u001b[0m     \u001b[39mreturn\u001b[39;00m MC\n",
      "\u001b[0;31mIndexError\u001b[0m: index 1 is out of bounds for axis 1 with size 1"
     ]
    }
   ],
   "source": [
    "\n",
    "K = np.ones((2, 1))*(7/10)\n",
    "prod = np.random.normal(0, 1, (2, 1))\n",
    "\n",
    "print(K)\n",
    "print(prod)\n",
    "\n",
    "for t in range(0, 2, 1):\n",
    "    mc = compute_marginal_cost(1, 0.3, 1, 10, 0.05, t, prod, 0.7, K)"
   ]
  }
 ],
 "metadata": {
  "kernelspec": {
   "display_name": "Python 3",
   "language": "python",
   "name": "python3"
  },
  "language_info": {
   "codemirror_mode": {
    "name": "ipython",
    "version": 3
   },
   "file_extension": ".py",
   "mimetype": "text/x-python",
   "name": "python",
   "nbconvert_exporter": "python",
   "pygments_lexer": "ipython3",
   "version": "3.11.1"
  },
  "orig_nbformat": 4
 },
 "nbformat": 4,
 "nbformat_minor": 2
}
