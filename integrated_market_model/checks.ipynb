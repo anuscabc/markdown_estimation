{
 "cells": [
  {
   "cell_type": "code",
   "execution_count": 13,
   "metadata": {},
   "outputs": [],
   "source": [
    "import pandas as pd\n",
    "import matplotlib.pyplot as plt \n",
    "import numpy as np\n",
    "from market import IntegratedMarketModel"
   ]
  },
  {
   "cell_type": "code",
   "execution_count": 14,
   "metadata": {},
   "outputs": [],
   "source": [
    "n_firms = 10 \n",
    "n_consumers = 500\n",
    "n_chars = 2\n",
    "T = 1\n",
    "s = 100"
   ]
  },
  {
   "cell_type": "code",
   "execution_count": 15,
   "metadata": {},
   "outputs": [],
   "source": [
    "model = IntegratedMarketModel(\n",
    "        n_firms, \n",
    "        n_consumers, \n",
    "        n_chars, \n",
    "        T, \n",
    "        seed=s\n",
    "    )\n",
    "model.demand_side_optimisation()\n"
   ]
  },
  {
   "cell_type": "code",
   "execution_count": 16,
   "metadata": {},
   "outputs": [
    {
     "name": "stdout",
     "output_type": "stream",
     "text": [
      "(500,)\n",
      "[[-0.02518505  0.00048646  0.00048382  0.00042069  0.00046393  0.0004333\n",
      "   0.00052475  0.00052114  0.00045037  0.00043219]\n",
      " [ 0.00048646 -0.02622443  0.00050178  0.00043636  0.00048121  0.00044917\n",
      "   0.00054436  0.00054065  0.00046721  0.00044807]\n",
      " [ 0.00048382  0.00050178 -0.02593136  0.00043395  0.00047855  0.00044703\n",
      "   0.00054127  0.00053753  0.00046455  0.00044587]\n",
      " [ 0.00042069  0.00043636  0.00043395 -0.02269749  0.00041614  0.00038853\n",
      "   0.00047073  0.00046751  0.00040401  0.00038756]\n",
      " [ 0.00046393  0.00048121  0.00047855  0.00041614 -0.02498251  0.00042846\n",
      "   0.0005191   0.00051555  0.00044553  0.00042739]\n",
      " [ 0.0004333   0.00044917  0.00044703  0.00038853  0.00042846 -0.02282911\n",
      "   0.00048439  0.00048088  0.00041572  0.0004    ]\n",
      " [ 0.00052475  0.00054436  0.00054127  0.00047073  0.0005191   0.00048439\n",
      "  -0.02831468  0.00058329  0.00050403  0.00048324]\n",
      " [ 0.00052114  0.00054065  0.00053753  0.00046751  0.00051555  0.00048088\n",
      "   0.00058329 -0.02820986  0.00050062  0.00047978]\n",
      " [ 0.00045037  0.00046721  0.00046455  0.00040401  0.00044553  0.00041572\n",
      "   0.00050403  0.00050062 -0.02437887  0.00041474]\n",
      " [ 0.00043219  0.00044807  0.00044587  0.00038756  0.00042739  0.0004\n",
      "   0.00048324  0.00047978  0.00041474 -0.02288144]]\n",
      "[[0.02950992 0.01364696 0.00873735 ... 0.01392141 0.03351606 0.01099337]\n",
      " [0.03020568 0.01431549 0.00928175 ... 0.0145949  0.03414613 0.01160368]\n",
      " [0.03054949 0.01403363 0.00895408 ... 0.01431812 0.03474102 0.01128575]\n",
      " ...\n",
      " [0.03185631 0.01553893 0.01022539 ... 0.0158314  0.03581471 0.01268748]\n",
      " [0.02775235 0.01333935 0.00871175 ... 0.01359516 0.03128854 0.01085105]\n",
      " [0.02842408 0.01208542 0.00741019 ... 0.01235304 0.0328046  0.00953065]]\n"
     ]
    }
   ],
   "source": [
    "vp1 = model.v_p[:,0]\n",
    "print(vp1.shape)\n",
    "price1 = model.prices[:,0]\n",
    "\n",
    "e=0 \n",
    "\n",
    "\n",
    "market_shares, all_probs, mean_indirect_utility = model.compute_share(vp1, price1, e)\n",
    "J_true = model.construct_Jacobian(all_probs, vp1)\n",
    "print(J_true)\n",
    "print(all_probs)"
   ]
  },
  {
   "cell_type": "code",
   "execution_count": 17,
   "metadata": {},
   "outputs": [
    {
     "name": "stdout",
     "output_type": "stream",
     "text": [
      "[[-0.02733919  0.00056612  0.00056444  0.00048995  0.00054035  0.00050959\n",
      "   0.00061006  0.00060509  0.00052354  0.00050725]\n",
      " [ 0.00056612 -0.02839808  0.00058427  0.00050722  0.00055939  0.00052726\n",
      "   0.00063162  0.00062652  0.00054205  0.0005249 ]\n",
      " [ 0.00056444  0.00058427 -0.02816636  0.00050566  0.00055767  0.00052601\n",
      "   0.0006296   0.00062446  0.00054031  0.00052358]\n",
      " [ 0.00048995  0.00050722  0.00050566 -0.02460616  0.00048411  0.0004564\n",
      "   0.0005466   0.00054217  0.00046908  0.00045434]\n",
      " [ 0.00054035  0.00055939  0.00055767  0.00048411 -0.02708265  0.00050336\n",
      "   0.00060282  0.00059793  0.00051733  0.00050108]\n",
      " [ 0.00050959  0.00052726  0.00052601  0.0004564   0.00050336 -0.02504814\n",
      "   0.00056803  0.00056322  0.00048746  0.00047343]\n",
      " [ 0.00061006  0.00063162  0.0006296   0.0005466   0.00060282  0.00056803\n",
      "  -0.03061981  0.00067523  0.00058417  0.00056553]\n",
      " [ 0.00060509  0.00062652  0.00062446  0.00054217  0.00059793  0.00056322\n",
      "   0.00067523 -0.03045892  0.00057948  0.00056078]\n",
      " [ 0.00052354  0.00054205  0.00054031  0.00046908  0.00051733  0.00048746\n",
      "   0.00058417  0.00057948 -0.02636584  0.00048531]\n",
      " [ 0.00050725  0.0005249   0.00052358  0.00045434  0.00050108  0.00047343\n",
      "   0.00056553  0.00056078  0.00048531 -0.02504292]]\n",
      "The matrices are different.\n"
     ]
    }
   ],
   "source": [
    "vp2 = np.random.normal(0, 1, n_consumers)\n",
    "J_approx = model.construct_Jacobian(all_probs, vp2)\n",
    "print(J_approx)\n",
    "\n",
    "\n",
    "J_true_flat = J_true.flatten()\n",
    "J_approx_flat = J_approx.flatten()\n",
    "\n",
    "\n",
    "# Compare the matrices element-wise with a tolerance of 0.2\n",
    "comparison = np.allclose(J_true, J_approx, atol=1e-03)\n",
    "\n",
    "# Print the result\n",
    "if comparison:\n",
    "    print(\"The matrices are approximately the same.\")\n",
    "else:\n",
    "    print(\"The matrices are different.\")\n"
   ]
  },
  {
   "cell_type": "code",
   "execution_count": 18,
   "metadata": {},
   "outputs": [
    {
     "data": {
      "image/png": "[encoded data removed]",
      "text/plain": [
       "<Figure size 640x480 with 1 Axes>"
      ]
     },
     "metadata": {},
     "output_type": "display_data"
    }
   ],
   "source": [
    "plt.hist(J_true_flat, \n",
    "         bins=10,\n",
    "         alpha=0.4, \n",
    "         label='true',\n",
    "         color='violet') # customized color parameter\n",
    "  \n",
    "plt.hist(J_approx_flat,\n",
    "         bins=10, \n",
    "         alpha=0.4,\n",
    "         label='approximated',\n",
    "         color='orange')\n",
    "\n",
    "plt.title('True and Approximated First Order Price Derivatives in the Jacobian')\n",
    "plt.legend(loc='upper right')\n",
    "plt.show()"
   ]
  },
  {
   "cell_type": "code",
   "execution_count": 25,
   "metadata": {},
   "outputs": [
    {
     "name": "stdout",
     "output_type": "stream",
     "text": [
      "[0.06363169 0.06363169]\n"
     ]
    }
   ],
   "source": [
    "wage = 15 \n",
    "theta_0 = 1\n",
    "theta_L = 0.3 \n",
    "theta_K = 0.7\n",
    "q= np.ones(2)\n",
    "\n",
    "productivity_shocks = np.ones((2,2))\n",
    "capital = np.ones((2,2))\n",
    "\n",
    "t = 0\n",
    "\n",
    "MC = (wage*(1/theta_L))*((q)/(np.exp(theta_0 + productivity_shocks[:,t])*\n",
    "              capital[:,t]**theta_K))**((1/theta_L)-1) *(1/(np.exp(theta_0 + productivity_shocks[:,t])*\n",
    "              capital[:,t]**theta_K))\n",
    "\n",
    "print(MC)"
   ]
  },
  {
   "cell_type": "code",
   "execution_count": null,
   "metadata": {},
   "outputs": [],
   "source": []
  },
  {
   "cell_type": "code",
   "execution_count": 20,
   "metadata": {},
   "outputs": [
    {
     "name": "stdout",
     "output_type": "stream",
     "text": [
      "(2, 3)\n"
     ]
    }
   ],
   "source": [
    "x = np.array([[1, 2, 3], [4, 5, 6]])\n",
    "print(x.shape)"
   ]
  },
  {
   "cell_type": "code",
   "execution_count": null,
   "metadata": {},
   "outputs": [],
   "source": []
  },
  {
   "cell_type": "code",
   "execution_count": 21,
   "metadata": {},
   "outputs": [
    {
     "name": "stdout",
     "output_type": "stream",
     "text": [
      "[10.  10.5 11.   9.   9.5 10.  16.  16.5 17. ]\n",
      "[[10.  10.5 11. ]\n",
      " [ 9.   9.5 10. ]\n",
      " [16.  16.5 17. ]]\n",
      "[ 8916240.07023025 14700394.65845743 24236853.3610853 ]\n",
      "[[2.47037576e-03 2.47037587e-03 2.47037593e-03]\n",
      " [9.08800453e-04 9.08800494e-04 9.08800518e-04]\n",
      " [9.96620712e-01 9.96620756e-01 9.96620782e-01]]\n",
      "[0.00247038 0.00247038 0.00247038]\n"
     ]
    }
   ],
   "source": [
    "n_cons = 3\n",
    "n_firms = 3\n",
    "product_chars = np.array(([1, 3, 3], [1, 2, 2], [5, 5, 5]))\n",
    "mu = -4\n",
    "omega = 0.5\n",
    "v_p = np.array([4, 5, 6])\n",
    "price = np.ones(n_firms)\n",
    "beta = np.array([1, 0.5, 0.5])\n",
    "\n",
    "mean_indirect_utility = product_chars@beta - mu*price\n",
    "\n",
    "mean_indirect_utility_for_utility = np.repeat(mean_indirect_utility, n_cons, axis=0)\n",
    "\n",
    "price_r = np.reshape(price, (1, n_firms))\n",
    "alpha_i = np.reshape((omega*v_p), (n_cons, 1))\n",
    "\n",
    "\n",
    "\n",
    "random_coeff = np.ravel((alpha_i@price_r).T)\n",
    "\n",
    "\n",
    "\n",
    "u = mean_indirect_utility_for_utility  + random_coeff + e\n",
    "print(u)\n",
    "\n",
    "u_r = np.reshape(u, (n_firms, n_cons))\n",
    "print(u_r)\n",
    "sum_u = np.sum(np.exp(u_r), axis=0)\n",
    "print(sum_u)\n",
    "\n",
    "all_probs = np.exp(u_r)/(1 + sum_u)\n",
    "print(all_probs)\n",
    "market_shares = (np.sum(all_probs, axis=1))/n_cons\n",
    "# # market_shares = np.sum(all_probs, axis=1)/self.n_consumers\n",
    "p1 = all_probs[0, :]\n",
    "print(p1)\n",
    "\n"
   ]
  },
  {
   "cell_type": "code",
   "execution_count": 22,
   "metadata": {},
   "outputs": [
    {
     "name": "stdout",
     "output_type": "stream",
     "text": [
      "[-2.  -1.5 -1. ]\n",
      "[[2.47037576e-03 2.47037587e-03 2.47037593e-03]\n",
      " [9.08800453e-04 9.08800494e-04 9.08800518e-04]\n",
      " [9.96620712e-01 9.96620756e-01 9.96620782e-01]]\n",
      "i 0\n",
      "j 0\n",
      "j 1\n",
      "[0.00247038 0.00247038 0.00247038]\n",
      "[0.0009088 0.0009088 0.0009088]\n",
      "check shape [4.49015722e-06 3.36761821e-06 2.24507893e-06]\n",
      "j 2\n",
      "[0.00247038 0.00247038 0.00247038]\n",
      "[0.99662071 0.99662076 0.99662078]\n",
      "check shape [0.00492406 0.00369304 0.00246203]\n",
      "i 1\n",
      "j 0\n",
      "[0.0009088 0.0009088 0.0009088]\n",
      "[0.00247038 0.00247038 0.00247038]\n",
      "check shape [4.49015722e-06 3.36761821e-06 2.24507893e-06]\n",
      "j 1\n",
      "j 2\n",
      "[0.0009088 0.0009088 0.0009088]\n",
      "[0.99662071 0.99662076 0.99662078]\n",
      "check shape [0.00181146 0.00135859 0.00090573]\n",
      "i 2\n",
      "j 0\n",
      "[0.99662071 0.99662076 0.99662078]\n",
      "[0.00247038 0.00247038 0.00247038]\n",
      "check shape [0.00492406 0.00369304 0.00246203]\n",
      "j 1\n",
      "[0.99662071 0.99662076 0.99662078]\n",
      "[0.0009088 0.0009088 0.0009088]\n",
      "check shape [0.00181146 0.00135859 0.00090573]\n",
      "j 2\n",
      "[[-3.69640962e-03  3.36761812e-06  3.69304169e-03]\n",
      " [ 3.36761812e-06 -1.36196184e-03  1.35859411e-03]\n",
      " [ 3.69304169e-03  1.35859411e-03 -5.05175793e-03]]\n"
     ]
    }
   ],
   "source": [
    "J = np.zeros((n_firms, n_firms))\n",
    "alphas = mu + omega*v_p\n",
    "print(alphas)\n",
    "print(all_probs)\n",
    "for i in range(J.shape[0]):\n",
    "    print('i', i)\n",
    "    p1 = all_probs[i, :]\n",
    "    for j in range(J.shape[1]):\n",
    "        print('j', j)\n",
    "        if i == j:\n",
    "            J[i, j] = np.sum(alphas * p1 - alphas * (p1 ** 2))/(n_cons)\n",
    "        else: \n",
    "            p2 = all_probs[j, :]\n",
    "            print(p1)\n",
    "            print(p2)\n",
    "            print('check shape', -alphas * p1 * p2 )\n",
    "            J[i, j] = np.sum((-alphas * p1 * p2))/(n_cons)\n",
    "\n",
    "print(J)\n"
   ]
  },
  {
   "cell_type": "code",
   "execution_count": 23,
   "metadata": {},
   "outputs": [
    {
     "name": "stdout",
     "output_type": "stream",
     "text": [
      "-1.6820276496988864\n",
      "0.33979778797685584\n"
     ]
    }
   ],
   "source": [
    "a1, a2, a0, s0 = model.get_alphas()\n",
    "print(a0)\n",
    "print(s0)"
   ]
  },
  {
   "cell_type": "code",
   "execution_count": 24,
   "metadata": {},
   "outputs": [
    {
     "data": {
      "image/png": "[encoded data removed]",
      "text/plain": [
       "<Figure size 640x480 with 1 Axes>"
      ]
     },
     "metadata": {},
     "output_type": "display_data"
    }
   ],
   "source": [
    "plt.hist(a1, \n",
    "         bins=10,\n",
    "         alpha=0.4, \n",
    "         label='true',\n",
    "         color='violet') # customized color parameter\n",
    "  \n",
    "plt.hist(a2,\n",
    "         bins=10, \n",
    "         alpha=0.4,\n",
    "         label='approximated',\n",
    "         color='orange')\n",
    "\n",
    "plt.title('True and Approximated First Order Price Derivatives in the Jacobian')\n",
    "plt.legend(loc='upper right')\n",
    "plt.show()"
   ]
  }
 ],
 "metadata": {
  "kernelspec": {
   "display_name": "Python 3",
   "language": "python",
   "name": "python3"
  },
  "language_info": {
   "codemirror_mode": {
    "name": "ipython",
    "version": 3
   },
   "file_extension": ".py",
   "mimetype": "text/x-python",
   "name": "python",
   "nbconvert_exporter": "python",
   "pygments_lexer": "ipython3",
   "version": "3.11.1"
  },
  "orig_nbformat": 4
 },
 "nbformat": 4,
 "nbformat_minor": 2
}
