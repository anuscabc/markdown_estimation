{
 "cells": [
  {
   "cell_type": "code",
   "execution_count": 1,
   "metadata": {},
   "outputs": [],
   "source": [
    "import pandas as pd\n",
    "import matplotlib.pyplot as plt \n",
    "import numpy as np\n",
    "from market import IntegratedMarketModel"
   ]
  },
  {
   "cell_type": "code",
   "execution_count": 2,
   "metadata": {},
   "outputs": [],
   "source": [
    "from matplotlib import rc\n",
    "rc('font', **{'family': 'serif', 'serif': ['Computer Modern']})\n",
    "rc('text', usetex=True)"
   ]
  },
  {
   "cell_type": "code",
   "execution_count": 3,
   "metadata": {},
   "outputs": [],
   "source": [
    "n_firms = 10 \n",
    "n_consumers = 10000\n",
    "n_chars = 2\n",
    "T = 1\n",
    "s = 100"
   ]
  },
  {
   "cell_type": "code",
   "execution_count": 4,
   "metadata": {},
   "outputs": [],
   "source": [
    "model = IntegratedMarketModel(\n",
    "        n_firms, \n",
    "        n_consumers, \n",
    "        n_chars, \n",
    "        T, \n",
    "        seed=s\n",
    "    )\n",
    "model.demand_side_optimisation()\n"
   ]
  },
  {
   "cell_type": "code",
   "execution_count": null,
   "metadata": {},
   "outputs": [],
   "source": []
  },
  {
   "cell_type": "code",
   "execution_count": 5,
   "metadata": {},
   "outputs": [
    {
     "name": "stdout",
     "output_type": "stream",
     "text": [
      "(10000,)\n",
      "[[-1.43799873e-03  2.94607157e-06  4.04804430e-06  4.07296417e-06\n",
      "   5.42266156e-06  3.30525603e-06  3.57944972e-06  3.68038437e-06\n",
      "   3.12511322e-06  4.47981292e-06]\n",
      " [ 2.94607157e-06 -1.15281062e-03  2.72527465e-06  2.77158678e-06\n",
      "   3.63531719e-06  2.25771443e-06  2.40930589e-06  2.50764533e-06\n",
      "   2.13843589e-06  3.02021004e-06]\n",
      " [ 4.04804430e-06  2.72527465e-06 -1.31150301e-03  3.77354923e-06\n",
      "   5.03139172e-06  3.06113941e-06  3.31986727e-06  3.40940171e-06\n",
      "   2.89380043e-06  4.15427784e-06]\n",
      " [ 4.07296417e-06  2.77158678e-06  3.77354923e-06 -1.42365656e-03\n",
      "   5.04757336e-06  3.09662245e-06  3.33649236e-06  3.44507762e-06\n",
      "   2.92963853e-06  4.17807630e-06]\n",
      " [ 5.42266156e-06  3.63531719e-06  5.03139172e-06  5.04757336e-06\n",
      "  -1.70337450e-03  4.09192366e-06  4.44921652e-06  4.55946212e-06\n",
      "   3.86704085e-06  5.56590190e-06]\n",
      " [ 3.30525603e-06  2.25771443e-06  3.06113941e-06  3.09662245e-06\n",
      "   4.09192366e-06 -1.18739837e-03  2.70650723e-06  2.79994806e-06\n",
      "   2.38263066e-06  3.39004610e-06]\n",
      " [ 3.57944972e-06  2.40930589e-06  3.31986727e-06  3.33649236e-06\n",
      "   4.44921652e-06  2.70650723e-06 -1.15838194e-03  3.01448799e-06\n",
      "   2.55851593e-06  3.67341582e-06]\n",
      " [ 3.68038437e-06  2.50764533e-06  3.40940171e-06  3.44507762e-06\n",
      "   4.55946212e-06  2.79994806e-06  3.01448799e-06 -1.29848645e-03\n",
      "   2.64920980e-06  3.77517373e-06]\n",
      " [ 3.12511322e-06  2.13843589e-06  2.89380043e-06  2.92963853e-06\n",
      "   3.86704085e-06  2.38263066e-06  2.55851593e-06  2.64920980e-06\n",
      "  -1.13696875e-03  3.20505770e-06]\n",
      " [ 4.47981292e-06  3.02021004e-06  4.15427784e-06  4.17807630e-06\n",
      "   5.56590190e-06  3.39004610e-06  3.67341582e-06  3.77517373e-06\n",
      "   3.20505770e-06 -1.46550869e-03]]\n",
      "[[4.61745657e-03 2.93257499e-04 6.97414993e-05 ... 9.64892826e-04\n",
      "  1.51277451e-04 6.87570651e-04]\n",
      " [3.07025795e-03 3.21603447e-04 9.89388755e-05 ... 8.54076029e-04\n",
      "  1.86810742e-04 6.46949904e-04]\n",
      " [4.28260396e-03 2.58183877e-04 5.97764733e-05 ... 8.68655973e-04\n",
      "  1.31548590e-04 6.15068044e-04]\n",
      " ...\n",
      " [3.87971625e-03 3.02778380e-04 8.00580849e-05 ... 9.12089425e-04\n",
      "  1.64013447e-04 6.66503585e-04]\n",
      " [3.28579921e-03 2.80216040e-04 7.75525585e-05 ... 8.12656687e-04\n",
      "  1.55020255e-04 6.00311932e-04]\n",
      " [4.73880625e-03 2.94711187e-04 6.93341326e-05 ... 9.78433792e-04\n",
      "  1.51271886e-04 6.95434385e-04]]\n"
     ]
    }
   ],
   "source": [
    "vp1 = model.v_p[:,0]\n",
    "print(vp1.shape)\n",
    "price1 = model.prices[:,0]\n",
    "\n",
    "e=0 \n",
    "\n",
    "\n",
    "market_shares, all_probs, mean_indirect_utility = model.compute_share(vp1, price1, e)\n",
    "J_true = model.construct_Jacobian(all_probs, vp1)\n",
    "print(J_true)\n",
    "print(all_probs)"
   ]
  },
  {
   "cell_type": "code",
   "execution_count": 6,
   "metadata": {},
   "outputs": [
    {
     "name": "stdout",
     "output_type": "stream",
     "text": [
      "[[-1.82498571e-03  4.21679416e-06  5.92860261e-06  5.90976300e-06\n",
      "   7.97117897e-06  4.78011572e-06  5.24325893e-06  5.33422591e-06\n",
      "   4.51269414e-06  6.55289190e-06]\n",
      " [ 4.21679416e-06 -1.41377828e-03  3.90961480e-06  3.93557155e-06\n",
      "   5.23633821e-06  3.19435881e-06  3.45701518e-06  3.55645562e-06\n",
      "   3.02053312e-06  4.32687368e-06]\n",
      " [ 5.92860261e-06  3.90961480e-06 -1.67018838e-03  5.48702227e-06\n",
      "   7.41087750e-06  4.43667439e-06  4.87295455e-06  4.95208775e-06\n",
      "   4.18780366e-06  6.08921526e-06]\n",
      " [ 5.90976300e-06  3.93557155e-06  5.48702227e-06 -1.78534519e-03\n",
      "   7.36763275e-06  4.44440291e-06  4.85241001e-06  4.95565727e-06\n",
      "   4.19810723e-06  6.06751195e-06]\n",
      " [ 7.97117897e-06  5.23633821e-06  7.41087750e-06  7.36763275e-06\n",
      "  -2.18218007e-03  5.95368153e-06  6.55451917e-06  6.64799748e-06\n",
      "   5.61812907e-06  8.18837789e-06]\n",
      " [ 4.78011572e-06  3.19435881e-06  4.43667439e-06  4.44440291e-06\n",
      "   5.95368153e-06 -1.48114187e-03  3.92342636e-06  4.01393281e-06\n",
      "   3.40243262e-06  4.90703695e-06]\n",
      " [ 5.24325893e-06  3.45701518e-06  4.87295455e-06  4.85241001e-06\n",
      "   6.55451917e-06  3.92342636e-06 -1.47570231e-03  4.37930081e-06\n",
      "   3.70329482e-06  5.38534490e-06]\n",
      " [ 5.33422591e-06  3.55645562e-06  4.95208775e-06  4.95565727e-06\n",
      "   6.64799748e-06  4.01393281e-06  4.37930081e-06 -1.62546717e-03\n",
      "   3.79181711e-06  5.47635846e-06]\n",
      " [ 4.51269414e-06  3.02053312e-06  4.18780366e-06  4.19810723e-06\n",
      "   5.61812907e-06  3.40243262e-06  3.70329482e-06  3.79181711e-06\n",
      "  -1.41469999e-03  4.63221831e-06]\n",
      " [ 6.55289190e-06  4.32687368e-06  6.08921526e-06  6.06751195e-06\n",
      "   8.18837789e-06  4.90703695e-06  5.38534490e-06  5.47635846e-06\n",
      "   4.63221831e-06 -1.86244020e-03]]\n",
      "The matrices are approximately the same.\n"
     ]
    }
   ],
   "source": [
    "vp2 = np.random.normal(0, 1, n_consumers)\n",
    "J_approx = model.construct_Jacobian(all_probs, vp2)\n",
    "print(J_approx)\n",
    "\n",
    "\n",
    "J_true_flat = J_true.flatten()\n",
    "J_approx_flat = J_approx.flatten()\n",
    "\n",
    "\n",
    "# Compare the matrices element-wise with a tolerance of 0.2\n",
    "comparison = np.allclose(J_true, J_approx, atol=1e-03)\n",
    "\n",
    "# Print the result\n",
    "if comparison:\n",
    "    print(\"The matrices are approximately the same.\")\n",
    "else:\n",
    "    print(\"The matrices are different.\")\n"
   ]
  },
  {
   "cell_type": "code",
   "execution_count": 7,
   "metadata": {},
   "outputs": [
    {
     "data": {
      "image/png": "[encoded data removed]",
      "text/plain": [
       "<Figure size 640x480 with 1 Axes>"
      ]
     },
     "metadata": {},
     "output_type": "display_data"
    }
   ],
   "source": [
    "plt.hist(J_true_flat, \n",
    "         bins=10,\n",
    "         alpha=0.4, \n",
    "         label='true',\n",
    "         color='violet') # customized color parameter\n",
    "  \n",
    "plt.hist(J_approx_flat,\n",
    "         bins=10, \n",
    "         alpha=0.4,\n",
    "         label='approximated',\n",
    "         color='orange')\n",
    "\n",
    "plt.title('True and Approximated First Order Price Derivatives in the Jacobian')\n",
    "plt.legend(loc='upper right')\n",
    "plt.show()"
   ]
  },
  {
   "cell_type": "code",
   "execution_count": 8,
   "metadata": {},
   "outputs": [
    {
     "name": "stdout",
     "output_type": "stream",
     "text": [
      "[0.06363169 0.06363169]\n"
     ]
    }
   ],
   "source": [
    "wage = 15 \n",
    "theta_0 = 1\n",
    "theta_L = 0.3 \n",
    "theta_K = 0.7\n",
    "q= np.ones(2)\n",
    "\n",
    "productivity_shocks = np.ones((2,2))\n",
    "capital = np.ones((2,2))\n",
    "\n",
    "t = 0\n",
    "\n",
    "MC = (wage*(1/theta_L))*((q)/(np.exp(theta_0 + productivity_shocks[:,t])*\n",
    "              capital[:,t]**theta_K))**((1/theta_L)-1) *(1/(np.exp(theta_0 + productivity_shocks[:,t])*\n",
    "              capital[:,t]**theta_K))\n",
    "\n",
    "print(MC)"
   ]
  },
  {
   "cell_type": "code",
   "execution_count": null,
   "metadata": {},
   "outputs": [],
   "source": []
  },
  {
   "cell_type": "code",
   "execution_count": 9,
   "metadata": {},
   "outputs": [
    {
     "name": "stdout",
     "output_type": "stream",
     "text": [
      "(2, 3)\n"
     ]
    }
   ],
   "source": [
    "x = np.array([[1, 2, 3], [4, 5, 6]])\n",
    "print(x.shape)"
   ]
  },
  {
   "cell_type": "code",
   "execution_count": null,
   "metadata": {},
   "outputs": [],
   "source": []
  },
  {
   "cell_type": "code",
   "execution_count": 10,
   "metadata": {},
   "outputs": [
    {
     "name": "stdout",
     "output_type": "stream",
     "text": [
      "[10.  10.5 11.   9.   9.5 10.  16.  16.5 17. ]\n",
      "[[10.  10.5 11. ]\n",
      " [ 9.   9.5 10. ]\n",
      " [16.  16.5 17. ]]\n",
      "[ 8916240.07023025 14700394.65845743 24236853.3610853 ]\n",
      "[[2.47037576e-03 2.47037587e-03 2.47037593e-03]\n",
      " [9.08800453e-04 9.08800494e-04 9.08800518e-04]\n",
      " [9.96620712e-01 9.96620756e-01 9.96620782e-01]]\n",
      "[0.00247038 0.00247038 0.00247038]\n"
     ]
    }
   ],
   "source": [
    "n_cons = 3\n",
    "n_firms = 3\n",
    "product_chars = np.array(([1, 3, 3], [1, 2, 2], [5, 5, 5]))\n",
    "mu = -4\n",
    "omega = 0.5\n",
    "v_p = np.array([4, 5, 6])\n",
    "price = np.ones(n_firms)\n",
    "beta = np.array([1, 0.5, 0.5])\n",
    "\n",
    "mean_indirect_utility = product_chars@beta - mu*price\n",
    "\n",
    "mean_indirect_utility_for_utility = np.repeat(mean_indirect_utility, n_cons, axis=0)\n",
    "\n",
    "price_r = np.reshape(price, (1, n_firms))\n",
    "alpha_i = np.reshape((omega*v_p), (n_cons, 1))\n",
    "\n",
    "\n",
    "\n",
    "random_coeff = np.ravel((alpha_i@price_r).T)\n",
    "\n",
    "\n",
    "\n",
    "u = mean_indirect_utility_for_utility  + random_coeff + e\n",
    "print(u)\n",
    "\n",
    "u_r = np.reshape(u, (n_firms, n_cons))\n",
    "print(u_r)\n",
    "sum_u = np.sum(np.exp(u_r), axis=0)\n",
    "print(sum_u)\n",
    "\n",
    "all_probs = np.exp(u_r)/(1 + sum_u)\n",
    "print(all_probs)\n",
    "market_shares = (np.sum(all_probs, axis=1))/n_cons\n",
    "# # market_shares = np.sum(all_probs, axis=1)/self.n_consumers\n",
    "p1 = all_probs[0, :]\n",
    "print(p1)\n",
    "\n"
   ]
  },
  {
   "cell_type": "code",
   "execution_count": 11,
   "metadata": {},
   "outputs": [
    {
     "name": "stdout",
     "output_type": "stream",
     "text": [
      "[-2.  -1.5 -1. ]\n",
      "[[2.47037576e-03 2.47037587e-03 2.47037593e-03]\n",
      " [9.08800453e-04 9.08800494e-04 9.08800518e-04]\n",
      " [9.96620712e-01 9.96620756e-01 9.96620782e-01]]\n",
      "i 0\n",
      "j 0\n",
      "j 1\n",
      "[0.00247038 0.00247038 0.00247038]\n",
      "[0.0009088 0.0009088 0.0009088]\n",
      "check shape [4.49015722e-06 3.36761821e-06 2.24507893e-06]\n",
      "j 2\n",
      "[0.00247038 0.00247038 0.00247038]\n",
      "[0.99662071 0.99662076 0.99662078]\n",
      "check shape [0.00492406 0.00369304 0.00246203]\n",
      "i 1\n",
      "j 0\n",
      "[0.0009088 0.0009088 0.0009088]\n",
      "[0.00247038 0.00247038 0.00247038]\n",
      "check shape [4.49015722e-06 3.36761821e-06 2.24507893e-06]\n",
      "j 1\n",
      "j 2\n",
      "[0.0009088 0.0009088 0.0009088]\n",
      "[0.99662071 0.99662076 0.99662078]\n",
      "check shape [0.00181146 0.00135859 0.00090573]\n",
      "i 2\n",
      "j 0\n",
      "[0.99662071 0.99662076 0.99662078]\n",
      "[0.00247038 0.00247038 0.00247038]\n",
      "check shape [0.00492406 0.00369304 0.00246203]\n",
      "j 1\n",
      "[0.99662071 0.99662076 0.99662078]\n",
      "[0.0009088 0.0009088 0.0009088]\n",
      "check shape [0.00181146 0.00135859 0.00090573]\n",
      "j 2\n",
      "[[-3.69640962e-03  3.36761812e-06  3.69304169e-03]\n",
      " [ 3.36761812e-06 -1.36196184e-03  1.35859411e-03]\n",
      " [ 3.69304169e-03  1.35859411e-03 -5.05175793e-03]]\n"
     ]
    }
   ],
   "source": [
    "J = np.zeros((n_firms, n_firms))\n",
    "alphas = mu + omega*v_p\n",
    "print(alphas)\n",
    "print(all_probs)\n",
    "for i in range(J.shape[0]):\n",
    "    print('i', i)\n",
    "    p1 = all_probs[i, :]\n",
    "    for j in range(J.shape[1]):\n",
    "        print('j', j)\n",
    "        if i == j:\n",
    "            J[i, j] = np.sum(alphas * p1 - alphas * (p1 ** 2))/(n_cons)\n",
    "        else: \n",
    "            p2 = all_probs[j, :]\n",
    "            print(p1)\n",
    "            print(p2)\n",
    "            print('check shape', -alphas * p1 * p2 )\n",
    "            J[i, j] = np.sum((-alphas * p1 * p2))/(n_cons)\n",
    "\n",
    "print(J)\n"
   ]
  },
  {
   "cell_type": "code",
   "execution_count": 12,
   "metadata": {},
   "outputs": [
    {
     "name": "stdout",
     "output_type": "stream",
     "text": [
      "-1.6820276496988864\n",
      "0.33979778797685584\n"
     ]
    }
   ],
   "source": [
    "a1, a2, a0, s0 = model.get_alphas()\n",
    "print(a0)\n",
    "print(s0)"
   ]
  },
  {
   "cell_type": "code",
   "execution_count": 17,
   "metadata": {},
   "outputs": [
    {
     "data": {
      "image/png": "[encoded data removed]",
      "text/plain": [
       "<Figure size 640x480 with 1 Axes>"
      ]
     },
     "metadata": {},
     "output_type": "display_data"
    }
   ],
   "source": [
    "# plt.hist(a1, \n",
    "#          bins=10,\n",
    "#          alpha=0.4, \n",
    "#          label='true',\n",
    "#          color='violet') # customized color parameter\n",
    "  \n",
    "plt.hist(a2,\n",
    "         bins=40, \n",
    "         alpha=0.4,\n",
    "        #  label='Price Coeffi',\n",
    "         color='orange')\n",
    "\n",
    "plt.title('Distribution of the Price Coefficients \\n at $\\mu = 0.5$ and $\\sigma$=0.2 \\n')\n",
    "plt.xlabel('Coefficient Value')\n",
    "plt.ylabel('Density')\n",
    "# plt.legend(loc='upper right')\n",
    "plt.savefig('../plots/distr_price_coeff.pdf')\n",
    "plt.show()"
   ]
  }
 ],
 "metadata": {
  "kernelspec": {
   "display_name": "Python 3",
   "language": "python",
   "name": "python3"
  },
  "language_info": {
   "codemirror_mode": {
    "name": "ipython",
    "version": 3
   },
   "file_extension": ".py",
   "mimetype": "text/x-python",
   "name": "python",
   "nbconvert_exporter": "python",
   "pygments_lexer": "ipython3",
   "version": "3.11.1"
  },
  "orig_nbformat": 4
 },
 "nbformat": 4,
 "nbformat_minor": 2
}
