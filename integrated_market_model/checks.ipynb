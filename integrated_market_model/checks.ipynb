{
 "cells": [
  {
   "cell_type": "code",
   "execution_count": 24,
   "metadata": {},
   "outputs": [],
   "source": [
    "import pandas as pd\n",
    "import matplotlib.pyplot as plt \n",
    "import numpy as np\n",
    "from market import IntegratedMarketModel"
   ]
  },
  {
   "cell_type": "code",
   "execution_count": 25,
   "metadata": {},
   "outputs": [],
   "source": [
    "n_firms = 10 \n",
    "n_consumers = 500\n",
    "n_chars = 2\n",
    "T = 1\n",
    "s = 100"
   ]
  },
  {
   "cell_type": "code",
   "execution_count": 26,
   "metadata": {},
   "outputs": [],
   "source": [
    "model = IntegratedMarketModel(\n",
    "        n_firms, \n",
    "        n_consumers, \n",
    "        n_chars, \n",
    "        T, \n",
    "        seed=s\n",
    "    )\n",
    "model.demand_side_optimisation()\n"
   ]
  },
  {
   "cell_type": "code",
   "execution_count": 27,
   "metadata": {},
   "outputs": [
    {
     "name": "stdout",
     "output_type": "stream",
     "text": [
      "(500,)\n",
      "[[ 6.21208647e-03 -3.43721480e-05 -3.84291139e-05 -2.94082086e-05\n",
      "  -3.10905029e-05 -4.70664349e-05 -3.53909071e-05 -4.06598615e-05\n",
      "  -3.54133190e-05 -4.08450077e-05]\n",
      " [-3.43721480e-05  5.94538513e-03 -3.64408436e-05 -2.78864421e-05\n",
      "  -2.94819122e-05 -4.46318222e-05 -3.35598753e-05 -3.85558348e-05\n",
      "  -3.35807808e-05 -3.87321487e-05]\n",
      " [-3.84291139e-05 -3.64408436e-05  5.32839098e-03 -3.11816800e-05\n",
      "  -3.29594184e-05 -4.98818215e-05 -3.75168754e-05 -4.31127423e-05\n",
      "  -3.75502456e-05 -4.32897984e-05]\n",
      " [-2.94082086e-05 -2.78864421e-05 -3.11816800e-05  7.07150628e-03\n",
      "  -2.52267492e-05 -3.82081115e-05 -2.87179226e-05 -3.29826849e-05\n",
      "  -2.87283852e-05 -3.31554543e-05]\n",
      " [-3.10905029e-05 -2.94819122e-05 -3.29594184e-05 -2.52267492e-05\n",
      "   4.42004135e-03 -4.03576130e-05 -3.03528091e-05 -3.48791887e-05\n",
      "  -3.03789275e-05 -3.50241094e-05]\n",
      " [-4.70664349e-05 -4.46318222e-05 -4.98818215e-05 -3.82081115e-05\n",
      "  -4.03576130e-05  1.87554357e-03 -4.59316767e-05 -5.28331046e-05\n",
      "  -4.60234968e-05 -5.29620981e-05]\n",
      " [-3.53909071e-05 -3.35598753e-05 -3.75168754e-05 -2.87179226e-05\n",
      "  -3.03528091e-05 -4.59316767e-05  4.46441152e-03 -3.97066700e-05\n",
      "  -3.45840197e-05 -3.98622544e-05]\n",
      " [-4.06598615e-05 -3.85558348e-05 -4.31127423e-05 -3.29826849e-05\n",
      "  -3.48791887e-05 -5.28331046e-05 -3.97066700e-05  1.05644390e-02\n",
      "  -3.97216811e-05 -4.58457416e-05]\n",
      " [-3.54133190e-05 -3.35807808e-05 -3.75502456e-05 -2.87283852e-05\n",
      "  -3.03789275e-05 -4.60234968e-05 -3.45840197e-05 -3.97216811e-05\n",
      "   1.07787544e-02 -3.99357086e-05]\n",
      " [-4.08450077e-05 -3.87321487e-05 -4.32897984e-05 -3.31554543e-05\n",
      "  -3.50241094e-05 -5.29620981e-05 -3.98622544e-05 -4.58457416e-05\n",
      "  -3.99357086e-05  2.12290615e-03]]\n",
      "[[1.91968326e-05 1.46094927e-04 3.20614321e-04 ... 1.40440406e-04\n",
      "  1.15687754e-05 2.18481530e-04]\n",
      " [1.80957682e-05 1.38065601e-04 3.03291610e-04 ... 1.32715295e-04\n",
      "  1.08983217e-05 2.06577863e-04]\n",
      " [2.29344585e-05 1.65850251e-04 3.56841144e-04 ... 1.59589541e-04\n",
      "  1.39984673e-05 2.45526245e-04]\n",
      " ...\n",
      " [1.44121881e-05 1.30240950e-04 3.05485674e-04 ... 1.24782394e-04\n",
      "  8.32088187e-06 2.01521996e-04]\n",
      " [9.59438749e-06 9.72730680e-05 2.38552167e-04 ... 9.29879581e-05\n",
      "  5.38257948e-06 1.53983418e-04]\n",
      " [3.19011024e-05 2.05655496e-04 4.23230260e-04 ... 1.98334843e-04\n",
      "  2.00376957e-05 2.97596967e-04]]\n"
     ]
    }
   ],
   "source": [
    "vp1 = model.v_p[:,0]\n",
    "print(vp1.shape)\n",
    "price1 = model.prices[:,0]\n",
    "\n",
    "e=0 \n",
    "\n",
    "\n",
    "market_shares, all_probs, mean_indirect_utility = model.compute_share(vp1, price1, e)\n",
    "J_true = model.construct_Jacobian(all_probs, vp1)\n",
    "print(J_true)\n",
    "print(all_probs)"
   ]
  },
  {
   "cell_type": "code",
   "execution_count": 28,
   "metadata": {},
   "outputs": [
    {
     "name": "stdout",
     "output_type": "stream",
     "text": [
      "[[-4.90009086e-02  2.85961721e-05  3.25763274e-05  2.34828817e-05\n",
      "   2.63089845e-05  4.18756364e-05  3.01999145e-05  3.20383738e-05\n",
      "   2.69970340e-05  3.61412878e-05]\n",
      " [ 2.85961721e-05 -4.63567900e-02  3.08629102e-05  2.22501816e-05\n",
      "   2.49252881e-05  3.96698255e-05  2.86111580e-05  3.03573382e-05\n",
      "   2.55821833e-05  3.42378482e-05]\n",
      " [ 3.25763274e-05  3.08629102e-05 -5.45126747e-02  2.53053241e-05\n",
      "   2.84118586e-05  4.53014365e-05  3.26235100e-05  3.45069366e-05\n",
      "   2.90386461e-05  3.90907235e-05]\n",
      " [ 2.34828817e-05  2.22501816e-05  2.53053241e-05 -3.53565936e-02\n",
      "   2.04399814e-05  3.23963130e-05  2.34458897e-05  2.50533800e-05\n",
      "   2.11790758e-05  2.79726999e-05]\n",
      " [ 2.63089845e-05  2.49252881e-05  2.84118586e-05  2.04399814e-05\n",
      "  -4.39010603e-02  3.65776336e-05  2.63448267e-05  2.78738487e-05\n",
      "   2.34597379e-05  3.15635023e-05]\n",
      " [ 4.18756364e-05  3.96698255e-05  4.53014365e-05  3.23963130e-05\n",
      "   3.65776336e-05 -7.56766998e-02  4.20322439e-05  4.41168599e-05\n",
      "   3.69974203e-05  5.05287709e-05]\n",
      " [ 3.01999145e-05  2.86111580e-05  3.26235100e-05  2.34458897e-05\n",
      "   2.63448267e-05  4.20322439e-05 -5.10952550e-02  3.19653362e-05\n",
      "   2.68867974e-05  3.62672833e-05]\n",
      " [ 3.20383738e-05  3.03573382e-05  3.45069366e-05  2.50533800e-05\n",
      "   2.78738487e-05  4.41168599e-05  3.19653362e-05 -4.70198783e-02\n",
      "   2.89739072e-05  3.80985366e-05]\n",
      " [ 2.69970340e-05  2.55821833e-05  2.90386461e-05  2.11790758e-05\n",
      "   2.34597379e-05  3.69974203e-05  2.68867974e-05  2.89739072e-05\n",
      "  -3.70815239e-02  3.19625874e-05]\n",
      " [ 3.61412878e-05  3.42378482e-05  3.90907235e-05  2.79726999e-05\n",
      "   3.15635023e-05  5.05287709e-05  3.62672833e-05  3.80985366e-05\n",
      "   3.19625874e-05 -6.47735675e-02]]\n",
      "The matrices are different.\n"
     ]
    }
   ],
   "source": [
    "vp2 = np.random.normal(0, 1, n_consumers)\n",
    "J_approx = model.construct_Jacobian(all_probs, vp2)\n",
    "print(J_approx)\n",
    "\n",
    "\n",
    "J_true_flat = J_true.flatten()\n",
    "J_approx_flat = J_approx.flatten()\n",
    "\n",
    "\n",
    "# Compare the matrices element-wise with a tolerance of 0.2\n",
    "comparison = np.allclose(J_true, J_approx, atol=1e-04)\n",
    "\n",
    "# Print the result\n",
    "if comparison:\n",
    "    print(\"The matrices are approximately the same.\")\n",
    "else:\n",
    "    print(\"The matrices are different.\")\n"
   ]
  },
  {
   "cell_type": "code",
   "execution_count": 29,
   "metadata": {},
   "outputs": [
    {
     "data": {
      "image/png": "[encoded data removed]",
      "text/plain": [
       "<Figure size 640x480 with 1 Axes>"
      ]
     },
     "metadata": {},
     "output_type": "display_data"
    }
   ],
   "source": [
    "plt.hist(J_true_flat, \n",
    "         bins=10,\n",
    "         alpha=0.2, \n",
    "         label='true',\n",
    "         color='red') # customized color parameter\n",
    "  \n",
    "plt.hist(J_approx_flat,\n",
    "         bins=10, \n",
    "         alpha=0.2,\n",
    "         label='approx',\n",
    "         color='green')\n",
    "\n",
    "plt.legend(loc='upper right')\n",
    "plt.show()"
   ]
  },
  {
   "cell_type": "code",
   "execution_count": 30,
   "metadata": {},
   "outputs": [
    {
     "name": "stdout",
     "output_type": "stream",
     "text": [
      "[0.04242113 0.04242113]\n"
     ]
    }
   ],
   "source": [
    "wage = 10 \n",
    "theta_0 = 1\n",
    "theta_L = 0.3 \n",
    "theta_K = 0.7\n",
    "q= np.ones(2)\n",
    "\n",
    "productivity_shocks = np.ones((2,2))\n",
    "capital = np.ones((2,2))\n",
    "\n",
    "t = 0\n",
    "\n",
    "MC = (wage*(1/theta_L))*((q)/(np.exp(theta_0 + productivity_shocks[:,t])*\n",
    "              capital[:,t]**theta_K))**((1/theta_L)-1) *(1/(np.exp(theta_0 + productivity_shocks[:,t])*\n",
    "              capital[:,t]**theta_K))\n",
    "\n",
    "print(MC)"
   ]
  },
  {
   "cell_type": "code",
   "execution_count": 31,
   "metadata": {},
   "outputs": [
    {
     "name": "stdout",
     "output_type": "stream",
     "text": [
      "(2, 3)\n"
     ]
    }
   ],
   "source": [
    "x = np.array([[1, 2, 3], [4, 5, 6]])\n",
    "print(x.shape)"
   ]
  },
  {
   "cell_type": "code",
   "execution_count": 78,
   "metadata": {},
   "outputs": [
    {
     "name": "stdout",
     "output_type": "stream",
     "text": [
      "[5.  5.5 6.  4.  4.5 5. ]\n",
      "[[5.  5.5 6. ]\n",
      " [4.  4.5 5. ]]\n",
      "[203.01130914 334.70906356 551.8419526 ]\n",
      "[[0.72747516 0.72888092 0.72973621]\n",
      " [0.26762315 0.26814031 0.26845495]]\n",
      "[0.72747516 0.72888092 0.72973621]\n"
     ]
    }
   ],
   "source": [
    "n_cons = 3\n",
    "n_firms = 2\n",
    "product_chars = np.array(([1, 3, 3], [1, 2, 2]))\n",
    "mu = 1\n",
    "omega = 0.5\n",
    "v_p = np.array([4, 5, 6])\n",
    "price = np.ones(n_firms)\n",
    "beta = np.array([1, 0.5, 0.5])\n",
    "\n",
    "mean_indirect_utility = product_chars@beta - mu*price\n",
    "\n",
    "mean_indirect_utility_for_utility = np.repeat(mean_indirect_utility, n_cons, axis=0)\n",
    "\n",
    "price_r = np.reshape(price, (1, n_firms))\n",
    "alpha_i = np.reshape((omega*v_p), (n_cons, 1))\n",
    "\n",
    "\n",
    "\n",
    "random_coeff = np.ravel((alpha_i@price_r).T)\n",
    "\n",
    "\n",
    "\n",
    "u = mean_indirect_utility_for_utility  + random_coeff + e\n",
    "print(u)\n",
    "\n",
    "u_r = np.reshape(u, (n_firms, n_cons))\n",
    "print(u_r)\n",
    "sum_u = np.sum(np.exp(u_r), axis=0)\n",
    "print(sum_u)\n",
    "\n",
    "all_probs = np.exp(u_r)/(1 + sum_u)\n",
    "print(all_probs)\n",
    "market_shares = (np.sum(all_probs, axis=1))/n_cons\n",
    "# # market_shares = np.sum(all_probs, axis=1)/self.n_consumers\n",
    "p1 = all_probs[0, :]\n",
    "print(p1)\n",
    "\n"
   ]
  },
  {
   "cell_type": "code",
   "execution_count": null,
   "metadata": {},
   "outputs": [],
   "source": [
    "J = np.zeros((n_firms, n_firms))\n",
    "alphas = -mu + omega*v_p\n",
    "\n",
    "\n",
    "\n",
    "\n",
    "\n",
    "\n",
    "for i in range(J.shape[0]):\n",
    "    for j in range(J.shape[1]):\n",
    "        p1 = all_probs[i, :]\n",
    "        print(p1)\n",
    "        if i == j:\n",
    "            J[i, j] = np.sum((alphas * p1 - alphas * (p1 ** 2))/(n_cons)\n",
    "\n",
    "\n",
    "\n",
    "        else: \n",
    "            p2 = all_probs[j, :]\n",
    "            J[i, j] = np.sum((-alphas * p1 * p2), axis=1)/(n_cons)\n",
    "\n",
    "\n",
    "        return J"
   ]
  }
 ],
 "metadata": {
  "kernelspec": {
   "display_name": "Python 3",
   "language": "python",
   "name": "python3"
  },
  "language_info": {
   "codemirror_mode": {
    "name": "ipython",
    "version": 3
   },
   "file_extension": ".py",
   "mimetype": "text/x-python",
   "name": "python",
   "nbconvert_exporter": "python",
   "pygments_lexer": "ipython3",
   "version": "3.11.1"
  },
  "orig_nbformat": 4
 },
 "nbformat": 4,
 "nbformat_minor": 2
}
