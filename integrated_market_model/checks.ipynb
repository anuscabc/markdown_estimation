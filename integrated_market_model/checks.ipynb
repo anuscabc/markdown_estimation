{
 "cells": [
  {
   "cell_type": "code",
   "execution_count": 1,
   "metadata": {},
   "outputs": [],
   "source": [
    "import pandas as pd\n",
    "import matplotlib.pyplot as plt \n",
    "import numpy as np\n",
    "from market import IntegratedMarketModel"
   ]
  },
  {
   "cell_type": "code",
   "execution_count": 2,
   "metadata": {},
   "outputs": [],
   "source": [
    "from matplotlib import rc\n",
    "rc('font', **{'family': 'serif', 'serif': ['Computer Modern']})\n",
    "rc('text', usetex=True)"
   ]
  },
  {
   "cell_type": "code",
   "execution_count": 3,
   "metadata": {},
   "outputs": [],
   "source": [
    "n_firms = 10 \n",
    "n_consumers = 10000\n",
    "n_chars = 2\n",
    "T = 1\n",
    "s = 100"
   ]
  },
  {
   "cell_type": "code",
   "execution_count": 4,
   "metadata": {},
   "outputs": [],
   "source": [
    "model = IntegratedMarketModel(\n",
    "        n_firms, \n",
    "        n_consumers, \n",
    "        n_chars, \n",
    "        T, \n",
    "        seed=s\n",
    "    )\n",
    "model.demand_side_optimisation()\n"
   ]
  },
  {
   "cell_type": "code",
   "execution_count": null,
   "metadata": {},
   "outputs": [],
   "source": []
  },
  {
   "cell_type": "code",
   "execution_count": 5,
   "metadata": {},
   "outputs": [
    {
     "name": "stdout",
     "output_type": "stream",
     "text": [
      "(10000,)\n",
      "[[-9.16175544e-04  1.38133866e-06  1.57100291e-06  1.67188241e-06\n",
      "   1.98911194e-06  1.42106668e-06  1.41129427e-06  1.53987156e-06\n",
      "   1.36726320e-06  1.73121209e-06]\n",
      " [ 1.38133866e-06 -8.26754645e-04  1.27296577e-06  1.36141461e-06\n",
      "   1.61059643e-06  1.15815947e-06  1.14289967e-06  1.25410893e-06\n",
      "   1.11495835e-06  1.40429475e-06]\n",
      " [ 1.57100291e-06  1.27296577e-06 -8.32266717e-04  1.54209201e-06\n",
      "   1.83625700e-06  1.31057978e-06  1.30281376e-06  1.42029682e-06\n",
      "   1.26084912e-06  1.59774365e-06]\n",
      " [ 1.67188241e-06  1.36141461e-06  1.54209201e-06 -9.35955340e-04\n",
      "   1.95198463e-06  1.39792182e-06  1.38502683e-06  1.51439850e-06\n",
      "   1.34528566e-06  1.70003451e-06]\n",
      " [ 1.98911194e-06  1.61059643e-06  1.83625700e-06  1.95198463e-06\n",
      "  -1.04483690e-03  1.65882851e-06  1.64979694e-06  1.79779512e-06\n",
      "   1.59581278e-06  2.02302245e-06]\n",
      " [ 1.42106668e-06  1.15815947e-06  1.31057978e-06  1.39792182e-06\n",
      "   1.65882851e-06 -8.03365538e-04  1.17703385e-06  1.28763323e-06\n",
      "   1.14397490e-06  1.44495067e-06]\n",
      " [ 1.41129427e-06  1.14289967e-06  1.30281376e-06  1.38502683e-06\n",
      "   1.64979694e-06  1.17703385e-06 -7.43006217e-04  1.27562495e-06\n",
      "   1.13233069e-06  1.43534652e-06]\n",
      " [ 1.53987156e-06  1.25410893e-06  1.42029682e-06  1.51439850e-06\n",
      "   1.79779512e-06  1.28763323e-06  1.27562495e-06 -8.63642961e-04\n",
      "   1.23916139e-06  1.56579211e-06]\n",
      " [ 1.36726320e-06  1.11495835e-06  1.26084912e-06  1.34528566e-06\n",
      "   1.59581278e-06  1.14397490e-06  1.13233069e-06  1.23916139e-06\n",
      "  -7.78044698e-04  1.39021346e-06]\n",
      " [ 1.73121209e-06  1.40429475e-06  1.59774365e-06  1.70003451e-06\n",
      "   2.02302245e-06  1.44495067e-06  1.43534652e-06  1.56579211e-06\n",
      "   1.39021346e-06 -9.28109396e-04]]\n",
      "[[2.86937328e-03 1.95933925e-04 4.86845313e-05 ... 6.22550403e-04\n",
      "  1.03123984e-04 4.47936735e-04]\n",
      " [2.30654293e-03 2.15598549e-04 6.29633013e-05 ... 5.98847968e-04\n",
      "  1.22249981e-04 4.47724398e-04]\n",
      " [2.64976206e-03 1.72257665e-04 4.17325114e-05 ... 5.58967465e-04\n",
      "  8.96113294e-05 3.99780302e-04]\n",
      " ...\n",
      " [2.58871605e-03 2.00187363e-04 5.30294529e-05 ... 6.03065434e-04\n",
      "  1.08518973e-04 4.40559441e-04]\n",
      " [2.29571898e-03 1.85258279e-04 5.01626055e-05 ... 5.47999676e-04\n",
      "  1.01446600e-04 4.02420732e-04]\n",
      " [2.91858291e-03 1.96946555e-04 4.86386961e-05 ... 6.28951331e-04\n",
      "  1.03365937e-04 4.51887951e-04]]\n"
     ]
    }
   ],
   "source": [
    "vp1 = model.v_p[:,0]\n",
    "print(vp1.shape)\n",
    "price1 = model.prices[:,0]\n",
    "\n",
    "e=0 \n",
    "\n",
    "\n",
    "market_shares, all_probs, mean_indirect_utility = model.compute_share(vp1, price1, e)\n",
    "J_true = model.construct_Jacobian(all_probs, vp1)\n",
    "print(J_true)\n",
    "print(all_probs)"
   ]
  },
  {
   "cell_type": "code",
   "execution_count": 6,
   "metadata": {},
   "outputs": [
    {
     "name": "stdout",
     "output_type": "stream",
     "text": [
      "[[-1.15800988e-03  1.98494773e-06  2.29226264e-06  2.42253801e-06\n",
      "   2.90527794e-06  2.05664995e-06  2.06090033e-06  2.23077854e-06\n",
      "   1.97716638e-06  2.52218359e-06]\n",
      " [ 1.98494773e-06 -1.02267151e-03  1.83312250e-06  1.94606003e-06\n",
      "   2.32182743e-06  1.65342091e-06  1.64723944e-06  1.79226604e-06\n",
      "   1.59036630e-06  2.01897588e-06]\n",
      " [ 2.29226264e-06  1.83312250e-06 -1.05543187e-03  2.23906800e-06\n",
      "   2.68733230e-06  1.90066849e-06  1.90625957e-06  2.06178830e-06\n",
      "   1.82706722e-06  2.33240197e-06]\n",
      " [ 2.42253801e-06  1.94606003e-06  2.23906800e-06 -1.17349729e-03\n",
      "   2.83716591e-06  2.01287374e-06  2.01268310e-06  2.18277845e-06\n",
      "   1.93546439e-06  2.46455439e-06]\n",
      " [ 2.90527794e-06  2.32182743e-06  2.68733230e-06  2.83716591e-06\n",
      "  -1.32710786e-03  2.40823139e-06  2.41638089e-06  2.61250383e-06\n",
      "   2.31488189e-06  2.95622215e-06]\n",
      " [ 2.05664995e-06  1.65342091e-06  1.90066849e-06  2.01287374e-06\n",
      "   2.40823139e-06 -1.00533639e-03  1.70841765e-06  1.85366080e-06\n",
      "   1.64380940e-06  2.09226128e-06]\n",
      " [ 2.06090033e-06  1.64723944e-06  1.90625957e-06  2.01268310e-06\n",
      "   2.41638089e-06  1.70841765e-06 -9.43512241e-04  1.85331196e-06\n",
      "   1.64220818e-06  2.09702824e-06]\n",
      " [ 2.23077854e-06  1.79226604e-06  2.06178830e-06  2.18277845e-06\n",
      "   2.61250383e-06  1.85366080e-06  1.85331196e-06 -1.08247723e-03\n",
      "   1.78238957e-06  2.26945758e-06]\n",
      " [ 1.97716638e-06  1.59036630e-06  1.82706722e-06  1.93546439e-06\n",
      "   2.31488189e-06  1.64380940e-06  1.64220818e-06  1.78238957e-06\n",
      "  -9.72362443e-04  2.01136255e-06]\n",
      " [ 2.52218359e-06  2.01897588e-06  2.33240197e-06  2.46455439e-06\n",
      "   2.95622215e-06  2.09226128e-06  2.09702824e-06  2.26945758e-06\n",
      "   2.01136255e-06 -1.17401895e-03]]\n",
      "The matrices are approximately the same.\n"
     ]
    }
   ],
   "source": [
    "vp2 = np.random.normal(0, 1, n_consumers)\n",
    "J_approx = model.construct_Jacobian(all_probs, vp2)\n",
    "print(J_approx)\n",
    "\n",
    "\n",
    "J_true_flat = J_true.flatten()\n",
    "J_approx_flat = J_approx.flatten()\n",
    "\n",
    "\n",
    "# Compare the matrices element-wise with a tolerance of 0.2\n",
    "comparison = np.allclose(J_true, J_approx, atol=1e-03)\n",
    "\n",
    "# Print the result\n",
    "if comparison:\n",
    "    print(\"The matrices are approximately the same.\")\n",
    "else:\n",
    "    print(\"The matrices are different.\")\n"
   ]
  },
  {
   "cell_type": "code",
   "execution_count": 7,
   "metadata": {},
   "outputs": [
    {
     "data": {
      "image/png": "[encoded data removed]",
      "text/plain": [
       "<Figure size 640x480 with 1 Axes>"
      ]
     },
     "metadata": {},
     "output_type": "display_data"
    }
   ],
   "source": [
    "plt.hist(J_true_flat, \n",
    "         bins=10,\n",
    "         alpha=0.4, \n",
    "         label='true',\n",
    "         color='violet') # customized color parameter\n",
    "  \n",
    "plt.hist(J_approx_flat,\n",
    "         bins=10, \n",
    "         alpha=0.4,\n",
    "         label='approximated',\n",
    "         color='orange')\n",
    "\n",
    "plt.title('True and Approximated First Order Price Derivatives in the Jacobian')\n",
    "plt.legend(loc='upper right')\n",
    "plt.show()"
   ]
  },
  {
   "cell_type": "code",
   "execution_count": 8,
   "metadata": {},
   "outputs": [
    {
     "name": "stdout",
     "output_type": "stream",
     "text": [
      "[0.06363169 0.06363169]\n"
     ]
    }
   ],
   "source": [
    "wage = 15 \n",
    "theta_0 = 1\n",
    "theta_L = 0.3 \n",
    "theta_K = 0.7\n",
    "q= np.ones(2)\n",
    "\n",
    "productivity_shocks = np.ones((2,2))\n",
    "capital = np.ones((2,2))\n",
    "\n",
    "t = 0\n",
    "\n",
    "MC = (wage*(1/theta_L))*((q)/(np.exp(theta_0 + productivity_shocks[:,t])*\n",
    "              capital[:,t]**theta_K))**((1/theta_L)-1) *(1/(np.exp(theta_0 + productivity_shocks[:,t])*\n",
    "              capital[:,t]**theta_K))\n",
    "\n",
    "print(MC)"
   ]
  },
  {
   "cell_type": "code",
   "execution_count": null,
   "metadata": {},
   "outputs": [],
   "source": []
  },
  {
   "cell_type": "code",
   "execution_count": 9,
   "metadata": {},
   "outputs": [
    {
     "name": "stdout",
     "output_type": "stream",
     "text": [
      "(2, 3)\n"
     ]
    }
   ],
   "source": [
    "x = np.array([[1, 2, 3], [4, 5, 6]])\n",
    "print(x.shape)"
   ]
  },
  {
   "cell_type": "code",
   "execution_count": null,
   "metadata": {},
   "outputs": [],
   "source": []
  },
  {
   "cell_type": "code",
   "execution_count": 10,
   "metadata": {},
   "outputs": [
    {
     "name": "stdout",
     "output_type": "stream",
     "text": [
      "[10.  10.5 11.   9.   9.5 10.  16.  16.5 17. ]\n",
      "[[10.  10.5 11. ]\n",
      " [ 9.   9.5 10. ]\n",
      " [16.  16.5 17. ]]\n",
      "[ 8916240.07023025 14700394.65845743 24236853.3610853 ]\n",
      "[[2.47037576e-03 2.47037587e-03 2.47037593e-03]\n",
      " [9.08800453e-04 9.08800494e-04 9.08800518e-04]\n",
      " [9.96620712e-01 9.96620756e-01 9.96620782e-01]]\n",
      "[0.00247038 0.00247038 0.00247038]\n"
     ]
    }
   ],
   "source": [
    "n_cons = 3\n",
    "n_firms = 3\n",
    "product_chars = np.array(([1, 3, 3], [1, 2, 2], [5, 5, 5]))\n",
    "mu = -4\n",
    "omega = 0.5\n",
    "v_p = np.array([4, 5, 6])\n",
    "price = np.ones(n_firms)\n",
    "beta = np.array([1, 0.5, 0.5])\n",
    "\n",
    "mean_indirect_utility = product_chars@beta - mu*price\n",
    "\n",
    "mean_indirect_utility_for_utility = np.repeat(mean_indirect_utility, n_cons, axis=0)\n",
    "\n",
    "price_r = np.reshape(price, (1, n_firms))\n",
    "alpha_i = np.reshape((omega*v_p), (n_cons, 1))\n",
    "\n",
    "\n",
    "\n",
    "random_coeff = np.ravel((alpha_i@price_r).T)\n",
    "\n",
    "\n",
    "\n",
    "u = mean_indirect_utility_for_utility  + random_coeff + e\n",
    "print(u)\n",
    "\n",
    "u_r = np.reshape(u, (n_firms, n_cons))\n",
    "print(u_r)\n",
    "sum_u = np.sum(np.exp(u_r), axis=0)\n",
    "print(sum_u)\n",
    "\n",
    "all_probs = np.exp(u_r)/(1 + sum_u)\n",
    "print(all_probs)\n",
    "market_shares = (np.sum(all_probs, axis=1))/n_cons\n",
    "# # market_shares = np.sum(all_probs, axis=1)/self.n_consumers\n",
    "p1 = all_probs[0, :]\n",
    "print(p1)\n",
    "\n"
   ]
  },
  {
   "cell_type": "code",
   "execution_count": 11,
   "metadata": {},
   "outputs": [
    {
     "name": "stdout",
     "output_type": "stream",
     "text": [
      "[-2.  -1.5 -1. ]\n",
      "[[2.47037576e-03 2.47037587e-03 2.47037593e-03]\n",
      " [9.08800453e-04 9.08800494e-04 9.08800518e-04]\n",
      " [9.96620712e-01 9.96620756e-01 9.96620782e-01]]\n",
      "i 0\n",
      "j 0\n",
      "j 1\n",
      "[0.00247038 0.00247038 0.00247038]\n",
      "[0.0009088 0.0009088 0.0009088]\n",
      "check shape [4.49015722e-06 3.36761821e-06 2.24507893e-06]\n",
      "j 2\n",
      "[0.00247038 0.00247038 0.00247038]\n",
      "[0.99662071 0.99662076 0.99662078]\n",
      "check shape [0.00492406 0.00369304 0.00246203]\n",
      "i 1\n",
      "j 0\n",
      "[0.0009088 0.0009088 0.0009088]\n",
      "[0.00247038 0.00247038 0.00247038]\n",
      "check shape [4.49015722e-06 3.36761821e-06 2.24507893e-06]\n",
      "j 1\n",
      "j 2\n",
      "[0.0009088 0.0009088 0.0009088]\n",
      "[0.99662071 0.99662076 0.99662078]\n",
      "check shape [0.00181146 0.00135859 0.00090573]\n",
      "i 2\n",
      "j 0\n",
      "[0.99662071 0.99662076 0.99662078]\n",
      "[0.00247038 0.00247038 0.00247038]\n",
      "check shape [0.00492406 0.00369304 0.00246203]\n",
      "j 1\n",
      "[0.99662071 0.99662076 0.99662078]\n",
      "[0.0009088 0.0009088 0.0009088]\n",
      "check shape [0.00181146 0.00135859 0.00090573]\n",
      "j 2\n",
      "[[-3.69640962e-03  3.36761812e-06  3.69304169e-03]\n",
      " [ 3.36761812e-06 -1.36196184e-03  1.35859411e-03]\n",
      " [ 3.69304169e-03  1.35859411e-03 -5.05175793e-03]]\n"
     ]
    }
   ],
   "source": [
    "J = np.zeros((n_firms, n_firms))\n",
    "alphas = mu + omega*v_p\n",
    "print(alphas)\n",
    "print(all_probs)\n",
    "for i in range(J.shape[0]):\n",
    "    print('i', i)\n",
    "    p1 = all_probs[i, :]\n",
    "    for j in range(J.shape[1]):\n",
    "        print('j', j)\n",
    "        if i == j:\n",
    "            J[i, j] = np.sum(alphas * p1 - alphas * (p1 ** 2))/(n_cons)\n",
    "        else: \n",
    "            p2 = all_probs[j, :]\n",
    "            print(p1)\n",
    "            print(p2)\n",
    "            print('check shape', -alphas * p1 * p2 )\n",
    "            J[i, j] = np.sum((-alphas * p1 * p2))/(n_cons)\n",
    "\n",
    "print(J)\n"
   ]
  },
  {
   "cell_type": "code",
   "execution_count": 12,
   "metadata": {},
   "outputs": [
    {
     "name": "stdout",
     "output_type": "stream",
     "text": [
      "-1.6820276496988864\n",
      "0.33979778797685584\n"
     ]
    }
   ],
   "source": [
    "a1, a2, a0, s0 = model.get_alphas()\n",
    "print(a0)\n",
    "print(s0)"
   ]
  },
  {
   "cell_type": "code",
   "execution_count": 13,
   "metadata": {},
   "outputs": [
    {
     "data": {
      "image/png": "[encoded data removed]",
      "text/plain": [
       "<Figure size 640x480 with 1 Axes>"
      ]
     },
     "metadata": {},
     "output_type": "display_data"
    }
   ],
   "source": [
    "# plt.hist(a1, \n",
    "#          bins=10,\n",
    "#          alpha=0.4, \n",
    "#          label='true',\n",
    "#          color='violet') # customized color parameter\n",
    "  \n",
    "plt.hist(a2,\n",
    "         bins=40, \n",
    "         alpha=0.4,\n",
    "        #  label='Price Coeffi',\n",
    "         color='orange')\n",
    "\n",
    "plt.title('Distribution of the Price Coefficients \\n at $\\mu = 0.5$ and $\\sigma$=0.2 \\n')\n",
    "# plt.legend(loc='upper right')\n",
    "plt.show()"
   ]
  }
 ],
 "metadata": {
  "kernelspec": {
   "display_name": "Python 3",
   "language": "python",
   "name": "python3"
  },
  "language_info": {
   "codemirror_mode": {
    "name": "ipython",
    "version": 3
   },
   "file_extension": ".py",
   "mimetype": "text/x-python",
   "name": "python",
   "nbconvert_exporter": "python",
   "pygments_lexer": "ipython3",
   "version": "3.11.1"
  },
  "orig_nbformat": 4
 },
 "nbformat": 4,
 "nbformat_minor": 2
}
