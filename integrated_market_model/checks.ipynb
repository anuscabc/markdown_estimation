{
 "cells": [
  {
   "cell_type": "code",
   "execution_count": 30,
   "metadata": {},
   "outputs": [],
   "source": [
    "import pandas as pd\n",
    "import matplotlib.pyplot as plt \n",
    "import numpy as np\n",
    "from market import IntegratedMarketModel"
   ]
  },
  {
   "cell_type": "code",
   "execution_count": 31,
   "metadata": {},
   "outputs": [],
   "source": [
    "from matplotlib import rc\n",
    "rc('font', **{'family': 'serif', 'serif': ['Computer Modern']})\n",
    "rc('text', usetex=True)"
   ]
  },
  {
   "cell_type": "code",
   "execution_count": 32,
   "metadata": {},
   "outputs": [],
   "source": [
    "n_firms = 10 \n",
    "n_consumers = 500\n",
    "n_chars = 2\n",
    "T = 1\n",
    "s = 100"
   ]
  },
  {
   "cell_type": "code",
   "execution_count": 33,
   "metadata": {},
   "outputs": [],
   "source": [
    "model = IntegratedMarketModel(\n",
    "        n_firms, \n",
    "        n_consumers, \n",
    "        n_chars, \n",
    "        T, \n",
    "        seed=s\n",
    "    )\n",
    "model.demand_side_optimisation()\n"
   ]
  },
  {
   "cell_type": "code",
   "execution_count": null,
   "metadata": {},
   "outputs": [],
   "source": []
  },
  {
   "cell_type": "code",
   "execution_count": 34,
   "metadata": {},
   "outputs": [
    {
     "name": "stdout",
     "output_type": "stream",
     "text": [
      "(500,)\n",
      "[[-0.0260214   0.00056317  0.00056376  0.00045487  0.00053991  0.00052836\n",
      "   0.00063761  0.00059104  0.00048273  0.00052324]\n",
      " [ 0.00056317 -0.02771868  0.0005946   0.00048045  0.00056998  0.00055621\n",
      "   0.00067304  0.00062403  0.00050994  0.00055121]\n",
      " [ 0.00056376  0.0005946  -0.02724821  0.00048005  0.00057001  0.00055892\n",
      "   0.00067321  0.00062393  0.00050942  0.00055322]\n",
      " [ 0.00045487  0.00048045  0.00048005 -0.02277787  0.0004607   0.00044801\n",
      "   0.00054391  0.00050447  0.00041249  0.00044438]\n",
      " [ 0.00053991  0.00056998  0.00057001  0.0004607  -0.02664953  0.00053302\n",
      "   0.0006453   0.00059834  0.00048899  0.0005283 ]\n",
      " [ 0.00052836  0.00055621  0.00055892  0.00044801  0.00053302 -0.02454789\n",
      "   0.00062982  0.00058315  0.0004752   0.00052152]\n",
      " [ 0.00063761  0.00067304  0.00067321  0.00054391  0.0006453   0.00062982\n",
      "  -0.03127121  0.00070648  0.00057729  0.00062414]\n",
      " [ 0.00059104  0.00062403  0.00062393  0.00050447  0.00059834  0.00058315\n",
      "   0.00070648 -0.02919746  0.00053546  0.0005781 ]\n",
      " [ 0.00048273  0.00050994  0.00050942  0.00041249  0.00048899  0.0004752\n",
      "   0.00057729  0.00053546 -0.02420879  0.00047143]\n",
      " [ 0.00052324  0.00055121  0.00055322  0.00044438  0.0005283   0.00052152\n",
      "   0.00062414  0.0005781   0.00047143 -0.02469586]]\n",
      "[[0.03369023 0.01354183 0.00786414 ... 0.01387255 0.03883851 0.01041088]\n",
      " [0.03466217 0.01467639 0.00875419 ... 0.01501629 0.03956434 0.0114326 ]\n",
      " [0.03620754 0.014031   0.00799632 ... 0.01438613 0.04203283 0.01068758]\n",
      " ...\n",
      " [0.03597351 0.01558215 0.0094039  ... 0.01593442 0.04088325 0.01220825]\n",
      " [0.02862838 0.01306479 0.00809921 ... 0.01334364 0.03221331 0.010372  ]\n",
      " [0.0356448  0.01215632 0.00648719 ... 0.01250181 0.04240069 0.00896508]]\n"
     ]
    }
   ],
   "source": [
    "vp1 = model.v_p[:,0]\n",
    "print(vp1.shape)\n",
    "price1 = model.prices[:,0]\n",
    "\n",
    "e=0 \n",
    "\n",
    "\n",
    "market_shares, all_probs, mean_indirect_utility = model.compute_share(vp1, price1, e)\n",
    "J_true = model.construct_Jacobian(all_probs, vp1)\n",
    "print(J_true)\n",
    "print(all_probs)"
   ]
  },
  {
   "cell_type": "code",
   "execution_count": 35,
   "metadata": {},
   "outputs": [
    {
     "name": "stdout",
     "output_type": "stream",
     "text": [
      "[[-0.02866745  0.00066865  0.00067361  0.00053758  0.0006406   0.00064047\n",
      "   0.00075722  0.00070058  0.00057001  0.00063079]\n",
      " [ 0.00066865 -0.03038798  0.00070783  0.00056563  0.0006737   0.00067186\n",
      "   0.00079627  0.00073687  0.00059981  0.00066214]\n",
      " [ 0.00067361  0.00070783 -0.03011673  0.00056887  0.0006781   0.00067916\n",
      "   0.00080161  0.00074153  0.00060314  0.0006686 ]\n",
      " [ 0.00053758  0.00056563  0.00056887 -0.02483179  0.000542    0.00053882\n",
      "   0.00064051  0.0005929   0.00048289  0.00053145]\n",
      " [ 0.0006406   0.0006737   0.0006781   0.000542   -0.02919228  0.00064343\n",
      "   0.00076292  0.00070604  0.00057477  0.0006342 ]\n",
      " [ 0.00064047  0.00067186  0.00067916  0.00053882  0.00064343 -0.02764211\n",
      "   0.00076096  0.00070331  0.00057105  0.00063904]\n",
      " [ 0.00075722  0.00079627  0.00080161  0.00064051  0.00076292  0.00076096\n",
      "  -0.0342859   0.00083444  0.00067922  0.00074991]\n",
      " [ 0.00070058  0.00073687  0.00074153  0.0005929   0.00070604  0.00070331\n",
      "   0.00083444 -0.03193863  0.00062876  0.00069333]\n",
      " [ 0.00057001  0.00059981  0.00060314  0.00048289  0.00057477  0.00057105\n",
      "   0.00067922  0.00062876 -0.02635978  0.00056333]\n",
      " [ 0.00063079  0.00066214  0.0006686   0.00053145  0.0006342   0.00063904\n",
      "   0.00074991  0.00069333  0.00056333 -0.02761387]]\n",
      "The matrices are different.\n"
     ]
    }
   ],
   "source": [
    "vp2 = np.random.normal(0, 1, n_consumers)\n",
    "J_approx = model.construct_Jacobian(all_probs, vp2)\n",
    "print(J_approx)\n",
    "\n",
    "\n",
    "J_true_flat = J_true.flatten()\n",
    "J_approx_flat = J_approx.flatten()\n",
    "\n",
    "\n",
    "# Compare the matrices element-wise with a tolerance of 0.2\n",
    "comparison = np.allclose(J_true, J_approx, atol=1e-03)\n",
    "\n",
    "# Print the result\n",
    "if comparison:\n",
    "    print(\"The matrices are approximately the same.\")\n",
    "else:\n",
    "    print(\"The matrices are different.\")\n"
   ]
  },
  {
   "cell_type": "code",
   "execution_count": 36,
   "metadata": {},
   "outputs": [
    {
     "data": {
      "image/png": "[encoded data removed]",
      "text/plain": [
       "<Figure size 640x480 with 1 Axes>"
      ]
     },
     "metadata": {},
     "output_type": "display_data"
    }
   ],
   "source": [
    "plt.hist(J_true_flat, \n",
    "         bins=10,\n",
    "         alpha=0.4, \n",
    "         label='true',\n",
    "         color='violet') # customized color parameter\n",
    "  \n",
    "plt.hist(J_approx_flat,\n",
    "         bins=10, \n",
    "         alpha=0.4,\n",
    "         label='approximated',\n",
    "         color='orange')\n",
    "\n",
    "plt.title('True and Approximated First Order Price Derivatives in the Jacobian')\n",
    "plt.legend(loc='upper right')\n",
    "plt.show()"
   ]
  },
  {
   "cell_type": "code",
   "execution_count": 37,
   "metadata": {},
   "outputs": [
    {
     "name": "stdout",
     "output_type": "stream",
     "text": [
      "[0.06363169 0.06363169]\n"
     ]
    }
   ],
   "source": [
    "wage = 15 \n",
    "theta_0 = 1\n",
    "theta_L = 0.3 \n",
    "theta_K = 0.7\n",
    "q= np.ones(2)\n",
    "\n",
    "productivity_shocks = np.ones((2,2))\n",
    "capital = np.ones((2,2))\n",
    "\n",
    "t = 0\n",
    "\n",
    "MC = (wage*(1/theta_L))*((q)/(np.exp(theta_0 + productivity_shocks[:,t])*\n",
    "              capital[:,t]**theta_K))**((1/theta_L)-1) *(1/(np.exp(theta_0 + productivity_shocks[:,t])*\n",
    "              capital[:,t]**theta_K))\n",
    "\n",
    "print(MC)"
   ]
  },
  {
   "cell_type": "code",
   "execution_count": null,
   "metadata": {},
   "outputs": [],
   "source": []
  },
  {
   "cell_type": "code",
   "execution_count": 38,
   "metadata": {},
   "outputs": [
    {
     "name": "stdout",
     "output_type": "stream",
     "text": [
      "(2, 3)\n"
     ]
    }
   ],
   "source": [
    "x = np.array([[1, 2, 3], [4, 5, 6]])\n",
    "print(x.shape)"
   ]
  },
  {
   "cell_type": "code",
   "execution_count": null,
   "metadata": {},
   "outputs": [],
   "source": []
  },
  {
   "cell_type": "code",
   "execution_count": 39,
   "metadata": {},
   "outputs": [
    {
     "name": "stdout",
     "output_type": "stream",
     "text": [
      "[10.  10.5 11.   9.   9.5 10.  16.  16.5 17. ]\n",
      "[[10.  10.5 11. ]\n",
      " [ 9.   9.5 10. ]\n",
      " [16.  16.5 17. ]]\n",
      "[ 8916240.07023025 14700394.65845743 24236853.3610853 ]\n",
      "[[2.47037576e-03 2.47037587e-03 2.47037593e-03]\n",
      " [9.08800453e-04 9.08800494e-04 9.08800518e-04]\n",
      " [9.96620712e-01 9.96620756e-01 9.96620782e-01]]\n",
      "[0.00247038 0.00247038 0.00247038]\n"
     ]
    }
   ],
   "source": [
    "n_cons = 3\n",
    "n_firms = 3\n",
    "product_chars = np.array(([1, 3, 3], [1, 2, 2], [5, 5, 5]))\n",
    "mu = -4\n",
    "omega = 0.5\n",
    "v_p = np.array([4, 5, 6])\n",
    "price = np.ones(n_firms)\n",
    "beta = np.array([1, 0.5, 0.5])\n",
    "\n",
    "mean_indirect_utility = product_chars@beta - mu*price\n",
    "\n",
    "mean_indirect_utility_for_utility = np.repeat(mean_indirect_utility, n_cons, axis=0)\n",
    "\n",
    "price_r = np.reshape(price, (1, n_firms))\n",
    "alpha_i = np.reshape((omega*v_p), (n_cons, 1))\n",
    "\n",
    "\n",
    "\n",
    "random_coeff = np.ravel((alpha_i@price_r).T)\n",
    "\n",
    "\n",
    "\n",
    "u = mean_indirect_utility_for_utility  + random_coeff + e\n",
    "print(u)\n",
    "\n",
    "u_r = np.reshape(u, (n_firms, n_cons))\n",
    "print(u_r)\n",
    "sum_u = np.sum(np.exp(u_r), axis=0)\n",
    "print(sum_u)\n",
    "\n",
    "all_probs = np.exp(u_r)/(1 + sum_u)\n",
    "print(all_probs)\n",
    "market_shares = (np.sum(all_probs, axis=1))/n_cons\n",
    "# # market_shares = np.sum(all_probs, axis=1)/self.n_consumers\n",
    "p1 = all_probs[0, :]\n",
    "print(p1)\n",
    "\n"
   ]
  },
  {
   "cell_type": "code",
   "execution_count": 40,
   "metadata": {},
   "outputs": [
    {
     "name": "stdout",
     "output_type": "stream",
     "text": [
      "[-2.  -1.5 -1. ]\n",
      "[[2.47037576e-03 2.47037587e-03 2.47037593e-03]\n",
      " [9.08800453e-04 9.08800494e-04 9.08800518e-04]\n",
      " [9.96620712e-01 9.96620756e-01 9.96620782e-01]]\n",
      "i 0\n",
      "j 0\n",
      "j 1\n",
      "[0.00247038 0.00247038 0.00247038]\n",
      "[0.0009088 0.0009088 0.0009088]\n",
      "check shape [4.49015722e-06 3.36761821e-06 2.24507893e-06]\n",
      "j 2\n",
      "[0.00247038 0.00247038 0.00247038]\n",
      "[0.99662071 0.99662076 0.99662078]\n",
      "check shape [0.00492406 0.00369304 0.00246203]\n",
      "i 1\n",
      "j 0\n",
      "[0.0009088 0.0009088 0.0009088]\n",
      "[0.00247038 0.00247038 0.00247038]\n",
      "check shape [4.49015722e-06 3.36761821e-06 2.24507893e-06]\n",
      "j 1\n",
      "j 2\n",
      "[0.0009088 0.0009088 0.0009088]\n",
      "[0.99662071 0.99662076 0.99662078]\n",
      "check shape [0.00181146 0.00135859 0.00090573]\n",
      "i 2\n",
      "j 0\n",
      "[0.99662071 0.99662076 0.99662078]\n",
      "[0.00247038 0.00247038 0.00247038]\n",
      "check shape [0.00492406 0.00369304 0.00246203]\n",
      "j 1\n",
      "[0.99662071 0.99662076 0.99662078]\n",
      "[0.0009088 0.0009088 0.0009088]\n",
      "check shape [0.00181146 0.00135859 0.00090573]\n",
      "j 2\n",
      "[[-3.69640962e-03  3.36761812e-06  3.69304169e-03]\n",
      " [ 3.36761812e-06 -1.36196184e-03  1.35859411e-03]\n",
      " [ 3.69304169e-03  1.35859411e-03 -5.05175793e-03]]\n"
     ]
    }
   ],
   "source": [
    "J = np.zeros((n_firms, n_firms))\n",
    "alphas = mu + omega*v_p\n",
    "print(alphas)\n",
    "print(all_probs)\n",
    "for i in range(J.shape[0]):\n",
    "    print('i', i)\n",
    "    p1 = all_probs[i, :]\n",
    "    for j in range(J.shape[1]):\n",
    "        print('j', j)\n",
    "        if i == j:\n",
    "            J[i, j] = np.sum(alphas * p1 - alphas * (p1 ** 2))/(n_cons)\n",
    "        else: \n",
    "            p2 = all_probs[j, :]\n",
    "            print(p1)\n",
    "            print(p2)\n",
    "            print('check shape', -alphas * p1 * p2 )\n",
    "            J[i, j] = np.sum((-alphas * p1 * p2))/(n_cons)\n",
    "\n",
    "print(J)\n"
   ]
  },
  {
   "cell_type": "code",
   "execution_count": 41,
   "metadata": {},
   "outputs": [
    {
     "name": "stdout",
     "output_type": "stream",
     "text": [
      "-1.6820276496988864\n",
      "0.33979778797685584\n"
     ]
    }
   ],
   "source": [
    "a1, a2, a0, s0 = model.get_alphas()\n",
    "print(a0)\n",
    "print(s0)"
   ]
  },
  {
   "cell_type": "code",
   "execution_count": 45,
   "metadata": {},
   "outputs": [
    {
     "data": {
      "image/png": "[encoded data removed]",
      "text/plain": [
       "<Figure size 640x480 with 1 Axes>"
      ]
     },
     "metadata": {},
     "output_type": "display_data"
    }
   ],
   "source": [
    "# plt.hist(a1, \n",
    "#          bins=10,\n",
    "#          alpha=0.4, \n",
    "#          label='true',\n",
    "#          color='violet') # customized color parameter\n",
    "  \n",
    "plt.hist(a2,\n",
    "         bins=40, \n",
    "         alpha=0.4,\n",
    "        #  label='Price Coeffi',\n",
    "         color='orange')\n",
    "\n",
    "plt.title('Distribution of the Price Coefficients \\n at $\\mu = 0.5$ and $\\sigma$=0.2 \\n')\n",
    "# plt.legend(loc='upper right')\n",
    "plt.show()"
   ]
  }
 ],
 "metadata": {
  "kernelspec": {
   "display_name": "Python 3",
   "language": "python",
   "name": "python3"
  },
  "language_info": {
   "codemirror_mode": {
    "name": "ipython",
    "version": 3
   },
   "file_extension": ".py",
   "mimetype": "text/x-python",
   "name": "python",
   "nbconvert_exporter": "python",
   "pygments_lexer": "ipython3",
   "version": "3.11.1"
  },
  "orig_nbformat": 4
 },
 "nbformat": 4,
 "nbformat_minor": 2
}
