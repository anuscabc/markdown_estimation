{
 "cells": [
  {
   "cell_type": "code",
   "execution_count": 89,
   "metadata": {},
   "outputs": [],
   "source": [
    "import numpy as np\n",
    "import pandas as pd\n",
    "import matplotlib.pyplot as plt\n",
    "from scipy.optimize import minimize\n",
    "import matplotlib.pyplot as plt\n",
    "import firm_revised"
   ]
  },
  {
   "cell_type": "code",
   "execution_count": 90,
   "metadata": {},
   "outputs": [],
   "source": [
    "seed = 100"
   ]
  },
  {
   "cell_type": "code",
   "execution_count": 91,
   "metadata": {},
   "outputs": [
    {
     "name": "stdout",
     "output_type": "stream",
     "text": [
      "         price      cost  product  time      Car1      Car2    mshare  \\\n",
      "0     9.552859  1.845445        1     1  5.543405  2.810504  0.005380   \n",
      "1     3.064592  1.761890        2     1  5.278369  3.255001  0.090384   \n",
      "2     2.000000  2.000000        3     1  5.424518  2.541973  0.206187   \n",
      "3     1.940064  1.940064        4     1  5.844776  3.435163  0.067304   \n",
      "4    10.000000  1.616043        5     1  5.004719  2.416405  0.011396   \n",
      "..         ...       ...      ...   ...       ...       ...       ...   \n",
      "985   1.165361  1.165361        6    99  5.121569  3.816847  0.005733   \n",
      "986   1.356730  1.356730        7    99  5.670749  3.672721  0.004404   \n",
      "987   1.004820  1.004820        8    99  5.825853  2.895589  0.010860   \n",
      "988   1.358923  1.358923        9    99  5.136707  2.468720  0.006016   \n",
      "989   1.098656  1.098656       10    99  5.575093  4.029733  0.004738   \n",
      "\n",
      "      profits   markups  \n",
      "0    0.041466  4.176452  \n",
      "1    0.117743  0.739378  \n",
      "2    0.000000  0.000000  \n",
      "3    0.000000  0.000000  \n",
      "4    0.095547  5.187953  \n",
      "..        ...       ...  \n",
      "985  0.000000  0.000000  \n",
      "986  0.000000  0.000000  \n",
      "987  0.000000  0.000000  \n",
      "988  0.000000  0.000000  \n",
      "989  0.000000  0.000000  \n",
      "\n",
      "[990 rows x 9 columns]\n"
     ]
    }
   ],
   "source": [
    "df = pd.read_csv(f'/Users/popovici/Desktop/Thesis/markdown_estimation/data/market_{seed}.csv')\n",
    "print(df)"
   ]
  },
  {
   "cell_type": "code",
   "execution_count": 92,
   "metadata": {},
   "outputs": [],
   "source": [
    "# All the parameters of interest \n",
    "beta = np.array([2, -0.5, -0.3])\n",
    "mu = 0.5\n",
    "omega = 1\n",
    "\n",
    "\n",
    "# The number of firms in the market\n",
    "J = 10\n",
    "\n",
    "# The number of product characteristics \n",
    "K = 2\n",
    "\n",
    "# The number of consumers in the market \n",
    "N = 500\n",
    "\n",
    "# The number of period that I want to run the market for \n",
    "T = 100"
   ]
  },
  {
   "cell_type": "code",
   "execution_count": 93,
   "metadata": {},
   "outputs": [
    {
     "name": "stdout",
     "output_type": "stream",
     "text": [
      "(990,)\n",
      "(990,)\n",
      "(990,)\n"
     ]
    }
   ],
   "source": [
    "# Unpacking the X and the price\n",
    "X1 = np.array(df['Car1'][:J])\n",
    "X2 = np.array(df['Car2'][:J])\n",
    "all_X = np.column_stack((X1, X2))\n",
    "X0 = np.ones(J)\n",
    "X = np.column_stack((X0, all_X))\n",
    "\n",
    "eq_price = np.array(df['price'])\n",
    "print(eq_price.shape)\n",
    "\n",
    "true_share = np.array(df['mshare'])\n",
    "print(true_share.shape)\n",
    "\n",
    "all_est_shares = np.zeros(J*(T-1))\n",
    "print(all_est_shares.shape)\n"
   ]
  },
  {
   "cell_type": "code",
   "execution_count": 94,
   "metadata": {},
   "outputs": [],
   "source": [
    "# The idea is that you want to min the distance between the true share and the made up share by optimizing the fiven vector theta that determines the share \n",
    "\n",
    "def f(theta, true_share, N, J, X, price):\n",
    "    beta = theta[:K+1]\n",
    "    mu = theta[K+1]\n",
    "    omega = theta[K+2]\n",
    "    # make a numpy array all estimated shares \n",
    "    for t in range(0, T-1):\n",
    "        eq_price_slice = price[t*J:(t+1)*J]\n",
    "        v_p = np.random.normal(0, 1, size = N)\n",
    "        e = np.random.gumbel(size=N*J)\n",
    "        est_share = firm_revised.share(N, J, X, v_p, eq_price_slice, beta, mu, omega, e)\n",
    "        all_est_shares[t*J:(t+1)*J] = est_share\n",
    "\n",
    "    return np.linalg.norm(true_share - all_est_shares)"
   ]
  },
  {
   "cell_type": "code",
   "execution_count": 95,
   "metadata": {},
   "outputs": [],
   "source": [
    "theta_0 = np.array([1., 1., 1., 1., 1.])"
   ]
  },
  {
   "cell_type": "code",
   "execution_count": 118,
   "metadata": {},
   "outputs": [],
   "source": [
    "all_val_b1 = []\n",
    "for l in range(1, 100):\n",
    "    res = minimize(f, theta_0, args=(true_share, N, J, X, eq_price), method = 'Nelder-Mead')\n",
    "    optim_vec = res.x\n",
    "    all_val_b1.append(optim_vec[1])\n",
    "\n",
    "arr = np.array(all_val_b1)\n",
    "print(np.mean(arr))"
   ]
  }
 ],
 "metadata": {
  "kernelspec": {
   "display_name": "Python 3",
   "language": "python",
   "name": "python3"
  },
  "language_info": {
   "codemirror_mode": {
    "name": "ipython",
    "version": 3
   },
   "file_extension": ".py",
   "mimetype": "text/x-python",
   "name": "python",
   "nbconvert_exporter": "python",
   "pygments_lexer": "ipython3",
   "version": "3.9.6"
  },
  "orig_nbformat": 4,
  "vscode": {
   "interpreter": {
    "hash": "31f2aee4e71d21fbe5cf8b01ff0e069b9275f58929596ceb00d14d90e3e16cd6"
   }
  }
 },
 "nbformat": 4,
 "nbformat_minor": 2
}
