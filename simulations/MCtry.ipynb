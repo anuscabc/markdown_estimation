{
 "cells": [
  {
   "cell_type": "code",
   "execution_count": 89,
   "metadata": {},
   "outputs": [],
   "source": [
    "import numpy as np\n",
    "import pandas as pd\n",
    "import matplotlib.pyplot as plt\n",
    "from scipy.optimize import minimize\n",
    "import matplotlib.pyplot as plt\n",
    "import firm_revised"
   ]
  },
  {
   "cell_type": "code",
   "execution_count": 90,
   "metadata": {},
   "outputs": [],
   "source": [
    "seed = 100"
   ]
  },
  {
   "cell_type": "code",
   "execution_count": 91,
   "metadata": {},
   "outputs": [
    {
     "name": "stdout",
     "output_type": "stream",
     "text": [
      "         price      cost  product  time      Car1      Car2    mshare  \\\n",
      "0     9.552859  1.845445        1     1  5.543405  2.810504  0.005380   \n",
      "1     3.064592  1.761890        2     1  5.278369  3.255001  0.090384   \n",
      "2     2.000000  2.000000        3     1  5.424518  2.541973  0.206187   \n",
      "3     1.940064  1.940064        4     1  5.844776  3.435163  0.067304   \n",
      "4    10.000000  1.616043        5     1  5.004719  2.416405  0.011396   \n",
      "..         ...       ...      ...   ...       ...       ...       ...   \n",
      "985   1.165361  1.165361        6    99  5.121569  3.816847  0.005733   \n",
      "986   1.356730  1.356730        7    99  5.670749  3.672721  0.004404   \n",
      "987   1.004820  1.004820        8    99  5.825853  2.895589  0.010860   \n",
      "988   1.358923  1.358923        9    99  5.136707  2.468720  0.006016   \n",
      "989   1.098656  1.098656       10    99  5.575093  4.029733  0.004738   \n",
      "\n",
      "      profits   markups  \n",
      "0    0.041466  4.176452  \n",
      "1    0.117743  0.739378  \n",
      "2    0.000000  0.000000  \n",
      "3    0.000000  0.000000  \n",
      "4    0.095547  5.187953  \n",
      "..        ...       ...  \n",
      "985  0.000000  0.000000  \n",
      "986  0.000000  0.000000  \n",
      "987  0.000000  0.000000  \n",
      "988  0.000000  0.000000  \n",
      "989  0.000000  0.000000  \n",
      "\n",
      "[990 rows x 9 columns]\n"
     ]
    }
   ],
   "source": [
    "df = pd.read_csv(f'/Users/popovici/Desktop/Thesis/markdown_estimation/data/market_{seed}.csv')\n",
    "print(df)"
   ]
  },
  {
   "cell_type": "code",
   "execution_count": 92,
   "metadata": {},
   "outputs": [],
   "source": [
    "# All the parameters of interest \n",
    "beta = np.array([2, -0.5, -0.3])\n",
    "mu = 0.5\n",
    "omega = 1\n",
    "\n",
    "\n",
    "# The number of firms in the market\n",
    "J = 10\n",
    "\n",
    "# The number of product characteristics \n",
    "K = 2\n",
    "\n",
    "# The number of consumers in the market \n",
    "N = 500\n",
    "\n",
    "# The number of period that I want to run the market for \n",
    "T = 100"
   ]
  },
  {
   "cell_type": "code",
   "execution_count": 93,
   "metadata": {},
   "outputs": [
    {
     "name": "stdout",
     "output_type": "stream",
     "text": [
      "(990,)\n",
      "(990,)\n",
      "(990,)\n"
     ]
    }
   ],
   "source": [
    "# Unpacking the X and the price\n",
    "X1 = np.array(df['Car1'][:J])\n",
    "X2 = np.array(df['Car2'][:J])\n",
    "all_X = np.column_stack((X1, X2))\n",
    "X0 = np.ones(J)\n",
    "X = np.column_stack((X0, all_X))\n",
    "\n",
    "eq_price = np.array(df['price'])\n",
    "print(eq_price.shape)\n",
    "\n",
    "true_share = np.array(df['mshare'])\n",
    "print(true_share.shape)\n",
    "\n",
    "all_est_shares = np.zeros(J*(T-1))\n",
    "print(all_est_shares.shape)\n"
   ]
  },
  {
   "cell_type": "code",
   "execution_count": 94,
   "metadata": {},
   "outputs": [],
   "source": [
    "# The idea is that you want to min the distance between the true share and the made up share by optimizing the fiven vector theta that determines the share \n",
    "\n",
    "def f(theta, true_share, N, J, X, price):\n",
    "    beta = theta[:K+1]\n",
    "    mu = theta[K+1]\n",
    "    omega = theta[K+2]\n",
    "    # make a numpy array all estimated shares \n",
    "    for t in range(0, T-1):\n",
    "        eq_price_slice = price[t*J:(t+1)*J]\n",
    "        v_p = np.random.normal(0, 1, size = N)\n",
    "        e = np.random.gumbel(size=N*J)\n",
    "        est_share = firm_revised.share(N, J, X, v_p, eq_price_slice, beta, mu, omega, e)\n",
    "        all_est_shares[t*J:(t+1)*J] = est_share\n",
    "\n",
    "    return np.linalg.norm(true_share - all_est_shares)"
   ]
  },
  {
   "cell_type": "code",
   "execution_count": 95,
   "metadata": {},
   "outputs": [],
   "source": [
    "theta_0 = np.array([1., 1., 1., 1., 1.])"
   ]
  },
  {
   "cell_type": "code",
   "execution_count": 118,
   "metadata": {},
   "outputs": [
    {
     "ename": "KeyboardInterrupt",
     "evalue": "",
     "output_type": "error",
     "traceback": [
      "\u001b[0;31m---------------------------------------------------------------------------\u001b[0m",
      "\u001b[0;31mKeyboardInterrupt\u001b[0m                         Traceback (most recent call last)",
      "\u001b[1;32m/Users/popovici/Desktop/Thesis/markdown_estimation/simulations/MCtry.ipynb Cell 8\u001b[0m in \u001b[0;36m3\n\u001b[1;32m      <a href='vscode-notebook-cell:/Users/popovici/Desktop/Thesis/markdown_estimation/simulations/MCtry.ipynb#X11sZmlsZQ%3D%3D?line=0'>1</a>\u001b[0m all_val_b1 \u001b[39m=\u001b[39m []\n\u001b[1;32m      <a href='vscode-notebook-cell:/Users/popovici/Desktop/Thesis/markdown_estimation/simulations/MCtry.ipynb#X11sZmlsZQ%3D%3D?line=1'>2</a>\u001b[0m \u001b[39mfor\u001b[39;00m l \u001b[39min\u001b[39;00m \u001b[39mrange\u001b[39m(\u001b[39m1\u001b[39m, \u001b[39m100\u001b[39m):\n\u001b[0;32m----> <a href='vscode-notebook-cell:/Users/popovici/Desktop/Thesis/markdown_estimation/simulations/MCtry.ipynb#X11sZmlsZQ%3D%3D?line=2'>3</a>\u001b[0m     res \u001b[39m=\u001b[39m minimize(f, theta_0, args\u001b[39m=\u001b[39m(true_share, N, J, X, eq_price), method \u001b[39m=\u001b[39m \u001b[39m'\u001b[39m\u001b[39mNelder-Mead\u001b[39m\u001b[39m'\u001b[39m)\n\u001b[1;32m      <a href='vscode-notebook-cell:/Users/popovici/Desktop/Thesis/markdown_estimation/simulations/MCtry.ipynb#X11sZmlsZQ%3D%3D?line=3'>4</a>\u001b[0m     optim_vec \u001b[39m=\u001b[39m res\u001b[39m.\u001b[39mx\n\u001b[1;32m      <a href='vscode-notebook-cell:/Users/popovici/Desktop/Thesis/markdown_estimation/simulations/MCtry.ipynb#X11sZmlsZQ%3D%3D?line=4'>5</a>\u001b[0m     all_val_b1\u001b[39m.\u001b[39mappend(optim_vec[\u001b[39m1\u001b[39m])\n",
      "File \u001b[0;32m~/Library/Python/3.9/lib/python/site-packages/scipy/optimize/_minimize.py:687\u001b[0m, in \u001b[0;36mminimize\u001b[0;34m(fun, x0, args, method, jac, hess, hessp, bounds, constraints, tol, callback, options)\u001b[0m\n\u001b[1;32m    684\u001b[0m     bounds \u001b[39m=\u001b[39m standardize_bounds(bounds, x0, meth)\n\u001b[1;32m    686\u001b[0m \u001b[39mif\u001b[39;00m meth \u001b[39m==\u001b[39m \u001b[39m'\u001b[39m\u001b[39mnelder-mead\u001b[39m\u001b[39m'\u001b[39m:\n\u001b[0;32m--> 687\u001b[0m     res \u001b[39m=\u001b[39m _minimize_neldermead(fun, x0, args, callback, bounds\u001b[39m=\u001b[39;49mbounds,\n\u001b[1;32m    688\u001b[0m                                \u001b[39m*\u001b[39;49m\u001b[39m*\u001b[39;49moptions)\n\u001b[1;32m    689\u001b[0m \u001b[39melif\u001b[39;00m meth \u001b[39m==\u001b[39m \u001b[39m'\u001b[39m\u001b[39mpowell\u001b[39m\u001b[39m'\u001b[39m:\n\u001b[1;32m    690\u001b[0m     res \u001b[39m=\u001b[39m _minimize_powell(fun, x0, args, callback, bounds, \u001b[39m*\u001b[39m\u001b[39m*\u001b[39moptions)\n",
      "File \u001b[0;32m~/Library/Python/3.9/lib/python/site-packages/scipy/optimize/_optimize.py:834\u001b[0m, in \u001b[0;36m_minimize_neldermead\u001b[0;34m(func, x0, args, callback, maxiter, maxfev, disp, return_all, initial_simplex, xatol, fatol, adaptive, bounds, **unknown_options)\u001b[0m\n\u001b[1;32m    832\u001b[0m \u001b[39mif\u001b[39;00m bounds \u001b[39mis\u001b[39;00m \u001b[39mnot\u001b[39;00m \u001b[39mNone\u001b[39;00m:\n\u001b[1;32m    833\u001b[0m     xcc \u001b[39m=\u001b[39m np\u001b[39m.\u001b[39mclip(xcc, lower_bound, upper_bound)\n\u001b[0;32m--> 834\u001b[0m fxcc \u001b[39m=\u001b[39m func(xcc)\n\u001b[1;32m    836\u001b[0m \u001b[39mif\u001b[39;00m fxcc \u001b[39m<\u001b[39m fsim[\u001b[39m-\u001b[39m\u001b[39m1\u001b[39m]:\n\u001b[1;32m    837\u001b[0m     sim[\u001b[39m-\u001b[39m\u001b[39m1\u001b[39m] \u001b[39m=\u001b[39m xcc\n",
      "File \u001b[0;32m~/Library/Python/3.9/lib/python/site-packages/scipy/optimize/_optimize.py:496\u001b[0m, in \u001b[0;36m_wrap_scalar_function_maxfun_validation.<locals>.function_wrapper\u001b[0;34m(x, *wrapper_args)\u001b[0m\n\u001b[1;32m    494\u001b[0m ncalls[\u001b[39m0\u001b[39m] \u001b[39m+\u001b[39m\u001b[39m=\u001b[39m \u001b[39m1\u001b[39m\n\u001b[1;32m    495\u001b[0m \u001b[39m# A copy of x is sent to the user function (gh13740)\u001b[39;00m\n\u001b[0;32m--> 496\u001b[0m fx \u001b[39m=\u001b[39m function(np\u001b[39m.\u001b[39;49mcopy(x), \u001b[39m*\u001b[39;49m(wrapper_args \u001b[39m+\u001b[39;49m args))\n\u001b[1;32m    497\u001b[0m \u001b[39m# Ideally, we'd like to a have a true scalar returned from f(x). For\u001b[39;00m\n\u001b[1;32m    498\u001b[0m \u001b[39m# backwards-compatibility, also allow np.array([1.3]),\u001b[39;00m\n\u001b[1;32m    499\u001b[0m \u001b[39m# np.array([[1.3]]) etc.\u001b[39;00m\n\u001b[1;32m    500\u001b[0m \u001b[39mif\u001b[39;00m \u001b[39mnot\u001b[39;00m np\u001b[39m.\u001b[39misscalar(fx):\n",
      "\u001b[1;32m/Users/popovici/Desktop/Thesis/markdown_estimation/simulations/MCtry.ipynb Cell 8\u001b[0m in \u001b[0;36m1\n\u001b[1;32m      <a href='vscode-notebook-cell:/Users/popovici/Desktop/Thesis/markdown_estimation/simulations/MCtry.ipynb#X11sZmlsZQ%3D%3D?line=8'>9</a>\u001b[0m eq_price_slice \u001b[39m=\u001b[39m price[t\u001b[39m*\u001b[39mJ:(t\u001b[39m+\u001b[39m\u001b[39m1\u001b[39m)\u001b[39m*\u001b[39mJ]\n\u001b[1;32m     <a href='vscode-notebook-cell:/Users/popovici/Desktop/Thesis/markdown_estimation/simulations/MCtry.ipynb#X11sZmlsZQ%3D%3D?line=9'>10</a>\u001b[0m v_p \u001b[39m=\u001b[39m np\u001b[39m.\u001b[39mrandom\u001b[39m.\u001b[39mnormal(\u001b[39m0\u001b[39m, \u001b[39m1\u001b[39m, size \u001b[39m=\u001b[39m N)\n\u001b[0;32m---> <a href='vscode-notebook-cell:/Users/popovici/Desktop/Thesis/markdown_estimation/simulations/MCtry.ipynb#X11sZmlsZQ%3D%3D?line=10'>11</a>\u001b[0m e \u001b[39m=\u001b[39m np\u001b[39m.\u001b[39;49mrandom\u001b[39m.\u001b[39;49mgumbel(size\u001b[39m=\u001b[39;49mN\u001b[39m*\u001b[39;49mJ)\n\u001b[1;32m     <a href='vscode-notebook-cell:/Users/popovici/Desktop/Thesis/markdown_estimation/simulations/MCtry.ipynb#X11sZmlsZQ%3D%3D?line=11'>12</a>\u001b[0m est_share \u001b[39m=\u001b[39m firm_revised\u001b[39m.\u001b[39mshare(N, J, X, v_p, eq_price_slice, beta, mu, omega, e)\n\u001b[1;32m     <a href='vscode-notebook-cell:/Users/popovici/Desktop/Thesis/markdown_estimation/simulations/MCtry.ipynb#X11sZmlsZQ%3D%3D?line=12'>13</a>\u001b[0m all_est_shares[t\u001b[39m*\u001b[39mJ:(t\u001b[39m+\u001b[39m\u001b[39m1\u001b[39m)\u001b[39m*\u001b[39mJ] \u001b[39m=\u001b[39m est_share\n",
      "\u001b[0;31mKeyboardInterrupt\u001b[0m: "
     ]
    }
   ],
   "source": [
    "all_val_b1 = []\n",
    "for l in range(1, 100):\n",
    "    res = minimize(f, theta_0, args=(true_share, N, J, X, eq_price), method = 'Nelder-Mead')\n",
    "    optim_vec = res.x\n",
    "    all_val_b1.append(optim_vec[1])\n",
    "\n",
    "arr = np.array(all_val_b1)\n",
    "print(np.mean(arr))\n"
   ]
  },
  {
   "cell_type": "code",
   "execution_count": 119,
   "metadata": {},
   "outputs": [
    {
     "name": "stdout",
     "output_type": "stream",
     "text": [
      "[1.0, 1.0230676, 0.9999958977056864, 0.9922742318208615, 1.0012949711870598, 1.0080271756617294, 1.013434939394127, 0.981244338479099, 1.0017964417776528, 1.0000001592633263, 0.99902179725306, 0.993752897280106, 1.0104584073747183, 1.0016597030699848, 1.0498217015680105, 1.0150122000000001, 0.999994682609852, 1.011809701635352, 1.0377821544022272, 1.0088364403859975, 1.0076472452294258, 1.0283371241771153, 1.0242016072062068, 1.0467349022815193, 1.0044300210177988, 1.052653885402584, 1.0150000325988975, 0.9986027544752811, 1.0072969377091725, 1.0040662323760317, 1.0017577032274418, 1.0423992680491492, 1.0090659256312837, 1.0308560048557727, 0.9835559575710032, 1.049297334719113, 1.0198508257483772, 1.025811714249568, 1.0086309007701302, 1.00001140222175, 0.9940779850093081, 0.9908772079873038, 1.0109946486991799, 1.006472, 0.9999210364382835, 0.9999969064044381, 1.0044875351266156, 0.9998085886515029, 0.9093495153919995, 1.0093064005145505, 0.9975483700396552, 1.0641812613307853, 1.0117471787591592, 0.9959277160541454, 1.0001593502049517, 1.0005929476838171]\n"
     ]
    }
   ],
   "source": [
    "print(all_val_b1)"
   ]
  }
 ],
 "metadata": {
  "kernelspec": {
   "display_name": "Python 3",
   "language": "python",
   "name": "python3"
  },
  "language_info": {
   "codemirror_mode": {
    "name": "ipython",
    "version": 3
   },
   "file_extension": ".py",
   "mimetype": "text/x-python",
   "name": "python",
   "nbconvert_exporter": "python",
   "pygments_lexer": "ipython3",
   "version": "3.9.6"
  },
  "orig_nbformat": 4,
  "vscode": {
   "interpreter": {
    "hash": "31f2aee4e71d21fbe5cf8b01ff0e069b9275f58929596ceb00d14d90e3e16cd6"
   }
  }
 },
 "nbformat": 4,
 "nbformat_minor": 2
}
