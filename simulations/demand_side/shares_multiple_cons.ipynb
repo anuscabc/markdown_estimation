{
 "cells": [
  {
   "cell_type": "code",
   "execution_count": 434,
   "metadata": {},
   "outputs": [],
   "source": [
    "import numpy as np\n",
    "import pandas as pd\n",
    "import matplotlib.pyplot as plt\n",
    "import scipy.stats\n",
    "\n"
   ]
  },
  {
   "cell_type": "code",
   "execution_count": 435,
   "metadata": {},
   "outputs": [],
   "source": [
    "np.random.seed(100)"
   ]
  },
  {
   "cell_type": "code",
   "execution_count": 436,
   "metadata": {},
   "outputs": [],
   "source": [
    "# Trying to see how sensitive computed market shares are to the initialized parameters\n",
    "# All the parameters of interest \n",
    "beta = np.array([2, -0.5, -0.3])\n",
    "mu = 0.5\n",
    "omega = 1\n",
    "\n",
    "# alpha = -np.exp(mu + omega**2/2)\n",
    "\n",
    "# The number of firms in the market\n",
    "J = 10\n",
    "\n",
    "# The number of product characteristics \n",
    "K = 2\n",
    "\n",
    "# The number of consumers in the market \n",
    "N = 3\n",
    "\n",
    "# Schockes per consumer \n",
    "v_p = np.random.normal(0, 1, size = N)\n",
    "\n",
    "X1 = np.random.uniform(3, 6, size=J)\n",
    "X2 = np.random.normal(3, 1, size=J)\n",
    "all_X = np.column_stack((X1, X2))\n",
    "X0 = np.ones(J)\n",
    "X = np.column_stack((X0, all_X))\n",
    "\n",
    "p = np.ones(J)\n",
    "e = np.random.gumbel(size=N*J)\n",
    "c = np.random.uniform(1, 2, size=J)\n",
    "\n",
    "\n"
   ]
  },
  {
   "cell_type": "code",
   "execution_count": 437,
   "metadata": {},
   "outputs": [],
   "source": [
    "# Getting the summpation function over the \n",
    "# Making a killer function for calculating market shares \n",
    "def share(N_cons, J_prod, X_char, price, coef_car, mu, omega, e): \n",
    "    X_for_utility = np.repeat(X_char, N_cons, axis=0)\n",
    "    price_r = np.reshape(price, (1, J_prod))\n",
    "    alpha_i = np.reshape(-(np.exp(mu + omega*v_p)), (N_cons, 1))\n",
    "    random_coeff = np.ravel((alpha_i*price_r).T)\n",
    "    u = X_for_utility@coef_car+ random_coeff + e\n",
    "    u_r = np.reshape(u, (J, N))\n",
    "    sum_u = np.sum(np.exp(u_r))\n",
    "    prob = np.exp(u_r)/(1 +sum_u)\n",
    "    shares = np.sum(prob, axis=1)\n",
    "    return(shares)\n"
   ]
  },
  {
   "cell_type": "code",
   "execution_count": 438,
   "metadata": {},
   "outputs": [],
   "source": [
    "# X_for_utility = np.repeat(X, N, axis=0)\n",
    "# price_r = np.reshape(p, (1, J))\n",
    "# alpha_i = np.reshape(-(np.exp(mu + omega*v_p)), (N, 1))\n",
    "# random_coeff = np.ravel((alpha_i*price_r).T)\n",
    "# u = X_for_utility@beta + random_coeff + e\n",
    "# print(u)\n",
    "# u_r = np.reshape(u, (J, N))\n",
    "# print(u_r)\n",
    "# sum_u = np.sum(np.exp(u_r))\n",
    "# prob = np.exp(u_r)/(1+sum_u)\n",
    "# print(prob)\n",
    "# shares = np.sum(prob, axis=1)\n"
   ]
  },
  {
   "cell_type": "code",
   "execution_count": 439,
   "metadata": {},
   "outputs": [
    {
     "name": "stdout",
     "output_type": "stream",
     "text": [
      "[0.71634878 0.23722698 0.01155923 0.00079005 0.00147784 0.00197255\n",
      " 0.0045506  0.01257582 0.00073551 0.00520132]\n",
      "0.9924386642626702\n"
     ]
    }
   ],
   "source": [
    "shares_my_market = share(N, J, X, p, beta, mu, omega, e)\n",
    "print(shares_my_market)\n",
    "print(sum(shares_my_market))"
   ]
  },
  {
   "cell_type": "code",
   "execution_count": 440,
   "metadata": {},
   "outputs": [
    {
     "name": "stdout",
     "output_type": "stream",
     "text": [
      "-1.5914025465723973\n",
      "1.330943022169499\n"
     ]
    }
   ],
   "source": [
    "# Now gettting the correct Jacobian amtric with random coefficients and the stupid fucking error term \n",
    "# The random coff just to check how to rewrite the jacobian function \n",
    "\n",
    "J_ii = np.sum((-(np.exp(mu + omega*v_p)))* shares_my_market[0] - (-(np.exp(mu + omega*v_p)))*shares_my_market[0]**2)  \n",
    "print(J_ii)\n",
    "\n",
    "J_ij = np.sum(-(-(np.exp(mu + omega*v_p)))*shares_my_market[0]*shares_my_market[1])\n",
    "print(J_ij)\n"
   ]
  },
  {
   "cell_type": "code",
   "execution_count": 441,
   "metadata": {},
   "outputs": [],
   "source": [
    "\n",
    "def derivative(J_prod, mu, omega, shares):\n",
    "    J = np.zeros((J_prod, J_prod))\n",
    "    for i in range(J.shape[0]):\n",
    "        for j in range(J.shape[1]):\n",
    "            if i == j:\n",
    "                # this is the own product elasticity\n",
    "                J[i, j] = np.sum((-(np.exp(mu + omega*v_p)))* shares[i] - (-(np.exp(mu + omega*v_p)))*shares[i]**2)\n",
    "            elif i!= j: \n",
    "                # this is the cross product elasticity\n",
    "                J[i, j] = np.sum(-(-(np.exp(mu + omega*v_p)))*shares[i]*shares[j])\n",
    "    return J\n",
    "\n",
    "\n"
   ]
  },
  {
   "cell_type": "code",
   "execution_count": 442,
   "metadata": {},
   "outputs": [
    {
     "name": "stdout",
     "output_type": "stream",
     "text": [
      "[[-1.59140255e+00  1.33094302e+00  6.48521321e-02  4.43249135e-03\n",
      "   8.29130791e-03  1.10668426e-02  2.55307638e-02  7.05556295e-02\n",
      "   4.12651176e-03  2.91815746e-02]\n",
      " [ 1.33094302e+00 -1.41719713e+00  2.14765149e-02  1.46786949e-03\n",
      "   2.74576011e-03  3.66490972e-03  8.45480032e-03  2.33652923e-02\n",
      "   1.36654090e-03  9.66380748e-03]\n",
      " [ 6.48521321e-02  2.14765149e-02 -8.94850293e-02  7.15240734e-05\n",
      "   1.33791150e-04  1.78578050e-04  4.11972427e-04  1.13850781e-03\n",
      "   6.65866905e-05  4.70883057e-04]\n",
      " [ 4.43249135e-03  1.46786949e-03  7.15240734e-05 -6.18272776e-03\n",
      "   9.14431178e-06  1.22053915e-05  2.81573506e-05  7.78143425e-05\n",
      "   4.55104436e-06  3.21837542e-05]\n",
      " [ 8.29130791e-03  2.74576011e-03  1.33791150e-04  9.14431178e-06\n",
      "  -1.15572957e-02  2.28311013e-05  5.26704386e-05  1.45557571e-04\n",
      "   8.51307021e-06  6.02021289e-05]\n",
      " [ 1.10668426e-02  3.66490972e-03  1.78578050e-04  1.22053915e-05\n",
      "   2.28311013e-05 -1.54184847e-02  7.03019910e-05  1.94283307e-04\n",
      "   1.13628403e-05  8.03549322e-05]\n",
      " [ 2.55307638e-02  8.45480032e-03  4.11972427e-04  2.81573506e-05\n",
      "   5.26704386e-05  7.03019910e-05 -3.54779464e-02  4.48203829e-04\n",
      "   2.62136187e-05  1.85375619e-04]\n",
      " [ 7.05556295e-02  2.33652923e-02  1.13850781e-03  7.78143425e-05\n",
      "   1.45557571e-04  1.94283307e-04  4.48203829e-04 -9.72547685e-02\n",
      "   7.24427357e-05  5.12295424e-04]\n",
      " [ 4.12651176e-03  1.36654090e-03  6.65866905e-05  4.55104436e-06\n",
      "   8.51307021e-06  1.13628403e-05  2.62136187e-05  7.24427357e-05\n",
      "  -5.75624165e-03  2.99620754e-05]\n",
      " [ 2.91815746e-02  9.66380748e-03  4.70883057e-04  3.21837542e-05\n",
      "   6.02021289e-05  8.03549322e-05  1.85375619e-04  5.12295424e-04\n",
      "   2.99620754e-05 -4.05246617e-02]]\n"
     ]
    }
   ],
   "source": [
    "Jacobian = derivative(J, mu, omega, shares_my_market)\n",
    "print(Jacobian)"
   ]
  },
  {
   "cell_type": "code",
   "execution_count": 443,
   "metadata": {},
   "outputs": [],
   "source": [
    "def root_objective(price, N_cons, J_prod, X_char, coef_car, mu, omega, e, c):\n",
    "    X_for_utility = np.repeat(X_char, N_cons, axis=0)\n",
    "    price_r = np.reshape(price, (1, J_prod))\n",
    "    alpha_i = np.reshape(-(np.exp(mu + omega*v_p)), (N_cons, 1))\n",
    "    random_coeff = np.ravel((alpha_i*price_r).T)\n",
    "    u = X_for_utility@coef_car+ random_coeff + e\n",
    "    u_r = np.reshape(u, (J, N))\n",
    "    sum_u = np.sum(np.exp(u_r))\n",
    "    prob = np.exp(u_r)/(1 +sum_u)\n",
    "    shares = np.sum(prob, axis=1)\n",
    "    Jacobian = derivative(J_prod, mu, omega, shares) \n",
    "    optim = np.matmul(np.transpose(Jacobian), (price - c)) + shares\n",
    "    return optim"
   ]
  },
  {
   "cell_type": "code",
   "execution_count": 444,
   "metadata": {},
   "outputs": [
    {
     "name": "stdout",
     "output_type": "stream",
     "text": [
      "[5.66004004 5.71965337 5.52682235 5.98813585 5.85759342 6.07500167\n",
      " 6.11186496 5.62457224 6.41522077 6.42833031]\n",
      "[5.66004004 5.71965337 5.52682235 5.98813585 5.85759342 6.07500167\n",
      " 6.11186496 5.62457224 6.41522077 6.42833031]\n",
      "[1.17808099 1.23769421 1.04486228 1.50543143 1.37625245 1.5928054\n",
      " 1.62994188 1.14260031 1.9338413  1.94637988]\n"
     ]
    }
   ],
   "source": [
    "res1 = scipy.optimize.root(root_objective, p, args=(N, J, X, beta, mu, omega, e, c),\n",
    "                            method='broyden2')\n",
    "optimal_price = res1.x\n",
    "print(optimal_price)\n",
    "for i in range(0, J):\n",
    "    if optimal_price[i] < c[i]:\n",
    "        optimal_price = c\n",
    "print(optimal_price)\n",
    "print(c)"
   ]
  }
 ],
 "metadata": {
  "kernelspec": {
   "display_name": "Python 3",
   "language": "python",
   "name": "python3"
  },
  "language_info": {
   "codemirror_mode": {
    "name": "ipython",
    "version": 3
   },
   "file_extension": ".py",
   "mimetype": "text/x-python",
   "name": "python",
   "nbconvert_exporter": "python",
   "pygments_lexer": "ipython3",
   "version": "3.9.6"
  },
  "orig_nbformat": 4,
  "vscode": {
   "interpreter": {
    "hash": "31f2aee4e71d21fbe5cf8b01ff0e069b9275f58929596ceb00d14d90e3e16cd6"
   }
  }
 },
 "nbformat": 4,
 "nbformat_minor": 2
}
