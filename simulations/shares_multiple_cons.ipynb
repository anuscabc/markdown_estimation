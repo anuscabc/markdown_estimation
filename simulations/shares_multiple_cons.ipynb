{
 "cells": [
  {
   "cell_type": "code",
   "execution_count": 1,
   "metadata": {},
   "outputs": [],
   "source": [
    "import numpy as np\n",
    "import pandas as pd\n",
    "import matplotlib.pyplot as plt\n"
   ]
  },
  {
   "cell_type": "code",
   "execution_count": 2,
   "metadata": {},
   "outputs": [],
   "source": [
    "np.random.seed(100)"
   ]
  },
  {
   "cell_type": "code",
   "execution_count": 30,
   "metadata": {},
   "outputs": [
    {
     "name": "stdout",
     "output_type": "stream",
     "text": [
      "[-1.67121106 -4.78209306]\n"
     ]
    }
   ],
   "source": [
    "# Trying to see how sensitive computed market shares are to the initialized parameters\n",
    "# All the parameters of interest \n",
    "beta = np.array([0.5, -1.7, -0.3])\n",
    "mu = 0.5\n",
    "omega = 1\n",
    "\n",
    "alpha = -np.exp(mu + omega**2/2)\n",
    "\n",
    "# The number of firms in the market\n",
    "J = 10\n",
    "\n",
    "# The number of product characteristics \n",
    "K = 2\n",
    "\n",
    "# The number of consumers in the market \n",
    "N = 2\n",
    "\n",
    "# Schockes per consumer \n",
    "v_p = np.random.normal(0, 1, size = N)\n",
    "\n",
    "X1 = np.random.uniform(6, 24, size=J)\n",
    "X2 = np.random.normal(3, 1, size=J)\n",
    "all_X = np.column_stack((X1, X2))\n",
    "X0 = np.ones(J)\n",
    "X = np.column_stack((X0, all_X))\n",
    "\n",
    "p = np.ones(J)\n",
    "e = np.random.gumbel(J)\n",
    "\n",
    "\n",
    "\n",
    "print(-(np.exp(mu + omega*v_p)))\n",
    "\n",
    "\n",
    "\n"
   ]
  },
  {
   "cell_type": "code",
   "execution_count": 33,
   "metadata": {},
   "outputs": [],
   "source": [
    "def utility(price, X, beta, mu, omega, v_p, e, N):\n",
    "    # all utilities for the product of a certain consumer \n",
    "    for i in range(1, N+1): \n",
    "        u[i] = \n"
   ]
  },
  {
   "cell_type": "code",
   "execution_count": 34,
   "metadata": {},
   "outputs": [
    {
     "name": "stdout",
     "output_type": "stream",
     "text": [
      "0.013548548628612411\n",
      "[-26.57866378 -12.89921101 -23.23286949 -20.55288784 -12.94708222\n",
      "  -7.21474689 -13.63247027 -17.98484906 -23.5087076  -11.55083523]\n",
      "[-29.68954577 -16.01009301 -26.34375149 -23.66376984 -16.05796422\n",
      " -10.32562889 -16.74335227 -21.09573106 -26.6195896  -14.66171723]\n",
      "[-29.68954577 -16.01009301 -26.34375149 -23.66376984 -16.05796422\n",
      " -10.32562889 -16.74335227 -21.09573106 -26.6195896  -14.66171723]\n"
     ]
    }
   ],
   "source": [
    "u = utility(p, X, beta, mu, omega, v_p, e, N)\n",
    "print(u)\n",
    "\n"
   ]
  },
  {
   "cell_type": "code",
   "execution_count": 32,
   "metadata": {},
   "outputs": [
    {
     "ename": "ValueError",
     "evalue": "setting an array element with a sequence.",
     "output_type": "error",
     "traceback": [
      "\u001b[0;31m---------------------------------------------------------------------------\u001b[0m",
      "\u001b[0;31mTypeError\u001b[0m                                 Traceback (most recent call last)",
      "\u001b[0;31mTypeError\u001b[0m: only size-1 arrays can be converted to Python scalars",
      "\nThe above exception was the direct cause of the following exception:\n",
      "\u001b[0;31mValueError\u001b[0m                                Traceback (most recent call last)",
      "Cell \u001b[0;32mIn [32], line 1\u001b[0m\n\u001b[0;32m----> 1\u001b[0m util \u001b[39m=\u001b[39m utility(p, X, beta, mu, omega, v_p, e, N, J)\n\u001b[1;32m      2\u001b[0m \u001b[39mprint\u001b[39m(util)\n",
      "Cell \u001b[0;32mIn [31], line 5\u001b[0m, in \u001b[0;36mutility\u001b[0;34m(price, X, beta, mu, omega, v_p, e, N, J)\u001b[0m\n\u001b[1;32m      3\u001b[0m \u001b[39mfor\u001b[39;00m i \u001b[39min\u001b[39;00m v_p:\n\u001b[1;32m      4\u001b[0m     \u001b[39mfor\u001b[39;00m j \u001b[39min\u001b[39;00m \u001b[39mrange\u001b[39m(\u001b[39m0\u001b[39m, \u001b[39mlen\u001b[39m(utility), \u001b[39m1\u001b[39m):\n\u001b[0;32m----> 5\u001b[0m         utility[j] \u001b[39m=\u001b[39m X\u001b[39m@beta\u001b[39m \u001b[39m+\u001b[39m(\u001b[39m-\u001b[39m(np\u001b[39m.\u001b[39mexp(mu \u001b[39m+\u001b[39m omega\u001b[39m*\u001b[39mi))\u001b[39m*\u001b[39mprice \u001b[39m+\u001b[39m e)\n\u001b[1;32m      6\u001b[0m \u001b[39mreturn\u001b[39;00m utility\n",
      "\u001b[0;31mValueError\u001b[0m: setting an array element with a sequence."
     ]
    }
   ],
   "source": [
    "util = utility(p, X, beta, mu, omega, v_p, e, N, J)\n",
    "print(util)\n",
    "\n",
    "\n",
    "\n"
   ]
  },
  {
   "cell_type": "code",
   "execution_count": 4,
   "metadata": {},
   "outputs": [],
   "source": [
    "def share(price, X, beta, alpha, e):\n",
    "    share = (np.exp(X@beta + alpha*price+ e))/(1 + sum(np.exp(X@beta + alpha*price+ e)))\n",
    "    return share \n",
    "\n",
    "    "
   ]
  },
  {
   "cell_type": "code",
   "execution_count": 5,
   "metadata": {},
   "outputs": [
    {
     "name": "stdout",
     "output_type": "stream",
     "text": [
      "0.1670654382112677\n"
     ]
    }
   ],
   "source": [
    "shares = share(p, X, beta, alpha, e)\n",
    "\n",
    "print(sum(shares))"
   ]
  }
 ],
 "metadata": {
  "kernelspec": {
   "display_name": "Python 3",
   "language": "python",
   "name": "python3"
  },
  "language_info": {
   "codemirror_mode": {
    "name": "ipython",
    "version": 3
   },
   "file_extension": ".py",
   "mimetype": "text/x-python",
   "name": "python",
   "nbconvert_exporter": "python",
   "pygments_lexer": "ipython3",
   "version": "3.9.6"
  },
  "orig_nbformat": 4,
  "vscode": {
   "interpreter": {
    "hash": "31f2aee4e71d21fbe5cf8b01ff0e069b9275f58929596ceb00d14d90e3e16cd6"
   }
  }
 },
 "nbformat": 4,
 "nbformat_minor": 2
}
