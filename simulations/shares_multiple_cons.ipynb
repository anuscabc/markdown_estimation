{
 "cells": [
  {
   "cell_type": "code",
   "execution_count": 133,
   "metadata": {},
   "outputs": [],
   "source": [
    "import numpy as np\n",
    "import pandas as pd\n",
    "import matplotlib.pyplot as plt\n"
   ]
  },
  {
   "cell_type": "code",
   "execution_count": 134,
   "metadata": {},
   "outputs": [],
   "source": [
    "np.random.seed(100)"
   ]
  },
  {
   "cell_type": "code",
   "execution_count": 136,
   "metadata": {},
   "outputs": [],
   "source": [
    "# Trying to see how sensitive computed market shares are to the initialized parameters\n",
    "# All the parameters of interest \n",
    "beta = np.array([0.5, -1.7, -0.3])\n",
    "mu = 0.5\n",
    "omega = 1\n",
    "\n",
    "# alpha = -np.exp(mu + omega**2/2)\n",
    "\n",
    "# The number of firms in the market\n",
    "J = 3\n",
    "\n",
    "# The number of product characteristics \n",
    "K = 2\n",
    "\n",
    "# The number of consumers in the market \n",
    "N = 2\n",
    "\n",
    "# Schockes per consumer \n",
    "v_p = np.random.normal(0, 1, size = N)\n",
    "\n",
    "X1 = np.random.uniform(6, 24, size=J)\n",
    "X2 = np.random.normal(3, 1, size=J)\n",
    "all_X = np.column_stack((X1, X2))\n",
    "X0 = np.ones(J)\n",
    "X = np.column_stack((X0, all_X))\n",
    "\n",
    "p = np.reshape((np.ones(J)), (1, J))\n",
    "e = np.random.gumbel(size=N*J)\n",
    "\n",
    "\n"
   ]
  },
  {
   "cell_type": "code",
   "execution_count": 137,
   "metadata": {},
   "outputs": [],
   "source": [
    "# Getting the summpation function over the \n",
    "# Making a killer function for calculating market shares \n",
    "def share(N_cons, J_prod, X_char, price, coef_car, mu, omega, e): \n",
    "    X_for_utility = np.repeat(X_char, N_cons, axis=0)\n",
    "    u = X_for_utility@coef_car + np.ravel((np.reshape((-(np.exp(mu + omega*v_p))), (N_cons, 1)))@price) + e\n",
    "    u = np.reshape(u, (J_prod, N_cons))\n",
    "    sum_u = sum(u)\n",
    "    prob = np.exp(u)/(1 + np.exp(sum_u))\n",
    "    shares = np.sum(prob, axis=1)\n",
    "    return(shares)\n"
   ]
  },
  {
   "cell_type": "code",
   "execution_count": 138,
   "metadata": {},
   "outputs": [
    {
     "name": "stdout",
     "output_type": "stream",
     "text": [
      "[6.23464104e-09 1.24739600e-09 3.12083388e-17]\n"
     ]
    }
   ],
   "source": [
    "shares_my_market = share(N, J, X, p, beta, mu, omega, e)\n",
    "print(shares_my_market)"
   ]
  },
  {
   "cell_type": "code",
   "execution_count": 154,
   "metadata": {},
   "outputs": [
    {
     "name": "stdout",
     "output_type": "stream",
     "text": [
      "-2.8347038766813165e-08\n",
      "3.5359983016187485e-17\n"
     ]
    }
   ],
   "source": [
    "# Now gettting the correct Jacobian amtric with random coefficients and the stupid fucking error term \n",
    "# The random coff just to check how to rewrite the jacobian function \n",
    "\n",
    "J_ii = np.sum((-(np.exp(mu + omega*v_p)))* shares_my_market[0] - (-(np.exp(mu + omega*v_p)))*shares_my_market[0]**2)  \n",
    "print(J_ii)\n",
    "\n",
    "J_ij = np.sum(-(-(np.exp(mu + omega*v_p)))*shares_my_market[0]*shares_my_market[1])\n",
    "print(J_ij)\n"
   ]
  },
  {
   "cell_type": "code",
   "execution_count": 157,
   "metadata": {},
   "outputs": [],
   "source": [
    "\n",
    "def derivative(J_prod, mu, omega, shares):\n",
    "    J = np.zeros((J_prod, J_prod))\n",
    "    for i in range(J.shape[0]):\n",
    "        for j in range(J.shape[1]):\n",
    "            if i == j:\n",
    "                # this is the own product elasticity\n",
    "                J[i, j] = np.sum((-(np.exp(mu + omega*v_p)))* shares[i] - (-(np.exp(mu + omega*v_p)))*shares[i]**2)\n",
    "            elif i!= j: \n",
    "                # this is the cross product elasticity\n",
    "                J[i, j] = np.sum(-(-(np.exp(mu + omega*v_p)))*shares[i]*shares[j])\n",
    "    return J\n",
    "\n",
    "\n"
   ]
  },
  {
   "cell_type": "code",
   "execution_count": 158,
   "metadata": {},
   "outputs": [
    {
     "name": "stdout",
     "output_type": "stream",
     "text": [
      "[[-2.83470388e-08  3.53599830e-17  8.84663996e-25]\n",
      " [ 3.53599830e-17 -5.67153470e-09  1.76999177e-25]\n",
      " [ 8.84663996e-25  1.76999177e-25 -1.41894937e-16]]\n"
     ]
    }
   ],
   "source": [
    "J = derivative(J, mu, omega, shares_my_market)\n",
    "print(J)"
   ]
  },
  {
   "cell_type": "code",
   "execution_count": null,
   "metadata": {},
   "outputs": [],
   "source": []
  },
  {
   "cell_type": "code",
   "execution_count": null,
   "metadata": {},
   "outputs": [
    {
     "name": "stdout",
     "output_type": "stream",
     "text": [
      "0.1670654382112677\n"
     ]
    }
   ],
   "source": []
  }
 ],
 "metadata": {
  "kernelspec": {
   "display_name": "Python 3",
   "language": "python",
   "name": "python3"
  },
  "language_info": {
   "codemirror_mode": {
    "name": "ipython",
    "version": 3
   },
   "file_extension": ".py",
   "mimetype": "text/x-python",
   "name": "python",
   "nbconvert_exporter": "python",
   "pygments_lexer": "ipython3",
   "version": "3.9.6"
  },
  "orig_nbformat": 4,
  "vscode": {
   "interpreter": {
    "hash": "31f2aee4e71d21fbe5cf8b01ff0e069b9275f58929596ceb00d14d90e3e16cd6"
   }
  }
 },
 "nbformat": 4,
 "nbformat_minor": 2
}
