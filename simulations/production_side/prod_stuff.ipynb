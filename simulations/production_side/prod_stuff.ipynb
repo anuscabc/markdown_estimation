{
 "cells": [
  {
   "cell_type": "code",
   "execution_count": 158,
   "metadata": {},
   "outputs": [],
   "source": [
    "\n",
    "import numpy as np \n",
    "import pandas as pd \n",
    "import matplotlib.pyplot as plt\n"
   ]
  },
  {
   "cell_type": "code",
   "execution_count": 159,
   "metadata": {},
   "outputs": [],
   "source": [
    "np.random.seed(100)"
   ]
  },
  {
   "cell_type": "code",
   "execution_count": 160,
   "metadata": {},
   "outputs": [],
   "source": [
    "# There are going to be \n",
    " \n",
    "J = 10 \n",
    "\n",
    "# Across time period \n",
    "\n",
    "T = 100 \n",
    "\n",
    "\n",
    "# This might lead to bias see the assumption about J tending to infty and sthen T statoc\n",
    "# This is the same sort of panel data bias!! Look a bit into microetrics\n"
   ]
  },
  {
   "cell_type": "code",
   "execution_count": 161,
   "metadata": {},
   "outputs": [
    {
     "name": "stdout",
     "output_type": "stream",
     "text": [
      "[-0.02722196 -0.03340859  0.00036573 -0.03064694  0.0649874  -0.08665478\n",
      " -0.0491655   0.01787539 -0.08067893  0.07353569]\n"
     ]
    }
   ],
   "source": [
    "# All the parameter vector \n",
    "theta = np.array([1., 0.2, 0.7, 0.7, 0.2, 0.5, 0.1, 0.05])\n",
    "beta_0 = theta[0]\n",
    "beta_l = theta[1]\n",
    "beta_k = theta[2]\n",
    "beta = theta[:3]\n",
    "# The coeff in the production function stuff \n",
    "alpha = 0.7\n",
    "sigma_eta = 0.5\n",
    "simga_v = 0.1\n",
    "simga_omega = 0.05\n",
    "\n",
    "# This is needed in the capital accumulation equation \n",
    "delta = theta[7]\n",
    "\n",
    "# The parameters for the shock in the labor function \n",
    "iota = np.random.normal(0, 0.05, J)\n",
    "# The random shock par \n",
    "eta_labor = np.random.normal(0, sigma_eta, J)\n",
    "eta_production = np.random.normal(0, sigma_eta, J)\n",
    "# The parameter for investment decision and productivity \n",
    "gamma = 0.1\n",
    "\n",
    "# The prices for the companies and the wage\n",
    "p_eq = np.ones(J)\n",
    "wage = np.ones(J)/2\n",
    "\n",
    "# The capital value \n",
    "k = np.random.normal(1, 0.5, J)\n",
    "\n",
    "# The productivity shock has to be drawn from the stationart distribution of an ar(1) process and then it has to\n",
    "# follow and Ar(1) process to begin with\n",
    "\n",
    "omega_0 = np.random.normal(0, 0.05, J)\n",
    "print(omega_0)\n"
   ]
  },
  {
   "cell_type": "code",
   "execution_count": 162,
   "metadata": {},
   "outputs": [],
   "source": [
    "def production(beta, l, k, prod, eta, J):\n",
    "    var = np.column_stack((l, k))\n",
    "    V_0 = np.ones(J)\n",
    "    inputs = np.column_stack((V_0, var))\n",
    "    y = inputs@beta + prod + eta\n",
    "    return y"
   ]
  },
  {
   "cell_type": "code",
   "execution_count": 163,
   "metadata": {},
   "outputs": [],
   "source": [
    "def log_labor_optimal_error(beta, price, wage, omega, eta, k, iota): \n",
    "    beta_0 = beta[0]\n",
    "    beta_l = beta[1]\n",
    "    beta_k = beta[2]\n",
    "    l = (1/(1-beta_l))*(np.log((price*beta_l)/wage)+ beta_0 + omega +iota + eta + beta_k*k)\n",
    "    return l "
   ]
  },
  {
   "cell_type": "code",
   "execution_count": 164,
   "metadata": {},
   "outputs": [],
   "source": [
    "def log_labor_optimal(beta, price, wage, omega, eta, k): \n",
    "    beta_0 = beta[0]\n",
    "    beta_l = beta[1]\n",
    "    beta_k = beta[2]\n",
    "    l = (1/(1-beta_l))*(np.log((price*beta_l)/wage)+ beta_0 + omega + eta + beta_k*k)\n",
    "    return l "
   ]
  },
  {
   "cell_type": "code",
   "execution_count": 165,
   "metadata": {},
   "outputs": [],
   "source": [
    "def investment(delta, omega, k):\n",
    "    # There has to be some structure to the investment decision\n",
    "    gamma = 0.1 \n",
    "    inv = (delta + gamma*omega)*np.exp(k)\n",
    "    return inv"
   ]
  },
  {
   "cell_type": "code",
   "execution_count": 168,
   "metadata": {},
   "outputs": [
    {
     "name": "stdout",
     "output_type": "stream",
     "text": [
      "[ 6.47281758e-01  5.99863121e-01  3.56507443e-01  1.79327871e+00\n",
      "  1.87097348e+00  6.38723041e-01  1.12041294e+00  8.39041178e-01\n",
      " -3.14908763e-04 -1.50645212e-01]\n",
      "[ 0.7566421   0.5784456   0.28444271  1.80905596  1.80964093  0.60658436\n",
      "  1.10658921  0.90591889  0.01152858 -0.1665828 ]\n",
      "[0.14363003 0.06163688 0.09318419 0.19190437 0.22350655 0.089454\n",
      " 0.22214412 0.06045149 0.05784993 0.08418509]\n",
      "[2.71143716 2.04795717 1.36659139 1.89570529 2.4818306  2.04362177\n",
      " 2.6540203  1.98812134 0.98376809 1.33670506]\n",
      "[2.68956509 2.05224068 1.38100434 1.89254984 2.49409711 2.0500495\n",
      " 2.65678505 1.9747458  0.9813994  1.33989258]\n"
     ]
    }
   ],
   "source": [
    "# getting the labor when there is an error situation\n",
    "l_error = log_labor_optimal_error(beta, p_eq, wage, omega_0, eta_labor, k, iota)\n",
    "print(l_error)\n",
    "# getting the labor at the true optimality \n",
    "l = log_labor_optimal(beta, p_eq, wage, omega_0, eta_labor, k)\n",
    "print(l)\n",
    "# Getting the investment decision for each period \n",
    "inv = investment(delta, omega_0, k)\n",
    "print(inv)\n",
    "# The produictoin at the true labor value no error \n",
    "y = production(beta, l, k, omega_0, eta_production, J)\n",
    "print(y)\n",
    "# Production at the labor choice manager with error because impoerfect emasure of productivity \n",
    "y_error = production(beta, l_error, k, omega_0, eta_production, J)\n",
    "print(y_error)\n"
   ]
  },
  {
   "cell_type": "markdown",
   "metadata": {},
   "source": []
  },
  {
   "cell_type": "code",
   "execution_count": 174,
   "metadata": {},
   "outputs": [
    {
     "name": "stdout",
     "output_type": "stream",
     "text": [
      "-0.027221958083623217\n",
      "-0.31544717780868703\n"
     ]
    }
   ],
   "source": [
    "# Generating the productivity process for each of the generated firms\n",
    "# The productivity \n",
    "\n",
    "# Kapital accumulation over time \n",
    "K = np.zeros(T*J)\n",
    "\n",
    "k = np.random.normal(1, 0.5, J)\n",
    "\n",
    "k_10 = (1-delta)*k[0] + inv[0]\n",
    "k_11 = (1-delta)*k[1] + inv[1]\n",
    "k_13 = (1-delta)*k[3] + inv[3]\n",
    "# ... \n",
    "# k_20 = (1-delta)*k[10] + inv[1O]\n",
    "\n",
    "# The accumulation of production shocks \n",
    "nu = np.random.normal(1)\n",
    "omega_1 = alpha*omega_0[0] + nu\n",
    "print(omega_0[0])\n",
    "print(omega_1)\n"
   ]
  }
 ],
 "metadata": {
  "kernelspec": {
   "display_name": "Python 3",
   "language": "python",
   "name": "python3"
  },
  "language_info": {
   "codemirror_mode": {
    "name": "ipython",
    "version": 3
   },
   "file_extension": ".py",
   "mimetype": "text/x-python",
   "name": "python",
   "nbconvert_exporter": "python",
   "pygments_lexer": "ipython3",
   "version": "3.9.6"
  },
  "orig_nbformat": 4
 },
 "nbformat": 4,
 "nbformat_minor": 2
}
