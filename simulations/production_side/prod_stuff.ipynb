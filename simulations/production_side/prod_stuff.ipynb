{
 "cells": [
  {
   "cell_type": "code",
   "execution_count": 210,
   "metadata": {},
   "outputs": [],
   "source": [
    "\n",
    "import numpy as np \n",
    "import pandas as pd \n",
    "import matplotlib.pyplot as plt\n"
   ]
  },
  {
   "cell_type": "code",
   "execution_count": 211,
   "metadata": {},
   "outputs": [],
   "source": [
    "np.random.seed(100)"
   ]
  },
  {
   "cell_type": "code",
   "execution_count": 212,
   "metadata": {},
   "outputs": [],
   "source": [
    "# There are going to be \n",
    " \n",
    "J = 2\n",
    "\n",
    "# Across time period \n",
    "\n",
    "T = 3\n",
    "\n",
    "\n",
    "# This might lead to bias see the assumption about J tending to infty and sthen T statoc\n",
    "# This is the same sort of panel data bias!! Look a bit into microetrics\n"
   ]
  },
  {
   "cell_type": "code",
   "execution_count": 213,
   "metadata": {},
   "outputs": [],
   "source": [
    "# All the parameter vector \n",
    "theta = np.array([1., 0.2, 0.7, 0.7, 0.2, 0.5, 0.1, 0.05])\n",
    "beta_0 = 1.\n",
    "beta_l = 0.2\n",
    "beta_k = 0.7\n",
    "beta = theta[1, 0.2, 0.7]\n",
    "# The coeff in the production function stuff \n",
    "alpha = 0.7\n",
    "sigma_eta = 0.2\n",
    "simga_v = 0.5\n",
    "simga_omega = 0.1\n",
    "\n",
    "# This is needed in the capital accumulation equation \n",
    "delta = 0.05\n",
    "\n",
    "# The parameters for the shock in the labor function \n",
    "iota = np.random.normal(0, 0.05, (J, T))\n",
    "# The random shock given to the labor (as in the estimated shock (idk in my mind this should be 0 \n",
    "# but maybe i could ask Sabien I guess?))\n",
    "eta_labor = np.random.normal(0, sigma_eta, (J, T))\n",
    "eta_production = np.random.normal(0, sigma_eta, (J, T))\n",
    "\n",
    "# The prices for the companies and the wage\n",
    "p_eq = np.ones((J, T))\n",
    "wage = np.ones((J, T))/2\n",
    "\n",
    "# The capital value \n",
    "# The productivity shock has to be drawn from the stationart distribution of an ar(1) process and then it has to\n",
    "# follow and Ar(1) process to begin with\n"
   ]
  },
  {
   "cell_type": "code",
   "execution_count": 214,
   "metadata": {},
   "outputs": [],
   "source": [
    "def production(beta, l, k, prod, eta, J):\n",
    "    var = np.column_stack((l, k))\n",
    "    V_0 = np.ones(J)\n",
    "    inputs = np.column_stack((V_0, var))\n",
    "    y = inputs@beta + prod + eta\n",
    "    return y"
   ]
  },
  {
   "cell_type": "code",
   "execution_count": 215,
   "metadata": {},
   "outputs": [],
   "source": [
    "def log_labor_optimal_error(beta, price, wage, omega, eta, k, iota): \n",
    "    beta_0 = beta[0]\n",
    "    beta_l = beta[1]\n",
    "    beta_k = beta[2]\n",
    "    l = (1/(1-beta_l))*(np.log((price*beta_l)/wage)+ beta_0 + omega +iota + eta + beta_k*k)\n",
    "    return l "
   ]
  },
  {
   "cell_type": "code",
   "execution_count": 216,
   "metadata": {},
   "outputs": [],
   "source": [
    "def log_labor_optimal(beta, price, wage, omega, eta, k): \n",
    "    beta_0 = beta[0]\n",
    "    beta_l = beta[1]\n",
    "    beta_k = beta[2]\n",
    "    l = (1/(1-beta_l))*(np.log((price*beta_l)/wage)+ beta_0 + omega + eta + beta_k*k)\n",
    "    return l "
   ]
  },
  {
   "cell_type": "code",
   "execution_count": 217,
   "metadata": {},
   "outputs": [],
   "source": [
    "def investment(delta, omega, k):\n",
    "    # There has to be some structure to the investment decision\n",
    "    gamma = 0.1 \n",
    "    # The gamma is set for all the time peruids going forward \n",
    "    inv = (delta + gamma*omega)*np.exp(k)\n",
    "    return inv"
   ]
  },
  {
   "cell_type": "code",
   "execution_count": 218,
   "metadata": {},
   "outputs": [
    {
     "name": "stdout",
     "output_type": "stream",
     "text": [
      "[2.12022733 0.75846963]\n",
      "[2.22958767 0.73705211]\n",
      "[0.2474839  0.12422086]\n",
      "[3.0600209  2.03667028]\n",
      "[3.03814883 2.04095378]\n"
     ]
    }
   ],
   "source": [
    "# getting the labor when there is an error situation\n",
    "l_error = log_labor_optimal_error(beta, p_eq, wage, omega_0, eta_labor, k, iota)\n",
    "print(l_error)\n",
    "# getting the labor at the true optimality \n",
    "l = log_labor_optimal(beta, p_eq, wage, omega_0, eta_labor, k)\n",
    "print(l)\n",
    "# Getting the investment decision for each period \n",
    "inv = investment(delta, omega_0, k)\n",
    "print(inv)\n",
    "# The produictoin at the true labor value no error \n",
    "y = production(beta, l, k, omega_0, eta_production, J)\n",
    "print(y)\n",
    "# Production at the labor choice manager with error because impoerfect emasure of productivity \n",
    "y_error = production(beta, l_error, k, omega_0, eta_production, J)\n",
    "print(y_error)\n"
   ]
  },
  {
   "cell_type": "markdown",
   "metadata": {},
   "source": []
  },
  {
   "cell_type": "code",
   "execution_count": 233,
   "metadata": {},
   "outputs": [
    {
     "name": "stdout",
     "output_type": "stream",
     "text": [
      "[[0.99325993 0.58556476 0.26698864]\n",
      " [0.9229692  0.62220715 0.53044548]]\n",
      "[[1.12945306 0.10855648 0.07669886]\n",
      " [0.19236915 0.11222072 0.10304455]]\n",
      "[[2.02335698 3.05164219 3.00761656]\n",
      " [0.30150033 0.47879446 0.56707545]]\n"
     ]
    }
   ],
   "source": [
    "# Generating the productivity process for each of the generated firms\n",
    "# The productivity shocks and their evolution\n",
    "omega = np.zeros((J, T))\n",
    "K = np.zeros((J, T))\n",
    "inv = np.zeros((J, T))\n",
    "l_optim = np.zeros\n",
    "l_error = np.zeros\n",
    "\n",
    "\n",
    "omega[:,0] = np.random.normal(1, 0.05, J)\n",
    "K[:, 0] = np.random.normal(1, 0.5, J)\n",
    "inv[:, 0] = investment(delta, omega[:, 0], K[:, 0])\n",
    "\n",
    "\n",
    "\n",
    "for t in range(1, T):\n",
    "    omega[:, t] = alpha * omega[:, t-1] + np.random.normal(0, 0.1, size=J)\n",
    "    inv[:, t] = investment(delta, omega[:, t], K[:, t])\n",
    "    K[:, t] = (1-delta)*K[:,t-1] + inv[:,t-1]\n",
    "\n",
    "\n",
    "print(omega)\n",
    "print(inv)\n",
    "print(K)"
   ]
  },
  {
   "cell_type": "code",
   "execution_count": null,
   "metadata": {},
   "outputs": [],
   "source": [
    "# Now in each of these period "
   ]
  }
 ],
 "metadata": {
  "kernelspec": {
   "display_name": "Python 3",
   "language": "python",
   "name": "python3"
  },
  "language_info": {
   "codemirror_mode": {
    "name": "ipython",
    "version": 3
   },
   "file_extension": ".py",
   "mimetype": "text/x-python",
   "name": "python",
   "nbconvert_exporter": "python",
   "pygments_lexer": "ipython3",
   "version": "3.9.6"
  },
  "orig_nbformat": 4
 },
 "nbformat": 4,
 "nbformat_minor": 2
}
