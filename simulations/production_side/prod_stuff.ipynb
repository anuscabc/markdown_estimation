{
 "cells": [
  {
   "cell_type": "code",
   "execution_count": 1,
   "metadata": {},
   "outputs": [],
   "source": [
    "\n",
    "import numpy as np \n",
    "import pandas as pd \n",
    "import matplotlib.pyplot as plt\n",
    "import production\n"
   ]
  },
  {
   "cell_type": "code",
   "execution_count": 2,
   "metadata": {},
   "outputs": [],
   "source": [
    "np.random.seed(100)"
   ]
  },
  {
   "cell_type": "code",
   "execution_count": 3,
   "metadata": {},
   "outputs": [],
   "source": [
    "# The number of firms\n",
    "J = 2\n",
    "\n",
    "\n",
    "# The number of time periods\n",
    "T = 3"
   ]
  },
  {
   "cell_type": "code",
   "execution_count": 37,
   "metadata": {},
   "outputs": [
    {
     "name": "stdout",
     "output_type": "stream",
     "text": [
      "[0.07792925 0.11167755 0.10594724 0.08385975 0.12890967 0.09895551\n",
      " 0.07281758 0.08179806 0.10041013 0.09662901]\n",
      "479.4668699797625\n",
      "20.53313002023749\n",
      "500.0\n"
     ]
    }
   ],
   "source": [
    "df_0 = pd.read_csv('/Users/popovici/Desktop/Thesis/markdown_estimation/data/market_100.csv')\n",
    "\n",
    "shares =np.reshape(np.array(df_0['mshare']), (99, 10)).T\n",
    "print(shares[:,0])\n",
    "\n",
    "\n",
    "p1 = (np.sum(shares[:,0])*500)\n",
    "print(p1)\n",
    "\n",
    "p2 = (1 - np.sum(shares[:, 0]))*500\n",
    "print(p2)\n",
    "\n",
    "print(p1 + p2)\n",
    "\n"
   ]
  },
  {
   "cell_type": "code",
   "execution_count": 4,
   "metadata": {},
   "outputs": [
    {
     "name": "stdout",
     "output_type": "stream",
     "text": [
      "       price      cost  product  time      Car1      Car2    mshare   profits  \\\n",
      "0   3.695253  1.415698        1     1  5.543405  5.891322  0.078804  0.179638   \n",
      "1   3.756714  1.447384        2     1  5.278369  5.209202  0.107499  0.248250   \n",
      "10  4.001494  1.413811        1     2  5.543405  5.891322  0.079771  0.206423   \n",
      "11  4.140559  1.500000        2     2  5.278369  5.209202  0.105996  0.279890   \n",
      "20  3.714313  1.434079        1     3  5.543405  5.891322  0.076635  0.174747   \n",
      "21  3.753785  1.457664        2     3  5.278369  5.209202  0.105537  0.242325   \n",
      "\n",
      "     markups  \n",
      "0   1.610199  \n",
      "1   1.595521  \n",
      "10  1.830290  \n",
      "11  1.760373  \n",
      "20  1.590035  \n",
      "21  1.575205  \n"
     ]
    }
   ],
   "source": [
    "# Getting the exact number of periods and stuff also from the dataframe for the market based approach \n",
    "df = pd.read_csv('/Users/popovici/Desktop/Thesis/markdown_estimation/data/market_100.csv').head(T*10)\n",
    "df_grouped = df.groupby('time').head(J)\n",
    "print(df_grouped)"
   ]
  },
  {
   "cell_type": "code",
   "execution_count": 5,
   "metadata": {},
   "outputs": [
    {
     "name": "stdout",
     "output_type": "stream",
     "text": [
      "[[3.69525344 4.00149428 3.71431331]\n",
      " [3.75671434 4.14055935 3.75378478]]\n",
      "[[0.07880396 0.07977116 0.07663546]\n",
      " [0.10749874 0.10599642 0.10553664]]\n",
      "[[1.61019918 1.83029012 1.59003451]\n",
      " [1.59552078 1.7603729  1.57520492]]\n"
     ]
    }
   ],
   "source": [
    "\n",
    "true_price = np.reshape(np.array(df_grouped['price']), (T, J)).T\n",
    "print(true_price)\n",
    "\n",
    "true_share = np.reshape(np.array(df_grouped['mshare']), (T, J)).T\n",
    "print(true_share)\n",
    "\n",
    "true_markup = np.reshape(np.array(df_grouped['markups']), (T, J)).T\n",
    "\n",
    "print(true_markup)"
   ]
  },
  {
   "cell_type": "code",
   "execution_count": 6,
   "metadata": {},
   "outputs": [],
   "source": [
    "# The vector of parameters for the production function \n",
    "beta_production = np.array([1, 0.3, 0.7])\n",
    "# The coeff in the production function stuff \n",
    "\n",
    "# Markov Chain memory\n",
    "alpha = 0.7\n",
    "\n",
    "# Productivity distribution \n",
    "mean_omega = 1\n",
    "sigma_omega = 0.1\n",
    "\n",
    "\n",
    "# Capital distribution\n",
    "mean_capital = 1\n",
    "sigma_capital = 0.5\n",
    "delta = 0.05\n",
    "\n",
    "\n",
    "# Errors important for the econometric analysis but not important for the DGP\n",
    "eta_labor = np.random.normal(0, 0.2, (J, T))\n",
    "eta_production = np.random.normal(0, 0.2, (J, T))\n",
    "\n",
    "\n",
    "# Some initial guess for the wage\n",
    "wage = np.ones((J, T))/2\n"
   ]
  },
  {
   "cell_type": "markdown",
   "metadata": {},
   "source": []
  },
  {
   "cell_type": "code",
   "execution_count": 7,
   "metadata": {},
   "outputs": [
    {
     "name": "stdout",
     "output_type": "stream",
     "text": [
      "[[0.94164049 0.60602031 0.38040065]\n",
      " [1.08168471 0.86015256 0.49027497]]\n",
      "[[1.3363604  1.46219751 1.55080965]\n",
      " [0.94779443 1.0503159  1.14065909]]\n",
      "[[0.19265513 0.16172201 0.13653338]\n",
      " [0.1499112  0.14285899 0.11295661]]\n"
     ]
    }
   ],
   "source": [
    "productivity, capital, investment = production.formation_capital_investment(J, T, \n",
    "                                                                            alpha, mean_omega, sigma_omega, mean_capital,\n",
    "                                                                            sigma_capital, delta)\n",
    "print(productivity)\n",
    "print(capital)\n",
    "print(investment)"
   ]
  },
  {
   "cell_type": "code",
   "execution_count": 8,
   "metadata": {},
   "outputs": [
    {
     "name": "stdout",
     "output_type": "stream",
     "text": [
      "[[3.67381607 3.68601488 3.64591266]\n",
      " [3.98433194 3.97025811 3.96591098]]\n"
     ]
    }
   ],
   "source": [
    "print(np.log(true_share*500))"
   ]
  },
  {
   "cell_type": "code",
   "execution_count": 9,
   "metadata": {},
   "outputs": [
    {
     "name": "stdout",
     "output_type": "stream",
     "text": [
      "[ 9.12787929 11.06958614]\n"
     ]
    }
   ],
   "source": [
    "# Optimal labor at this value is (in equilibiurm and as given by the market quantitiy)\n",
    "# Using this impliees that the model is agnostic to the wage when choosing labor \n",
    "# The cost already determined how much to produce so maybe there is not much else that can be done here \n",
    "L = (np.log(true_share[:, 0]*500) - beta_production[2]*capital[:, 0])/beta_production[1]\n",
    "print(L)\n",
    " "
   ]
  },
  {
   "cell_type": "code",
   "execution_count": 10,
   "metadata": {},
   "outputs": [
    {
     "name": "stdout",
     "output_type": "stream",
     "text": [
      "[[4.74766172 0.         0.        ]\n",
      " [5.01053244 0.         0.        ]]\n",
      "[[4.34562723 0.         0.        ]\n",
      " [4.29930083 0.         0.        ]]\n",
      "1\n",
      "2\n",
      "[[4.74766172 5.10562412 4.99706109]\n",
      " [5.01053244 5.28806159 4.57645583]]\n",
      "[[4.34562723 3.94723714 3.92718657]\n",
      " [4.29930083 4.09018678 3.74870578]]\n",
      "[[3.67381607 3.68601488 3.64591266]\n",
      " [3.98433194 3.97025811 3.96591098]]\n"
     ]
    }
   ],
   "source": [
    "L, Y = production.formation_labor_production_log(J, T, capital, beta_production, true_price,\n",
    "                                                  wage, productivity, eta_labor, eta_production)\n",
    "# At the prices in the market and an initial value of the wage this are going to be the optimal prices "
   ]
  },
  {
   "cell_type": "code",
   "execution_count": null,
   "metadata": {},
   "outputs": [],
   "source": [
    "def labor_from"
   ]
  },
  {
   "cell_type": "code",
   "execution_count": 11,
   "metadata": {},
   "outputs": [
    {
     "ename": "ValueError",
     "evalue": "operands could not be broadcast together with shapes (2,) (2,3) ",
     "output_type": "error",
     "traceback": [
      "\u001b[0;31m---------------------------------------------------------------------------\u001b[0m",
      "\u001b[0;31mValueError\u001b[0m                                Traceback (most recent call last)",
      "\u001b[1;32m/Users/popovici/Desktop/Thesis/markdown_estimation/simulations/production_side/prod_stuff.ipynb Cell 12\u001b[0m in \u001b[0;36m6\n\u001b[1;32m      <a href='vscode-notebook-cell:/Users/popovici/Desktop/Thesis/markdown_estimation/simulations/production_side/prod_stuff.ipynb#X23sZmlsZQ%3D%3D?line=1'>2</a>\u001b[0m markup_production_1 \u001b[39m=\u001b[39m np\u001b[39m.\u001b[39mzeros((J, T))\n\u001b[1;32m      <a href='vscode-notebook-cell:/Users/popovici/Desktop/Thesis/markdown_estimation/simulations/production_side/prod_stuff.ipynb#X23sZmlsZQ%3D%3D?line=2'>3</a>\u001b[0m markup_production_2 \u001b[39m=\u001b[39m np\u001b[39m.\u001b[39mzeros((J, T))\n\u001b[0;32m----> <a href='vscode-notebook-cell:/Users/popovici/Desktop/Thesis/markdown_estimation/simulations/production_side/prod_stuff.ipynb#X23sZmlsZQ%3D%3D?line=5'>6</a>\u001b[0m markup_production_1[:, \u001b[39m0\u001b[39m] \u001b[39m=\u001b[39m (beta_production[\u001b[39m1\u001b[39m] \u001b[39m*\u001b[39m true_price[:, \u001b[39m0\u001b[39m]\u001b[39m*\u001b[39mnp\u001b[39m.\u001b[39mlog(true_share[:, \u001b[39m0\u001b[39m]\u001b[39m*\u001b[39m\u001b[39m500\u001b[39m))\u001b[39m/\u001b[39m(wage[:, \u001b[39m0\u001b[39m]\u001b[39m*\u001b[39m\u001b[39m0.1\u001b[39m\u001b[39m*\u001b[39mL)\n\u001b[1;32m      <a href='vscode-notebook-cell:/Users/popovici/Desktop/Thesis/markdown_estimation/simulations/production_side/prod_stuff.ipynb#X23sZmlsZQ%3D%3D?line=7'>8</a>\u001b[0m \u001b[39mprint\u001b[39m(markup_production_1)\n\u001b[1;32m      <a href='vscode-notebook-cell:/Users/popovici/Desktop/Thesis/markdown_estimation/simulations/production_side/prod_stuff.ipynb#X23sZmlsZQ%3D%3D?line=8'>9</a>\u001b[0m \u001b[39mprint\u001b[39m(true_markup)\n",
      "\u001b[0;31mValueError\u001b[0m: operands could not be broadcast together with shapes (2,) (2,3) "
     ]
    }
   ],
   "source": [
    "# Getting toy level mardown: \n",
    "markup_production_1 = np.zeros((J, T))\n",
    "markup_production_2 = np.zeros((J, T))\n",
    "\n",
    "\n",
    "markup_production_1[:, 0] = (beta_production[1] * true_price[:, 0]*np.log(true_share[:, 0]*500))/(wage[:, 0]*0.1*L)\n",
    "\n",
    "print(markup_production_1)\n",
    "print(true_markup)"
   ]
  }
 ],
 "metadata": {
  "kernelspec": {
   "display_name": "Python 3",
   "language": "python",
   "name": "python3"
  },
  "language_info": {
   "codemirror_mode": {
    "name": "ipython",
    "version": 3
   },
   "file_extension": ".py",
   "mimetype": "text/x-python",
   "name": "python",
   "nbconvert_exporter": "python",
   "pygments_lexer": "ipython3",
   "version": "3.9.6"
  },
  "orig_nbformat": 4
 },
 "nbformat": 4,
 "nbformat_minor": 2
}
