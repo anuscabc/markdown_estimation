{
 "cells": [
  {
   "cell_type": "code",
   "execution_count": 140,
   "metadata": {},
   "outputs": [],
   "source": [
    "\n",
    "import numpy as np \n",
    "import pandas as pd \n",
    "import matplotlib.pyplot as plt\n"
   ]
  },
  {
   "cell_type": "code",
   "execution_count": 141,
   "metadata": {},
   "outputs": [],
   "source": [
    "np.random.seed(100)"
   ]
  },
  {
   "cell_type": "code",
   "execution_count": 142,
   "metadata": {},
   "outputs": [],
   "source": [
    "# There are going to be \n",
    " \n",
    "J = 2\n",
    "\n",
    "# Across time period \n",
    "\n",
    "T = 3\n",
    "\n",
    "\n",
    "# This might lead to bias see the assumption about J tending to infty and sthen T statoc\n",
    "# This is the same sort of panel data bias!! Look a bit into microetrics\n"
   ]
  },
  {
   "cell_type": "code",
   "execution_count": 143,
   "metadata": {},
   "outputs": [],
   "source": [
    "# All the parameter vector \n",
    "theta = np.array([1., 0.2, 0.7, 0.7, 0.2, 0.5, 0.1, 0.05])\n",
    "beta_0 = 1.\n",
    "beta_l = 0.2\n",
    "beta_k = 0.7\n",
    "beta = np.array([1, 0.2, 0.7])\n",
    "# The coeff in the production function stuff \n",
    "alpha = 0.7\n",
    "sigma_error_produciton = 0.2\n",
    "simga_error_productivity = 0.5\n",
    "simga_productivity = 0.1\n",
    "\n",
    "# This is needed in the capital accumulation equation \n",
    "delta = 0.05\n",
    "\n",
    "# The parameters for the shock in the labor function \n",
    "error_labour_optimization = np.random.normal(0, 0.05, (J, T))\n",
    "# The random shock given to the labor (as in the estimated shock (idk in my mind this should be 0 \n",
    "# but maybe i could ask Sabien I guess?))\n",
    "eta_labor = np.random.normal(0, sigma_error_produciton, (J, T))\n",
    "eta_production = np.random.normal(0, sigma_error_produciton, (J, T))\n",
    "\n",
    "# The prices for the companies and the wage\n",
    "p_eq = np.ones((J, T))\n",
    "wage = np.ones((J, T))/2\n",
    "\n",
    "# The capital value \n",
    "# The productivity shock has to be drawn from the stationart distribution of an ar(1) process and then it has to\n",
    "# follow and Ar(1) process to begin with\n"
   ]
  },
  {
   "cell_type": "code",
   "execution_count": 144,
   "metadata": {},
   "outputs": [],
   "source": [
    "def log_production(beta, l, k, omega, eta):\n",
    "    beta_0 = beta[0]\n",
    "    beta_l = beta[1]\n",
    "    beta_k = beta[2]\n",
    "    y = beta_0 + beta_l*l + beta_k*k + omega + eta \n",
    "    return y"
   ]
  },
  {
   "cell_type": "code",
   "execution_count": 145,
   "metadata": {},
   "outputs": [],
   "source": [
    "def production(beta, labor, capital, omega, eta):\n",
    "    beta_0 = beta[0]\n",
    "    beta_l = beta[1]\n",
    "    beta_k = beta[2]\n",
    "    Y = (labor**beta_l)*(capital**beta_k)*np.exp(beta_0 + omega + eta)\n",
    "    return Y "
   ]
  },
  {
   "cell_type": "code",
   "execution_count": 146,
   "metadata": {},
   "outputs": [],
   "source": [
    "def log_labor_optimal_error(beta, price, wage, omega, eta, k, iota): \n",
    "    beta_0 = beta[0]\n",
    "    beta_l = beta[1]\n",
    "    beta_k = beta[2]\n",
    "    l = (1/(1-beta_l))*(np.log((price*beta_l)/wage)+ beta_0 + omega +iota + eta + beta_k*k)\n",
    "    return l "
   ]
  },
  {
   "cell_type": "code",
   "execution_count": 147,
   "metadata": {},
   "outputs": [],
   "source": [
    "def log_labor_optimal(beta, price, wage, omega, eta, k): \n",
    "    beta_0 = beta[0]\n",
    "    beta_l = beta[1]\n",
    "    beta_k = beta[2]\n",
    "    l = (1/(1-beta_l))*(np.log((price*beta_l)/wage)+ beta_0 + omega + eta + beta_k*k)\n",
    "    return l "
   ]
  },
  {
   "cell_type": "code",
   "execution_count": 148,
   "metadata": {},
   "outputs": [],
   "source": [
    "def log_labor_optimal_meval(beta, price, wage, omega, eta, k): \n",
    "    beta_0 = beta[0]\n",
    "    beta_l = beta[1]\n",
    "    beta_k = beta[2]\n",
    "    l = (1/(beta_l-1))*(np.log((wage)/(price*beta_l))- beta_0 - omega - eta - beta_k*k)\n",
    "    return l "
   ]
  },
  {
   "cell_type": "code",
   "execution_count": 149,
   "metadata": {},
   "outputs": [],
   "source": [
    "def labor_optimal(beta, price, wage, omega, eta, capital):\n",
    "    # Takes only non log values of production \n",
    "    beta_0 = beta[0]\n",
    "    beta_l = beta[1]\n",
    "    beta_k = beta[2]\n",
    "    optimal_labor = (wage/(beta_l*capital**beta_k*np.exp(beta_0+omega+eta)*price))**(1/(beta_l-1))\n",
    "    return optimal_labor"
   ]
  },
  {
   "cell_type": "code",
   "execution_count": 150,
   "metadata": {},
   "outputs": [],
   "source": [
    "\n",
    "# This is not in log points and nothing takes log points until now\n",
    "# You can log everything at the end if needed but not sure if you even have to at this point \n",
    "def investment(delta, omega, k):\n",
    "    # There has to be some structure to the investment decision\n",
    "    gamma = 0.1 \n",
    "    # The gamma is set for all the time peruids going forward \n",
    "    inv = (delta + gamma*omega)*np.exp(k)\n",
    "    return inv"
   ]
  },
  {
   "cell_type": "code",
   "execution_count": 151,
   "metadata": {},
   "outputs": [],
   "source": [
    "def capital_formation(delta, capital, investment):\n",
    "    capital_next= (1-delta)*capital + investment\n",
    "    return capital_next"
   ]
  },
  {
   "cell_type": "markdown",
   "metadata": {},
   "source": []
  },
  {
   "cell_type": "code",
   "execution_count": 157,
   "metadata": {},
   "outputs": [
    {
     "name": "stdout",
     "output_type": "stream",
     "text": [
      "[[17.32748627 30.65926178 27.45422672]\n",
      " [ 4.59627136  2.98430606  2.82238503]]\n",
      "[[ 4.92739837 25.90190537 24.71587267]\n",
      " [ 1.1672979   1.58360227  1.610502  ]]\n",
      "[[ 36.87854075 111.78793153  81.55308794]\n",
      " [ 10.69368752   7.35225668   7.94693925]]\n",
      "[[1.03752224 0.59062566 0.35899405]\n",
      " [0.97720265 0.56079841 0.32574171]]\n",
      "[[2.85229404 3.4229348  3.31252013]\n",
      " [1.5252454  1.09336724 1.03758228]]\n",
      "[[1.59481113 3.25431653 3.20744566]\n",
      " [0.15469159 0.45970217 0.47654593]]\n",
      "[[3.60762983 4.71660361 4.40125419]\n",
      " [2.36965362 1.9950073  2.07278685]]\n"
     ]
    }
   ],
   "source": [
    "# Generating the productivity process for each of the generated firms\n",
    "# The productivity shocks and their evolution\n",
    "omega = np.zeros((J, T))\n",
    "K = np.zeros((J, T))\n",
    "inv = np.zeros((J, T))\n",
    "L = np.zeros((J, T))\n",
    "\n",
    "K_exp = np.zeros((J, T))\n",
    "L_try = np.zeros((J, T))\n",
    "\n",
    "\n",
    "\n",
    "Y = np.zeros((J, T))\n",
    "\n",
    "\n",
    "# This is inconsistent because some of the formulas are in logs and some of the formulas are not in logs \n",
    "\n",
    "# There needs to be some sort of initialization for omega and capital \n",
    "omega[:,0] = np.random.normal(1, 0.05, J)\n",
    "K[:, 0] = np.exp(np.random.normal(1, 0.5, J))\n",
    "# in exponential form \n",
    "# K_exp[:, 0] = np.exp(K[:, 0])\n",
    "\n",
    "\n",
    "inv[:, 0] = investment(delta, omega[:, 0], K[:, 0])\n",
    "\n",
    "# Checking all the optimal labor stuff \n",
    "# L[:, 0] = log_labor_optimal(beta, p_eq[:,0], wage[:,0], omega[:, 0], eta_labor[:, 0], K[:,0])\n",
    "L[:, 0] = labor_optimal(beta, p_eq[:,0], wage[:,0], omega[:, 0], eta_labor[:, 0], K[:,0])\n",
    "\n",
    "\n",
    "# This is going to initiate all the production \n",
    "Y[:, 0] = production(beta, L[:, 0], K[:, 0], omega[:, 0], eta_production[:, 0])\n",
    "\n",
    "\n",
    "for t in range(1, T):\n",
    "    omega[:, t] = alpha * omega[:, t-1] + np.random.normal(0, 0.1, size=J)\n",
    "    inv[:, t] = investment(delta, omega[:, t], K[:, t])\n",
    "    K[:, t] = capital_formation(delta, K[:,t-1], inv[:,t-1])\n",
    "    L[:, t] = labor_optimal(beta, p_eq[:,t], wage[:,t], omega[:, t], eta_labor[:, t], K[:,t])\n",
    "    \n",
    "    # Getting the optimal labor without the error term \n",
    "    Y[:, t] = production(beta, L[:, t], K[:, t], omega[:, t], eta_production[:, t])\n",
    "\n",
    "\n",
    "\n",
    "print(L)\n",
    "print(K)\n",
    "print(Y)\n",
    "print(omega)\n",
    "\n",
    "print(np.log(L))\n",
    "print(np.log(K))\n",
    "print(np.log(Y))\n"
   ]
  },
  {
   "cell_type": "code",
   "execution_count": 153,
   "metadata": {},
   "outputs": [
    {
     "name": "stdout",
     "output_type": "stream",
     "text": [
      "       price      cost  product  time      Car1      Car2    mshare   profits  \\\n",
      "0   3.695253  1.415698        1     1  5.543405  5.891322  0.078804  0.179638   \n",
      "1   3.756714  1.447384        2     1  5.278369  5.209202  0.107499  0.248250   \n",
      "10  4.001494  1.413811        1     2  5.543405  5.891322  0.079771  0.206423   \n",
      "11  4.140559  1.500000        2     2  5.278369  5.209202  0.105996  0.279890   \n",
      "20  3.714313  1.434079        1     3  5.543405  5.891322  0.076635  0.174747   \n",
      "21  3.753785  1.457664        2     3  5.278369  5.209202  0.105537  0.242325   \n",
      "\n",
      "     markups  \n",
      "0   1.610199  \n",
      "1   1.595521  \n",
      "10  1.830290  \n",
      "11  1.760373  \n",
      "20  1.590035  \n",
      "21  1.575205  \n"
     ]
    }
   ],
   "source": [
    "# Now in each of these period \n",
    "seed = 100\n",
    "\n",
    "df = pd.read_csv('/Users/popovici/Desktop/Thesis/markdown_estimation/data/market_100.csv').head(30)\n",
    "df_grouped = df.groupby('time').head(2)\n",
    "print(df_grouped)"
   ]
  },
  {
   "cell_type": "code",
   "execution_count": 154,
   "metadata": {},
   "outputs": [
    {
     "name": "stdout",
     "output_type": "stream",
     "text": [
      "[[3.69525344 4.00149428 3.71431331]\n",
      " [3.75671434 4.14055935 3.75378478]]\n",
      "[0.17963801 0.24825014 0.20642253 0.27988983 0.17474682 0.24232481]\n"
     ]
    }
   ],
   "source": [
    "eq_price = np.array(df_grouped['price'])\n",
    "price_try = np.reshape(eq_price, (T, J)).T\n",
    "print(price_try)\n",
    "\n",
    "true_share = np.array(df_grouped['mshare'])\n",
    "# print(true_share)\n",
    "\n",
    "true_profit = np.array(df_grouped['profits'])\n",
    "print(true_profit)\n"
   ]
  },
  {
   "cell_type": "code",
   "execution_count": 155,
   "metadata": {},
   "outputs": [],
   "source": [
    "# The idea is to optimize the new labor choice at the extracted prices from the market equiliborum: \n",
    "\n",
    "L_at_true_price =  log_labor_optimal(beta, p_eq[:,t], wage[:,t], omega[:, t], eta_labor[:, t], K[:,t])\n"
   ]
  }
 ],
 "metadata": {
  "kernelspec": {
   "display_name": "Python 3",
   "language": "python",
   "name": "python3"
  },
  "language_info": {
   "codemirror_mode": {
    "name": "ipython",
    "version": 3
   },
   "file_extension": ".py",
   "mimetype": "text/x-python",
   "name": "python",
   "nbconvert_exporter": "python",
   "pygments_lexer": "ipython3",
   "version": "3.9.6"
  },
  "orig_nbformat": 4
 },
 "nbformat": 4,
 "nbformat_minor": 2
}
