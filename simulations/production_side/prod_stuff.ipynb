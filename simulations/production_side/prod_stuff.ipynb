{
 "cells": [
  {
   "cell_type": "code",
   "execution_count": 1,
   "metadata": {},
   "outputs": [],
   "source": [
    "\n",
    "import numpy as np \n",
    "import pandas as pd \n",
    "import matplotlib.pyplot as plt\n"
   ]
  },
  {
   "cell_type": "code",
   "execution_count": 2,
   "metadata": {},
   "outputs": [],
   "source": [
    "np.random.seed(100)"
   ]
  },
  {
   "cell_type": "code",
   "execution_count": null,
   "metadata": {},
   "outputs": [],
   "source": [
    "# There are going to be \n",
    " \n",
    "J = 10 \n",
    "\n",
    "# Across time period \n",
    "\n",
    "T = 100 \n",
    "\n",
    "\n",
    "# This might lead to bias see the assumption about J tending to infty and sthen T statoc\n",
    "# This is the same sort of panel data bias!! Look a bit into microetrics\n"
   ]
  },
  {
   "cell_type": "code",
   "execution_count": 15,
   "metadata": {},
   "outputs": [],
   "source": [
    "# All the parameter vector \n",
    "theta = np.array([1., 0.2, 0.7, 0.7, 0.2, 0.5, 0.1, 0.05])\n",
    "beta_0 = theta[0]\n",
    "beta_l = theta[1]\n",
    "beta_k = theta[2]\n",
    "beta = theta[:3]\n",
    "# The coeff in the production function stuff \n",
    "alpha = theta[3]\n",
    "sigma_eta = theta[4]\n",
    "simga_v = theta[5]\n",
    "simga_w = theta[6]\n",
    "\n",
    "# This is needed in the capital accumulation equation \n",
    "delta = theta[7]\n",
    "\n",
    "# The parameters for the shock in the labor function \n",
    "iota = np.random.normal(0, 1, J)\n",
    "\n",
    "# The parameter for investment decision and productivity \n",
    "gamma = 0.1\n",
    "\n",
    "# The prices for the companies and the wage\n",
    "p_eq = np.ones(J)\n",
    "wage = np.ones(J)/2\n",
    "\n",
    "# The capital value \n",
    "k = np.random.normal(1, 0.5, J)\n",
    "\n",
    "# The productivity shock has to be drawn from the stationart distribution of an ar(1) process and then it has to\n",
    "# follow and Ar(1) process to begin with\n"
   ]
  },
  {
   "cell_type": "code",
   "execution_count": 70,
   "metadata": {},
   "outputs": [],
   "source": [
    "def production(beta, l, k, prod, eta, J):\n",
    "    var = np.column_stack((l, k))\n",
    "    V_0 = np.ones(J)\n",
    "    inputs = np.column_stack((V_0, var))\n",
    "    y = inputs@beta + prod + eta\n",
    "    return y"
   ]
  },
  {
   "cell_type": "code",
   "execution_count": 56,
   "metadata": {},
   "outputs": [],
   "source": [
    "# Deriving the optimal log_labor function \n",
    "# As the variable produciton input labor has to come from some sort of optimality condition in equilibirum\n",
    "def log_labor_optimal(beta, price, wage, omega, eta, k, iota): \n",
    "    beta_0 = beta[0]\n",
    "    beta_l = beta[1]\n",
    "    beta_k = beta[2]\n",
    "    l = (1/(1-beta_l))*(np.log((price*beta_l)/wage)+ beta_0 + omega + iota + eta + beta_k*k)\n",
    "    return l "
   ]
  },
  {
   "cell_type": "code",
   "execution_count": 75,
   "metadata": {},
   "outputs": [
    {
     "name": "stdout",
     "output_type": "stream",
     "text": [
      "0.40774227426885684\n"
     ]
    }
   ],
   "source": [
    "def investment(delta, omega, k):\n",
    "    # There has to be some structure to the investment decision\n",
    "    gamma = 0.1 \n",
    "    inv = (delta + gamma*omega)*np.exp(k)\n",
    "    return inv"
   ]
  }
 ],
 "metadata": {
  "kernelspec": {
   "display_name": "Python 3",
   "language": "python",
   "name": "python3"
  },
  "language_info": {
   "codemirror_mode": {
    "name": "ipython",
    "version": 3
   },
   "file_extension": ".py",
   "mimetype": "text/x-python",
   "name": "python",
   "nbconvert_exporter": "python",
   "pygments_lexer": "ipython3",
   "version": "3.9.6"
  },
  "orig_nbformat": 4
 },
 "nbformat": 4,
 "nbformat_minor": 2
}
