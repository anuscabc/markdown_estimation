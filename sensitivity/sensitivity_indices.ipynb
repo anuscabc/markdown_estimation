{
 "cells": [
  {
   "cell_type": "code",
   "execution_count": 7,
   "metadata": {},
   "outputs": [],
   "source": [
    "import numpy as np\n",
    "import pandas as pd\n",
    "import matplotlib.pyplot as plt\n",
    "from SALib.analyze import sobol, pawn"
   ]
  },
  {
   "cell_type": "code",
   "execution_count": 8,
   "metadata": {},
   "outputs": [],
   "source": [
    "df_in = pd.read_csv('sensitivity_samples/sobol_params.csv')\n",
    "X = df_in.to_numpy()"
   ]
  },
  {
   "cell_type": "code",
   "execution_count": 9,
   "metadata": {},
   "outputs": [],
   "source": [
    "df_out = pd.read_csv('sensitivity_samples/sobol_output.csv')\n",
    "Y = df_out.to_numpy()"
   ]
  },
  {
   "cell_type": "code",
   "execution_count": 10,
   "metadata": {},
   "outputs": [],
   "source": [
    "seed = 1234"
   ]
  },
  {
   "cell_type": "code",
   "execution_count": 11,
   "metadata": {},
   "outputs": [],
   "source": [
    "# Define parameters of interest\n",
    "param_names = ['beta1', 'beta2', 'beta3', 'mu', 'omega', 'theta_0']\n",
    "param_bounds = [[0.5,3], [-0.9, -0.4], [-0.39, -0.2], [0.25, 0.75], [0.5, 1.5], [0.5, 1.5]]\n",
    "problem = {\n",
    "    'num_vars': len(param_names),\n",
    "    'names': param_names,\n",
    "    'bounds': param_bounds\n",
    "}"
   ]
  },
  {
   "cell_type": "code",
   "execution_count": 13,
   "metadata": {},
   "outputs": [
    {
     "ename": "RuntimeError",
     "evalue": "\n        Incorrect number of samples in model output file.\n        Confirm that calc_second_order matches option used during sampling.",
     "output_type": "error",
     "traceback": [
      "\u001b[0;31m---------------------------------------------------------------------------\u001b[0m",
      "\u001b[0;31mRuntimeError\u001b[0m                              Traceback (most recent call last)",
      "Cell \u001b[0;32mIn[13], line 4\u001b[0m\n\u001b[1;32m      1\u001b[0m dep_vars \u001b[39m=\u001b[39m [\u001b[39m'\u001b[39m\u001b[39mmin_mm\u001b[39m\u001b[39m'\u001b[39m, \u001b[39m'\u001b[39m\u001b[39mmax_mm\u001b[39m\u001b[39m'\u001b[39m, \u001b[39m'\u001b[39m\u001b[39mmin_p\u001b[39m\u001b[39m'\u001b[39m, \u001b[39m'\u001b[39m\u001b[39mmax_p\u001b[39m\u001b[39m'\u001b[39m, \u001b[39m'\u001b[39m\u001b[39mmin_l\u001b[39m\u001b[39m'\u001b[39m, \u001b[39m'\u001b[39m\u001b[39mmax_l\u001b[39m\u001b[39m'\u001b[39m]\n\u001b[1;32m      2\u001b[0m \u001b[39mfor\u001b[39;00m i, name \u001b[39min\u001b[39;00m \u001b[39mzip\u001b[39m(\u001b[39mrange\u001b[39m(\u001b[39mlen\u001b[39m(dep_vars)), dep_vars):\n\u001b[0;32m----> 4\u001b[0m     Si_sobol \u001b[39m=\u001b[39m sobol\u001b[39m.\u001b[39;49manalyze(\n\u001b[1;32m      5\u001b[0m                         problem, \n\u001b[1;32m      6\u001b[0m                         Y[:, i], \n\u001b[1;32m      7\u001b[0m                         calc_second_order\u001b[39m=\u001b[39;49m\u001b[39mTrue\u001b[39;49;00m, \n\u001b[1;32m      8\u001b[0m                         print_to_console\u001b[39m=\u001b[39;49m\u001b[39mFalse\u001b[39;49;00m, \n\u001b[1;32m      9\u001b[0m                         seed\u001b[39m=\u001b[39;49m\u001b[39m1234\u001b[39;49m\n\u001b[1;32m     10\u001b[0m                     )\n\u001b[1;32m     12\u001b[0m     axes \u001b[39m=\u001b[39m Si_sobol\u001b[39m.\u001b[39mplot()\n\u001b[1;32m     13\u001b[0m     fig \u001b[39m=\u001b[39m plt\u001b[39m.\u001b[39mgcf()  \u001b[39m# get current figure\u001b[39;00m\n",
      "File \u001b[0;32m/Library/Frameworks/Python.framework/Versions/3.11/lib/python3.11/site-packages/SALib/analyze/sobol.py:119\u001b[0m, in \u001b[0;36manalyze\u001b[0;34m(problem, Y, calc_second_order, num_resamples, conf_level, print_to_console, parallel, n_processors, keep_resamples, seed)\u001b[0m\n\u001b[1;32m    117\u001b[0m     N \u001b[39m=\u001b[39m \u001b[39mint\u001b[39m(Y\u001b[39m.\u001b[39msize \u001b[39m/\u001b[39m (D \u001b[39m+\u001b[39m \u001b[39m2\u001b[39m))\n\u001b[1;32m    118\u001b[0m \u001b[39melse\u001b[39;00m:\n\u001b[0;32m--> 119\u001b[0m     \u001b[39mraise\u001b[39;00m \u001b[39mRuntimeError\u001b[39;00m(\n\u001b[1;32m    120\u001b[0m \u001b[39m        \u001b[39m\u001b[39m\"\"\"\u001b[39;00m\n\u001b[1;32m    121\u001b[0m \u001b[39m    Incorrect number of samples in model output file.\u001b[39;00m\n\u001b[1;32m    122\u001b[0m \u001b[39m    Confirm that calc_second_order matches option used during sampling.\"\"\"\u001b[39;00m\n\u001b[1;32m    123\u001b[0m     )\n\u001b[1;32m    125\u001b[0m \u001b[39mif\u001b[39;00m \u001b[39mnot\u001b[39;00m \u001b[39m0\u001b[39m \u001b[39m<\u001b[39m conf_level \u001b[39m<\u001b[39m \u001b[39m1\u001b[39m:\n\u001b[1;32m    126\u001b[0m     \u001b[39mraise\u001b[39;00m \u001b[39mRuntimeError\u001b[39;00m(\u001b[39m\"\u001b[39m\u001b[39mConfidence level must be between 0-1.\u001b[39m\u001b[39m\"\u001b[39m)\n",
      "\u001b[0;31mRuntimeError\u001b[0m: \n        Incorrect number of samples in model output file.\n        Confirm that calc_second_order matches option used during sampling."
     ]
    }
   ],
   "source": [
    "dep_vars = ['min_mm', 'max_mm', 'min_p', 'max_p', 'min_l', 'max_l']\n",
    "for i, name in zip(range(len(dep_vars)), dep_vars):\n",
    "\n",
    "    Si_sobol = sobol.analyze(\n",
    "                        problem, \n",
    "                        Y[:, i], \n",
    "                        calc_second_order=True, \n",
    "                        print_to_console=False, \n",
    "                        seed=1234\n",
    "                    )\n",
    "    \n",
    "    axes = Si_sobol.plot()\n",
    "    fig = plt.gcf()  # get current figure\n",
    "    fig.set_size_inches(10, 4)\n",
    "    fig.suptitle(f'{name} marketshare')\n",
    "    plt.tight_layout()\n",
    "    plt.show()"
   ]
  },
  {
   "cell_type": "code",
   "execution_count": 14,
   "metadata": {},
   "outputs": [
    {
     "ename": "IndexError",
     "evalue": "boolean index did not match indexed array along dimension 0; dimension is 2 but corresponding boolean dimension is 896",
     "output_type": "error",
     "traceback": [
      "\u001b[0;31m---------------------------------------------------------------------------\u001b[0m",
      "\u001b[0;31mIndexError\u001b[0m                                Traceback (most recent call last)",
      "Cell \u001b[0;32mIn[14], line 3\u001b[0m\n\u001b[1;32m      1\u001b[0m \u001b[39mfor\u001b[39;00m i, name \u001b[39min\u001b[39;00m \u001b[39mzip\u001b[39m(\u001b[39mrange\u001b[39m(\u001b[39m2\u001b[39m), [\u001b[39m'\u001b[39m\u001b[39mminumum\u001b[39m\u001b[39m'\u001b[39m, \u001b[39m'\u001b[39m\u001b[39mmaximum\u001b[39m\u001b[39m'\u001b[39m]):\n\u001b[0;32m----> 3\u001b[0m     Si_pawn \u001b[39m=\u001b[39m pawn\u001b[39m.\u001b[39;49manalyze(problem, X, Y[:,i], print_to_console\u001b[39m=\u001b[39;49m\u001b[39mTrue\u001b[39;49;00m)\n\u001b[1;32m      5\u001b[0m     axes \u001b[39m=\u001b[39m Si_pawn\u001b[39m.\u001b[39mplot()\n\u001b[1;32m      6\u001b[0m     fig \u001b[39m=\u001b[39m plt\u001b[39m.\u001b[39mgcf()  \u001b[39m# get current figure\u001b[39;00m\n",
      "File \u001b[0;32m/Library/Frameworks/Python.framework/Versions/3.11/lib/python3.11/site-packages/SALib/analyze/pawn.py:126\u001b[0m, in \u001b[0;36manalyze\u001b[0;34m(problem, X, Y, S, print_to_console, seed)\u001b[0m\n\u001b[1;32m    123\u001b[0m X_q \u001b[39m=\u001b[39m np\u001b[39m.\u001b[39mnanquantile(X_di, seq)\n\u001b[1;32m    125\u001b[0m \u001b[39mfor\u001b[39;00m s \u001b[39min\u001b[39;00m \u001b[39mrange\u001b[39m(S):\n\u001b[0;32m--> 126\u001b[0m     Y_sel \u001b[39m=\u001b[39m Y[(X_di \u001b[39m>\u001b[39;49m\u001b[39m=\u001b[39;49m X_q[s]) \u001b[39m&\u001b[39;49m (X_di \u001b[39m<\u001b[39;49m X_q[s \u001b[39m+\u001b[39;49m \u001b[39m1\u001b[39;49m])]\n\u001b[1;32m    127\u001b[0m     \u001b[39mif\u001b[39;00m \u001b[39mlen\u001b[39m(Y_sel) \u001b[39m==\u001b[39m \u001b[39m0\u001b[39m:\n\u001b[1;32m    128\u001b[0m         \u001b[39m# no available samples\u001b[39;00m\n\u001b[1;32m    129\u001b[0m         \u001b[39mcontinue\u001b[39;00m\n",
      "\u001b[0;31mIndexError\u001b[0m: boolean index did not match indexed array along dimension 0; dimension is 2 but corresponding boolean dimension is 896"
     ]
    }
   ],
   "source": [
    "for i, name in zip(range(2), ['minumum', 'maximum']):\n",
    "\n",
    "    Si_pawn = pawn.analyze(problem, X, Y[:,i], print_to_console=True)\n",
    "    \n",
    "    axes = Si_pawn.plot()\n",
    "    fig = plt.gcf()  # get current figure\n",
    "    fig.set_size_inches(10, 4)\n",
    "    fig.suptitle(f'{name} marketshare')\n",
    "    plt.tight_layout()\n",
    "    plt.show()"
   ]
  },
  {
   "cell_type": "code",
   "execution_count": null,
   "metadata": {},
   "outputs": [],
   "source": []
  }
 ],
 "metadata": {
  "kernelspec": {
   "display_name": "Python 3",
   "language": "python",
   "name": "python3"
  },
  "language_info": {
   "codemirror_mode": {
    "name": "ipython",
    "version": 3
   },
   "file_extension": ".py",
   "mimetype": "text/x-python",
   "name": "python",
   "nbconvert_exporter": "python",
   "pygments_lexer": "ipython3",
   "version": "3.11.1"
  },
  "orig_nbformat": 4
 },
 "nbformat": 4,
 "nbformat_minor": 2
}
