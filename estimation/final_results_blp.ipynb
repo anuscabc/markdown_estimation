{
 "cells": [
  {
   "cell_type": "code",
   "execution_count": 67,
   "metadata": {},
   "outputs": [],
   "source": [
    "import numpy as np\n",
    "import pandas as pd\n",
    "import matplotlib.pyplot as plt\n",
    "\n",
    "\n",
    "from matplotlib import rc\n",
    "rc('font', **{'family': 'serif', 'serif': ['Computer Modern']})\n",
    "rc('text', usetex=True)\n"
   ]
  },
  {
   "cell_type": "code",
   "execution_count": 68,
   "metadata": {},
   "outputs": [],
   "source": [
    "# Create an empty list to store the DataFrames\n",
    "dfs = []\n",
    "\n",
    "N_sims = 1000\n",
    "\n",
    "# Loop through the file names\n",
    "for i in range(1, N_sims + 1):\n",
    "    file_name = f'../data/values_estimation_blp_{i}.csv'  # Assuming the files are in CSV format\n",
    "    \n",
    "    # Read the file as a DataFrame\n",
    "    df = pd.read_csv(file_name)\n",
    "    \n",
    "    # Add a simulation number column\n",
    "    df['simulation_number'] = i\n",
    "    \n",
    "    # Append the DataFrame to the list\n",
    "    dfs.append(df)\n",
    "\n",
    "# Concatenate all the DataFrames into one\n",
    "combined_df = pd.concat(dfs, ignore_index=True)\n",
    "\n",
    "# combined_df = combined_df[(combined_df['sigma_rcl'] >= 0.03)\n",
    "#                           & (combined_df['sigma_blp'] >= 0.03)\n",
    "#                           & (combined_df['a_blp'] >= -4)\n",
    "#                           & (combined_df['a_rcl'] >= -4)]\n",
    "\n",
    "\n",
    "\n",
    "\n"
   ]
  },
  {
   "cell_type": "code",
   "execution_count": 69,
   "metadata": {},
   "outputs": [
    {
     "data": {
      "image/png": "[encoded data removed]",
      "text/plain": [
       "<Figure size 640x480 with 4 Axes>"
      ]
     },
     "metadata": {},
     "output_type": "display_data"
    }
   ],
   "source": [
    "\n",
    "fig, ax = plt.subplots(2, 2)\n",
    "\n",
    "purple_color = 'purple'\n",
    "\n",
    "ax[0, 0].hist(combined_df['a_blp'], bins=50, density=True, color=purple_color, alpha=0.4)\n",
    "ax[0, 0].axvline(-1.6820276496988864, color='red', linestyle='dashed')\n",
    "ax[0, 0].axvline(np.mean(combined_df['a_blp']), color=purple_color)\n",
    "ax[0, 0].set_title('$\\\\alpha_{blp}$')\n",
    "\n",
    "ax[0, 1].hist(combined_df['sigma_blp'], bins=50, density=True, color=purple_color, alpha=0.4)\n",
    "ax[0, 1].axvline(0.3397977879768558, color='red', linestyle='dashed')\n",
    "ax[0, 1].axvline(np.mean(combined_df['sigma_blp']), color=purple_color)\n",
    "ax[0, 1].set_title('$\\\\sigma_{blp}$')\n",
    "\n",
    "ax[1, 0].hist(combined_df['a_rcl'], bins=50, density=True, color=purple_color, alpha=0.4)\n",
    "ax[1, 0].axvline(-1.6820276496988864, color='red', linestyle='dashed')\n",
    "ax[1, 0].axvline(np.mean(combined_df['a_rcl']), color=purple_color)\n",
    "ax[1, 0].set_title('$\\\\alpha_{rlc}$')\n",
    "\n",
    "ax[1, 1].hist(combined_df['sigma_rcl'], bins=50, density=True, color=purple_color, alpha=0.4)\n",
    "ax[1, 1].axvline(0.3397977879768558, color='red', linestyle='dashed')\n",
    "ax[1, 1].axvline(np.mean(combined_df['sigma_rcl']), color=purple_color)\n",
    "ax[1, 1].set_title('$\\\\sigma_{rlc}$')\n",
    "\n",
    "plt.tight_layout()\n",
    "plt.savefig('estimation_results.pdf')\n",
    "plt.show()"
   ]
  },
  {
   "cell_type": "code",
   "execution_count": 70,
   "metadata": {},
   "outputs": [
    {
     "data": {
      "text/plain": [
       "b2_ols                -0.296976\n",
       "b3_ols                -0.296942\n",
       "a_ols                 -1.307691\n",
       "b1_ols                 1.180245\n",
       "a_iv                  -1.323612\n",
       "b2_iv                 -0.299776\n",
       "b3_iv                 -0.299742\n",
       "b1_iv                  1.272194\n",
       "b1_blp                 2.077248\n",
       "b2_blp                -0.301993\n",
       "b3_blp                -0.302048\n",
       "a_blp                 -1.676862\n",
       "sigma_blp              0.240181\n",
       "sigma_rcl              0.211280\n",
       "a_rcl                 -1.606819\n",
       "b2_rcl                -0.301480\n",
       "b3_rcl                -0.301452\n",
       "b1_rcl                 1.922192\n",
       "simulation_number    500.500000\n",
       "dtype: float64"
      ]
     },
     "execution_count": 70,
     "metadata": {},
     "output_type": "execute_result"
    }
   ],
   "source": [
    "combined_df.mean()\n"
   ]
  }
 ],
 "metadata": {
  "kernelspec": {
   "display_name": "Python 3",
   "language": "python",
   "name": "python3"
  },
  "language_info": {
   "codemirror_mode": {
    "name": "ipython",
    "version": 3
   },
   "file_extension": ".py",
   "mimetype": "text/x-python",
   "name": "python",
   "nbconvert_exporter": "python",
   "pygments_lexer": "ipython3",
   "version": "3.11.1"
  },
  "orig_nbformat": 4
 },
 "nbformat": 4,
 "nbformat_minor": 2
}
