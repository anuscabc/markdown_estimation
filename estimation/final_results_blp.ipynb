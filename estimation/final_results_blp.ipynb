{
 "cells": [
  {
   "cell_type": "code",
   "execution_count": 34,
   "metadata": {},
   "outputs": [],
   "source": [
    "import numpy as np\n",
    "import pandas as pd\n",
    "import matplotlib.pyplot as plt\n",
    "\n",
    "\n",
    "from matplotlib import rc\n",
    "rc('font', **{'family': 'serif', 'serif': ['Computer Modern']})\n",
    "rc('text', usetex=True)\n"
   ]
  },
  {
   "cell_type": "code",
   "execution_count": 35,
   "metadata": {},
   "outputs": [
    {
     "name": "stdout",
     "output_type": "stream",
     "text": [
      "<class 'pandas.core.frame.DataFrame'>\n",
      "RangeIndex: 25 entries, 0 to 24\n",
      "Data columns (total 19 columns):\n",
      " #   Column             Non-Null Count  Dtype  \n",
      "---  ------             --------------  -----  \n",
      " 0   b2_ols             25 non-null     float64\n",
      " 1   b3_ols             25 non-null     float64\n",
      " 2   a_ols              25 non-null     float64\n",
      " 3   b1_ols             25 non-null     float64\n",
      " 4   a_iv               25 non-null     float64\n",
      " 5   b2_iv              25 non-null     float64\n",
      " 6   b3_iv              25 non-null     float64\n",
      " 7   b1_iv              25 non-null     float64\n",
      " 8   b1_blp             25 non-null     float64\n",
      " 9   b2_blp             25 non-null     float64\n",
      " 10  b3_blp             25 non-null     float64\n",
      " 11  a_blp              25 non-null     float64\n",
      " 12  sigma_blp          25 non-null     float64\n",
      " 13  sigma_rcl          25 non-null     float64\n",
      " 14  a_rcl              25 non-null     float64\n",
      " 15  b2_rcl             25 non-null     float64\n",
      " 16  b3_rcl             25 non-null     float64\n",
      " 17  b1_rcl             25 non-null     float64\n",
      " 18  simulation_number  25 non-null     int64  \n",
      "dtypes: float64(18), int64(1)\n",
      "memory usage: 3.8 KB\n",
      "None\n",
      "<class 'pandas.core.frame.DataFrame'>\n",
      "Int64Index: 25 entries, 0 to 24\n",
      "Data columns (total 19 columns):\n",
      " #   Column             Non-Null Count  Dtype  \n",
      "---  ------             --------------  -----  \n",
      " 0   b2_ols             25 non-null     float64\n",
      " 1   b3_ols             25 non-null     float64\n",
      " 2   a_ols              25 non-null     float64\n",
      " 3   b1_ols             25 non-null     float64\n",
      " 4   a_iv               25 non-null     float64\n",
      " 5   b2_iv              25 non-null     float64\n",
      " 6   b3_iv              25 non-null     float64\n",
      " 7   b1_iv              25 non-null     float64\n",
      " 8   b1_blp             25 non-null     float64\n",
      " 9   b2_blp             25 non-null     float64\n",
      " 10  b3_blp             25 non-null     float64\n",
      " 11  a_blp              25 non-null     float64\n",
      " 12  sigma_blp          25 non-null     float64\n",
      " 13  sigma_rcl          25 non-null     float64\n",
      " 14  a_rcl              25 non-null     float64\n",
      " 15  b2_rcl             25 non-null     float64\n",
      " 16  b3_rcl             25 non-null     float64\n",
      " 17  b1_rcl             25 non-null     float64\n",
      " 18  simulation_number  25 non-null     int64  \n",
      "dtypes: float64(18), int64(1)\n",
      "memory usage: 3.9 KB\n",
      "None\n"
     ]
    }
   ],
   "source": [
    "# Create an empty list to store the DataFrames\n",
    "dfs = []\n",
    "\n",
    "N_sims = 25\n",
    "\n",
    "# Loop through the file names\n",
    "for i in range(1, N_sims + 1):\n",
    "    file_name = f'../data/values_estimation_blp_secondtry_{i}.csv'  # Assuming the files are in CSV format\n",
    "    \n",
    "    # Read the file as a DataFrame\n",
    "    df = pd.read_csv(file_name)\n",
    "    \n",
    "    # Add a simulation number column\n",
    "    df['simulation_number'] = i\n",
    "    \n",
    "    # Append the DataFrame to the list\n",
    "    dfs.append(df)\n",
    "\n",
    "# Concatenate all the DataFrames into one\n",
    "combined_df = pd.concat(dfs, ignore_index=True)\n",
    "print(combined_df.info())\n",
    "\n",
    "\n",
    "combined_df = combined_df[(combined_df['sigma_rcl'] >= 0.03)\n",
    "                          & (combined_df['sigma_blp'] >= 0.03)\n",
    "                          & (combined_df['a_blp'] >= -5)\n",
    "                          & (combined_df['a_rcl'] >= -5)]\n",
    "print(combined_df.info())\n",
    "\n",
    "\n",
    "\n",
    "\n"
   ]
  },
  {
   "cell_type": "code",
   "execution_count": null,
   "metadata": {},
   "outputs": [],
   "source": []
  },
  {
   "cell_type": "code",
   "execution_count": null,
   "metadata": {},
   "outputs": [],
   "source": []
  },
  {
   "cell_type": "code",
   "execution_count": 36,
   "metadata": {},
   "outputs": [
    {
     "name": "stdout",
     "output_type": "stream",
     "text": [
      "TtestResult(statistic=-inf, pvalue=0.0, df=24)\n",
      "TtestResult(statistic=inf, pvalue=0.0, df=24)\n",
      "TtestResult(statistic=inf, pvalue=0.0, df=24)\n",
      "TtestResult(statistic=inf, pvalue=0.0, df=24)\n",
      "TtestResult(statistic=-8.514324520358493e+16, pvalue=0.0, df=24)\n",
      "TtestResult(statistic=-inf, pvalue=0.0, df=24)\n",
      "TtestResult(statistic=inf, pvalue=0.0, df=24)\n",
      "TtestResult(statistic=inf, pvalue=0.0, df=24)\n",
      "TtestResult(statistic=5340817804522165.0, pvalue=0.0, df=24)\n",
      "TtestResult(statistic=-inf, pvalue=0.0, df=24)\n"
     ]
    },
    {
     "name": "stderr",
     "output_type": "stream",
     "text": [
      "/Library/Frameworks/Python.framework/Versions/3.11/lib/python3.11/site-packages/scipy/stats/_axis_nan_policy.py:502: RuntimeWarning: Precision loss occurred in moment calculation due to catastrophic cancellation. This occurs when the data are nearly identical. Results may be unreliable.\n",
      "  res = hypotest_fun_out(*samples, **kwds)\n"
     ]
    }
   ],
   "source": [
    "\n",
    "from scipy.stats import ttest_1samp\n",
    "\n",
    "# all the values from the blp \n",
    "t1= ttest_1samp(combined_df['b1_blp'], 2)\n",
    "t2 = ttest_1samp(combined_df['b2_blp'], -0.3)\n",
    "t3 = ttest_1samp(combined_df['b3_blp'], -0.3)\n",
    "t4 = ttest_1samp(combined_df['a_blp'], -1.682)\n",
    "t5 = ttest_1samp(combined_df['sigma_blp'], 0.340)\n",
    "\n",
    "\n",
    "# all the values from the rcl \n",
    "t6 = ttest_1samp(combined_df['b1_rcl'], 2)\n",
    "t7 = ttest_1samp(combined_df['b2_rcl'], -0.3)\n",
    "t8 = ttest_1samp(combined_df['b3_rcl'], -0.3)\n",
    "t9 = ttest_1samp(combined_df['a_rcl'], -1.682)\n",
    "t10 = ttest_1samp(combined_df['sigma_rcl'], 0.340)\n",
    "\n",
    "\n",
    "print(f\"{t1}\")\n",
    "print(f\"{t2}\")\n",
    "print(f\"{t3}\")\n",
    "print(f\"{t4}\")\n",
    "print(f\"{t5}\")\n",
    "print(f\"{t6}\")\n",
    "print(f\"{t7}\")\n",
    "print(f\"{t8}\")\n",
    "print(f\"{t9}\")\n",
    "print(f\"{t10}\")"
   ]
  },
  {
   "cell_type": "code",
   "execution_count": 37,
   "metadata": {},
   "outputs": [
    {
     "data": {
      "image/png": "[encoded data removed]",
      "text/plain": [
       "<Figure size 600x500 with 4 Axes>"
      ]
     },
     "metadata": {},
     "output_type": "display_data"
    }
   ],
   "source": [
    "\n",
    "fig, ax = plt.subplots(2, 2, figsize=(6, 5))\n",
    "\n",
    "purple_color = 'purple'\n",
    "\n",
    "ax[0, 0].hist(combined_df['a_blp'], bins=50, density=True, color=purple_color, alpha=0.4)\n",
    "ax[0, 0].axvline(-1.6820276496988864, color='red', linestyle='dashed')\n",
    "ax[0, 0].axvline(np.mean(combined_df['a_blp']), color=purple_color)\n",
    "ax[0, 0].set_title('$\\\\alpha_{blp}$')\n",
    "\n",
    "ax[0, 1].hist(combined_df['sigma_blp'], bins=50, density=True, color=purple_color, alpha=0.4)\n",
    "ax[0, 1].axvline(0.3397977879768558, color='red', linestyle='dashed')\n",
    "ax[0, 1].axvline(np.mean(combined_df['sigma_blp']), color=purple_color)\n",
    "ax[0, 1].set_title('$\\\\sigma_{blp}$')\n",
    "\n",
    "ax[1, 0].hist(combined_df['a_rcl'], bins=50, density=True, color=purple_color, alpha=0.4)\n",
    "ax[1, 0].axvline(-1.6820276496988864, color='red', linestyle='dashed')\n",
    "ax[1, 0].axvline(np.mean(combined_df['a_rcl']), color=purple_color)\n",
    "ax[1, 0].set_title('$\\\\alpha_{rcl}$')\n",
    "ax[1, 0].set_xlabel('Parameter Value')\n",
    "\n",
    "\n",
    "ax[1, 1].hist(combined_df['sigma_rcl'], bins=50, density=True, color=purple_color, alpha=0.4)\n",
    "ax[1, 1].axvline(0.3397977879768558, color='red', linestyle='dashed')\n",
    "ax[1, 1].axvline(np.mean(combined_df['sigma_rcl']), color=purple_color)\n",
    "ax[1, 1].set_title('$\\\\sigma_{rcl}$')\n",
    "ax[1, 1].set_xlabel('Parameter Value')\n",
    "\n",
    "legend_elements = [\n",
    "    plt.Line2D([0], [0], color='red', linestyle='dashed', label='True Value'),\n",
    "    plt.Line2D([0], [0], color=purple_color, label='Mean of 1000 Estimations')\n",
    "]\n",
    "leg = plt.legend(handles=legend_elements,\n",
    "            loc='lower left',\n",
    "            bbox_to_anchor=(0.2, -0.9))\n",
    "\n",
    "# fig.subplots_adjust(bottom=0.78)\n",
    "plt.tight_layout()\n",
    "\n",
    "plt.savefig('../plots/estimation_results_demand_side.pdf')\n",
    "plt.show()"
   ]
  },
  {
   "cell_type": "code",
   "execution_count": 38,
   "metadata": {},
   "outputs": [
    {
     "data": {
      "text/plain": [
       "b2_ols               -0.297702\n",
       "b3_ols               -0.297067\n",
       "a_ols                -1.313016\n",
       "b1_ols                1.206402\n",
       "a_iv                 -1.323148\n",
       "b2_iv                -0.299350\n",
       "b3_iv                -0.298821\n",
       "b1_iv                 1.264290\n",
       "b1_blp                1.368617\n",
       "b2_blp               -0.299511\n",
       "b3_blp               -0.299075\n",
       "a_blp                -1.367498\n",
       "sigma_blp             0.098807\n",
       "sigma_rcl             0.160669\n",
       "a_rcl                -1.439929\n",
       "b2_rcl               -0.299767\n",
       "b3_rcl               -0.299476\n",
       "b1_rcl                1.538447\n",
       "simulation_number    13.000000\n",
       "dtype: float64"
      ]
     },
     "execution_count": 38,
     "metadata": {},
     "output_type": "execute_result"
    }
   ],
   "source": [
    "combined_df.mean()\n"
   ]
  },
  {
   "cell_type": "code",
   "execution_count": 39,
   "metadata": {},
   "outputs": [
    {
     "name": "stdout",
     "output_type": "stream",
     "text": [
      "\n",
      "\\begin{table}[htbp]\n",
      "\\centering\n",
      "\\caption{T-Test Results for BLP and RLC Estimations}\n",
      "\\label{tab:t_test_results}\n",
      "\\begin{tabular}{lcc}\n",
      "\\hline\n",
      "\\textbf{Parameter} & \\textbf{BLP} & \\textbf{RLC} \\\\\n",
      "\\hline\n",
      "b1 & -inf, 0.000 & -inf, 0.000 \\\\\n",
      "b2 & inf, 0.000 & inf, 0.000 \\\\\n",
      "b3 & inf, 0.000 & inf, 0.000 \\\\\n",
      "a & inf, 0.000 & 5340817804522165.000, 0.000 \\\\\n",
      "sigma & -85143245203584928.000, 0.000 & -inf, 0.000 \\\\\n",
      "\n",
      "\\hline\n",
      "\\end{tabular}\n",
      "\\end{table}\n",
      "\n"
     ]
    },
    {
     "name": "stderr",
     "output_type": "stream",
     "text": [
      "/Library/Frameworks/Python.framework/Versions/3.11/lib/python3.11/site-packages/scipy/stats/_axis_nan_policy.py:502: RuntimeWarning: Precision loss occurred in moment calculation due to catastrophic cancellation. This occurs when the data are nearly identical. Results may be unreliable.\n",
      "  res = hypotest_fun_out(*samples, **kwds)\n"
     ]
    }
   ],
   "source": [
    "\n",
    "\n",
    "# Define the parameters and their corresponding values for t-tests\n",
    "parameters = {\n",
    "    'b1': {'BLP': 2, 'RCL': 2},\n",
    "    'b2': {'BLP': -0.3, 'RCL': -0.3},\n",
    "    'b3': {'BLP': -0.3, 'RCL': -0.3},\n",
    "    'a': {'BLP': -1.682, 'RCL': -1.682},\n",
    "    'sigma': {'BLP': 0.34, 'RCL': 0.34}\n",
    "}\n",
    "\n",
    "# Perform t-tests and store the results\n",
    "t_test_results = {}\n",
    "for param, values in parameters.items():\n",
    "    t_test_results[param] = {\n",
    "        'BLP': ttest_1samp(combined_df[param + '_blp'], values['BLP']),\n",
    "        'RCL': ttest_1samp(combined_df[param + '_rcl'], values['RCL'])\n",
    "    }\n",
    "\n",
    "# Generate LaTeX code for the table\n",
    "table_tex = r'''\n",
    "\\begin{table}[htbp]\n",
    "\\centering\n",
    "\\caption{T-Test Results for BLP and RLC Estimations}\n",
    "\\label{tab:t_test_results}\n",
    "\\begin{tabular}{lcc}\n",
    "\\hline\n",
    "\\textbf{Parameter} & \\textbf{BLP} & \\textbf{RLC} \\\\\n",
    "\\hline\n",
    "'''\n",
    "for param, results in t_test_results.items():\n",
    "    row_tex = f\"{param} & {results['BLP'].statistic:.3f}, {results['BLP'].pvalue:.3f} & {results['RCL'].statistic:.3f}, {results['RCL'].pvalue:.3f} \\\\\\\\\"\n",
    "    table_tex += row_tex + '\\n'\n",
    "table_tex += r'''\n",
    "\\hline\n",
    "\\end{tabular}\n",
    "\\end{table}\n",
    "'''\n",
    "\n",
    "# Print the generated LaTeX code\n",
    "print(table_tex)"
   ]
  }
 ],
 "metadata": {
  "kernelspec": {
   "display_name": "Python 3",
   "language": "python",
   "name": "python3"
  },
  "language_info": {
   "codemirror_mode": {
    "name": "ipython",
    "version": 3
   },
   "file_extension": ".py",
   "mimetype": "text/x-python",
   "name": "python",
   "nbconvert_exporter": "python",
   "pygments_lexer": "ipython3",
   "version": "3.11.1"
  },
  "orig_nbformat": 4
 },
 "nbformat": 4,
 "nbformat_minor": 2
}
