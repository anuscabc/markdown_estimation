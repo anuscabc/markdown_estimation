{
 "cells": [
  {
   "cell_type": "code",
   "execution_count": 17,
   "metadata": {},
   "outputs": [],
   "source": [
    "import numpy as np\n",
    "import pandas as pd\n",
    "import matplotlib.pyplot as plt\n",
    "\n",
    "\n",
    "from matplotlib import rc\n",
    "rc('font', **{'family': 'serif', 'serif': ['Computer Modern']})\n",
    "rc('text', usetex=True)\n"
   ]
  },
  {
   "cell_type": "code",
   "execution_count": 18,
   "metadata": {},
   "outputs": [
    {
     "name": "stdout",
     "output_type": "stream",
     "text": [
      "<class 'pandas.core.frame.DataFrame'>\n",
      "RangeIndex: 1000 entries, 0 to 999\n",
      "Data columns (total 19 columns):\n",
      " #   Column             Non-Null Count  Dtype  \n",
      "---  ------             --------------  -----  \n",
      " 0   b2_ols             1000 non-null   float64\n",
      " 1   b3_ols             1000 non-null   float64\n",
      " 2   a_ols              1000 non-null   float64\n",
      " 3   b1_ols             1000 non-null   float64\n",
      " 4   a_iv               1000 non-null   float64\n",
      " 5   b2_iv              1000 non-null   float64\n",
      " 6   b3_iv              1000 non-null   float64\n",
      " 7   b1_iv              1000 non-null   float64\n",
      " 8   b1_blp             1000 non-null   float64\n",
      " 9   b2_blp             1000 non-null   float64\n",
      " 10  b3_blp             1000 non-null   float64\n",
      " 11  a_blp              1000 non-null   float64\n",
      " 12  sigma_blp          1000 non-null   float64\n",
      " 13  sigma_rcl          1000 non-null   float64\n",
      " 14  a_rcl              1000 non-null   float64\n",
      " 15  b2_rcl             1000 non-null   float64\n",
      " 16  b3_rcl             1000 non-null   float64\n",
      " 17  b1_rcl             1000 non-null   float64\n",
      " 18  simulation_number  1000 non-null   int64  \n",
      "dtypes: float64(18), int64(1)\n",
      "memory usage: 148.6 KB\n",
      "None\n",
      "<class 'pandas.core.frame.DataFrame'>\n",
      "Int64Index: 768 entries, 1 to 998\n",
      "Data columns (total 19 columns):\n",
      " #   Column             Non-Null Count  Dtype  \n",
      "---  ------             --------------  -----  \n",
      " 0   b2_ols             768 non-null    float64\n",
      " 1   b3_ols             768 non-null    float64\n",
      " 2   a_ols              768 non-null    float64\n",
      " 3   b1_ols             768 non-null    float64\n",
      " 4   a_iv               768 non-null    float64\n",
      " 5   b2_iv              768 non-null    float64\n",
      " 6   b3_iv              768 non-null    float64\n",
      " 7   b1_iv              768 non-null    float64\n",
      " 8   b1_blp             768 non-null    float64\n",
      " 9   b2_blp             768 non-null    float64\n",
      " 10  b3_blp             768 non-null    float64\n",
      " 11  a_blp              768 non-null    float64\n",
      " 12  sigma_blp          768 non-null    float64\n",
      " 13  sigma_rcl          768 non-null    float64\n",
      " 14  a_rcl              768 non-null    float64\n",
      " 15  b2_rcl             768 non-null    float64\n",
      " 16  b3_rcl             768 non-null    float64\n",
      " 17  b1_rcl             768 non-null    float64\n",
      " 18  simulation_number  768 non-null    int64  \n",
      "dtypes: float64(18), int64(1)\n",
      "memory usage: 120.0 KB\n",
      "None\n"
     ]
    }
   ],
   "source": [
    "# Create an empty list to store the DataFrames\n",
    "dfs = []\n",
    "\n",
    "N_sims = 1000\n",
    "\n",
    "# Loop through the file names\n",
    "for i in range(1, N_sims + 1):\n",
    "    file_name = f'../data/values_estimation_blp_{i}.csv'  # Assuming the files are in CSV format\n",
    "    \n",
    "    # Read the file as a DataFrame\n",
    "    df = pd.read_csv(file_name)\n",
    "    \n",
    "    # Add a simulation number column\n",
    "    df['simulation_number'] = i\n",
    "    \n",
    "    # Append the DataFrame to the list\n",
    "    dfs.append(df)\n",
    "\n",
    "# Concatenate all the DataFrames into one\n",
    "combined_df = pd.concat(dfs, ignore_index=True)\n",
    "print(combined_df.info())\n",
    "\n",
    "\n",
    "combined_df = combined_df[(combined_df['sigma_rcl'] >= 0.03)\n",
    "                          & (combined_df['sigma_blp'] >= 0.03)\n",
    "                          & (combined_df['a_blp'] >= -5)\n",
    "                          & (combined_df['a_rcl'] >= -5)]\n",
    "print(combined_df.info())\n",
    "\n",
    "\n",
    "\n",
    "\n"
   ]
  },
  {
   "cell_type": "code",
   "execution_count": 28,
   "metadata": {},
   "outputs": [
    {
     "name": "stdout",
     "output_type": "stream",
     "text": [
      "-1.3067585255400411\n",
      "1.1750952231349299\n",
      "-0.2968027488392666\n",
      "-0.296771071458138\n"
     ]
    }
   ],
   "source": [
    "print(combined_df.a_ols.mean())\n",
    "print(combined_df.b1_ols.mean())\n",
    "print(combined_df.b2_ols.mean())\n",
    "print(combined_df.b3_ols.mean())"
   ]
  },
  {
   "cell_type": "code",
   "execution_count": 29,
   "metadata": {},
   "outputs": [
    {
     "name": "stdout",
     "output_type": "stream",
     "text": [
      "-1.3229082453839751\n",
      "1.268477123667057\n",
      "-0.29965485871600933\n",
      "-0.29962343992189416\n"
     ]
    }
   ],
   "source": [
    "print(combined_df.a_iv.mean())\n",
    "print(combined_df.b1_iv.mean())\n",
    "print(combined_df.b2_iv.mean())\n",
    "print(combined_df.b3_iv.mean())"
   ]
  },
  {
   "cell_type": "code",
   "execution_count": 19,
   "metadata": {},
   "outputs": [
    {
     "name": "stdout",
     "output_type": "stream",
     "text": [
      "TtestResult(statistic=6.086605194753809, pvalue=1.8210062926923806e-09, df=767)\n",
      "TtestResult(statistic=-11.73869171029175, pvalue=2.2214921745260522e-29, df=767)\n",
      "TtestResult(statistic=-12.284274154191515, pvalue=8.610086257559551e-32, df=767)\n",
      "TtestResult(statistic=-2.4174944853088474, pvalue=0.015859955130957216, df=767)\n",
      "TtestResult(statistic=-12.747616815653188, pvalue=6.769234569360643e-34, df=767)\n",
      "TtestResult(statistic=1.218037291864462, pvalue=0.2235843556512356, df=767)\n",
      "TtestResult(statistic=-12.57449283769409, pvalue=4.195240335673851e-33, df=767)\n",
      "TtestResult(statistic=-14.491320723863307, pvalue=3.06150248806481e-42, df=767)\n",
      "TtestResult(statistic=4.312147300215434, pvalue=1.8277558075584058e-05, df=767)\n",
      "TtestResult(statistic=-24.239093420455777, pvalue=8.273315122450998e-97, df=767)\n"
     ]
    }
   ],
   "source": [
    "\n",
    "from scipy.stats import ttest_1samp\n",
    "\n",
    "# all the values from the blp \n",
    "t1= ttest_1samp(combined_df['b1_blp'], 2)\n",
    "t2 = ttest_1samp(combined_df['b2_blp'], -0.3)\n",
    "t3 = ttest_1samp(combined_df['b3_blp'], -0.3)\n",
    "t4 = ttest_1samp(combined_df['a_blp'], -1.682)\n",
    "t5 = ttest_1samp(combined_df['sigma_blp'], 0.340)\n",
    "\n",
    "\n",
    "# all the values from the rcl \n",
    "t6 = ttest_1samp(combined_df['b1_rcl'], 2)\n",
    "t7 = ttest_1samp(combined_df['b2_rcl'], -0.3)\n",
    "t8 = ttest_1samp(combined_df['b3_rcl'], -0.3)\n",
    "t9 = ttest_1samp(combined_df['a_rcl'], -1.682)\n",
    "t10 = ttest_1samp(combined_df['sigma_rcl'], 0.340)\n",
    "\n",
    "\n",
    "print(f\"{t1}\")\n",
    "print(f\"{t2}\")\n",
    "print(f\"{t3}\")\n",
    "print(f\"{t4}\")\n",
    "print(f\"{t5}\")\n",
    "print(f\"{t6}\")\n",
    "print(f\"{t7}\")\n",
    "print(f\"{t8}\")\n",
    "print(f\"{t9}\")\n",
    "print(f\"{t10}\")"
   ]
  },
  {
   "cell_type": "code",
   "execution_count": 20,
   "metadata": {},
   "outputs": [
    {
     "data": {
      "image/png": "[encoded data removed]",
      "text/plain": [
       "<Figure size 600x500 with 4 Axes>"
      ]
     },
     "metadata": {},
     "output_type": "display_data"
    }
   ],
   "source": [
    "\n",
    "fig, ax = plt.subplots(2, 2, figsize=(6, 5))\n",
    "\n",
    "purple_color = 'purple'\n",
    "\n",
    "ax[0, 0].hist(combined_df['a_blp'], bins=50, density=True, color=purple_color, alpha=0.4)\n",
    "ax[0, 0].axvline(-1.6820276496988864, color='red', linestyle='dashed')\n",
    "ax[0, 0].axvline(np.mean(combined_df['a_blp']), color=purple_color)\n",
    "ax[0, 0].set_title('$\\\\alpha_{blp}$')\n",
    "\n",
    "ax[0, 1].hist(combined_df['sigma_blp'], bins=50, density=True, color=purple_color, alpha=0.4)\n",
    "ax[0, 1].axvline(0.3397977879768558, color='red', linestyle='dashed')\n",
    "ax[0, 1].axvline(np.mean(combined_df['sigma_blp']), color=purple_color)\n",
    "ax[0, 1].set_title('$\\\\sigma_{blp}$')\n",
    "\n",
    "ax[1, 0].hist(combined_df['a_rcl'], bins=50, density=True, color=purple_color, alpha=0.4)\n",
    "ax[1, 0].axvline(-1.6820276496988864, color='red', linestyle='dashed')\n",
    "ax[1, 0].axvline(np.mean(combined_df['a_rcl']), color=purple_color)\n",
    "ax[1, 0].set_title('$\\\\alpha_{rcl}$')\n",
    "ax[1, 0].set_xlabel('Parameter Value')\n",
    "\n",
    "\n",
    "ax[1, 1].hist(combined_df['sigma_rcl'], bins=50, density=True, color=purple_color, alpha=0.4)\n",
    "ax[1, 1].axvline(0.3397977879768558, color='red', linestyle='dashed')\n",
    "ax[1, 1].axvline(np.mean(combined_df['sigma_rcl']), color=purple_color)\n",
    "ax[1, 1].set_title('$\\\\sigma_{rcl}$')\n",
    "ax[1, 1].set_xlabel('Parameter Value')\n",
    "\n",
    "legend_elements = [\n",
    "    plt.Line2D([0], [0], color='red', linestyle='dashed', label='True Value'),\n",
    "    plt.Line2D([0], [0], color=purple_color, label='Mean of 1000 Estimations')\n",
    "]\n",
    "leg = plt.legend(handles=legend_elements,\n",
    "            loc='lower left',\n",
    "            bbox_to_anchor=(0.2, -0.9))\n",
    "\n",
    "# fig.subplots_adjust(bottom=0.78)\n",
    "plt.tight_layout()\n",
    "\n",
    "plt.savefig('../plots/estimation_results_demand_side.pdf')\n",
    "plt.show()"
   ]
  },
  {
   "cell_type": "code",
   "execution_count": 21,
   "metadata": {},
   "outputs": [
    {
     "data": {
      "text/plain": [
       "b2_ols                -0.296803\n",
       "b3_ols                -0.296771\n",
       "a_ols                 -1.306759\n",
       "b1_ols                 1.175095\n",
       "a_iv                  -1.322908\n",
       "b2_iv                 -0.299655\n",
       "b3_iv                 -0.299623\n",
       "b1_iv                  1.268477\n",
       "b1_blp                 2.175444\n",
       "b2_blp                -0.301979\n",
       "b3_blp                -0.301941\n",
       "a_blp                 -1.713550\n",
       "sigma_blp              0.278271\n",
       "sigma_rcl              0.253979\n",
       "a_rcl                 -1.644096\n",
       "b2_rcl                -0.301386\n",
       "b3_rcl                -0.301354\n",
       "b1_rcl                 2.024542\n",
       "simulation_number    502.445312\n",
       "dtype: float64"
      ]
     },
     "execution_count": 21,
     "metadata": {},
     "output_type": "execute_result"
    }
   ],
   "source": [
    "combined_df.mean()\n"
   ]
  },
  {
   "cell_type": "code",
   "execution_count": 22,
   "metadata": {},
   "outputs": [
    {
     "name": "stdout",
     "output_type": "stream",
     "text": [
      "\n",
      "\\begin{table}[htbp]\n",
      "\\centering\n",
      "\\caption{T-Test Results for BLP and RLC Estimations}\n",
      "\\label{tab:t_test_results}\n",
      "\\begin{tabular}{lcc}\n",
      "\\hline\n",
      "\\textbf{Parameter} & \\textbf{BLP} & \\textbf{RLC} \\\\\n",
      "\\hline\n",
      "b1 & 6.087, 0.000 & 1.218, 0.224 \\\\\n",
      "b2 & -11.739, 0.000 & -12.574, 0.000 \\\\\n",
      "b3 & -12.284, 0.000 & -14.491, 0.000 \\\\\n",
      "a & -2.417, 0.016 & 4.312, 0.000 \\\\\n",
      "sigma & -12.748, 0.000 & -24.239, 0.000 \\\\\n",
      "\n",
      "\\hline\n",
      "\\end{tabular}\n",
      "\\end{table}\n",
      "\n"
     ]
    }
   ],
   "source": [
    "\n",
    "\n",
    "# Define the parameters and their corresponding values for t-tests\n",
    "parameters = {\n",
    "    'b1': {'BLP': 2, 'RCL': 2},\n",
    "    'b2': {'BLP': -0.3, 'RCL': -0.3},\n",
    "    'b3': {'BLP': -0.3, 'RCL': -0.3},\n",
    "    'a': {'BLP': -1.682, 'RCL': -1.682},\n",
    "    'sigma': {'BLP': 0.34, 'RCL': 0.34}\n",
    "}\n",
    "\n",
    "# Perform t-tests and store the results\n",
    "t_test_results = {}\n",
    "for param, values in parameters.items():\n",
    "    t_test_results[param] = {\n",
    "        'BLP': ttest_1samp(combined_df[param + '_blp'], values['BLP']),\n",
    "        'RCL': ttest_1samp(combined_df[param + '_rcl'], values['RCL'])\n",
    "    }\n",
    "\n",
    "# Generate LaTeX code for the table\n",
    "table_tex = r'''\n",
    "\\begin{table}[htbp]\n",
    "\\centering\n",
    "\\caption{T-Test Results for BLP and RLC Estimations}\n",
    "\\label{tab:t_test_results}\n",
    "\\begin{tabular}{lcc}\n",
    "\\hline\n",
    "\\textbf{Parameter} & \\textbf{BLP} & \\textbf{RLC} \\\\\n",
    "\\hline\n",
    "'''\n",
    "for param, results in t_test_results.items():\n",
    "    row_tex = f\"{param} & {results['BLP'].statistic:.3f}, {results['BLP'].pvalue:.3f} & {results['RCL'].statistic:.3f}, {results['RCL'].pvalue:.3f} \\\\\\\\\"\n",
    "    table_tex += row_tex + '\\n'\n",
    "table_tex += r'''\n",
    "\\hline\n",
    "\\end{tabular}\n",
    "\\end{table}\n",
    "'''\n",
    "\n",
    "# Print the generated LaTeX code\n",
    "print(table_tex)"
   ]
  },
  {
   "cell_type": "code",
   "execution_count": 23,
   "metadata": {},
   "outputs": [
    {
     "data": {
      "image/png": "[encoded data removed]",
      "text/plain": [
       "<Figure size 600x500 with 4 Axes>"
      ]
     },
     "metadata": {},
     "output_type": "display_data"
    }
   ],
   "source": [
    "# Estimation with OLD\n",
    "\n",
    "fig, ax = plt.subplots(2, 2, figsize=(6, 5))\n",
    "\n",
    "purple_color = 'purple'\n",
    "\n",
    "ax[0, 0].hist(combined_df['a_ols'], bins=50, density=True, color=purple_color, alpha=0.4)\n",
    "ax[0, 0].axvline(-1.6820276496988864, color='red', linestyle='dashed')\n",
    "ax[0, 0].axvline(np.mean(combined_df['a_ols']), color=purple_color)\n",
    "ax[0, 0].set_title('$\\\\alpha_{ols}$')\n",
    "\n",
    "ax[0, 1].hist(combined_df['b1_ols'], bins=50, density=True, color=purple_color, alpha=0.4)\n",
    "ax[0, 1].axvline(2, color='red', linestyle='dashed')\n",
    "ax[0, 1].axvline(np.mean(combined_df['b1_ols']), color=purple_color)\n",
    "ax[0, 1].set_title('$\\\\beta^{1}_{ols}$')\n",
    "\n",
    "ax[1, 0].hist(combined_df['b2_ols'], bins=50, density=True, color=purple_color, alpha=0.4)\n",
    "ax[1, 0].axvline(-0.3, color='red', linestyle='dashed')\n",
    "ax[1, 0].axvline(np.mean(combined_df['b2_ols']), color=purple_color)\n",
    "ax[1, 0].set_title('$\\\\beta^{2}_{ols}$')\n",
    "ax[1, 0].set_xlabel('Parameter Value')\n",
    "\n",
    "\n",
    "ax[1, 1].hist(combined_df['b3_ols'], bins=50, density=True, color=purple_color, alpha=0.4)\n",
    "ax[1, 1].axvline(-0.3, color='red', linestyle='dashed')\n",
    "ax[1, 1].axvline(np.mean(combined_df['b3_ols']), color=purple_color)\n",
    "ax[1, 1].set_title('$\\\\beta^{3}_{ols}$')\n",
    "ax[1, 1].set_xlabel('Parameter Value')\n",
    "\n",
    "legend_elements = [\n",
    "    plt.Line2D([0], [0], color='red', linestyle='dashed', label='True Value'),\n",
    "    plt.Line2D([0], [0], color=purple_color, label='Mean of 1000 Estimations')\n",
    "]\n",
    "leg = plt.legend(handles=legend_elements,\n",
    "            loc='lower left',\n",
    "            bbox_to_anchor=(0.2, -0.9))\n",
    "\n",
    "# fig.subplots_adjust(bottom=0.78)\n",
    "plt.tight_layout()\n",
    "\n",
    "plt.savefig('../plots/estimation_ols.pdf')\n",
    "plt.show()"
   ]
  },
  {
   "cell_type": "code",
   "execution_count": 24,
   "metadata": {},
   "outputs": [
    {
     "data": {
      "image/png": "[encoded data removed]",
      "text/plain": [
       "<Figure size 600x500 with 4 Axes>"
      ]
     },
     "metadata": {},
     "output_type": "display_data"
    }
   ],
   "source": [
    "# Estimation with iv\n",
    "\n",
    "fig, ax = plt.subplots(2, 2, figsize=(6, 5))\n",
    "\n",
    "purple_color = 'purple'\n",
    "\n",
    "ax[0, 0].hist(combined_df['a_iv'], bins=50, density=True, color=purple_color, alpha=0.4)\n",
    "ax[0, 0].axvline(-1.6820276496988864, color='red', linestyle='dashed')\n",
    "ax[0, 0].axvline(np.mean(combined_df['a_iv']), color=purple_color)\n",
    "ax[0, 0].set_title('$\\\\alpha_{iv}$')\n",
    "\n",
    "ax[0, 1].hist(combined_df['b1_iv'], bins=50, density=True, color=purple_color, alpha=0.4)\n",
    "ax[0, 1].axvline(2, color='red', linestyle='dashed')\n",
    "ax[0, 1].axvline(np.mean(combined_df['b1_iv']), color=purple_color)\n",
    "ax[0, 1].set_title('$\\\\beta^{1}_{iv}$')\n",
    "\n",
    "ax[1, 0].hist(combined_df['b2_iv'], bins=50, density=True, color=purple_color, alpha=0.4)\n",
    "ax[1, 0].axvline(-0.3, color='red', linestyle='dashed')\n",
    "ax[1, 0].axvline(np.mean(combined_df['b2_iv']), color=purple_color)\n",
    "ax[1, 0].set_title('$\\\\beta^{2}_{iv}$')\n",
    "ax[1, 0].set_xlabel('Parameter Value')\n",
    "\n",
    "\n",
    "ax[1, 1].hist(combined_df['b3_iv'], bins=50, density=True, color=purple_color, alpha=0.4)\n",
    "ax[1, 1].axvline(-0.3, color='red', linestyle='dashed')\n",
    "ax[1, 1].axvline(np.mean(combined_df['b3_iv']), color=purple_color)\n",
    "ax[1, 1].set_title('$\\\\beta^{3}_{iv}$')\n",
    "ax[1, 1].set_xlabel('Parameter Value')\n",
    "\n",
    "legend_elements = [\n",
    "    plt.Line2D([0], [0], color='red', linestyle='dashed', label='True Value'),\n",
    "    plt.Line2D([0], [0], color=purple_color, label='Mean of 1000 Estimations')\n",
    "]\n",
    "leg = plt.legend(handles=legend_elements,\n",
    "            loc='lower left',\n",
    "            bbox_to_anchor=(0.2, -0.9))\n",
    "\n",
    "# fig.subplots_adjust(bottom=0.78)\n",
    "plt.tight_layout()\n",
    "\n",
    "plt.savefig('../plots/estimation_iv.pdf')\n",
    "plt.show()"
   ]
  },
  {
   "cell_type": "code",
   "execution_count": 25,
   "metadata": {},
   "outputs": [
    {
     "data": {
      "image/png": "[encoded data removed]",
      "text/plain": [
       "<Figure size 600x500 with 4 Axes>"
      ]
     },
     "metadata": {},
     "output_type": "display_data"
    }
   ],
   "source": [
    "# Estimation with rcl\n",
    "\n",
    "fig, ax = plt.subplots(2, 2, figsize=(6, 5))\n",
    "\n",
    "purple_color = 'purple'\n",
    "\n",
    "ax[0, 0].hist(combined_df['a_rcl'], bins=50, density=True, color=purple_color, alpha=0.4)\n",
    "ax[0, 0].axvline(-1.6820276496988864, color='red', linestyle='dashed')\n",
    "ax[0, 0].axvline(np.mean(combined_df['a_rcl']), color=purple_color)\n",
    "ax[0, 0].set_title('$\\\\alpha_{rcl}$')\n",
    "\n",
    "ax[0, 1].hist(combined_df['b1_rcl'], bins=50, density=True, color=purple_color, alpha=0.4)\n",
    "ax[0, 1].axvline(2, color='red', linestyle='dashed')\n",
    "ax[0, 1].axvline(np.mean(combined_df['b1_rcl']), color=purple_color)\n",
    "ax[0, 1].set_title('$\\\\beta^{1}_{rcl}$')\n",
    "\n",
    "ax[1, 0].hist(combined_df['b2_rcl'], bins=50, density=True, color=purple_color, alpha=0.4)\n",
    "ax[1, 0].axvline(-0.3, color='red', linestyle='dashed')\n",
    "ax[1, 0].axvline(np.mean(combined_df['b2_rcl']), color=purple_color)\n",
    "ax[1, 0].set_title('$\\\\beta^{2}_{rcl}$')\n",
    "ax[1, 0].set_xlabel('Parameter Value')\n",
    "\n",
    "\n",
    "ax[1, 1].hist(combined_df['b3_rcl'], bins=50, density=True, color=purple_color, alpha=0.4)\n",
    "ax[1, 1].axvline(-0.3, color='red', linestyle='dashed')\n",
    "ax[1, 1].axvline(np.mean(combined_df['b3_rcl']), color=purple_color)\n",
    "ax[1, 1].set_title('$\\\\beta^{3}_{rcl}$')\n",
    "ax[1, 1].set_xlabel('Parameter Value')\n",
    "\n",
    "legend_elements = [\n",
    "    plt.Line2D([0], [0], color='red', linestyle='dashed', label='True Value'),\n",
    "    plt.Line2D([0], [0], color=purple_color, label='Mean of 1000 Estimations')\n",
    "]\n",
    "leg = plt.legend(handles=legend_elements,\n",
    "            loc='lower left',\n",
    "            bbox_to_anchor=(0.2, -0.9))\n",
    "\n",
    "# fig.subplots_adjust(bottom=0.78)\n",
    "plt.tight_layout()\n",
    "\n",
    "plt.savefig('../plots/estimation_rcl.pdf')\n",
    "plt.show()"
   ]
  },
  {
   "cell_type": "code",
   "execution_count": 26,
   "metadata": {},
   "outputs": [
    {
     "data": {
      "image/png": "[encoded data removed]",
      "text/plain": [
       "<Figure size 600x500 with 4 Axes>"
      ]
     },
     "metadata": {},
     "output_type": "display_data"
    }
   ],
   "source": [
    "# Estimation with blp\n",
    "\n",
    "fig, ax = plt.subplots(2, 2, figsize=(6, 5))\n",
    "\n",
    "purple_color = 'purple'\n",
    "\n",
    "ax[0, 0].hist(combined_df['a_blp'], bins=50, density=True, color=purple_color, alpha=0.4)\n",
    "ax[0, 0].axvline(-1.6820276496988864, color='red', linestyle='dashed')\n",
    "ax[0, 0].axvline(np.mean(combined_df['a_blp']), color=purple_color)\n",
    "ax[0, 0].set_title('$\\\\alpha_{blp}$')\n",
    "\n",
    "ax[0, 1].hist(combined_df['b1_blp'], bins=50, density=True, color=purple_color, alpha=0.4)\n",
    "ax[0, 1].axvline(2, color='red', linestyle='dashed')\n",
    "ax[0, 1].axvline(np.mean(combined_df['b1_blp']), color=purple_color)\n",
    "ax[0, 1].set_title('$\\\\beta^{1}_{blp}$')\n",
    "\n",
    "ax[1, 0].hist(combined_df['b2_blp'], bins=50, density=True, color=purple_color, alpha=0.4)\n",
    "ax[1, 0].axvline(-0.3, color='red', linestyle='dashed')\n",
    "ax[1, 0].axvline(np.mean(combined_df['b2_blp']), color=purple_color)\n",
    "ax[1, 0].set_title('$\\\\beta^{2}_{blp}$')\n",
    "ax[1, 0].set_xlabel('Parameter Value')\n",
    "\n",
    "\n",
    "ax[1, 1].hist(combined_df['b3_blp'], bins=50, density=True, color=purple_color, alpha=0.4)\n",
    "ax[1, 1].axvline(-0.3, color='red', linestyle='dashed')\n",
    "ax[1, 1].axvline(np.mean(combined_df['b3_blp']), color=purple_color)\n",
    "ax[1, 1].set_title('$\\\\beta^{3}_{blp}$')\n",
    "ax[1, 1].set_xlabel('Parameter Value')\n",
    "\n",
    "legend_elements = [\n",
    "    plt.Line2D([0], [0], color='red', linestyle='dashed', label='True Value'),\n",
    "    plt.Line2D([0], [0], color=purple_color, label='Mean of 1000 Estimations')\n",
    "]\n",
    "leg = plt.legend(handles=legend_elements,\n",
    "            loc='lower left',\n",
    "            bbox_to_anchor=(0.2, -0.9))\n",
    "\n",
    "# fig.subplots_adjust(bottom=0.78)\n",
    "plt.tight_layout()\n",
    "\n",
    "plt.savefig('../plots/estimation_blp.pdf')\n",
    "plt.show()"
   ]
  }
 ],
 "metadata": {
  "kernelspec": {
   "display_name": "Python 3",
   "language": "python",
   "name": "python3"
  },
  "language_info": {
   "codemirror_mode": {
    "name": "ipython",
    "version": 3
   },
   "file_extension": ".py",
   "mimetype": "text/x-python",
   "name": "python",
   "nbconvert_exporter": "python",
   "pygments_lexer": "ipython3",
   "version": "3.11.1"
  },
  "orig_nbformat": 4
 },
 "nbformat": 4,
 "nbformat_minor": 2
}
