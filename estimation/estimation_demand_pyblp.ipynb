{
 "cells": [
  {
   "cell_type": "code",
   "execution_count": 1,
   "metadata": {},
   "outputs": [],
   "source": [
    "import pandas as pd \n",
    "import numpy as np\n",
    "import pyblp\n",
    "from sklearn.linear_model import LinearRegression"
   ]
  },
  {
   "cell_type": "code",
   "execution_count": 2,
   "metadata": {},
   "outputs": [
    {
     "name": "stdout",
     "output_type": "stream",
     "text": [
      "     market_ids  firm_ids  characteristic1  characteristic2    prices  \\\n",
      "0             1         1         2.839948         5.853401  4.563120   \n",
      "1             1         2         2.770059         5.766308  4.808942   \n",
      "2             1         3         2.343256         5.063622  5.717304   \n",
      "3             1         4         2.465764         5.219318  5.689583   \n",
      "4             1         5         2.447657         5.823841  4.780318   \n",
      "..          ...       ...              ...              ...       ...   \n",
      "995         100         6         2.876320         5.018660  5.117055   \n",
      "996         100         7         2.971446         5.675144  4.180734   \n",
      "997         100         8         2.136148         5.015674  5.799872   \n",
      "998         100         9         2.775236         5.205261  5.208689   \n",
      "999         100        10         2.976228         5.566211  4.526664   \n",
      "\n",
      "     marginal_cost    shares   profits   markups  e_quantity    capital  \\\n",
      "0         3.260590  0.034609  0.045079  1.399477   17.304477  12.737629   \n",
      "1         3.471613  0.032091  0.042916  1.385218   16.045321  11.027957   \n",
      "2         4.251941  0.037100  0.054365  1.344634   18.549891  15.208685   \n",
      "3         4.228427  0.031116  0.045465  1.345556   15.557993  10.507638   \n",
      "4         3.446808  0.039461  0.052622  1.386882   19.730522  13.594204   \n",
      "..             ...       ...       ...       ...         ...        ...   \n",
      "995       3.747507  0.034419  0.047138  1.365456   17.209321   9.504333   \n",
      "996       2.941524  0.041564  0.051506  1.421281   20.781986  16.649932   \n",
      "997       4.342238  0.035806  0.052191  1.335687   17.902768  12.360025   \n",
      "998       3.827174  0.030339  0.041914  1.360975   15.169572  11.016820   \n",
      "999       3.238135  0.034042  0.043864  1.397923   17.020770  12.755028   \n",
      "\n",
      "     investment  productivity     labor  indirect_util  \n",
      "0      0.679575      0.033518  1.128456     -12.610374  \n",
      "1      0.620554      0.062710  1.114063     -12.959743  \n",
      "2      0.575515     -0.121588  1.577461     -13.866145  \n",
      "3      0.541972      0.015788  1.315717     -14.009097  \n",
      "4      0.765542      0.063139  1.360146     -12.720858  \n",
      "..          ...           ...       ...            ...  \n",
      "995    0.658529      0.192872  1.289841     -13.086403  \n",
      "996    0.840996      0.005105  1.222614     -11.863251  \n",
      "997    0.608646     -0.007569  1.554762     -13.841862  \n",
      "998    0.545197     -0.005123  1.161132     -13.317460  \n",
      "999    0.667169      0.023064  1.102311     -12.436630  \n",
      "\n",
      "[1000 rows x 15 columns]\n"
     ]
    }
   ],
   "source": [
    "product_data = pd.read_csv('../data/market_integrates_2.csv')\n",
    "print(product_data)"
   ]
  },
  {
   "cell_type": "code",
   "execution_count": 3,
   "metadata": {},
   "outputs": [],
   "source": [
    "# # Getting the dataset estimation ready with at least a supply_side instrument/ demand_side instrument \n",
    "# product_data_complete = product_data.rename(columns={'labor':'supply_instrument0',\n",
    "#                                                     #   'capital':'supply_instruments1',\n",
    "#                                                         # 'marginal_cost': 'supply_instrument2'\n",
    "#                                                         })\n",
    "\n"
   ]
  },
  {
   "cell_type": "code",
   "execution_count": 4,
   "metadata": {},
   "outputs": [
    {
     "name": "stdout",
     "output_type": "stream",
     "text": [
      "(1 + prices + characteristic1 + characteristic2, prices)\n"
     ]
    }
   ],
   "source": [
    "# the endog regressor\n",
    "X1_formulation = pyblp.Formulation('1  + prices+ characteristic1 + characteristic2')\n",
    "\n",
    "# the only regressor on which we want random coeff \n",
    "X2_formulation = pyblp.Formulation('0 +  prices')\n",
    "\n",
    "# supply side charact \n",
    "# X3_formulation = pyblp.Formulation('1 + log(labor) + log(capital)')\n",
    "\n",
    "# formulation for the cost thing (assume cost fomrulation being labor and capital)\n",
    "product_formulations = (X1_formulation,\n",
    "                         X2_formulation\n",
    "                           #  X3_formulation\n",
    "                           )\n",
    "print(product_formulations)"
   ]
  },
  {
   "cell_type": "code",
   "execution_count": null,
   "metadata": {},
   "outputs": [],
   "source": [
    "\n",
    "\n"
   ]
  },
  {
   "cell_type": "code",
   "execution_count": 5,
   "metadata": {},
   "outputs": [],
   "source": [
    "mc_integration = pyblp.Integration('monte_carlo', size=50, specification_options={'seed': 0})\n"
   ]
  },
  {
   "cell_type": "code",
   "execution_count": 6,
   "metadata": {},
   "outputs": [
    {
     "name": "stdout",
     "output_type": "stream",
     "text": [
      "Initializing the problem ...\n",
      "Initialized the problem after 00:00:00.\n",
      "\n",
      "Dimensions:\n",
      "======================================\n",
      " T    N     F    I     K1    K2    MD \n",
      "---  ----  ---  ----  ----  ----  ----\n",
      "100  1000  10   5000   4     1     3  \n",
      "======================================\n",
      "\n",
      "Formulations:\n",
      "===============================================================================\n",
      "       Column Indices:           0       1            2                3       \n",
      "-----------------------------  ------  ------  ---------------  ---------------\n",
      " X1: Linear Characteristics      1     prices  characteristic1  characteristic2\n",
      "X2: Nonlinear Characteristics  prices                                          \n",
      "===============================================================================\n",
      "Dimensions:\n",
      "======================================\n",
      " T    N     F    I     K1    K2    MD \n",
      "---  ----  ---  ----  ----  ----  ----\n",
      "100  1000  10   5000   4     1     3  \n",
      "======================================\n",
      "\n",
      "Formulations:\n",
      "===============================================================================\n",
      "       Column Indices:           0       1            2                3       \n",
      "-----------------------------  ------  ------  ---------------  ---------------\n",
      " X1: Linear Characteristics      1     prices  characteristic1  characteristic2\n",
      "X2: Nonlinear Characteristics  prices                                          \n",
      "===============================================================================\n"
     ]
    }
   ],
   "source": [
    "mc_problem = pyblp.Problem(product_formulations, product_data, integration=mc_integration, add_exogenous=True)\n",
    "print(mc_problem)"
   ]
  },
  {
   "cell_type": "code",
   "execution_count": 7,
   "metadata": {},
   "outputs": [],
   "source": [
    "bfgs = pyblp.Optimization('bfgs', {'gtol': 1e-4})\n"
   ]
  },
  {
   "cell_type": "code",
   "execution_count": 8,
   "metadata": {},
   "outputs": [
    {
     "name": "stdout",
     "output_type": "stream",
     "text": [
      "Solving the problem ...\n",
      "\n",
      "Nonlinear Coefficient Initial Values:\n",
      "=====================\n",
      "Sigma:     prices    \n",
      "------  -------------\n",
      "prices  +1.000000E+00\n",
      "=====================\n",
      "Starting optimization ...\n",
      "\n",
      "GMM   Optimization   Objective   Fixed Point  Contraction  Clipped    Objective      Objective      Gradient                  \n",
      "Step   Iterations   Evaluations  Iterations   Evaluations  Shares       Value       Improvement       Norm           Theta    \n",
      "----  ------------  -----------  -----------  -----------  -------  -------------  -------------  -------------  -------------\n",
      " 1         0             1           699         2194         0     +1.337254E-20                 +1.185642E-09  +1.000000E+00\n",
      "\n",
      "Optimization completed after 00:00:01.\n",
      "Computing the Hessian and and updating the weighting matrix ...\n",
      "Computed results after 00:00:02.\n",
      "\n",
      "Problem Results Summary:\n",
      "============================================================================\n",
      "GMM     Objective      Gradient                    Clipped  Weighting Matrix\n",
      "Step      Value          Norm          Hessian     Shares   Condition Number\n",
      "----  -------------  -------------  -------------  -------  ----------------\n",
      " 1    +1.337338E-20  +1.184949E-09  -4.141618E-02     0      +1.067604E+04  \n",
      "============================================================================\n",
      "\n",
      "Starting optimization ...\n",
      "\n",
      "GMM   Optimization   Objective   Fixed Point  Contraction  Clipped    Objective      Objective      Gradient                  \n",
      "Step   Iterations   Evaluations  Iterations   Evaluations  Shares       Value       Improvement       Norm           Theta    \n",
      "----  ------------  -----------  -----------  -----------  -------  -------------  -------------  -------------  -------------\n",
      " 2         0             1            0           100         0     +1.601448E-21                 +2.412511E-09  +1.000000E+00\n",
      "\n",
      "Optimization completed after 00:00:00.\n",
      "Computing the Hessian and estimating standard errors ...\n",
      "Computed results after 00:00:01.\n",
      "\n",
      "Problem Results Summary:\n",
      "===============================================================================================\n",
      "GMM     Objective      Gradient                    Clipped  Weighting Matrix  Covariance Matrix\n",
      "Step      Value          Norm          Hessian     Shares   Condition Number  Condition Number \n",
      "----  -------------  -------------  -------------  -------  ----------------  -----------------\n",
      " 2    +1.601448E-21  +2.412511E-09  -5.268297E-02     0      +1.024869E+04      +4.146093E+17  \n",
      "===============================================================================================\n",
      "\n",
      "Cumulative Statistics:\n",
      "===========================================================================\n",
      "Computation  Optimizer  Optimization   Objective   Fixed Point  Contraction\n",
      "   Time      Converged   Iterations   Evaluations  Iterations   Evaluations\n",
      "-----------  ---------  ------------  -----------  -----------  -----------\n",
      " 00:00:03       Yes          0             4          1398         4587    \n",
      "===========================================================================\n",
      "\n",
      "Nonlinear Coefficient Estimates (Robust SEs in Parentheses):\n",
      "=======================\n",
      "Sigma:      prices     \n",
      "------  ---------------\n",
      "prices   +1.000000E+00 \n",
      "        (+2.288981E-02)\n",
      "=======================\n",
      "\n",
      "Beta Estimates (Robust SEs in Parentheses):\n",
      "==================================================================\n",
      "       1             prices       characteristic1  characteristic2\n",
      "---------------  ---------------  ---------------  ---------------\n",
      " -6.653870E-02    -8.958344E-01    -8.168452E-02    +9.720437E-02 \n",
      "(+2.519570E-03)  (+2.022919E-02)  (+1.113475E-01)  (+6.602448E-02)\n",
      "==================================================================\n"
     ]
    }
   ],
   "source": [
    "results1 = mc_problem.solve(sigma=np.ones((1, 1)), optimization=bfgs)\n"
   ]
  }
 ],
 "metadata": {
  "kernelspec": {
   "display_name": "Python 3",
   "language": "python",
   "name": "python3"
  },
  "language_info": {
   "codemirror_mode": {
    "name": "ipython",
    "version": 3
   },
   "file_extension": ".py",
   "mimetype": "text/x-python",
   "name": "python",
   "nbconvert_exporter": "python",
   "pygments_lexer": "ipython3",
   "version": "3.11.1"
  },
  "orig_nbformat": 4
 },
 "nbformat": 4,
 "nbformat_minor": 2
}
