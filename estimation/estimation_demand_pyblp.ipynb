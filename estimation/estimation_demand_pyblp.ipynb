{
 "cells": [
  {
   "cell_type": "code",
   "execution_count": 18,
   "metadata": {},
   "outputs": [],
   "source": [
    "import pandas as pd \n",
    "import numpy as np\n",
    "import pyblp\n",
    "from sklearn.linear_model import LinearRegression"
   ]
  },
  {
   "cell_type": "code",
   "execution_count": 19,
   "metadata": {},
   "outputs": [
    {
     "name": "stdout",
     "output_type": "stream",
     "text": [
      "     market_ids  firm_ids  characteristic1  characteristic2    prices  \\\n",
      "0             1         1        12.239192         1.107516  2.949501   \n",
      "1             1         2        11.977273         1.290293  3.372321   \n",
      "2             1         3        11.897650         1.238727  3.497949   \n",
      "3             1         4        12.359558         1.218664  2.634126   \n",
      "4             1         5        11.908647         1.170831  3.450975   \n",
      "..          ...       ...              ...              ...       ...   \n",
      "995         100         6        12.272833         1.328612  2.707096   \n",
      "996         100         7        12.137848         1.461094  2.818468   \n",
      "997         100         8        11.921876         1.136990  3.452236   \n",
      "998         100         9        11.772948         1.345224  3.526833   \n",
      "999         100        10        12.168702         1.496973  2.494795   \n",
      "\n",
      "     marginal_cost    shares   profits   markups  e_quantity   capital  \\\n",
      "0         1.855760  0.021463  0.023475  1.589376   21.462698  5.013981   \n",
      "1         2.215161  0.016764  0.019399  1.522382   16.764008  3.909607   \n",
      "2         2.322024  0.016164  0.019008  1.506423   16.164275  3.601076   \n",
      "3         1.588551  0.025623  0.026790  1.658194   25.622545  5.567516   \n",
      "4         2.281973  0.017039  0.019919  1.512277   17.039238  3.642932   \n",
      "..             ...       ...       ...       ...         ...       ...   \n",
      "995       1.653810  0.022698  0.023907  1.636885   22.697889  5.512241   \n",
      "996       1.745742  0.021591  0.023162  1.614482   21.591294  5.075523   \n",
      "997       2.269795  0.015775  0.018653  1.520946   15.775227  3.077074   \n",
      "998       2.331334  0.015449  0.018469  1.512796   15.448500  3.219858   \n",
      "999       1.478195  0.028495  0.028968  1.687731   28.494562  6.183652   \n",
      "\n",
      "     investment  productivity      labor  indirect_util  \n",
      "0      0.243489     -0.014380  23.897775     -12.410083  \n",
      "1      0.169563     -0.066292  22.280989     -13.071504  \n",
      "2      0.162630     -0.048384  22.520301     -13.235003  \n",
      "3      0.324568      0.082968  24.421632     -11.938484  \n",
      "4      0.176918     -0.014353  23.329852     -13.134573  \n",
      "..          ...           ...        ...            ...  \n",
      "995    0.271772     -0.006966  22.522791     -12.047088  \n",
      "996    0.253571     -0.000404  22.615693     -12.200414  \n",
      "997    0.169690      0.051464  21.483920     -13.136036  \n",
      "998    0.160039     -0.002962  21.609365     -13.233622  \n",
      "999    0.374398      0.105464  25.272306     -11.628074  \n",
      "\n",
      "[1000 rows x 15 columns]\n"
     ]
    }
   ],
   "source": [
    "product_data = pd.read_csv('../data/market_integrates_2.csv')\n",
    "print(product_data)"
   ]
  },
  {
   "cell_type": "code",
   "execution_count": 20,
   "metadata": {},
   "outputs": [],
   "source": [
    "# # Getting the dataset estimation ready with at least a supply_side instrument/ demand_side instrument \n",
    "# product_data_complete = product_data.rename(columns={'labor':'supply_instrument0',\n",
    "#                                                     #   'capital':'supply_instruments1',\n",
    "#                                                         # 'marginal_cost': 'supply_instrument2'\n",
    "#                                                         })\n",
    "\n"
   ]
  },
  {
   "cell_type": "code",
   "execution_count": 21,
   "metadata": {},
   "outputs": [
    {
     "name": "stdout",
     "output_type": "stream",
     "text": [
      "(1 + prices + characteristic1 + characteristic2, prices)\n"
     ]
    }
   ],
   "source": [
    "# the endog regressor\n",
    "X1_formulation = pyblp.Formulation('1  + prices+ characteristic1 + characteristic2')\n",
    "\n",
    "# the only regressor on which we want random coeff \n",
    "X2_formulation = pyblp.Formulation('0 +  prices')\n",
    "\n",
    "# supply side charact \n",
    "# X3_formulation = pyblp.Formulation('1 + log(labor) + log(capital)')\n",
    "\n",
    "# formulation for the cost thing (assume cost fomrulation being labor and capital)\n",
    "product_formulations = (X1_formulation,\n",
    "                         X2_formulation\n",
    "                           #  X3_formulation\n",
    "                           )\n",
    "print(product_formulations)"
   ]
  },
  {
   "cell_type": "code",
   "execution_count": null,
   "metadata": {},
   "outputs": [],
   "source": [
    "\n",
    "\n"
   ]
  },
  {
   "cell_type": "code",
   "execution_count": 22,
   "metadata": {},
   "outputs": [],
   "source": [
    "mc_integration = pyblp.Integration('monte_carlo', size=50, specification_options={'seed': 0})\n"
   ]
  },
  {
   "cell_type": "code",
   "execution_count": 23,
   "metadata": {},
   "outputs": [
    {
     "name": "stdout",
     "output_type": "stream",
     "text": [
      "Initializing the problem ...\n",
      "Initialized the problem after 00:00:00.\n",
      "\n",
      "Dimensions:\n",
      "======================================\n",
      " T    N     F    I     K1    K2    MD \n",
      "---  ----  ---  ----  ----  ----  ----\n",
      "100  1000  10   5000   4     1     3  \n",
      "======================================\n",
      "\n",
      "Formulations:\n",
      "===============================================================================\n",
      "       Column Indices:           0       1            2                3       \n",
      "-----------------------------  ------  ------  ---------------  ---------------\n",
      " X1: Linear Characteristics      1     prices  characteristic1  characteristic2\n",
      "X2: Nonlinear Characteristics  prices                                          \n",
      "===============================================================================\n",
      "Dimensions:\n",
      "======================================\n",
      " T    N     F    I     K1    K2    MD \n",
      "---  ----  ---  ----  ----  ----  ----\n",
      "100  1000  10   5000   4     1     3  \n",
      "======================================\n",
      "\n",
      "Formulations:\n",
      "===============================================================================\n",
      "       Column Indices:           0       1            2                3       \n",
      "-----------------------------  ------  ------  ---------------  ---------------\n",
      " X1: Linear Characteristics      1     prices  characteristic1  characteristic2\n",
      "X2: Nonlinear Characteristics  prices                                          \n",
      "===============================================================================\n"
     ]
    }
   ],
   "source": [
    "mc_problem = pyblp.Problem(product_formulations, product_data, integration=mc_integration, add_exogenous=True)\n",
    "print(mc_problem)"
   ]
  },
  {
   "cell_type": "code",
   "execution_count": 24,
   "metadata": {},
   "outputs": [],
   "source": [
    "bfgs = pyblp.Optimization('bfgs', {'gtol': 1e-4})\n"
   ]
  },
  {
   "cell_type": "code",
   "execution_count": 25,
   "metadata": {},
   "outputs": [
    {
     "name": "stdout",
     "output_type": "stream",
     "text": [
      "Solving the problem ...\n",
      "\n",
      "Nonlinear Coefficient Initial Values:\n",
      "=====================\n",
      "Sigma:     prices    \n",
      "------  -------------\n",
      "prices  +1.000000E+00\n",
      "=====================\n",
      "Starting optimization ...\n",
      "\n",
      "GMM   Optimization   Objective   Fixed Point  Contraction  Clipped    Objective      Objective      Gradient                  \n",
      "Step   Iterations   Evaluations  Iterations   Evaluations  Shares       Value       Improvement       Norm           Theta    \n",
      "----  ------------  -----------  -----------  -----------  -------  -------------  -------------  -------------  -------------\n",
      " 1         0             1           608         1924         0     +6.644902E-19                 +1.458146E-08  +1.000000E+00\n",
      "\n",
      "Optimization completed after 00:00:00.\n",
      "Computing the Hessian and and updating the weighting matrix ...\n",
      "Computed results after 00:00:01.\n",
      "\n",
      "Problem Results Summary:\n",
      "============================================================================\n",
      "GMM     Objective      Gradient                    Clipped  Weighting Matrix\n",
      "Step      Value          Norm          Hessian     Shares   Condition Number\n",
      "----  -------------  -------------  -------------  -------  ----------------\n",
      " 1    +6.644803E-19  +1.458093E-08  -2.479717E-01     0      +6.373888E+05  \n",
      "============================================================================\n",
      "\n",
      "Starting optimization ...\n",
      "\n",
      "GMM   Optimization   Objective   Fixed Point  Contraction  Clipped    Objective      Objective      Gradient                  \n",
      "Step   Iterations   Evaluations  Iterations   Evaluations  Shares       Value       Improvement       Norm           Theta    \n",
      "----  ------------  -----------  -----------  -----------  -------  -------------  -------------  -------------  -------------\n",
      " 2         0             1            0           100         0     +8.546582E-19                 +3.436383E-08  +1.000000E+00\n",
      "\n",
      "Optimization completed after 00:00:00.\n",
      "Computing the Hessian and estimating standard errors ...\n",
      "Computed results after 00:00:01.\n",
      "\n",
      "Problem Results Summary:\n",
      "===============================================================================================\n",
      "GMM     Objective      Gradient                    Clipped  Weighting Matrix  Covariance Matrix\n",
      "Step      Value          Norm          Hessian     Shares   Condition Number  Condition Number \n",
      "----  -------------  -------------  -------------  -------  ----------------  -----------------\n",
      " 2    +8.546582E-19  +3.436383E-08  -1.014815E+00     0      +6.485489E+05      +7.005662E+17  \n",
      "===============================================================================================\n",
      "\n",
      "Cumulative Statistics:\n",
      "===========================================================================\n",
      "Computation  Optimizer  Optimization   Objective   Fixed Point  Contraction\n",
      "   Time      Converged   Iterations   Evaluations  Iterations   Evaluations\n",
      "-----------  ---------  ------------  -----------  -----------  -----------\n",
      " 00:00:02       Yes          0             4          1216         4046    \n",
      "===========================================================================\n",
      "\n",
      "Nonlinear Coefficient Estimates (Robust SEs in Parentheses):\n",
      "=======================\n",
      "Sigma:      prices     \n",
      "------  ---------------\n",
      "prices   +1.000000E+00 \n",
      "        (+2.158243E-02)\n",
      "=======================\n",
      "\n",
      "Beta Estimates (Robust SEs in Parentheses):\n",
      "==================================================================\n",
      "       1             prices       characteristic1  characteristic2\n",
      "---------------  ---------------  ---------------  ---------------\n",
      " -7.124188E-02    -1.649475E+00    -9.965515E-03    +6.983238E-03 \n",
      "(+2.843339E-03)  (+1.608537E-02)  (+1.740756E-02)  (+1.254616E-01)\n",
      "==================================================================\n"
     ]
    }
   ],
   "source": [
    "results1 = mc_problem.solve(sigma=np.ones((1, 1)), optimization=bfgs)\n"
   ]
  }
 ],
 "metadata": {
  "kernelspec": {
   "display_name": "Python 3",
   "language": "python",
   "name": "python3"
  },
  "language_info": {
   "codemirror_mode": {
    "name": "ipython",
    "version": 3
   },
   "file_extension": ".py",
   "mimetype": "text/x-python",
   "name": "python",
   "nbconvert_exporter": "python",
   "pygments_lexer": "ipython3",
   "version": "3.11.1"
  },
  "orig_nbformat": 4
 },
 "nbformat": 4,
 "nbformat_minor": 2
}
