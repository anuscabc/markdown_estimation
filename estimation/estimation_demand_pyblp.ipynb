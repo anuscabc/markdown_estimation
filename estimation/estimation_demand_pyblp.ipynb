{
 "cells": [
  {
   "cell_type": "code",
   "execution_count": 10,
   "metadata": {},
   "outputs": [],
   "source": [
    "import pandas as pd \n",
    "import numpy as np\n",
    "import pyblp\n",
    "from sklearn.linear_model import LinearRegression"
   ]
  },
  {
   "cell_type": "code",
   "execution_count": 11,
   "metadata": {},
   "outputs": [
    {
     "name": "stdout",
     "output_type": "stream",
     "text": [
      "     market_ids  firm_ids  characteristic1  characteristic2    prices  \\\n",
      "0             1         1         5.417022        20.419195  2.606747   \n",
      "1             1         2         5.720324        20.685220  2.380700   \n",
      "2             1         3         5.000114        20.204452  2.576762   \n",
      "3             1         4         5.302333        20.878117  2.452763   \n",
      "4             1         5         5.146756        20.027388  2.696566   \n",
      "..          ...       ...              ...              ...       ...   \n",
      "995         100         6         5.092339        20.670468  2.559899   \n",
      "996         100         7         5.186260        20.417305  2.736607   \n",
      "997         100         8         5.345561        20.558690  2.523615   \n",
      "998         100         9         5.396767        20.140387  2.527186   \n",
      "999         100        10         5.538817        20.198101  2.600215   \n",
      "\n",
      "     marginal_cost    shares   profits   markups  e_quantity    capital  \\\n",
      "0         2.000318  0.012468  0.007561  1.303166   12.467989  10.365766   \n",
      "1         1.774179  0.014359  0.008709  1.341860   14.359261  25.002886   \n",
      "2         1.970298  0.017210  0.010437  1.307803   17.209783  29.777222   \n",
      "3         1.846345  0.014831  0.008994  1.328442   14.830834  24.963313   \n",
      "4         2.090140  0.013843  0.008395  1.290137   13.842638  15.608880   \n",
      "..             ...       ...       ...       ...         ...        ...   \n",
      "995       1.953555  0.014749  0.008943  1.310380   14.749303  24.250935   \n",
      "996       2.130079  0.011346  0.006882  1.284744   11.345725  12.496098   \n",
      "997       1.917399  0.014267  0.008649  1.316166   14.266876  21.845699   \n",
      "998       1.920830  0.015673  0.009503  1.315674   15.673011  28.816102   \n",
      "999       1.993622  0.012720  0.007716  1.304267   12.720268  14.961188   \n",
      "\n",
      "     investment  productivity     labor  \n",
      "0      0.577050      0.056688  0.566506  \n",
      "1      1.112642     -0.054995  0.168692  \n",
      "2      1.463189     -0.008621  0.175801  \n",
      "3      1.138594     -0.043893  0.181722  \n",
      "4      0.783739      0.002111  0.370531  \n",
      "..          ...           ...       ...  \n",
      "995    1.075340     -0.056578  0.199126  \n",
      "996    0.524176     -0.080528  0.422566  \n",
      "997    0.993966     -0.045006  0.218817  \n",
      "998    1.275738     -0.057283  0.163419  \n",
      "999    0.701636     -0.031029  0.344618  \n",
      "\n",
      "[1000 rows x 14 columns]\n"
     ]
    }
   ],
   "source": [
    "product_data = pd.read_csv('../data/market_integrates_1.csv')\n",
    "print(product_data)"
   ]
  },
  {
   "cell_type": "code",
   "execution_count": 12,
   "metadata": {},
   "outputs": [
    {
     "name": "stdout",
     "output_type": "stream",
     "text": [
      "     market_ids  firm_ids  characteristic1  characteristic2    prices  \\\n",
      "0             1         1         5.417022        20.419195  2.606747   \n",
      "1             1         2         5.720324        20.685220  2.380700   \n",
      "2             1         3         5.000114        20.204452  2.576762   \n",
      "3             1         4         5.302333        20.878117  2.452763   \n",
      "4             1         5         5.146756        20.027388  2.696566   \n",
      "..          ...       ...              ...              ...       ...   \n",
      "995         100         6         5.092339        20.670468  2.559899   \n",
      "996         100         7         5.186260        20.417305  2.736607   \n",
      "997         100         8         5.345561        20.558690  2.523615   \n",
      "998         100         9         5.396767        20.140387  2.527186   \n",
      "999         100        10         5.538817        20.198101  2.600215   \n",
      "\n",
      "     supply_instrument2    shares   profits   markups  e_quantity  \\\n",
      "0              2.000318  0.012468  0.007561  1.303166   12.467989   \n",
      "1              1.774179  0.014359  0.008709  1.341860   14.359261   \n",
      "2              1.970298  0.017210  0.010437  1.307803   17.209783   \n",
      "3              1.846345  0.014831  0.008994  1.328442   14.830834   \n",
      "4              2.090140  0.013843  0.008395  1.290137   13.842638   \n",
      "..                  ...       ...       ...       ...         ...   \n",
      "995            1.953555  0.014749  0.008943  1.310380   14.749303   \n",
      "996            2.130079  0.011346  0.006882  1.284744   11.345725   \n",
      "997            1.917399  0.014267  0.008649  1.316166   14.266876   \n",
      "998            1.920830  0.015673  0.009503  1.315674   15.673011   \n",
      "999            1.993622  0.012720  0.007716  1.304267   12.720268   \n",
      "\n",
      "     supply_instruments1  investment  productivity  supply_instrument0  \n",
      "0              10.365766    0.577050      0.056688            0.566506  \n",
      "1              25.002886    1.112642     -0.054995            0.168692  \n",
      "2              29.777222    1.463189     -0.008621            0.175801  \n",
      "3              24.963313    1.138594     -0.043893            0.181722  \n",
      "4              15.608880    0.783739      0.002111            0.370531  \n",
      "..                   ...         ...           ...                 ...  \n",
      "995            24.250935    1.075340     -0.056578            0.199126  \n",
      "996            12.496098    0.524176     -0.080528            0.422566  \n",
      "997            21.845699    0.993966     -0.045006            0.218817  \n",
      "998            28.816102    1.275738     -0.057283            0.163419  \n",
      "999            14.961188    0.701636     -0.031029            0.344618  \n",
      "\n",
      "[1000 rows x 14 columns]\n"
     ]
    }
   ],
   "source": [
    "# Getting the dataset estimation ready with at least a supply_side instrument/ demand_side instrument \n",
    "product_data_complete = product_data.rename(columns={'labor':'supply_instrument0', 'capital':'supply_instruments1', 'marginal_cost': 'supply_instrument2'})\n",
    "print(product_data_complete)\n",
    "\n"
   ]
  },
  {
   "cell_type": "code",
   "execution_count": 13,
   "metadata": {},
   "outputs": [
    {
     "name": "stdout",
     "output_type": "stream",
     "text": [
      "(1 + prices + characteristic1 + characteristic2, prices)\n"
     ]
    }
   ],
   "source": [
    "# the endog regressor\n",
    "X1_formulation = pyblp.Formulation('1 + prices + characteristic1 + characteristic2')\n",
    "\n",
    "# the only regressor on which we want random coeff \n",
    "X2_formulation = pyblp.Formulation('0 +  prices')\n",
    "\n",
    "product_formulations = (X1_formulation, X2_formulation)\n",
    "print(product_formulations)"
   ]
  },
  {
   "cell_type": "code",
   "execution_count": 14,
   "metadata": {},
   "outputs": [],
   "source": [
    "mc_integration = pyblp.Integration('monte_carlo', size=50, specification_options={'seed': 0})\n"
   ]
  },
  {
   "cell_type": "code",
   "execution_count": 15,
   "metadata": {},
   "outputs": [],
   "source": [
    "pr_integration = pyblp.Integration('product', size=5)\n"
   ]
  },
  {
   "cell_type": "code",
   "execution_count": 16,
   "metadata": {},
   "outputs": [
    {
     "name": "stdout",
     "output_type": "stream",
     "text": [
      "Initializing the problem ...\n",
      "Initialized the problem after 00:00:00.\n",
      "\n",
      "Dimensions:\n",
      "======================================\n",
      " T    N     F    I     K1    K2    MD \n",
      "---  ----  ---  ----  ----  ----  ----\n",
      "100  1000  10   5000   4     1     3  \n",
      "======================================\n",
      "\n",
      "Formulations:\n",
      "===============================================================================\n",
      "       Column Indices:           0       1            2                3       \n",
      "-----------------------------  ------  ------  ---------------  ---------------\n",
      " X1: Linear Characteristics      1     prices  characteristic1  characteristic2\n",
      "X2: Nonlinear Characteristics  prices                                          \n",
      "===============================================================================\n",
      "Dimensions:\n",
      "======================================\n",
      " T    N     F    I     K1    K2    MD \n",
      "---  ----  ---  ----  ----  ----  ----\n",
      "100  1000  10   5000   4     1     3  \n",
      "======================================\n",
      "\n",
      "Formulations:\n",
      "===============================================================================\n",
      "       Column Indices:           0       1            2                3       \n",
      "-----------------------------  ------  ------  ---------------  ---------------\n",
      " X1: Linear Characteristics      1     prices  characteristic1  characteristic2\n",
      "X2: Nonlinear Characteristics  prices                                          \n",
      "===============================================================================\n"
     ]
    }
   ],
   "source": [
    "mc_problem = pyblp.Problem(product_formulations, product_data_complete, integration=mc_integration)\n",
    "print(mc_problem)"
   ]
  },
  {
   "cell_type": "code",
   "execution_count": 17,
   "metadata": {},
   "outputs": [],
   "source": [
    "bfgs = pyblp.Optimization('bfgs', {'gtol': 1e-4})\n"
   ]
  },
  {
   "cell_type": "code",
   "execution_count": 18,
   "metadata": {},
   "outputs": [
    {
     "name": "stdout",
     "output_type": "stream",
     "text": [
      "Solving the problem ...\n",
      "\n",
      "Nonlinear Coefficient Initial Values:\n",
      "=====================\n",
      "Sigma:     prices    \n",
      "------  -------------\n",
      "prices  +1.000000E+00\n",
      "=====================\n",
      "Starting optimization ...\n",
      "\n",
      "GMM   Optimization   Objective   Fixed Point  Contraction  Clipped    Objective      Objective      Gradient                  \n",
      "Step   Iterations   Evaluations  Iterations   Evaluations  Shares       Value       Improvement       Norm           Theta    \n",
      "----  ------------  -----------  -----------  -----------  -------  -------------  -------------  -------------  -------------\n",
      " 1         0             1           483         1549         0     +8.899467E-18                 +3.104968E-08  +1.000000E+00\n",
      "\n",
      "Optimization completed after 00:00:00.\n",
      "Computing the Hessian and and updating the weighting matrix ...\n",
      "Computed results after 00:00:01.\n",
      "\n",
      "Problem Results Summary:\n",
      "============================================================================\n",
      "GMM     Objective      Gradient                    Clipped  Weighting Matrix\n",
      "Step      Value          Norm          Hessian     Shares   Condition Number\n",
      "----  -------------  -------------  -------------  -------  ----------------\n",
      " 1    +8.899603E-18  +3.104984E-08  +6.823131E-01     0      +2.746796E+06  \n",
      "============================================================================\n",
      "\n",
      "Starting optimization ...\n",
      "\n",
      "GMM   Optimization   Objective   Fixed Point  Contraction  Clipped    Objective      Objective      Gradient                  \n",
      "Step   Iterations   Evaluations  Iterations   Evaluations  Shares       Value       Improvement       Norm           Theta    \n",
      "----  ------------  -----------  -----------  -----------  -------  -------------  -------------  -------------  -------------\n",
      " 2         0             1            0           100         0     +2.807037E-17                 +6.108990E-07  +1.000000E+00\n",
      "\n",
      "Optimization completed after 00:00:00.\n",
      "Computing the Hessian and estimating standard errors ...\n",
      "Computed results after 00:00:01.\n",
      "\n",
      "Problem Results Summary:\n",
      "===============================================================================================\n",
      "GMM     Objective      Gradient                    Clipped  Weighting Matrix  Covariance Matrix\n",
      "Step      Value          Norm          Hessian     Shares   Condition Number  Condition Number \n",
      "----  -------------  -------------  -------------  -------  ----------------  -----------------\n",
      " 2    +2.807037E-17  +6.108990E-07  -1.624776E+00     0      +2.914111E+06      +1.008560E+17  \n",
      "===============================================================================================\n",
      "\n",
      "Cumulative Statistics:\n",
      "===========================================================================\n",
      "Computation  Optimizer  Optimization   Objective   Fixed Point  Contraction\n",
      "   Time      Converged   Iterations   Evaluations  Iterations   Evaluations\n",
      "-----------  ---------  ------------  -----------  -----------  -----------\n",
      " 00:00:03       Yes          0             4           966         3298    \n",
      "===========================================================================\n",
      "\n",
      "Nonlinear Coefficient Estimates (Robust SEs in Parentheses):\n",
      "=======================\n",
      "Sigma:      prices     \n",
      "------  ---------------\n",
      "prices   +1.000000E+00 \n",
      "        (+5.159527E-02)\n",
      "=======================\n",
      "\n",
      "Beta Estimates (Robust SEs in Parentheses):\n",
      "==================================================================\n",
      "       1             prices       characteristic1  characteristic2\n",
      "---------------  ---------------  ---------------  ---------------\n",
      " -1.885752E-01    -1.655152E+00    -2.875882E-01    +2.327553E-02 \n",
      "(+4.009947E-03)  (+3.669344E-02)  (+6.331514E-02)  (+2.105656E-02)\n",
      "==================================================================\n"
     ]
    }
   ],
   "source": [
    "results1 = mc_problem.solve(sigma=np.ones((1, 1)), optimization=bfgs)\n"
   ]
  },
  {
   "cell_type": "code",
   "execution_count": null,
   "metadata": {},
   "outputs": [],
   "source": []
  }
 ],
 "metadata": {
  "kernelspec": {
   "display_name": "Python 3",
   "language": "python",
   "name": "python3"
  },
  "language_info": {
   "codemirror_mode": {
    "name": "ipython",
    "version": 3
   },
   "file_extension": ".py",
   "mimetype": "text/x-python",
   "name": "python",
   "nbconvert_exporter": "python",
   "pygments_lexer": "ipython3",
   "version": "3.11.1"
  },
  "orig_nbformat": 4
 },
 "nbformat": 4,
 "nbformat_minor": 2
}
