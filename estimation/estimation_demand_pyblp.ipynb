{
 "cells": [
  {
   "cell_type": "code",
   "execution_count": 1,
   "metadata": {},
   "outputs": [],
   "source": [
    "import pandas as pd \n",
    "import numpy as np\n",
    "import pyblp\n",
    "from sklearn.linear_model import LinearRegression"
   ]
  },
  {
   "cell_type": "code",
   "execution_count": 2,
   "metadata": {},
   "outputs": [
    {
     "name": "stdout",
     "output_type": "stream",
     "text": [
      "     market_ids  firm_ids  characteristic1  characteristic2     prices  \\\n",
      "0             1         1         5.215031         5.912650  22.025552   \n",
      "1             1         2         5.580586         5.686295  22.445811   \n",
      "2             1         3         5.477453         5.063807  24.633280   \n",
      "3             1         4         5.437327         5.368511  20.551346   \n",
      "4             1         5         5.341661         5.910085  22.982670   \n",
      "..          ...       ...              ...              ...        ...   \n",
      "995         100         6         5.657224         5.098946  22.498758   \n",
      "996         100         7         5.922187         5.442646  20.409394   \n",
      "997         100         8         5.273980         5.814937  26.659509   \n",
      "998         100         9         5.690448         5.726883  23.872070   \n",
      "999         100        10         5.993946         5.298736  17.807141   \n",
      "\n",
      "     marginal_cost    shares   profits   markups  e_quantity    capital  \\\n",
      "0        13.315867  0.032526  0.283295  1.654083   32.526405  14.027962   \n",
      "1        13.637998  0.025708  0.226433  1.645829   25.708233  11.819213   \n",
      "2        15.308512  0.026266  0.244929  1.609123   26.266478  11.202152   \n",
      "3        12.219113  0.038871  0.323880  1.681902   38.870754  15.135032   \n",
      "4        14.042523  0.026772  0.239347  1.636648   26.772103  11.285863   \n",
      "..             ...       ...       ...       ...         ...        ...   \n",
      "995      12.039575  0.034322  0.358981  1.868734   34.322089  15.292764   \n",
      "996      10.795527  0.031551  0.303323  1.890542   31.550595  14.593135   \n",
      "997      14.654103  0.025178  0.302272  1.819252   25.178021   9.486474   \n",
      "998      12.896736  0.024496  0.268851  1.851016   24.495886  10.537082   \n",
      "999       9.274116  0.041537  0.354432  1.920090   41.536523  17.626333   \n",
      "\n",
      "     investment  productivity     labor  indirect_util  \n",
      "0      0.681225     -0.014380  8.662346     -63.295975  \n",
      "1      0.512609     -0.066292  7.012177     -64.626339  \n",
      "2      0.505907     -0.048384  8.042014     -70.313557  \n",
      "3      0.882323      0.082968  9.499322     -59.281032  \n",
      "4      0.548094     -0.014353  7.518957     -65.985562  \n",
      "..          ...           ...       ...            ...  \n",
      "995    0.753985     -0.006966  8.264467     -64.647704  \n",
      "996    0.729067     -0.000404  6.812106     -59.256811  \n",
      "997    0.523145      0.051464  7.379227     -75.904325  \n",
      "998    0.523733     -0.002962  6.318340     -68.592392  \n",
      "999    1.067211      0.105464  7.704290     -52.190210  \n",
      "\n",
      "[1000 rows x 15 columns]\n"
     ]
    }
   ],
   "source": [
    "product_data = pd.read_csv('../data/market_integrates_2.csv')\n",
    "print(product_data)"
   ]
  },
  {
   "cell_type": "code",
   "execution_count": 20,
   "metadata": {},
   "outputs": [],
   "source": [
    "# # Getting the dataset estimation ready with at least a supply_side instrument/ demand_side instrument \n",
    "# product_data_complete = product_data.rename(columns={'labor':'supply_instrument0',\n",
    "#                                                     #   'capital':'supply_instruments1',\n",
    "#                                                         # 'marginal_cost': 'supply_instrument2'\n",
    "#                                                         })\n",
    "\n"
   ]
  },
  {
   "cell_type": "code",
   "execution_count": 21,
   "metadata": {},
   "outputs": [
    {
     "name": "stdout",
     "output_type": "stream",
     "text": [
      "(1 + prices + characteristic1 + characteristic2, prices)\n"
     ]
    }
   ],
   "source": [
    "# the endog regressor\n",
    "X1_formulation = pyblp.Formulation('1  + prices+ characteristic1 + characteristic2')\n",
    "\n",
    "# the only regressor on which we want random coeff \n",
    "X2_formulation = pyblp.Formulation('0 +  prices')\n",
    "\n",
    "# supply side charact \n",
    "# X3_formulation = pyblp.Formulation('1 + log(labor) + log(capital)')\n",
    "\n",
    "# formulation for the cost thing (assume cost fomrulation being labor and capital)\n",
    "product_formulations = (X1_formulation,\n",
    "                         X2_formulation\n",
    "                           #  X3_formulation\n",
    "                           )\n",
    "print(product_formulations)"
   ]
  },
  {
   "cell_type": "code",
   "execution_count": null,
   "metadata": {},
   "outputs": [],
   "source": [
    "\n",
    "\n"
   ]
  },
  {
   "cell_type": "code",
   "execution_count": 22,
   "metadata": {},
   "outputs": [],
   "source": [
    "mc_integration = pyblp.Integration('monte_carlo', size=50, specification_options={'seed': 0})\n"
   ]
  },
  {
   "cell_type": "code",
   "execution_count": 23,
   "metadata": {},
   "outputs": [
    {
     "name": "stdout",
     "output_type": "stream",
     "text": [
      "Initializing the problem ...\n",
      "Initialized the problem after 00:00:00.\n",
      "\n",
      "Dimensions:\n",
      "======================================\n",
      " T    N     F    I     K1    K2    MD \n",
      "---  ----  ---  ----  ----  ----  ----\n",
      "100  1000  10   5000   4     1     3  \n",
      "======================================\n",
      "\n",
      "Formulations:\n",
      "===============================================================================\n",
      "       Column Indices:           0       1            2                3       \n",
      "-----------------------------  ------  ------  ---------------  ---------------\n",
      " X1: Linear Characteristics      1     prices  characteristic1  characteristic2\n",
      "X2: Nonlinear Characteristics  prices                                          \n",
      "===============================================================================\n",
      "Dimensions:\n",
      "======================================\n",
      " T    N     F    I     K1    K2    MD \n",
      "---  ----  ---  ----  ----  ----  ----\n",
      "100  1000  10   5000   4     1     3  \n",
      "======================================\n",
      "\n",
      "Formulations:\n",
      "===============================================================================\n",
      "       Column Indices:           0       1            2                3       \n",
      "-----------------------------  ------  ------  ---------------  ---------------\n",
      " X1: Linear Characteristics      1     prices  characteristic1  characteristic2\n",
      "X2: Nonlinear Characteristics  prices                                          \n",
      "===============================================================================\n"
     ]
    }
   ],
   "source": [
    "mc_problem = pyblp.Problem(product_formulations, product_data, integration=mc_integration, add_exogenous=True)\n",
    "print(mc_problem)"
   ]
  },
  {
   "cell_type": "code",
   "execution_count": 24,
   "metadata": {},
   "outputs": [],
   "source": [
    "bfgs = pyblp.Optimization('bfgs', {'gtol': 1e-4})\n"
   ]
  },
  {
   "cell_type": "code",
   "execution_count": 25,
   "metadata": {},
   "outputs": [
    {
     "name": "stdout",
     "output_type": "stream",
     "text": [
      "Solving the problem ...\n",
      "\n",
      "Nonlinear Coefficient Initial Values:\n",
      "=====================\n",
      "Sigma:     prices    \n",
      "------  -------------\n",
      "prices  +1.000000E+00\n",
      "=====================\n",
      "Starting optimization ...\n",
      "\n",
      "GMM   Optimization   Objective   Fixed Point  Contraction  Clipped    Objective      Objective      Gradient                  \n",
      "Step   Iterations   Evaluations  Iterations   Evaluations  Shares       Value       Improvement       Norm           Theta    \n",
      "----  ------------  -----------  -----------  -----------  -------  -------------  -------------  -------------  -------------\n",
      " 1         0             1           608         1924         0     +6.644902E-19                 +1.458146E-08  +1.000000E+00\n",
      "\n",
      "Optimization completed after 00:00:00.\n",
      "Computing the Hessian and and updating the weighting matrix ...\n",
      "Computed results after 00:00:01.\n",
      "\n",
      "Problem Results Summary:\n",
      "============================================================================\n",
      "GMM     Objective      Gradient                    Clipped  Weighting Matrix\n",
      "Step      Value          Norm          Hessian     Shares   Condition Number\n",
      "----  -------------  -------------  -------------  -------  ----------------\n",
      " 1    +6.644803E-19  +1.458093E-08  -2.479717E-01     0      +6.373888E+05  \n",
      "============================================================================\n",
      "\n",
      "Starting optimization ...\n",
      "\n",
      "GMM   Optimization   Objective   Fixed Point  Contraction  Clipped    Objective      Objective      Gradient                  \n",
      "Step   Iterations   Evaluations  Iterations   Evaluations  Shares       Value       Improvement       Norm           Theta    \n",
      "----  ------------  -----------  -----------  -----------  -------  -------------  -------------  -------------  -------------\n",
      " 2         0             1            0           100         0     +8.546582E-19                 +3.436383E-08  +1.000000E+00\n",
      "\n",
      "Optimization completed after 00:00:00.\n",
      "Computing the Hessian and estimating standard errors ...\n",
      "Computed results after 00:00:01.\n",
      "\n",
      "Problem Results Summary:\n",
      "===============================================================================================\n",
      "GMM     Objective      Gradient                    Clipped  Weighting Matrix  Covariance Matrix\n",
      "Step      Value          Norm          Hessian     Shares   Condition Number  Condition Number \n",
      "----  -------------  -------------  -------------  -------  ----------------  -----------------\n",
      " 2    +8.546582E-19  +3.436383E-08  -1.014815E+00     0      +6.485489E+05      +7.005662E+17  \n",
      "===============================================================================================\n",
      "\n",
      "Cumulative Statistics:\n",
      "===========================================================================\n",
      "Computation  Optimizer  Optimization   Objective   Fixed Point  Contraction\n",
      "   Time      Converged   Iterations   Evaluations  Iterations   Evaluations\n",
      "-----------  ---------  ------------  -----------  -----------  -----------\n",
      " 00:00:02       Yes          0             4          1216         4046    \n",
      "===========================================================================\n",
      "\n",
      "Nonlinear Coefficient Estimates (Robust SEs in Parentheses):\n",
      "=======================\n",
      "Sigma:      prices     \n",
      "------  ---------------\n",
      "prices   +1.000000E+00 \n",
      "        (+2.158243E-02)\n",
      "=======================\n",
      "\n",
      "Beta Estimates (Robust SEs in Parentheses):\n",
      "==================================================================\n",
      "       1             prices       characteristic1  characteristic2\n",
      "---------------  ---------------  ---------------  ---------------\n",
      " -7.124188E-02    -1.649475E+00    -9.965515E-03    +6.983238E-03 \n",
      "(+2.843339E-03)  (+1.608537E-02)  (+1.740756E-02)  (+1.254616E-01)\n",
      "==================================================================\n"
     ]
    }
   ],
   "source": [
    "results1 = mc_problem.solve(sigma=np.ones((1, 1)), optimization=bfgs)\n"
   ]
  }
 ],
 "metadata": {
  "kernelspec": {
   "display_name": "Python 3",
   "language": "python",
   "name": "python3"
  },
  "language_info": {
   "codemirror_mode": {
    "name": "ipython",
    "version": 3
   },
   "file_extension": ".py",
   "mimetype": "text/x-python",
   "name": "python",
   "nbconvert_exporter": "python",
   "pygments_lexer": "ipython3",
   "version": "3.11.1"
  },
  "orig_nbformat": 4
 },
 "nbformat": 4,
 "nbformat_minor": 2
}
