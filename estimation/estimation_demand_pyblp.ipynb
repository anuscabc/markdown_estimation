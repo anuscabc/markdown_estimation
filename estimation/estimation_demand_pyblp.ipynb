{
 "cells": [
  {
   "cell_type": "code",
   "execution_count": 10,
   "metadata": {},
   "outputs": [],
   "source": [
    "import pandas as pd \n",
    "import numpy as np\n",
    "import pyblp\n",
    "from sklearn.linear_model import LinearRegression"
   ]
  },
  {
   "cell_type": "code",
   "execution_count": 11,
   "metadata": {},
   "outputs": [
    {
     "name": "stdout",
     "output_type": "stream",
     "text": [
      "     market_ids  firm_ids  characteristic1  characteristic2     prices  \\\n",
      "0             1         1         5.433865         2.042325  21.721590   \n",
      "1             1         2         5.907737         2.412709  18.586650   \n",
      "2             1         3         5.943911         2.174390  20.086869   \n",
      "3             1         4         5.329441         2.844997  20.126112   \n",
      "4             1         5         5.083033         2.137079  22.903818   \n",
      "..          ...       ...              ...              ...        ...   \n",
      "995         100         6         5.360283         2.580602  24.693921   \n",
      "996         100         7         5.958183         2.650134  22.406677   \n",
      "997         100         8         5.184745         2.346844  19.703203   \n",
      "998         100         9         5.223118         2.464959  20.661943   \n",
      "999         100        10         5.019838         2.675947  23.255443   \n",
      "\n",
      "     marginal_cost    shares   profits   markups  e_quantity    capital  \\\n",
      "0        14.701881  0.061575  0.432238  1.477470   30.787454  16.783353   \n",
      "1        12.096367  0.067783  0.439928  1.536548   33.891286  22.438419   \n",
      "2        13.338763  0.057551  0.388360  1.505902   28.775452  15.257243   \n",
      "3        13.364240  0.063635  0.430292  1.505968   31.817495  21.575452   \n",
      "4        15.707358  0.060842  0.437847  1.458158   30.421000  13.028425   \n",
      "..             ...       ...       ...       ...         ...        ...   \n",
      "995      17.372636  0.038795  0.284028  1.421426   19.397437   5.033889   \n",
      "996      15.359167  0.038195  0.269177  1.458847   19.097314   6.517305   \n",
      "997      12.966525  0.089763  0.604703  1.519544   44.881367  39.723270   \n",
      "998      13.803449  0.074184  0.508789  1.496868   37.091915  27.235080   \n",
      "999      16.082228  0.054046  0.387681  1.446034   27.022792  10.650048   \n",
      "\n",
      "     investment  productivity      labor  \n",
      "0      0.323669     -0.043878   5.236820  \n",
      "1      1.130871      0.000570   3.158676  \n",
      "2      0.385813     -0.035304   5.074841  \n",
      "3      0.134070     -0.062551   3.461128  \n",
      "4      0.640521     -0.001195   7.880961  \n",
      "..          ...           ...        ...  \n",
      "995   -0.030755     -0.080157  21.042449  \n",
      "996   -0.250931     -0.126432  12.758392  \n",
      "997    2.442461      0.016410   2.015477  \n",
      "998    0.787717     -0.030110   3.007724  \n",
      "999    0.273452     -0.034748   9.504636  \n",
      "\n",
      "[1000 rows x 14 columns]\n"
     ]
    }
   ],
   "source": [
    "product_data = pd.read_csv('../data/market_integrates_100.csv')\n",
    "print(product_data)"
   ]
  },
  {
   "cell_type": "code",
   "execution_count": 12,
   "metadata": {},
   "outputs": [
    {
     "name": "stdout",
     "output_type": "stream",
     "text": [
      "     market_ids  firm_ids  characteristic1  characteristic2     prices  \\\n",
      "0             1         1         5.433865         2.042325  21.721590   \n",
      "1             1         2         5.907737         2.412709  18.586650   \n",
      "2             1         3         5.943911         2.174390  20.086869   \n",
      "3             1         4         5.329441         2.844997  20.126112   \n",
      "4             1         5         5.083033         2.137079  22.903818   \n",
      "..          ...       ...              ...              ...        ...   \n",
      "995         100         6         5.360283         2.580602  24.693921   \n",
      "996         100         7         5.958183         2.650134  22.406677   \n",
      "997         100         8         5.184745         2.346844  19.703203   \n",
      "998         100         9         5.223118         2.464959  20.661943   \n",
      "999         100        10         5.019838         2.675947  23.255443   \n",
      "\n",
      "     demand_instrument2    shares   profits   markups  e_quantity  \\\n",
      "0             14.701881  0.061575  0.432238  1.477470   30.787454   \n",
      "1             12.096367  0.067783  0.439928  1.536548   33.891286   \n",
      "2             13.338763  0.057551  0.388360  1.505902   28.775452   \n",
      "3             13.364240  0.063635  0.430292  1.505968   31.817495   \n",
      "4             15.707358  0.060842  0.437847  1.458158   30.421000   \n",
      "..                  ...       ...       ...       ...         ...   \n",
      "995           17.372636  0.038795  0.284028  1.421426   19.397437   \n",
      "996           15.359167  0.038195  0.269177  1.458847   19.097314   \n",
      "997           12.966525  0.089763  0.604703  1.519544   44.881367   \n",
      "998           13.803449  0.074184  0.508789  1.496868   37.091915   \n",
      "999           16.082228  0.054046  0.387681  1.446034   27.022792   \n",
      "\n",
      "     demand_instruments1  investment  productivity  demand_instrument0  \n",
      "0              16.783353    0.323669     -0.043878            5.236820  \n",
      "1              22.438419    1.130871      0.000570            3.158676  \n",
      "2              15.257243    0.385813     -0.035304            5.074841  \n",
      "3              21.575452    0.134070     -0.062551            3.461128  \n",
      "4              13.028425    0.640521     -0.001195            7.880961  \n",
      "..                   ...         ...           ...                 ...  \n",
      "995             5.033889   -0.030755     -0.080157           21.042449  \n",
      "996             6.517305   -0.250931     -0.126432           12.758392  \n",
      "997            39.723270    2.442461      0.016410            2.015477  \n",
      "998            27.235080    0.787717     -0.030110            3.007724  \n",
      "999            10.650048    0.273452     -0.034748            9.504636  \n",
      "\n",
      "[1000 rows x 14 columns]\n"
     ]
    }
   ],
   "source": [
    "# Getting the dataset estimation ready with at least a supply_side instrument/ demand_side instrument \n",
    "product_data_complete = product_data.rename(columns={'labor':'demand_instrument0', 'capital':'demand_instruments1', 'marginal_cost': 'demand_instrument2'})\n",
    "print(product_data_complete)\n",
    "\n"
   ]
  },
  {
   "cell_type": "code",
   "execution_count": 13,
   "metadata": {},
   "outputs": [
    {
     "name": "stdout",
     "output_type": "stream",
     "text": [
      "(1 + prices + characteristic1 + characteristic2, prices)\n"
     ]
    }
   ],
   "source": [
    "# the endog regressor\n",
    "X1_formulation = pyblp.Formulation('1 + prices + characteristic1 + characteristic2')\n",
    "\n",
    "# the only regressor on which we want random coeff \n",
    "X2_formulation = pyblp.Formulation('0 +  prices')\n",
    "\n",
    "product_formulations = (X1_formulation, X2_formulation)\n",
    "print(product_formulations)"
   ]
  },
  {
   "cell_type": "code",
   "execution_count": 14,
   "metadata": {},
   "outputs": [],
   "source": [
    "mc_integration = pyblp.Integration('monte_carlo', size=50, specification_options={'seed': 0})\n"
   ]
  },
  {
   "cell_type": "code",
   "execution_count": 15,
   "metadata": {},
   "outputs": [],
   "source": [
    "pr_integration = pyblp.Integration('product', size=5)\n"
   ]
  },
  {
   "cell_type": "code",
   "execution_count": 16,
   "metadata": {},
   "outputs": [
    {
     "name": "stdout",
     "output_type": "stream",
     "text": [
      "Initializing the problem ...\n",
      "Initialized the problem after 00:00:00.\n",
      "\n",
      "Dimensions:\n",
      "======================================\n",
      " T    N     F    I     K1    K2    MD \n",
      "---  ----  ---  ----  ----  ----  ----\n",
      "100  1000  10   5000   4     1     3  \n",
      "======================================\n",
      "\n",
      "Formulations:\n",
      "===============================================================================\n",
      "       Column Indices:           0       1            2                3       \n",
      "-----------------------------  ------  ------  ---------------  ---------------\n",
      " X1: Linear Characteristics      1     prices  characteristic1  characteristic2\n",
      "X2: Nonlinear Characteristics  prices                                          \n",
      "===============================================================================\n",
      "Dimensions:\n",
      "======================================\n",
      " T    N     F    I     K1    K2    MD \n",
      "---  ----  ---  ----  ----  ----  ----\n",
      "100  1000  10   5000   4     1     3  \n",
      "======================================\n",
      "\n",
      "Formulations:\n",
      "===============================================================================\n",
      "       Column Indices:           0       1            2                3       \n",
      "-----------------------------  ------  ------  ---------------  ---------------\n",
      " X1: Linear Characteristics      1     prices  characteristic1  characteristic2\n",
      "X2: Nonlinear Characteristics  prices                                          \n",
      "===============================================================================\n"
     ]
    },
    {
     "name": "stderr",
     "output_type": "stream",
     "text": [
      "'demand_instruments1' was specified but not 'demand_instruments0'.\n"
     ]
    }
   ],
   "source": [
    "mc_problem = pyblp.Problem(product_formulations, product_data_complete, integration=mc_integration)\n",
    "print(mc_problem)"
   ]
  },
  {
   "cell_type": "code",
   "execution_count": 17,
   "metadata": {},
   "outputs": [],
   "source": [
    "bfgs = pyblp.Optimization('bfgs', {'gtol': 1e-4})\n"
   ]
  },
  {
   "cell_type": "code",
   "execution_count": 18,
   "metadata": {},
   "outputs": [
    {
     "name": "stdout",
     "output_type": "stream",
     "text": [
      "Solving the problem ...\n",
      "\n",
      "Nonlinear Coefficient Initial Values:\n",
      "=====================\n",
      "Sigma:     prices    \n",
      "------  -------------\n",
      "prices  +1.000000E+00\n",
      "=====================\n",
      "Starting optimization ...\n",
      "\n",
      "GMM   Optimization   Objective   Fixed Point  Contraction  Clipped    Objective      Objective      Gradient                  \n",
      "Step   Iterations   Evaluations  Iterations   Evaluations  Shares       Value       Improvement       Norm           Theta    \n",
      "----  ------------  -----------  -----------  -----------  -------  -------------  -------------  -------------  -------------\n",
      " 1         0             1          2172         6603         0     +9.964034E-22                 +2.826727E-09  +1.000000E+00\n",
      "\n",
      "Optimization completed after 00:00:01.\n",
      "Computing the Hessian and and updating the weighting matrix ...\n",
      "Computed results after 00:00:02.\n",
      "\n",
      "Problem Results Summary:\n",
      "============================================================================\n",
      "GMM     Objective      Gradient                    Clipped  Weighting Matrix\n",
      "Step      Value          Norm          Hessian     Shares   Condition Number\n",
      "----  -------------  -------------  -------------  -------  ----------------\n",
      " 1    +1.124957E-21  +6.238664E-09  +1.876615E-01     0      +1.417761E+04  \n",
      "============================================================================\n",
      "\n",
      "Starting optimization ...\n",
      "\n",
      "GMM   Optimization   Objective   Fixed Point  Contraction  Clipped    Objective      Objective      Gradient                  \n",
      "Step   Iterations   Evaluations  Iterations   Evaluations  Shares       Value       Improvement       Norm           Theta    \n",
      "----  ------------  -----------  -----------  -----------  -------  -------------  -------------  -------------  -------------\n",
      " 2         0             1            0           103         0     +2.469788E-22                 +1.349929E-10  +1.000000E+00\n",
      "\n",
      "Optimization completed after 00:00:00.\n",
      "Computing the Hessian and estimating standard errors ...\n",
      "Computed results after 00:00:01.\n",
      "\n",
      "Problem Results Summary:\n",
      "===============================================================================================\n",
      "GMM     Objective      Gradient                    Clipped  Weighting Matrix  Covariance Matrix\n",
      "Step      Value          Norm          Hessian     Shares   Condition Number  Condition Number \n",
      "----  -------------  -------------  -------------  -------  ----------------  -----------------\n",
      " 2    +2.469788E-22  +1.349929E-10  +1.664853E-02     0      +1.458251E+04      +6.938765E+17  \n",
      "===============================================================================================\n",
      "\n",
      "Cumulative Statistics:\n",
      "===========================================================================\n",
      "Computation  Optimizer  Optimization   Objective   Fixed Point  Contraction\n",
      "   Time      Converged   Iterations   Evaluations  Iterations   Evaluations\n",
      "-----------  ---------  ------------  -----------  -----------  -----------\n",
      " 00:00:04       Yes          0             4          4331         13375   \n",
      "===========================================================================\n",
      "\n",
      "Nonlinear Coefficient Estimates (Robust SEs in Parentheses):\n",
      "=======================\n",
      "Sigma:      prices     \n",
      "------  ---------------\n",
      "prices   +1.000000E+00 \n",
      "        (+1.042519E-01)\n",
      "=======================\n",
      "\n",
      "Beta Estimates (Robust SEs in Parentheses):\n",
      "==================================================================\n",
      "       1             prices       characteristic1  characteristic2\n",
      "---------------  ---------------  ---------------  ---------------\n",
      " +1.142018E-01    -1.131624E-01    +1.108508E+00    +6.452697E-01 \n",
      "(+5.593252E-03)  (+5.056769E-02)  (+2.322263E-01)  (+3.976613E-01)\n",
      "==================================================================\n"
     ]
    }
   ],
   "source": [
    "results1 = mc_problem.solve(sigma=np.ones((1, 1)), optimization=bfgs)\n"
   ]
  },
  {
   "cell_type": "code",
   "execution_count": null,
   "metadata": {},
   "outputs": [],
   "source": []
  }
 ],
 "metadata": {
  "kernelspec": {
   "display_name": "Python 3",
   "language": "python",
   "name": "python3"
  },
  "language_info": {
   "codemirror_mode": {
    "name": "ipython",
    "version": 3
   },
   "file_extension": ".py",
   "mimetype": "text/x-python",
   "name": "python",
   "nbconvert_exporter": "python",
   "pygments_lexer": "ipython3",
   "version": "3.11.1"
  },
  "orig_nbformat": 4
 },
 "nbformat": 4,
 "nbformat_minor": 2
}
