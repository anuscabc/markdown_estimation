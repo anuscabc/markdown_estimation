{
 "cells": [
  {
   "cell_type": "code",
   "execution_count": 93,
   "metadata": {},
   "outputs": [],
   "source": [
    "import pandas as pd \n",
    "import numpy as np\n",
    "import pyblp\n",
    "from sklearn.linear_model import LinearRegression"
   ]
  },
  {
   "cell_type": "code",
   "execution_count": 94,
   "metadata": {},
   "outputs": [
    {
     "name": "stdout",
     "output_type": "stream",
     "text": [
      "     market_ids  firm_ids  characteristic1  characteristic2    prices  \\\n",
      "0             1         1         5.533338        20.855216  2.404884   \n",
      "1             1         2         5.376039        20.650171  2.595498   \n",
      "2             1         3         5.713958        20.379129  2.627864   \n",
      "3             1         4         5.033581        20.989227  2.529403   \n",
      "4             1         5         5.591846        20.380606  2.523367   \n",
      "..          ...       ...              ...              ...       ...   \n",
      "995         100         6         5.830374        20.702445  2.465779   \n",
      "996         100         7         5.946392        20.314758  2.419043   \n",
      "997         100         8         5.543462        20.189176  2.433673   \n",
      "998         100         9         5.201490        20.021045  2.729257   \n",
      "999         100        10         5.888071        20.440777  2.551297   \n",
      "\n",
      "     marginal_cost    shares   profits   markups  e_quantity    capital  \\\n",
      "0         1.779635  0.015173  0.009487  1.351336   15.172703  23.971477   \n",
      "1         1.968607  0.012875  0.008071  1.318444   12.874981  12.363427   \n",
      "2         2.000232  0.011202  0.007030  1.313780   11.201520  11.576552   \n",
      "3         1.902753  0.015336  0.009611  1.329339   15.336444  21.165301   \n",
      "4         1.896707  0.014060  0.008811  1.330393   14.059819  23.333494   \n",
      "..             ...       ...       ...       ...         ...        ...   \n",
      "995       1.838620  0.012543  0.007866  1.341103   12.542578  11.923988   \n",
      "996       1.792661  0.014325  0.008973  1.349414   14.324634  24.453208   \n",
      "997       1.806873  0.017775  0.011141  1.346897   17.774692  27.319997   \n",
      "998       2.099811  0.013855  0.008721  1.299763   13.854934  17.905287   \n",
      "999       1.923637  0.011502  0.007219  1.326288   11.501675  10.929705   \n",
      "\n",
      "     investment  productivity     labor  indirect_util  \n",
      "0      1.185274     -0.005548  0.189659     -13.560385  \n",
      "1      0.660976      0.034622  0.449845     -13.938366  \n",
      "2      0.521858     -0.049212  0.436011     -14.113994  \n",
      "3      1.093734      0.016758  0.243997     -13.689190  \n",
      "4      1.002331     -0.070433  0.194518     -13.769327  \n",
      "..          ...           ...       ...            ...  \n",
      "995    0.652169      0.046939  0.430566     -13.828602  \n",
      "996    1.091666     -0.053569  0.175413     -13.643263  \n",
      "997    1.541061      0.064078  0.187849     -13.443893  \n",
      "998    0.828864     -0.037084  0.307441     -14.025949  \n",
      "999    0.543328     -0.002888  0.466642     -14.011413  \n",
      "\n",
      "[1000 rows x 15 columns]\n"
     ]
    }
   ],
   "source": [
    "product_data = pd.read_csv('../data/market_integrates_1.csv')\n",
    "print(product_data)"
   ]
  },
  {
   "cell_type": "code",
   "execution_count": 95,
   "metadata": {},
   "outputs": [],
   "source": [
    "# # Getting the dataset estimation ready with at least a supply_side instrument/ demand_side instrument \n",
    "# product_data_complete = product_data.rename(columns={'labor':'supply_instrument0',\n",
    "#                                                     #   'capital':'supply_instruments1',\n",
    "#                                                         # 'marginal_cost': 'supply_instrument2'\n",
    "#                                                         })\n",
    "\n"
   ]
  },
  {
   "cell_type": "code",
   "execution_count": 96,
   "metadata": {},
   "outputs": [
    {
     "name": "stdout",
     "output_type": "stream",
     "text": [
      "(1 + prices + characteristic1 + characteristic2, prices)\n"
     ]
    }
   ],
   "source": [
    "# the endog regressor\n",
    "X1_formulation = pyblp.Formulation('1  + prices+ characteristic1 + characteristic2')\n",
    "\n",
    "# the only regressor on which we want random coeff \n",
    "X2_formulation = pyblp.Formulation('0 +  prices')\n",
    "\n",
    "# supply side charact \n",
    "# X3_formulation = pyblp.Formulation('1 + log(labor) + log(capital)')\n",
    "\n",
    "# formulation for the cost thing (assume cost fomrulation being labor and capital)\n",
    "product_formulations = (X1_formulation,\n",
    "                         X2_formulation\n",
    "                           #  X3_formulation\n",
    "                           )\n",
    "print(product_formulations)"
   ]
  },
  {
   "cell_type": "code",
   "execution_count": 97,
   "metadata": {},
   "outputs": [],
   "source": [
    "demand_instruments = pyblp.build_blp_instruments(X1_formulation, product_data)\n",
    "df = product_data.join(pd.DataFrame(demand_instruments))\n",
    "\n",
    "product_data_complete = df.rename(columns={\n",
    "                                        # 0: 'demand_instrument0',\n",
    "                                           'labor': 'supply_instrument0', \n",
    "                                           'marginal_cost': 'supply_instrument1',\n",
    "                                        #    1: 'demand_instrument1', \n",
    "                                        #    2: 'demand_instrument2', \n",
    "                                        #    3: 'demand_instrument3',\n",
    "                                        #    4: 'demand_instrument4',\n",
    "                                        #     5: 'demand_instrument5',\n",
    "                                        #     6: 'demand_instrument6',\n",
    "                                        #     7:'demand_instrument7'\n",
    "                                                })\n",
    "\n"
   ]
  },
  {
   "cell_type": "code",
   "execution_count": 98,
   "metadata": {},
   "outputs": [],
   "source": [
    "mc_integration = pyblp.Integration('monte_carlo', size=50, specification_options={'seed': 0})\n"
   ]
  },
  {
   "cell_type": "code",
   "execution_count": 99,
   "metadata": {},
   "outputs": [
    {
     "name": "stdout",
     "output_type": "stream",
     "text": [
      "Initializing the problem ...\n",
      "Initialized the problem after 00:00:00.\n",
      "\n",
      "Dimensions:\n",
      "======================================\n",
      " T    N     F    I     K1    K2    MD \n",
      "---  ----  ---  ----  ----  ----  ----\n",
      "100  1000  10   5000   4     1     3  \n",
      "======================================\n",
      "\n",
      "Formulations:\n",
      "===============================================================================\n",
      "       Column Indices:           0       1            2                3       \n",
      "-----------------------------  ------  ------  ---------------  ---------------\n",
      " X1: Linear Characteristics      1     prices  characteristic1  characteristic2\n",
      "X2: Nonlinear Characteristics  prices                                          \n",
      "===============================================================================\n",
      "Dimensions:\n",
      "======================================\n",
      " T    N     F    I     K1    K2    MD \n",
      "---  ----  ---  ----  ----  ----  ----\n",
      "100  1000  10   5000   4     1     3  \n",
      "======================================\n",
      "\n",
      "Formulations:\n",
      "===============================================================================\n",
      "       Column Indices:           0       1            2                3       \n",
      "-----------------------------  ------  ------  ---------------  ---------------\n",
      " X1: Linear Characteristics      1     prices  characteristic1  characteristic2\n",
      "X2: Nonlinear Characteristics  prices                                          \n",
      "===============================================================================\n"
     ]
    }
   ],
   "source": [
    "mc_problem = pyblp.Problem(product_formulations, product_data_complete, integration=mc_integration, add_exogenous=True)\n",
    "print(mc_problem)"
   ]
  },
  {
   "cell_type": "code",
   "execution_count": 100,
   "metadata": {},
   "outputs": [],
   "source": [
    "bfgs = pyblp.Optimization('bfgs', {'gtol': 1e-4})\n"
   ]
  },
  {
   "cell_type": "code",
   "execution_count": 101,
   "metadata": {},
   "outputs": [
    {
     "name": "stdout",
     "output_type": "stream",
     "text": [
      "Solving the problem ...\n",
      "\n",
      "Nonlinear Coefficient Initial Values:\n",
      "=====================\n",
      "Sigma:     prices    \n",
      "------  -------------\n",
      "prices  +1.000000E+00\n",
      "=====================\n",
      "Starting optimization ...\n",
      "\n",
      "GMM   Optimization   Objective   Fixed Point  Contraction  Clipped    Objective      Objective      Gradient                  \n",
      "Step   Iterations   Evaluations  Iterations   Evaluations  Shares       Value       Improvement       Norm           Theta    \n",
      "----  ------------  -----------  -----------  -----------  -------  -------------  -------------  -------------  -------------\n",
      " 1         0             1           451         1476         0     +5.411187E-17                 +1.662602E-08  +1.000000E+00\n",
      "\n",
      "Optimization completed after 00:00:00.\n",
      "Computing the Hessian and and updating the weighting matrix ...\n",
      "Computed results after 00:00:01.\n",
      "\n",
      "Problem Results Summary:\n",
      "============================================================================\n",
      "GMM     Objective      Gradient                    Clipped  Weighting Matrix\n",
      "Step      Value          Norm          Hessian     Shares   Condition Number\n",
      "----  -------------  -------------  -------------  -------  ----------------\n",
      " 1    +5.411187E-17  +1.662602E-08  -1.960535E-01     0      +2.910502E+06  \n",
      "============================================================================\n",
      "\n",
      "Starting optimization ...\n",
      "\n",
      "GMM   Optimization   Objective   Fixed Point  Contraction  Clipped    Objective      Objective      Gradient                  \n",
      "Step   Iterations   Evaluations  Iterations   Evaluations  Shares       Value       Improvement       Norm           Theta    \n",
      "----  ------------  -----------  -----------  -----------  -------  -------------  -------------  -------------  -------------\n",
      " 2         0             1            0           100         0     +2.288413E-17                 +1.890300E-07  +1.000000E+00\n",
      "\n",
      "Optimization completed after 00:00:00.\n",
      "Computing the Hessian and estimating standard errors ...\n",
      "Computed results after 00:00:01.\n",
      "\n",
      "Problem Results Summary:\n",
      "===============================================================================================\n",
      "GMM     Objective      Gradient                    Clipped  Weighting Matrix  Covariance Matrix\n",
      "Step      Value          Norm          Hessian     Shares   Condition Number  Condition Number \n",
      "----  -------------  -------------  -------------  -------  ----------------  -----------------\n",
      " 2    +2.288413E-17  +1.890300E-07  -3.513546E+00     0      +2.960074E+06      +7.263901E+17  \n",
      "===============================================================================================\n",
      "\n",
      "Cumulative Statistics:\n",
      "===========================================================================\n",
      "Computation  Optimizer  Optimization   Objective   Fixed Point  Contraction\n",
      "   Time      Converged   Iterations   Evaluations  Iterations   Evaluations\n",
      "-----------  ---------  ------------  -----------  -----------  -----------\n",
      " 00:00:02       Yes          0             4           902         3152    \n",
      "===========================================================================\n",
      "\n",
      "Nonlinear Coefficient Estimates (Robust SEs in Parentheses):\n",
      "=======================\n",
      "Sigma:      prices     \n",
      "------  ---------------\n",
      "prices   +1.000000E+00 \n",
      "        (+7.666329E-02)\n",
      "=======================\n",
      "\n",
      "Beta Estimates (Robust SEs in Parentheses):\n",
      "==================================================================\n",
      "       1             prices       characteristic1  characteristic2\n",
      "---------------  ---------------  ---------------  ---------------\n",
      " -1.895024E-01    -1.178949E+00    -2.165746E-01    -5.767386E-02 \n",
      "(+8.536187E-03)  (+5.585130E-02)  (+4.269708E-02)  (+2.123332E-02)\n",
      "==================================================================\n"
     ]
    }
   ],
   "source": [
    "results1 = mc_problem.solve(sigma=np.ones((1, 1)), optimization=bfgs)\n"
   ]
  }
 ],
 "metadata": {
  "kernelspec": {
   "display_name": "Python 3",
   "language": "python",
   "name": "python3"
  },
  "language_info": {
   "codemirror_mode": {
    "name": "ipython",
    "version": 3
   },
   "file_extension": ".py",
   "mimetype": "text/x-python",
   "name": "python",
   "nbconvert_exporter": "python",
   "pygments_lexer": "ipython3",
   "version": "3.11.1"
  },
  "orig_nbformat": 4
 },
 "nbformat": 4,
 "nbformat_minor": 2
}
