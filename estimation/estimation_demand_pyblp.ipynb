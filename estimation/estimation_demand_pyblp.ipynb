{
 "cells": [
  {
   "cell_type": "code",
   "execution_count": 33,
   "metadata": {},
   "outputs": [],
   "source": [
    "import pandas as pd \n",
    "import numpy as np\n",
    "import pyblp\n",
    "from sklearn.linear_model import LinearRegression"
   ]
  },
  {
   "cell_type": "code",
   "execution_count": 34,
   "metadata": {},
   "outputs": [
    {
     "name": "stdout",
     "output_type": "stream",
     "text": [
      "     market_ids  firm_ids  characteristic1  characteristic2    prices  \\\n",
      "0             1         1         3.988608         3.958960  2.683035   \n",
      "1             1         2         5.319729         3.979387  2.327647   \n",
      "2             1         3         4.342128         4.835318  2.324931   \n",
      "3             1         4         5.405299         4.302028  2.269334   \n",
      "4             1         5         3.586754         4.746072  2.517294   \n",
      "..          ...       ...              ...              ...       ...   \n",
      "995         100         6         3.103106         5.520905  2.556986   \n",
      "996         100         7         5.806308         3.553468  2.403566   \n",
      "997         100         8         4.888032         3.012261  2.593767   \n",
      "998         100         9         4.496945         5.025356  2.239298   \n",
      "999         100        10         3.499739         4.028382  2.644176   \n",
      "\n",
      "     marginal_cost    shares   profits   markups  e_quantity    capital  \\\n",
      "0         1.896486  0.008741  0.006875  1.414741    8.740754  10.000000   \n",
      "1         1.559635  0.009858  0.007571  1.492431    9.858342  10.000000   \n",
      "2         1.557069  0.010266  0.007883  1.493146   10.266400  10.000000   \n",
      "3         1.504410  0.009517  0.007280  1.508454    9.517226  10.000000   \n",
      "4         1.739396  0.009938  0.007731  1.447223    9.938039  10.000000   \n",
      "..             ...       ...       ...       ...         ...        ...   \n",
      "995       1.777305  0.008783  0.006848  1.438687    8.782958   9.360347   \n",
      "996       1.630787  0.008840  0.006832  1.473868    8.840182   9.111998   \n",
      "997       1.812659  0.010337  0.008074  1.430919   10.336704  10.171489   \n",
      "998       1.474564  0.010759  0.008228  1.518617   10.758703  10.737349   \n",
      "999       1.860610  0.010732  0.008409  1.421134   10.731529  10.823290   \n",
      "\n",
      "     investment  productivity     labor  indirect_util  \n",
      "0      0.387394     -0.112606  0.331534      -4.897210  \n",
      "1      0.530284      0.030284  0.307508      -4.704902  \n",
      "2      0.559169      0.059169  0.319710      -4.663832  \n",
      "3      0.516449      0.016449  0.286356      -4.729281  \n",
      "4      0.503195      0.003195  0.345724      -4.734006  \n",
      "..          ...           ...       ...            ...  \n",
      "995    0.427308     -0.043491  0.312200      -4.888125  \n",
      "996    0.460784      0.005689  0.288329      -4.850797  \n",
      "997    0.515132      0.006447  0.374738      -4.732876  \n",
      "998    0.599669      0.058489  0.317288      -4.623252  \n",
      "999    0.521007     -0.018624  0.399344      -4.706013  \n",
      "\n",
      "[1000 rows x 15 columns]\n"
     ]
    }
   ],
   "source": [
    "product_data = pd.read_csv('../data/market_integrates_1.csv')\n",
    "print(product_data)"
   ]
  },
  {
   "cell_type": "code",
   "execution_count": 35,
   "metadata": {},
   "outputs": [],
   "source": [
    "# # Getting the dataset estimation ready with at least a supply_side instrument/ demand_side instrument \n",
    "product_data_complete = product_data.rename(columns={'labor':'supply_instrument0',\n",
    "                                                      'capital':'supply_instruments1',\n",
    "                                                        'marginal_cost': 'supply_instrument2'\n",
    "                                                        })\n",
    "\n"
   ]
  },
  {
   "cell_type": "code",
   "execution_count": 36,
   "metadata": {},
   "outputs": [
    {
     "name": "stdout",
     "output_type": "stream",
     "text": [
      "(1 + prices + characteristic1 + characteristic2, prices)\n"
     ]
    }
   ],
   "source": [
    "# the endog regressor\n",
    "X1_formulation = pyblp.Formulation('1  + prices+ characteristic1 + characteristic2')\n",
    "\n",
    "# the only regressor on which we want random coeff \n",
    "X2_formulation = pyblp.Formulation('0 +  prices')\n",
    "\n",
    "# supply side charact \n",
    "# X3_formulation = pyblp.Formulation('1 + log(labor) + log(capital)')\n",
    "\n",
    "# formulation for the cost thing (assume cost fomrulation being labor and capital)\n",
    "product_formulations = (X1_formulation,\n",
    "                         X2_formulation\n",
    "                           #  X3_formulation\n",
    "                           )\n",
    "print(product_formulations)"
   ]
  },
  {
   "cell_type": "code",
   "execution_count": 37,
   "metadata": {},
   "outputs": [],
   "source": [
    "mc_integration = pyblp.Integration('monte_carlo', size=1000, specification_options={'seed': 0})\n"
   ]
  },
  {
   "cell_type": "code",
   "execution_count": 38,
   "metadata": {},
   "outputs": [
    {
     "name": "stdout",
     "output_type": "stream",
     "text": [
      "Initializing the problem ...\n",
      "Initialized the problem after 00:00:00.\n",
      "\n",
      "Dimensions:\n",
      "========================================\n",
      " T    N     F     I      K1    K2    MD \n",
      "---  ----  ---  ------  ----  ----  ----\n",
      "100  1000  10   100000   4     1     3  \n",
      "========================================\n",
      "\n",
      "Formulations:\n",
      "===============================================================================\n",
      "       Column Indices:           0       1            2                3       \n",
      "-----------------------------  ------  ------  ---------------  ---------------\n",
      " X1: Linear Characteristics      1     prices  characteristic1  characteristic2\n",
      "X2: Nonlinear Characteristics  prices                                          \n",
      "===============================================================================\n",
      "Dimensions:\n",
      "========================================\n",
      " T    N     F     I      K1    K2    MD \n",
      "---  ----  ---  ------  ----  ----  ----\n",
      "100  1000  10   100000   4     1     3  \n",
      "========================================\n",
      "\n",
      "Formulations:\n",
      "===============================================================================\n",
      "       Column Indices:           0       1            2                3       \n",
      "-----------------------------  ------  ------  ---------------  ---------------\n",
      " X1: Linear Characteristics      1     prices  characteristic1  characteristic2\n",
      "X2: Nonlinear Characteristics  prices                                          \n",
      "===============================================================================\n"
     ]
    }
   ],
   "source": [
    "mc_problem = pyblp.Problem(product_formulations, product_data_complete, integration=mc_integration)\n",
    "print(mc_problem)"
   ]
  },
  {
   "cell_type": "code",
   "execution_count": 39,
   "metadata": {},
   "outputs": [],
   "source": [
    "bfgs = pyblp.Optimization('bfgs', {'gtol': 1e-4})\n"
   ]
  },
  {
   "cell_type": "code",
   "execution_count": 40,
   "metadata": {},
   "outputs": [
    {
     "name": "stdout",
     "output_type": "stream",
     "text": [
      "Solving the problem ...\n",
      "\n",
      "Nonlinear Coefficient Initial Values:\n",
      "=====================\n",
      "Sigma:     prices    \n",
      "------  -------------\n",
      "prices  +1.000000E+00\n",
      "=====================\n",
      "Starting optimization ...\n",
      "\n",
      "GMM   Optimization   Objective   Fixed Point  Contraction  Clipped    Objective      Objective      Gradient                  \n",
      "Step   Iterations   Evaluations  Iterations   Evaluations  Shares       Value       Improvement       Norm           Theta    \n",
      "----  ------------  -----------  -----------  -----------  -------  -------------  -------------  -------------  -------------\n",
      " 1         0             1           505         1612         0     +2.962950E-23                 +6.047646E-10  +1.000000E+00\n",
      "\n",
      "Optimization completed after 00:00:01.\n",
      "Computing the Hessian and and updating the weighting matrix ...\n",
      "Computed results after 00:00:02.\n",
      "\n",
      "Problem Results Summary:\n",
      "============================================================================\n",
      "GMM     Objective      Gradient                    Clipped  Weighting Matrix\n",
      "Step      Value          Norm          Hessian     Shares   Condition Number\n",
      "----  -------------  -------------  -------------  -------  ----------------\n",
      " 1    +2.963364E-23  +6.048000E-10  -9.561654E-03     0      +6.054002E+03  \n",
      "============================================================================\n",
      "\n",
      "Starting optimization ...\n",
      "\n",
      "GMM   Optimization   Objective   Fixed Point  Contraction  Clipped    Objective      Objective      Gradient                  \n",
      "Step   Iterations   Evaluations  Iterations   Evaluations  Shares       Value       Improvement       Norm           Theta    \n",
      "----  ------------  -----------  -----------  -----------  -------  -------------  -------------  -------------  -------------\n",
      " 2         0             1            0           100         0     +3.045119E-20                 +6.203326E-08  +1.000000E+00\n",
      "\n",
      "Optimization completed after 00:00:00.\n",
      "Computing the Hessian and estimating standard errors ...\n",
      "Computed results after 00:00:01.\n",
      "\n",
      "Problem Results Summary:\n",
      "===============================================================================================\n",
      "GMM     Objective      Gradient                    Clipped  Weighting Matrix  Covariance Matrix\n",
      "Step      Value          Norm          Hessian     Shares   Condition Number  Condition Number \n",
      "----  -------------  -------------  -------------  -------  ----------------  -----------------\n",
      " 2    +3.045493E-20  +6.203205E-08  +2.387813E-01     0      +6.145505E+03      +1.643717E+17  \n",
      "===============================================================================================\n",
      "\n",
      "Cumulative Statistics:\n",
      "===========================================================================\n",
      "Computation  Optimizer  Optimization   Objective   Fixed Point  Contraction\n",
      "   Time      Converged   Iterations   Evaluations  Iterations   Evaluations\n",
      "-----------  ---------  ------------  -----------  -----------  -----------\n",
      " 00:00:03       Yes          0             4          1010         3424    \n",
      "===========================================================================\n",
      "\n",
      "Nonlinear Coefficient Estimates (Robust SEs in Parentheses):\n",
      "=======================\n",
      "Sigma:      prices     \n",
      "------  ---------------\n",
      "prices   +1.000000E+00 \n",
      "        (+5.130206E-03)\n",
      "=======================\n",
      "\n",
      "Beta Estimates (Robust SEs in Parentheses):\n",
      "==================================================================\n",
      "       1             prices       characteristic1  characteristic2\n",
      "---------------  ---------------  ---------------  ---------------\n",
      " -4.687588E-01    -1.945344E+00    -1.112603E-01    -1.054985E-01 \n",
      "(+5.376943E-04)  (+3.266864E-03)  (+3.241206E-03)  (+4.099943E-03)\n",
      "==================================================================\n"
     ]
    }
   ],
   "source": [
    "results1 = mc_problem.solve(sigma=np.ones((1, 1)), optimization=bfgs)\n"
   ]
  }
 ],
 "metadata": {
  "kernelspec": {
   "display_name": "Python 3",
   "language": "python",
   "name": "python3"
  },
  "language_info": {
   "codemirror_mode": {
    "name": "ipython",
    "version": 3
   },
   "file_extension": ".py",
   "mimetype": "text/x-python",
   "name": "python",
   "nbconvert_exporter": "python",
   "pygments_lexer": "ipython3",
   "version": "3.11.1"
  },
  "orig_nbformat": 4
 },
 "nbformat": 4,
 "nbformat_minor": 2
}
