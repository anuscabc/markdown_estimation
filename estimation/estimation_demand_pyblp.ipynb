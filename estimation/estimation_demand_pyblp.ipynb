{
 "cells": [
  {
   "cell_type": "code",
   "execution_count": 1,
   "metadata": {},
   "outputs": [],
   "source": [
    "import pandas as pd \n",
    "import numpy as np\n",
    "import pyblp\n",
    "from sklearn.linear_model import LinearRegression"
   ]
  },
  {
   "cell_type": "code",
   "execution_count": 2,
   "metadata": {},
   "outputs": [
    {
     "name": "stdout",
     "output_type": "stream",
     "text": [
      "     market_ids  firm_ids  characteristic1  characteristic2    prices  \\\n",
      "0             1         1         4.047376         1.209314  1.716257   \n",
      "1             1         2         3.134003         1.308923  1.198598   \n",
      "2             1         3         3.196618         2.386851  1.428419   \n",
      "3             1         4         3.287350         3.664010  1.631586   \n",
      "4             1         5         4.525845         1.937615  1.919116   \n",
      "..          ...       ...              ...              ...       ...   \n",
      "995         100         6         1.480128         3.105037  0.988448   \n",
      "996         100         7         4.983510         3.079502  2.315147   \n",
      "997         100         8         3.313680         4.540153  1.672204   \n",
      "998         100         9         1.734007         4.104367  1.112679   \n",
      "999         100        10         4.247016         2.383219  1.683754   \n",
      "\n",
      "     marginal_cost    shares   profits   markups  e_quantity   capital  \\\n",
      "0         1.127412  0.000008  0.000004  1.522298    0.076080  0.101466   \n",
      "1         0.755395  0.000011  0.000005  1.586716    0.108882  0.158150   \n",
      "2         0.835973  0.000010  0.000006  1.708691    0.101979  0.149766   \n",
      "3         0.981143  0.000011  0.000007  1.662943    0.109165  0.128831   \n",
      "4         1.319357  0.000009  0.000005  1.454584    0.091145  0.102644   \n",
      "..             ...       ...       ...       ...         ...       ...   \n",
      "995       0.627960  0.000009  0.000003  1.574062    0.088798  0.129763   \n",
      "996       1.953559  0.000009  0.000003  1.185092    0.087751  0.093320   \n",
      "997       1.039002  0.000014  0.000009  1.609433    0.136280  0.166309   \n",
      "998       0.802742  0.000011  0.000004  1.386098    0.112976  0.147209   \n",
      "999       1.050500  0.000013  0.000009  1.602811    0.134237  0.134451   \n",
      "\n",
      "     investment  productivity     labor  indirect_util  \n",
      "0      0.004425     -0.063925  0.001715      -2.236556  \n",
      "1      0.007852     -0.003536  0.001645      -1.810716  \n",
      "2      0.006864     -0.041658  0.001705      -1.903150  \n",
      "3      0.007258      0.063370  0.002142      -1.862824  \n",
      "4      0.005207      0.007297  0.002405      -2.088856  \n",
      "..          ...           ...       ...            ...  \n",
      "995    0.007106      0.047651  0.001115      -2.009295  \n",
      "996    0.004009     -0.070359  0.003429      -2.217986  \n",
      "997    0.008694      0.022736  0.002832      -1.662786  \n",
      "998    0.008159      0.054251  0.001814      -1.780242  \n",
      "999    0.008843      0.157711  0.002820      -1.679631  \n",
      "\n",
      "[1000 rows x 15 columns]\n"
     ]
    }
   ],
   "source": [
    "product_data = pd.read_csv('../data/market_integrates_2.csv')\n",
    "print(product_data)"
   ]
  },
  {
   "cell_type": "code",
   "execution_count": 3,
   "metadata": {},
   "outputs": [],
   "source": [
    "# # Getting the dataset estimation ready with at least a supply_side instrument/ demand_side instrument \n",
    "# product_data_complete = product_data.rename(columns={'labor':'supply_instrument0',\n",
    "#                                                     #   'capital':'supply_instruments1',\n",
    "#                                                         # 'marginal_cost': 'supply_instrument2'\n",
    "#                                                         })\n",
    "\n"
   ]
  },
  {
   "cell_type": "code",
   "execution_count": 4,
   "metadata": {},
   "outputs": [
    {
     "name": "stdout",
     "output_type": "stream",
     "text": [
      "(1 + prices + characteristic1 + characteristic2, prices)\n"
     ]
    }
   ],
   "source": [
    "# the endog regressor\n",
    "X1_formulation = pyblp.Formulation('1  + prices+ characteristic1 + characteristic2')\n",
    "\n",
    "# the only regressor on which we want random coeff \n",
    "X2_formulation = pyblp.Formulation('0 +  prices')\n",
    "\n",
    "# supply side charact \n",
    "# X3_formulation = pyblp.Formulation('1 + log(labor) + log(capital)')\n",
    "\n",
    "# formulation for the cost thing (assume cost fomrulation being labor and capital)\n",
    "product_formulations = (X1_formulation,\n",
    "                         X2_formulation\n",
    "                           #  X3_formulation\n",
    "                           )\n",
    "print(product_formulations)"
   ]
  },
  {
   "cell_type": "code",
   "execution_count": null,
   "metadata": {},
   "outputs": [],
   "source": [
    "\n",
    "\n"
   ]
  },
  {
   "cell_type": "code",
   "execution_count": 5,
   "metadata": {},
   "outputs": [],
   "source": [
    "mc_integration = pyblp.Integration('monte_carlo', size=50, specification_options={'seed': 0})\n"
   ]
  },
  {
   "cell_type": "code",
   "execution_count": 6,
   "metadata": {},
   "outputs": [
    {
     "name": "stdout",
     "output_type": "stream",
     "text": [
      "Initializing the problem ...\n",
      "Initialized the problem after 00:00:00.\n",
      "\n",
      "Dimensions:\n",
      "======================================\n",
      " T    N     F    I     K1    K2    MD \n",
      "---  ----  ---  ----  ----  ----  ----\n",
      "100  1000  10   5000   4     1     3  \n",
      "======================================\n",
      "\n",
      "Formulations:\n",
      "===============================================================================\n",
      "       Column Indices:           0       1            2                3       \n",
      "-----------------------------  ------  ------  ---------------  ---------------\n",
      " X1: Linear Characteristics      1     prices  characteristic1  characteristic2\n",
      "X2: Nonlinear Characteristics  prices                                          \n",
      "===============================================================================\n",
      "Dimensions:\n",
      "======================================\n",
      " T    N     F    I     K1    K2    MD \n",
      "---  ----  ---  ----  ----  ----  ----\n",
      "100  1000  10   5000   4     1     3  \n",
      "======================================\n",
      "\n",
      "Formulations:\n",
      "===============================================================================\n",
      "       Column Indices:           0       1            2                3       \n",
      "-----------------------------  ------  ------  ---------------  ---------------\n",
      " X1: Linear Characteristics      1     prices  characteristic1  characteristic2\n",
      "X2: Nonlinear Characteristics  prices                                          \n",
      "===============================================================================\n"
     ]
    }
   ],
   "source": [
    "mc_problem = pyblp.Problem(product_formulations, product_data, integration=mc_integration, add_exogenous=True)\n",
    "print(mc_problem)"
   ]
  },
  {
   "cell_type": "code",
   "execution_count": 7,
   "metadata": {},
   "outputs": [],
   "source": [
    "bfgs = pyblp.Optimization('bfgs', {'gtol': 1e-4})\n"
   ]
  },
  {
   "cell_type": "code",
   "execution_count": 8,
   "metadata": {},
   "outputs": [
    {
     "name": "stdout",
     "output_type": "stream",
     "text": [
      "Solving the problem ...\n",
      "\n",
      "Nonlinear Coefficient Initial Values:\n",
      "=====================\n",
      "Sigma:     prices    \n",
      "------  -------------\n",
      "prices  +1.000000E+00\n",
      "=====================\n",
      "Starting optimization ...\n",
      "\n",
      "GMM   Optimization   Objective   Fixed Point  Contraction  Clipped    Objective      Objective      Gradient                  \n",
      "Step   Iterations   Evaluations  Iterations   Evaluations  Shares       Value       Improvement       Norm           Theta    \n",
      "----  ------------  -----------  -----------  -----------  -------  -------------  -------------  -------------  -------------\n",
      " 1         0             1           199          599         0     +1.603008E-23                 +1.108898E-10  +1.000000E+00\n",
      "\n",
      "Optimization completed after 00:00:00.\n",
      "Computing the Hessian and and updating the weighting matrix ...\n",
      "Computed results after 00:00:01.\n",
      "\n",
      "Problem Results Summary:\n",
      "============================================================================\n",
      "GMM     Objective      Gradient                    Clipped  Weighting Matrix\n",
      "Step      Value          Norm          Hessian     Shares   Condition Number\n",
      "----  -------------  -------------  -------------  -------  ----------------\n",
      " 1    +1.602958E-23  +1.108710E-10  +1.290212E-02     0      +6.149326E+02  \n",
      "============================================================================\n",
      "\n",
      "Starting optimization ...\n",
      "\n",
      "GMM   Optimization   Objective   Fixed Point  Contraction  Clipped    Objective      Objective      Gradient                  \n",
      "Step   Iterations   Evaluations  Iterations   Evaluations  Shares       Value       Improvement       Norm           Theta    \n",
      "----  ------------  -----------  -----------  -----------  -------  -------------  -------------  -------------  -------------\n",
      " 2         0             1            0           100         0     +1.395465E-22                 +3.508155E-09  +1.000000E+00\n",
      "\n",
      "Optimization completed after 00:00:00.\n",
      "Computing the Hessian and estimating standard errors ...\n",
      "Computed results after 00:00:01.\n",
      "\n",
      "Problem Results Summary:\n",
      "===============================================================================================\n",
      "GMM     Objective      Gradient                    Clipped  Weighting Matrix  Covariance Matrix\n",
      "Step      Value          Norm          Hessian     Shares   Condition Number  Condition Number \n",
      "----  -------------  -------------  -------------  -------  ----------------  -----------------\n",
      " 2    +1.395465E-22  +3.508155E-09  -1.187902E-01     0      +8.782194E+02      +1.864041E+17  \n",
      "===============================================================================================\n",
      "\n",
      "Cumulative Statistics:\n",
      "===========================================================================\n",
      "Computation  Optimizer  Optimization   Objective   Fixed Point  Contraction\n",
      "   Time      Converged   Iterations   Evaluations  Iterations   Evaluations\n",
      "-----------  ---------  ------------  -----------  -----------  -----------\n",
      " 00:00:02       Yes          0             4           398         1398    \n",
      "===========================================================================\n",
      "\n",
      "Nonlinear Coefficient Estimates (Robust SEs in Parentheses):\n",
      "=======================\n",
      "Sigma:      prices     \n",
      "------  ---------------\n",
      "prices   +1.000000E+00 \n",
      "        (+2.909392E-02)\n",
      "=======================\n",
      "\n",
      "Beta Estimates (Robust SEs in Parentheses):\n",
      "==================================================================\n",
      "       1             prices       characteristic1  characteristic2\n",
      "---------------  ---------------  ---------------  ---------------\n",
      " -1.090947E+01    -2.271434E+00    +3.724449E-01    +2.054374E-01 \n",
      "(+3.316760E-02)  (+9.844471E-03)  (+9.849473E-03)  (+8.444306E-03)\n",
      "==================================================================\n"
     ]
    }
   ],
   "source": [
    "results1 = mc_problem.solve(sigma=np.ones((1, 1)), optimization=bfgs)\n"
   ]
  }
 ],
 "metadata": {
  "kernelspec": {
   "display_name": "Python 3",
   "language": "python",
   "name": "python3"
  },
  "language_info": {
   "codemirror_mode": {
    "name": "ipython",
    "version": 3
   },
   "file_extension": ".py",
   "mimetype": "text/x-python",
   "name": "python",
   "nbconvert_exporter": "python",
   "pygments_lexer": "ipython3",
   "version": "3.11.1"
  },
  "orig_nbformat": 4
 },
 "nbformat": 4,
 "nbformat_minor": 2
}
