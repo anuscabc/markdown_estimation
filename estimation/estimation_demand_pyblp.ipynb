{
 "cells": [
  {
   "cell_type": "code",
   "execution_count": 50,
   "metadata": {},
   "outputs": [],
   "source": [
    "import pandas as pd \n",
    "import numpy as np\n",
    "import pyblp\n",
    "from sklearn.linear_model import LinearRegression"
   ]
  },
  {
   "cell_type": "code",
   "execution_count": 51,
   "metadata": {},
   "outputs": [
    {
     "name": "stdout",
     "output_type": "stream",
     "text": [
      "     market_ids  firm_ids  characteristic1  characteristic2    prices  \\\n",
      "0             1         1         3.222649         1.217506  5.057337   \n",
      "1             1         2         3.263651         1.515093  4.808937   \n",
      "2             1         3         4.932264         2.045617  4.516279   \n",
      "3             1         4         3.516152         3.611320  4.596241   \n",
      "4             1         5         1.570786         5.165628  4.580161   \n",
      "..          ...       ...              ...              ...       ...   \n",
      "995         100         6         1.069992         1.840119  5.472291   \n",
      "996         100         7         5.183309         2.230919  4.578464   \n",
      "997         100         8         5.211012         4.522679  4.095501   \n",
      "998         100         9         4.434760         2.509379  4.555555   \n",
      "999         100        10         1.250220         4.450655  4.737362   \n",
      "\n",
      "     marginal_cost    shares   profits   markups  e_quantity    capital  \\\n",
      "0         4.261728  0.001142  0.000909  1.186687   11.419550  15.000000   \n",
      "1         4.022228  0.001427  0.001123  1.195590   14.273178  15.000000   \n",
      "2         3.739330  0.001086  0.000844  1.207778   10.862946  15.000000   \n",
      "3         3.816864  0.000934  0.000728  1.204193    9.340450  15.000000   \n",
      "4         3.800955  0.001073  0.000836  1.205003   10.729375  15.000000   \n",
      "..             ...       ...       ...       ...         ...        ...   \n",
      "995       4.666035  0.001052  0.000848  1.172793   10.521225  13.942564   \n",
      "996       3.804417  0.000875  0.000677  1.203460    8.751466  14.672025   \n",
      "997       3.338072  0.000835  0.000632  1.226906    8.346195  15.632831   \n",
      "998       3.779178  0.001039  0.000807  1.205435   10.388630  19.889085   \n",
      "999       3.958098  0.001185  0.000924  1.196878   11.854537  17.984654   \n",
      "\n",
      "     investment  productivity     labor  indirect_util  \n",
      "0      0.678647     -0.047569  1.946681      -7.838627  \n",
      "1      0.864535      0.076357  2.296399      -7.522388  \n",
      "2      0.766357      0.010904  1.624806      -7.689871  \n",
      "3      0.657285     -0.061810  1.426049      -7.869246  \n",
      "4      0.744222     -0.003852  1.631275      -7.724881  \n",
      "..          ...           ...       ...            ...  \n",
      "995    0.550061     -0.105481  1.963696      -8.077579  \n",
      "996    0.620538     -0.077061  1.331769      -7.925371  \n",
      "997    0.714518     -0.042937  1.114408      -7.808853  \n",
      "998    0.743530     -0.126162  1.570419      -7.745810  \n",
      "999    0.789785     -0.060856  1.876857      -7.678637  \n",
      "\n",
      "[1000 rows x 15 columns]\n"
     ]
    }
   ],
   "source": [
    "product_data = pd.read_csv('../data/market_integrates_1.csv')\n",
    "print(product_data)"
   ]
  },
  {
   "cell_type": "code",
   "execution_count": 52,
   "metadata": {},
   "outputs": [],
   "source": [
    "# Getting the dataset estimation ready with at least a supply_side instrument/ demand_side instrument \n",
    "product_data_complete = product_data.rename(columns={'labor':'supply_instrument0',\n",
    "                                                      'capital':'supply_instruments1',\n",
    "                                                        # 'marginal_cost': 'supply_instrument2'\n",
    "                                                        })\n",
    "\n"
   ]
  },
  {
   "cell_type": "code",
   "execution_count": 53,
   "metadata": {},
   "outputs": [
    {
     "name": "stdout",
     "output_type": "stream",
     "text": [
      "(1 + prices + characteristic1 + characteristic2, prices)\n"
     ]
    }
   ],
   "source": [
    "# the endog regressor\n",
    "X1_formulation = pyblp.Formulation('1  + prices+ characteristic1 + characteristic2')\n",
    "\n",
    "# the only regressor on which we want random coeff \n",
    "X2_formulation = pyblp.Formulation('0 +  prices')\n",
    "\n",
    "# supply side charact \n",
    "# X3_formulation = pyblp.Formulation('1 + log(labor) + log(capital)')\n",
    "\n",
    "# formulation for the cost thing (assume cost fomrulation being labor and capital)\n",
    "product_formulations = (X1_formulation,\n",
    "                         X2_formulation\n",
    "                           #  X3_formulation\n",
    "                           )\n",
    "print(product_formulations)"
   ]
  },
  {
   "cell_type": "code",
   "execution_count": 54,
   "metadata": {},
   "outputs": [],
   "source": [
    "mc_integration = pyblp.Integration('monte_carlo', size=1000, specification_options={'seed': 0})\n"
   ]
  },
  {
   "cell_type": "code",
   "execution_count": 55,
   "metadata": {},
   "outputs": [
    {
     "name": "stdout",
     "output_type": "stream",
     "text": [
      "Initializing the problem ...\n",
      "Initialized the problem after 00:00:00.\n",
      "\n",
      "Dimensions:\n",
      "========================================\n",
      " T    N     F     I      K1    K2    MD \n",
      "---  ----  ---  ------  ----  ----  ----\n",
      "100  1000  10   100000   4     1     3  \n",
      "========================================\n",
      "\n",
      "Formulations:\n",
      "===============================================================================\n",
      "       Column Indices:           0       1            2                3       \n",
      "-----------------------------  ------  ------  ---------------  ---------------\n",
      " X1: Linear Characteristics      1     prices  characteristic1  characteristic2\n",
      "X2: Nonlinear Characteristics  prices                                          \n",
      "===============================================================================\n",
      "Dimensions:\n",
      "========================================\n",
      " T    N     F     I      K1    K2    MD \n",
      "---  ----  ---  ------  ----  ----  ----\n",
      "100  1000  10   100000   4     1     3  \n",
      "========================================\n",
      "\n",
      "Formulations:\n",
      "===============================================================================\n",
      "       Column Indices:           0       1            2                3       \n",
      "-----------------------------  ------  ------  ---------------  ---------------\n",
      " X1: Linear Characteristics      1     prices  characteristic1  characteristic2\n",
      "X2: Nonlinear Characteristics  prices                                          \n",
      "===============================================================================\n"
     ]
    }
   ],
   "source": [
    "mc_problem = pyblp.Problem(product_formulations, product_data_complete\n",
    "                           , integration=mc_integration, add_exogenous=True)\n",
    "print(mc_problem)"
   ]
  },
  {
   "cell_type": "code",
   "execution_count": 56,
   "metadata": {},
   "outputs": [],
   "source": [
    "bfgs = pyblp.Optimization('bfgs', {'gtol': 1e-4})\n"
   ]
  },
  {
   "cell_type": "code",
   "execution_count": 57,
   "metadata": {},
   "outputs": [
    {
     "name": "stdout",
     "output_type": "stream",
     "text": [
      "Solving the problem ...\n",
      "\n",
      "Nonlinear Coefficient Initial Values:\n",
      "=====================\n",
      "Sigma:     prices    \n",
      "------  -------------\n",
      "prices  +1.000000E+00\n",
      "=====================\n",
      "Starting optimization ...\n",
      "\n"
     ]
    },
    {
     "name": "stdout",
     "output_type": "stream",
     "text": [
      "GMM   Optimization   Objective   Fixed Point  Contraction  Clipped    Objective      Objective      Gradient                  \n",
      "Step   Iterations   Evaluations  Iterations   Evaluations  Shares       Value       Improvement       Norm           Theta    \n",
      "----  ------------  -----------  -----------  -----------  -------  -------------  -------------  -------------  -------------\n",
      " 1         0             1           568         1799         0     +1.173851E-24                 +5.418664E-10  +1.000000E+00\n",
      "\n",
      "Optimization completed after 00:00:01.\n",
      "Computing the Hessian and and updating the weighting matrix ...\n",
      "Computed results after 00:00:02.\n",
      "\n",
      "Problem Results Summary:\n",
      "============================================================================\n",
      "GMM     Objective      Gradient                    Clipped  Weighting Matrix\n",
      "Step      Value          Norm          Hessian     Shares   Condition Number\n",
      "----  -------------  -------------  -------------  -------  ----------------\n",
      " 1    +1.165448E-24  +5.401608E-10  -2.824702E-02     0      +3.094044E+02  \n",
      "============================================================================\n",
      "\n",
      "Starting optimization ...\n",
      "\n",
      "GMM   Optimization   Objective   Fixed Point  Contraction  Clipped    Objective      Objective      Gradient                  \n",
      "Step   Iterations   Evaluations  Iterations   Evaluations  Shares       Value       Improvement       Norm           Theta    \n",
      "----  ------------  -----------  -----------  -----------  -------  -------------  -------------  -------------  -------------\n",
      " 2         0             1            0           100         0     +5.205560E-24                 +2.370657E-09  +1.000000E+00\n",
      "\n",
      "Optimization completed after 00:00:00.\n",
      "Computing the Hessian and estimating standard errors ...\n",
      "Computed results after 00:00:01.\n",
      "\n",
      "Problem Results Summary:\n",
      "===============================================================================================\n",
      "GMM     Objective      Gradient                    Clipped  Weighting Matrix  Covariance Matrix\n",
      "Step      Value          Norm          Hessian     Shares   Condition Number  Condition Number \n",
      "----  -------------  -------------  -------------  -------  ----------------  -----------------\n",
      " 2    +5.205560E-24  +2.370657E-09  +6.432699E-02     0      +2.589656E+02      +1.652884E+17  \n",
      "===============================================================================================\n",
      "\n",
      "Cumulative Statistics:\n",
      "===========================================================================\n",
      "Computation  Optimizer  Optimization   Objective   Fixed Point  Contraction\n",
      "   Time      Converged   Iterations   Evaluations  Iterations   Evaluations\n",
      "-----------  ---------  ------------  -----------  -----------  -----------\n",
      " 00:00:04       Yes          0             4          1135         3796    \n",
      "===========================================================================\n",
      "\n",
      "Nonlinear Coefficient Estimates (Robust SEs in Parentheses):\n",
      "=======================\n",
      "Sigma:      prices     \n",
      "------  ---------------\n",
      "prices   +1.000000E+00 \n",
      "        (+3.462216E-03)\n",
      "=======================\n",
      "\n",
      "Beta Estimates (Robust SEs in Parentheses):\n",
      "==================================================================\n",
      "       1             prices       characteristic1  characteristic2\n",
      "---------------  ---------------  ---------------  ---------------\n",
      " -4.725690E-01    -2.683603E+00    -1.208193E-01    -1.141070E-01 \n",
      "(+2.009667E-04)  (+1.087390E-03)  (+7.585110E-03)  (+8.885065E-03)\n",
      "==================================================================\n"
     ]
    }
   ],
   "source": [
    "results1 = mc_problem.solve(sigma=np.ones((1, 1)), optimization=bfgs)\n"
   ]
  }
 ],
 "metadata": {
  "kernelspec": {
   "display_name": "Python 3",
   "language": "python",
   "name": "python3"
  },
  "language_info": {
   "codemirror_mode": {
    "name": "ipython",
    "version": 3
   },
   "file_extension": ".py",
   "mimetype": "text/x-python",
   "name": "python",
   "nbconvert_exporter": "python",
   "pygments_lexer": "ipython3",
   "version": "3.11.1"
  },
  "orig_nbformat": 4
 },
 "nbformat": 4,
 "nbformat_minor": 2
}
