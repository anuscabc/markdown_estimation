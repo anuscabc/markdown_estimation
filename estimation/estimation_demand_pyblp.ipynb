{
 "cells": [
  {
   "cell_type": "code",
   "execution_count": 10,
   "metadata": {},
   "outputs": [],
   "source": [
    "import pandas as pd \n",
    "import numpy as np\n",
    "import pyblp\n",
    "from sklearn.linear_model import LinearRegression"
   ]
  },
  {
   "cell_type": "code",
   "execution_count": 11,
   "metadata": {},
   "outputs": [
    {
     "name": "stdout",
     "output_type": "stream",
     "text": [
      "     market_ids  firm_ids  characteristic1  characteristic2      prices  \\\n",
      "0             1         1         5.433865         1.380927   28.763676   \n",
      "1             1         2         5.907737         4.714381   34.087701   \n",
      "2             1         3         5.943911         2.569512   29.428713   \n",
      "3             1         4         5.329441         8.604975   46.868650   \n",
      "4             1         5         5.083033         2.233709   31.553979   \n",
      "..          ...       ...              ...              ...         ...   \n",
      "995         100         6         5.360283         6.225416   40.387160   \n",
      "996         100         7         5.958183         6.851203   41.990144   \n",
      "997         100         8         5.184745         4.121598   40.690043   \n",
      "998         100         9         5.223118         5.184629   43.004231   \n",
      "999         100        10         5.019838         7.083520  556.469894   \n",
      "\n",
      "     marginal_cost        shares       profits       markups    e_quantity  \\\n",
      "0     2.123684e+01  5.886947e-02  4.431011e-01  1.354424e+00  2.943473e+01   \n",
      "1     2.613052e+01  6.782940e-02  5.397307e-01  1.304517e+00  3.391470e+01   \n",
      "2     2.184148e+01  6.016684e-02  4.564996e-01  1.347377e+00  3.008342e+01   \n",
      "3     3.825548e+01  7.296150e-02  6.284298e-01  1.225149e+00  3.648075e+01   \n",
      "4     2.378422e+01  6.512382e-02  5.059961e-01  1.326677e+00  3.256191e+01   \n",
      "..             ...           ...           ...           ...           ...   \n",
      "995   3.184053e+01  1.036124e-01  8.855373e-01  1.268420e+00  5.180622e+01   \n",
      "996   3.344086e+01  7.784081e-02  6.654834e-01  1.255654e+00  3.892041e+01   \n",
      "997   3.228883e+01  5.821238e-02  4.890549e-01  1.260190e+00  2.910619e+01   \n",
      "998   3.446292e+01  6.111089e-02  5.219674e-01  1.247841e+00  3.055545e+01   \n",
      "999   2.794077e-46  6.594176e-22  3.669461e-19  1.991605e+48  3.297088e-19   \n",
      "\n",
      "       capital  investment  productivity         labor  \n",
      "0    10.115080    0.195071     -0.043878  1.469414e+01  \n",
      "1     9.848192    0.496338      0.000570  2.162660e+01  \n",
      "2    10.052510    0.254200     -0.035304  1.558032e+01  \n",
      "3     9.841924    0.061158     -0.062551  3.408762e+01  \n",
      "4     9.900945    0.486763     -0.001195  1.875870e+01  \n",
      "..         ...         ...           ...           ...  \n",
      "995  21.717484    1.335341      0.016410  1.330393e+01  \n",
      "996  11.902408    0.344252     -0.030110  2.436224e+01  \n",
      "997   6.076612    0.156024     -0.034748  4.508818e+01  \n",
      "998   7.672343   -0.075957     -0.085572  3.644959e+01  \n",
      "999  20.777852    0.776058     -0.018071  7.904590e-67  \n",
      "\n",
      "[1000 rows x 14 columns]\n"
     ]
    }
   ],
   "source": [
    "product_data = pd.read_csv('../data/market_integrates_100.csv')\n",
    "print(product_data)"
   ]
  },
  {
   "cell_type": "code",
   "execution_count": 12,
   "metadata": {},
   "outputs": [
    {
     "name": "stdout",
     "output_type": "stream",
     "text": [
      "     market_ids  firm_ids  characteristic1  characteristic2      prices  \\\n",
      "0             1         1         5.433865         1.380927   28.763676   \n",
      "1             1         2         5.907737         4.714381   34.087701   \n",
      "2             1         3         5.943911         2.569512   29.428713   \n",
      "3             1         4         5.329441         8.604975   46.868650   \n",
      "4             1         5         5.083033         2.233709   31.553979   \n",
      "..          ...       ...              ...              ...         ...   \n",
      "995         100         6         5.360283         6.225416   40.387160   \n",
      "996         100         7         5.958183         6.851203   41.990144   \n",
      "997         100         8         5.184745         4.121598   40.690043   \n",
      "998         100         9         5.223118         5.184629   43.004231   \n",
      "999         100        10         5.019838         7.083520  556.469894   \n",
      "\n",
      "     marginal_cost        shares       profits       markups    e_quantity  \\\n",
      "0     2.123684e+01  5.886947e-02  4.431011e-01  1.354424e+00  2.943473e+01   \n",
      "1     2.613052e+01  6.782940e-02  5.397307e-01  1.304517e+00  3.391470e+01   \n",
      "2     2.184148e+01  6.016684e-02  4.564996e-01  1.347377e+00  3.008342e+01   \n",
      "3     3.825548e+01  7.296150e-02  6.284298e-01  1.225149e+00  3.648075e+01   \n",
      "4     2.378422e+01  6.512382e-02  5.059961e-01  1.326677e+00  3.256191e+01   \n",
      "..             ...           ...           ...           ...           ...   \n",
      "995   3.184053e+01  1.036124e-01  8.855373e-01  1.268420e+00  5.180622e+01   \n",
      "996   3.344086e+01  7.784081e-02  6.654834e-01  1.255654e+00  3.892041e+01   \n",
      "997   3.228883e+01  5.821238e-02  4.890549e-01  1.260190e+00  2.910619e+01   \n",
      "998   3.446292e+01  6.111089e-02  5.219674e-01  1.247841e+00  3.055545e+01   \n",
      "999   2.794077e-46  6.594176e-22  3.669461e-19  1.991605e+48  3.297088e-19   \n",
      "\n",
      "     demand_instruments1  investment  productivity  demand_instrument0  \n",
      "0              10.115080    0.195071     -0.043878        1.469414e+01  \n",
      "1               9.848192    0.496338      0.000570        2.162660e+01  \n",
      "2              10.052510    0.254200     -0.035304        1.558032e+01  \n",
      "3               9.841924    0.061158     -0.062551        3.408762e+01  \n",
      "4               9.900945    0.486763     -0.001195        1.875870e+01  \n",
      "..                   ...         ...           ...                 ...  \n",
      "995            21.717484    1.335341      0.016410        1.330393e+01  \n",
      "996            11.902408    0.344252     -0.030110        2.436224e+01  \n",
      "997             6.076612    0.156024     -0.034748        4.508818e+01  \n",
      "998             7.672343   -0.075957     -0.085572        3.644959e+01  \n",
      "999            20.777852    0.776058     -0.018071        7.904590e-67  \n",
      "\n",
      "[1000 rows x 14 columns]\n"
     ]
    }
   ],
   "source": [
    "# Getting the dataset estimation ready with at least a supply_side instrument/ demand_side instrument \n",
    "product_data_complete = product_data.rename(columns={'labor':'demand_instrument0', 'capital':'demand_instruments1'})\n",
    "print(product_data_complete)\n",
    "\n"
   ]
  },
  {
   "cell_type": "code",
   "execution_count": 13,
   "metadata": {},
   "outputs": [
    {
     "name": "stdout",
     "output_type": "stream",
     "text": [
      "(1 + prices + characteristic1 + characteristic2, prices)\n"
     ]
    }
   ],
   "source": [
    "# the endog regressor\n",
    "X1_formulation = pyblp.Formulation('1 + prices + characteristic1 + characteristic2')\n",
    "\n",
    "# the only regressor on which we want random coeff \n",
    "X2_formulation = pyblp.Formulation('0 +  prices')\n",
    "\n",
    "product_formulations = (X1_formulation, X2_formulation)\n",
    "print(product_formulations)"
   ]
  },
  {
   "cell_type": "code",
   "execution_count": 14,
   "metadata": {},
   "outputs": [],
   "source": [
    "mc_integration = pyblp.Integration('monte_carlo', size=50, specification_options={'seed': 0})\n"
   ]
  },
  {
   "cell_type": "code",
   "execution_count": 15,
   "metadata": {},
   "outputs": [],
   "source": [
    "pr_integration = pyblp.Integration('product', size=5)\n"
   ]
  },
  {
   "cell_type": "code",
   "execution_count": 16,
   "metadata": {},
   "outputs": [
    {
     "name": "stdout",
     "output_type": "stream",
     "text": [
      "Initializing the problem ...\n",
      "Initialized the problem after 00:00:00.\n",
      "\n",
      "Dimensions:\n",
      "======================================\n",
      " T    N     F    I     K1    K2    MD \n",
      "---  ----  ---  ----  ----  ----  ----\n",
      "100  1000  10   5000   4     1     3  \n",
      "======================================\n",
      "\n",
      "Formulations:\n",
      "===============================================================================\n",
      "       Column Indices:           0       1            2                3       \n",
      "-----------------------------  ------  ------  ---------------  ---------------\n",
      " X1: Linear Characteristics      1     prices  characteristic1  characteristic2\n",
      "X2: Nonlinear Characteristics  prices                                          \n",
      "===============================================================================\n",
      "Dimensions:\n",
      "======================================\n",
      " T    N     F    I     K1    K2    MD \n",
      "---  ----  ---  ----  ----  ----  ----\n",
      "100  1000  10   5000   4     1     3  \n",
      "======================================\n",
      "\n",
      "Formulations:\n",
      "===============================================================================\n",
      "       Column Indices:           0       1            2                3       \n",
      "-----------------------------  ------  ------  ---------------  ---------------\n",
      " X1: Linear Characteristics      1     prices  characteristic1  characteristic2\n",
      "X2: Nonlinear Characteristics  prices                                          \n",
      "===============================================================================\n"
     ]
    },
    {
     "name": "stderr",
     "output_type": "stream",
     "text": [
      "'demand_instruments1' was specified but not 'demand_instruments0'.\n"
     ]
    }
   ],
   "source": [
    "mc_problem = pyblp.Problem(product_formulations, product_data_complete, integration=mc_integration)\n",
    "print(mc_problem)"
   ]
  },
  {
   "cell_type": "code",
   "execution_count": 17,
   "metadata": {},
   "outputs": [],
   "source": [
    "bfgs = pyblp.Optimization('bfgs', {'gtol': 1e-4})\n"
   ]
  },
  {
   "cell_type": "code",
   "execution_count": 18,
   "metadata": {},
   "outputs": [
    {
     "name": "stdout",
     "output_type": "stream",
     "text": [
      "Solving the problem ...\n",
      "\n",
      "Nonlinear Coefficient Initial Values:\n",
      "=====================\n",
      "Sigma:     prices    \n",
      "------  -------------\n",
      "prices  +1.000000E+00\n",
      "=====================\n",
      "Starting optimization ...\n",
      "\n",
      "GMM   Optimization   Objective   Fixed Point  Contraction  Clipped    Objective      Objective      Gradient                  \n",
      "Step   Iterations   Evaluations  Iterations   Evaluations  Shares       Value       Improvement       Norm           Theta    \n",
      "----  ------------  -----------  -----------  -----------  -------  -------------  -------------  -------------  -------------\n",
      " 1         0             1          7211         21753        9     +4.043380E+12                 +6.439616E+07  +1.000000E+00\n",
      "\n",
      "At least one error was encountered. As long as the optimization routine does not get stuck at values of theta that give rise to errors, this is not necessarily a problem. If the errors persist or seem to be impacting the optimization results, consider setting an error punishment or following any of the other suggestions below:\n",
      "The fixed point computation of delta failed to converge. This problem can sometimes be mitigated by increasing the maximum number of fixed point iterations, increasing the fixed point tolerance, choosing more reasonable initial parameter values, setting more conservative parameter or share bounds, or using different iteration or optimization configurations.\n",
      "\n",
      " 1         0             2          5441         16456        0     +5.983200E-23  +4.043380E+12  +1.011045E-10  -1.000000E-02\n",
      "\n",
      "Optimization completed after 00:00:03.\n",
      "Computing the Hessian and and updating the weighting matrix ...\n",
      "\n",
      "The fixed point computation of delta failed to converge. This problem can sometimes be mitigated by increasing the maximum number of fixed point iterations, increasing the fixed point tolerance, choosing more reasonable initial parameter values, setting more conservative parameter or share bounds, or using different iteration or optimization configurations.\n",
      "\n",
      "Computed results after 00:00:05.\n",
      "\n",
      "Problem Results Summary:\n",
      "============================================================================\n",
      "GMM     Objective      Gradient                    Clipped  Weighting Matrix\n",
      "Step      Value          Norm          Hessian     Shares   Condition Number\n",
      "----  -------------  -------------  -------------  -------  ----------------\n",
      " 1    +5.979879E-23  +1.090725E-10  +2.679326E-01     0      +1.553906E+04  \n",
      "============================================================================\n",
      "\n",
      "Starting optimization ...\n",
      "\n",
      "\n",
      "At least one error was encountered. As long as the optimization routine does not get stuck at values of theta that give rise to errors, this is not necessarily a problem. If the errors persist or seem to be impacting the optimization results, consider setting an error punishment or following any of the other suggestions below:\n",
      "The fixed point computation of delta failed to converge. This problem can sometimes be mitigated by increasing the maximum number of fixed point iterations, increasing the fixed point tolerance, choosing more reasonable initial parameter values, setting more conservative parameter or share bounds, or using different iteration or optimization configurations.\n",
      "\n",
      "GMM   Optimization   Objective   Fixed Point  Contraction  Clipped    Objective      Objective      Gradient                  \n",
      "Step   Iterations   Evaluations  Iterations   Evaluations  Shares       Value       Improvement       Norm           Theta    \n",
      "----  ------------  -----------  -----------  -----------  -------  -------------  -------------  -------------  -------------\n",
      " 2         0             1          6664         20097        0     +1.002156E-22                 +2.590496E-09  -1.000000E-02\n",
      "\n",
      "Optimization completed after 00:00:02.\n",
      "Computing the Hessian and estimating standard errors ...\n",
      "\n",
      "The fixed point computation of delta failed to converge. This problem can sometimes be mitigated by increasing the maximum number of fixed point iterations, increasing the fixed point tolerance, choosing more reasonable initial parameter values, setting more conservative parameter or share bounds, or using different iteration or optimization configurations.\n",
      "\n",
      "Computed results after 00:00:04.\n",
      "\n",
      "Problem Results Summary:\n",
      "===============================================================================================\n",
      "GMM     Objective      Gradient                    Clipped  Weighting Matrix  Covariance Matrix\n",
      "Step      Value          Norm          Hessian     Shares   Condition Number  Condition Number \n",
      "----  -------------  -------------  -------------  -------  ----------------  -----------------\n",
      " 2    +1.002107E-22  +2.590508E-09  -3.498640E-03     0      +3.048537E+04      +1.227243E+19  \n",
      "===============================================================================================\n",
      "\n",
      "Cumulative Statistics:\n",
      "===========================================================================\n",
      "Computation  Optimizer  Optimization   Objective   Fixed Point  Contraction\n",
      "   Time      Converged   Iterations   Evaluations  Iterations   Evaluations\n",
      "-----------  ---------  ------------  -----------  -----------  -----------\n",
      " 00:00:14       Yes          1             5          31421        94859   \n",
      "===========================================================================\n",
      "\n",
      "Nonlinear Coefficient Estimates (Robust SEs in Parentheses):\n",
      "=======================\n",
      "Sigma:      prices     \n",
      "------  ---------------\n",
      "prices   -1.000000E-02 \n",
      "        (+6.761999E-03)\n",
      "=======================\n",
      "\n",
      "Beta Estimates (Robust SEs in Parentheses):\n",
      "==================================================================\n",
      "       1             prices       characteristic1  characteristic2\n",
      "---------------  ---------------  ---------------  ---------------\n",
      " +2.051605E-02    -8.885528E-02    +1.677470E-01    +1.576171E-01 \n",
      "(+8.078578E-03)  (+6.915259E-03)  (+8.447837E-03)  (+9.879681E-02)\n",
      "==================================================================\n"
     ]
    }
   ],
   "source": [
    "results1 = mc_problem.solve(sigma=np.ones((1, 1)), optimization=bfgs)\n"
   ]
  },
  {
   "cell_type": "code",
   "execution_count": null,
   "metadata": {},
   "outputs": [],
   "source": []
  }
 ],
 "metadata": {
  "kernelspec": {
   "display_name": "Python 3",
   "language": "python",
   "name": "python3"
  },
  "language_info": {
   "codemirror_mode": {
    "name": "ipython",
    "version": 3
   },
   "file_extension": ".py",
   "mimetype": "text/x-python",
   "name": "python",
   "nbconvert_exporter": "python",
   "pygments_lexer": "ipython3",
   "version": "3.11.1"
  },
  "orig_nbformat": 4
 },
 "nbformat": 4,
 "nbformat_minor": 2
}
