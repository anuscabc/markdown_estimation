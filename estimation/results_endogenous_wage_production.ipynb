{
 "cells": [
  {
   "cell_type": "code",
   "execution_count": 5,
   "metadata": {},
   "outputs": [],
   "source": [
    "import numpy as np\n",
    "import pandas as pd\n",
    "import matplotlib.pyplot as plt\n",
    "\n",
    "\n",
    "from matplotlib import rc\n",
    "rc('font', **{'family': 'serif', 'serif': ['Computer Modern']})\n",
    "rc('text', usetex=True)"
   ]
  },
  {
   "cell_type": "code",
   "execution_count": 6,
   "metadata": {},
   "outputs": [],
   "source": [
    "# Create an empty list to store the DataFrames\n",
    "dfs = []\n",
    "\n",
    "N_sims = 15\n",
    "\n",
    "# Loop through the file names\n",
    "for i in range(1, N_sims + 1):\n",
    "    file_name = f'../data/data_endogenouswage/values_estimation_production_{i}.csv'  # Assuming the files are in CSV format\n",
    "    \n",
    "    # Read the file as a DataFrame\n",
    "    df = pd.read_csv(file_name)\n",
    "    \n",
    "    # Add a simulation number column\n",
    "    df['simulation_number'] = i\n",
    "    \n",
    "    # Append the DataFrame to the list\n",
    "    dfs.append(df)\n",
    "\n",
    "# Concatenate all the DataFrames into one\n",
    "combined_df = pd.concat(dfs, ignore_index=True)"
   ]
  },
  {
   "cell_type": "code",
   "execution_count": 7,
   "metadata": {},
   "outputs": [
    {
     "name": "stdout",
     "output_type": "stream",
     "text": [
      "      bl_ols    bk_ols  bl_xtreg  bk_xtreb  bk_acfest  bl_acfest     bl_op  \\\n",
      "0   0.606467  0.440534  0.625225  0.350476   1.244658   1.732292  0.600020   \n",
      "1   0.612952  0.515256  0.676502  0.403085   1.740513   2.112899  0.599957   \n",
      "2   0.622559  0.422305  0.673709  0.313464   1.297127   1.921700  0.600020   \n",
      "3   0.612071  0.440157  0.650357  0.292757   1.277801   1.794741  0.600015   \n",
      "4   0.626053  0.471568  0.784322  0.300166   1.224836   1.634059  0.599920   \n",
      "5   0.603155  0.540910  0.644302  0.475047   1.618281   1.806713  0.599993   \n",
      "6   0.605118  0.456703  0.623158  0.379106   1.394059   1.859277  0.600008   \n",
      "7   0.610177  0.457995  0.696206  0.296383   1.143649   1.531098  0.600006   \n",
      "8   0.603420  0.472633  0.614570  0.389052   1.434879   1.832146  0.600005   \n",
      "9   0.605874  0.546198  0.630055  0.461464   0.492388   0.604544  0.600000   \n",
      "10  0.602929  0.472592  0.626584  0.426029   1.364084   1.758589  0.600001   \n",
      "11  0.607498  0.491441  0.628793  0.415090   1.876014   2.305962  0.600029   \n",
      "12  0.604865  0.462135  0.626937  0.365556   1.294451   1.706483  0.599968   \n",
      "13  0.601008  0.509980  0.638059  0.431306   1.679250   1.998799  0.599990   \n",
      "14  0.601373  0.479040  0.617113  0.389224   1.967176   2.458214  0.600018   \n",
      "\n",
      "    simulation_number  \n",
      "0                   1  \n",
      "1                   2  \n",
      "2                   3  \n",
      "3                   4  \n",
      "4                   5  \n",
      "5                   6  \n",
      "6                   7  \n",
      "7                   8  \n",
      "8                   9  \n",
      "9                  10  \n",
      "10                 11  \n",
      "11                 12  \n",
      "12                 13  \n",
      "13                 14  \n",
      "14                 15  \n"
     ]
    }
   ],
   "source": [
    "\n",
    "\n",
    "print(combined_df)"
   ]
  },
  {
   "cell_type": "code",
   "execution_count": 8,
   "metadata": {},
   "outputs": [
    {
     "data": {
      "image/png": "[encoded data removed]",
      "text/plain": [
       "<Figure size 600x500 with 4 Axes>"
      ]
     },
     "metadata": {},
     "output_type": "display_data"
    }
   ],
   "source": [
    "\n",
    "fig, ax = plt.subplots(2, 2, figsize=(6, 5))\n",
    "\n",
    "purple_color = 'purple'\n",
    "\n",
    "ax[0, 0].hist(combined_df['bl_ols'], bins=50, density=True, color=purple_color, alpha=0.4)\n",
    "ax[0, 0].axvline(0.6, color='red', linestyle='dashed')\n",
    "ax[0, 0].axvline(np.mean(combined_df['bl_ols']), color=purple_color)\n",
    "ax[0, 0].set_title('$\\\\theta_{l}^{ols}$')\n",
    "\n",
    "ax[0, 1].hist(combined_df['bl_xtreg'], bins=50, density=True, color=purple_color, alpha=0.4)\n",
    "ax[0, 1].axvline(0.6, color='red', linestyle='dashed')\n",
    "ax[0, 1].axvline(np.mean(combined_df['bl_xtreg']), color=purple_color)\n",
    "ax[0, 1].set_title('$\\\\theta_{l}^{fe-ols}$')\n",
    "\n",
    "ax[1, 0].hist(combined_df['bl_op'], bins=50, density=True, color=purple_color, alpha=0.4)\n",
    "ax[1, 0].axvline(0.6, color='red', linestyle='dashed')\n",
    "ax[1, 0].axvline(np.mean(combined_df['bl_op']), color=purple_color)\n",
    "ax[1, 0].set_title('$\\\\theta_{l}^{op}$')\n",
    "ax[1, 0].set_xlabel('Parameter Value')\n",
    "\n",
    "\n",
    "ax[1, 1].hist(combined_df['bl_acfest'], bins=50, density=True, color=purple_color, alpha=0.4)\n",
    "ax[1, 1].axvline(0.6, color='red', linestyle='dashed')\n",
    "ax[1, 1].axvline(np.mean(combined_df['bl_acfest']), color=purple_color)\n",
    "ax[1, 1].set_title('$\\\\theta_{l}^{acfest}$')\n",
    "ax[1, 1].set_xlabel('Parameter Value')\n",
    "\n",
    "legend_elements = [\n",
    "    plt.Line2D([0], [0], color='red', linestyle='dashed', label='True Value'),\n",
    "    plt.Line2D([0], [0], color=purple_color, label='Mean of 1000 Estimations')]\n",
    "leg = plt.legend(handles=legend_elements,\n",
    "            loc='lower left',\n",
    "            bbox_to_anchor=(0.2, -0.9))\n",
    "\n",
    "# fig.subplots_adjust(bottom=0.78)\n",
    "plt.tight_layout()\n",
    "\n",
    "plt.savefig('../plots/estimation_results_production_side.pdf')\n",
    "plt.show()"
   ]
  }
 ],
 "metadata": {
  "kernelspec": {
   "display_name": "Python 3",
   "language": "python",
   "name": "python3"
  },
  "language_info": {
   "codemirror_mode": {
    "name": "ipython",
    "version": 3
   },
   "file_extension": ".py",
   "mimetype": "text/x-python",
   "name": "python",
   "nbconvert_exporter": "python",
   "pygments_lexer": "ipython3",
   "version": "3.11.1"
  },
  "orig_nbformat": 4
 },
 "nbformat": 4,
 "nbformat_minor": 2
}
