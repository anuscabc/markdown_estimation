{
 "cells": [
  {
   "cell_type": "code",
   "execution_count": 4,
   "metadata": {},
   "outputs": [],
   "source": [
    "import numpy as np\n",
    "import pandas as pd\n",
    "import matplotlib.pyplot as plt\n",
    "\n",
    "\n",
    "from matplotlib import rc\n",
    "rc('font', **{'family': 'serif', 'serif': ['Computer Modern']})\n",
    "rc('text', usetex=True)"
   ]
  },
  {
   "cell_type": "code",
   "execution_count": 5,
   "metadata": {},
   "outputs": [],
   "source": [
    "# Create an empty list to store the DataFrames\n",
    "dfs = []\n",
    "\n",
    "N_sims = 10\n",
    "\n",
    "# Loop through the file names\n",
    "for i in range(1, N_sims + 1):\n",
    "    file_name = f'../data/values_estimation_production_{i}.csv'  # Assuming the files are in CSV format\n",
    "    \n",
    "    # Read the file as a DataFrame\n",
    "    df = pd.read_csv(file_name)\n",
    "    \n",
    "    # Add a simulation number column\n",
    "    df['simulation_number'] = i\n",
    "    \n",
    "    # Append the DataFrame to the list\n",
    "    dfs.append(df)\n",
    "\n",
    "# Concatenate all the DataFrames into one\n",
    "combined_df = pd.concat(dfs, ignore_index=True)"
   ]
  },
  {
   "cell_type": "code",
   "execution_count": 6,
   "metadata": {},
   "outputs": [
    {
     "name": "stdout",
     "output_type": "stream",
     "text": [
      "     bl_ols    bk_ols  bl_xtreg  bk_xtreb  bk_acfest  bl_acfest     bl_op  \\\n",
      "0  0.746027  0.325430  1.223820  0.002927   0.786219   1.432685  0.600107   \n",
      "1  0.796788  0.416516  1.238989 -0.001489   0.571977   1.407800  0.599832   \n",
      "2  0.816255  0.217430  1.245906  0.002494  -0.537979   1.122835  0.600110   \n",
      "3  0.759119  0.300279  1.246147  0.004212   0.398729   0.625332  0.600083   \n",
      "4  0.785300  0.330575  0.873747  0.243315   0.413131   0.568217  0.599821   \n",
      "5  0.702797  0.552257  1.230831  0.010522   0.353211   0.569073  0.599977   \n",
      "6  0.686379  0.364654  1.230283  0.013194   0.357646   0.615305  0.600042   \n",
      "7  0.729500  0.325112  1.245591  0.003834   0.372979   0.610435  0.600027   \n",
      "8  0.695031  0.453001  1.234998  0.016989   0.407604   0.591763  0.600027   \n",
      "9  0.685558  0.435304  1.232087  0.004084   0.503988   0.606172  0.600023   \n",
      "\n",
      "   simulation_number  \n",
      "0                  1  \n",
      "1                  2  \n",
      "2                  3  \n",
      "3                  4  \n",
      "4                  5  \n",
      "5                  6  \n",
      "6                  7  \n",
      "7                  8  \n",
      "8                  9  \n",
      "9                 10  \n"
     ]
    }
   ],
   "source": [
    "print(combined_df)"
   ]
  }
 ],
 "metadata": {
  "kernelspec": {
   "display_name": "Python 3",
   "language": "python",
   "name": "python3"
  },
  "language_info": {
   "codemirror_mode": {
    "name": "ipython",
    "version": 3
   },
   "file_extension": ".py",
   "mimetype": "text/x-python",
   "name": "python",
   "nbconvert_exporter": "python",
   "pygments_lexer": "ipython3",
   "version": "3.11.1"
  },
  "orig_nbformat": 4
 },
 "nbformat": 4,
 "nbformat_minor": 2
}
