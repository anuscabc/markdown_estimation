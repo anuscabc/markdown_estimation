{
 "cells": [
  {
   "cell_type": "code",
   "execution_count": 13,
   "metadata": {},
   "outputs": [],
   "source": [
    "import numpy as np\n",
    "import pandas as pd\n",
    "import matplotlib.pyplot as plt\n",
    "\n",
    "\n",
    "from matplotlib import rc\n",
    "rc('font', **{'family': 'serif', 'serif': ['Computer Modern']})\n",
    "rc('text', usetex=True)"
   ]
  },
  {
   "cell_type": "code",
   "execution_count": 14,
   "metadata": {},
   "outputs": [],
   "source": [
    "# Create an empty list to store the DataFrames\n",
    "dfs = []\n",
    "\n",
    "N_sims = 1000\n",
    "\n",
    "# Loop through the file names\n",
    "for i in range(1, N_sims + 1):\n",
    "    file_name = f'../data/values_estimation_production_{i}.csv'  # Assuming the files are in CSV format\n",
    "    \n",
    "    # Read the file as a DataFrame\n",
    "    df = pd.read_csv(file_name)\n",
    "    \n",
    "    # Add a simulation number column\n",
    "    df['simulation_number'] = i\n",
    "    \n",
    "    # Append the DataFrame to the list\n",
    "    dfs.append(df)\n",
    "\n",
    "# Concatenate all the DataFrames into one\n",
    "combined_df = pd.concat(dfs, ignore_index=True)"
   ]
  },
  {
   "cell_type": "code",
   "execution_count": 16,
   "metadata": {},
   "outputs": [
    {
     "data": {
      "text/plain": [
       "bl_ols                 0.738257\n",
       "bk_ols                 0.372243\n",
       "bl_xtreg               1.154579\n",
       "bk_xtreb               0.059750\n",
       "bk_acfest              0.439519\n",
       "bl_acfest              0.898468\n",
       "bl_op                  0.600012\n",
       "simulation_number    500.500000\n",
       "dtype: float64"
      ]
     },
     "execution_count": 16,
     "metadata": {},
     "output_type": "execute_result"
    }
   ],
   "source": [
    "combined_df.mean()\n"
   ]
  }
 ],
 "metadata": {
  "kernelspec": {
   "display_name": "Python 3",
   "language": "python",
   "name": "python3"
  },
  "language_info": {
   "codemirror_mode": {
    "name": "ipython",
    "version": 3
   },
   "file_extension": ".py",
   "mimetype": "text/x-python",
   "name": "python",
   "nbconvert_exporter": "python",
   "pygments_lexer": "ipython3",
   "version": "3.11.1"
  },
  "orig_nbformat": 4
 },
 "nbformat": 4,
 "nbformat_minor": 2
}
