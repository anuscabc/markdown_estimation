{
 "cells": [
  {
   "cell_type": "code",
   "execution_count": 1,
   "metadata": {},
   "outputs": [],
   "source": [
    "import numpy as np\n",
    "import pandas as pd\n",
    "import matplotlib.pyplot as plt\n",
    "\n",
    "\n",
    "from matplotlib import rc\n",
    "rc('font', **{'family': 'serif', 'serif': ['Computer Modern']})\n",
    "rc('text', usetex=True)"
   ]
  },
  {
   "cell_type": "code",
   "execution_count": 2,
   "metadata": {},
   "outputs": [],
   "source": [
    "# Create an empty list to store the DataFrames\n",
    "dfs = []\n",
    "\n",
    "N_sims = 1000\n",
    "\n",
    "# Loop through the file names\n",
    "for i in range(1, N_sims + 1):\n",
    "    file_name = f'../data/values_estimation_production_{i}.csv'  # Assuming the files are in CSV format\n",
    "    \n",
    "    # Read the file as a DataFrame\n",
    "    df = pd.read_csv(file_name)\n",
    "    \n",
    "    # Add a simulation number column\n",
    "    df['simulation_number'] = i\n",
    "    \n",
    "    # Append the DataFrame to the list\n",
    "    dfs.append(df)\n",
    "\n",
    "# Concatenate all the DataFrames into one\n",
    "combined_df = pd.concat(dfs, ignore_index=True)"
   ]
  },
  {
   "cell_type": "code",
   "execution_count": 3,
   "metadata": {},
   "outputs": [
    {
     "data": {
      "text/plain": [
       "bl_ols                 0.718265\n",
       "bk_ols                 0.367019\n",
       "bl_xtreg               1.123626\n",
       "bk_xtreb               0.079428\n",
       "bk_acfest              0.340801\n",
       "bl_acfest              0.610059\n",
       "bl_op                  0.600013\n",
       "simulation_number    497.683801\n",
       "dtype: float64"
      ]
     },
     "execution_count": 3,
     "metadata": {},
     "output_type": "execute_result"
    }
   ],
   "source": [
    "\n",
    "combined_df = combined_df[(combined_df['bl_acfest'] <=  1)\n",
    "                          ]\n",
    "\n",
    "\n",
    "combined_df.mean()\n"
   ]
  },
  {
   "cell_type": "code",
   "execution_count": 4,
   "metadata": {},
   "outputs": [
    {
     "data": {
      "image/png": "[encoded data removed]",
      "text/plain": [
       "<Figure size 600x500 with 4 Axes>"
      ]
     },
     "metadata": {},
     "output_type": "display_data"
    }
   ],
   "source": [
    "\n",
    "fig, ax = plt.subplots(2, 2, figsize=(6, 5))\n",
    "\n",
    "purple_color = 'purple'\n",
    "\n",
    "ax[0, 0].hist(combined_df['bl_ols'], bins=50, density=True, color=purple_color, alpha=0.4)\n",
    "ax[0, 0].axvline(0.6, color='red', linestyle='dashed')\n",
    "ax[0, 0].axvline(np.mean(combined_df['bl_ols']), color=purple_color)\n",
    "ax[0, 0].set_title('$\\\\theta_{l}^{ols}$')\n",
    "\n",
    "ax[0, 1].hist(combined_df['bl_xtreg'], bins=50, density=True, color=purple_color, alpha=0.4)\n",
    "ax[0, 1].axvline(0.6, color='red', linestyle='dashed')\n",
    "ax[0, 1].axvline(np.mean(combined_df['bl_xtreg']), color=purple_color)\n",
    "ax[0, 1].set_title('$\\\\theta_{l}^{fe-ols}$')\n",
    "\n",
    "ax[1, 0].hist(combined_df['bl_op'], bins=50, density=True, color=purple_color, alpha=0.4)\n",
    "ax[1, 0].axvline(0.6, color='red', linestyle='dashed')\n",
    "ax[1, 0].axvline(np.mean(combined_df['bl_op']), color=purple_color)\n",
    "ax[1, 0].set_title('$\\\\theta_{l}^{op}$')\n",
    "ax[1, 0].set_xlabel('Parameter Value')\n",
    "\n",
    "\n",
    "ax[1, 1].hist(combined_df['bl_acfest'], bins=50, density=True, color=purple_color, alpha=0.4)\n",
    "ax[1, 1].axvline(0.6, color='red', linestyle='dashed')\n",
    "ax[1, 1].axvline(np.mean(combined_df['bl_acfest']), color=purple_color)\n",
    "ax[1, 1].set_title('$\\\\theta_{l}^{acfest}$')\n",
    "ax[1, 1].set_xlabel('Parameter Value')\n",
    "\n",
    "legend_elements = [\n",
    "    plt.Line2D([0], [0], color='red', linestyle='dashed', label='True Value'),\n",
    "    plt.Line2D([0], [0], color=purple_color, label='Mean of 1000 Estimations')]\n",
    "leg = plt.legend(handles=legend_elements,\n",
    "            loc='lower left',\n",
    "            bbox_to_anchor=(0.2, -0.9))\n",
    "\n",
    "# fig.subplots_adjust(bottom=0.78)\n",
    "plt.tight_layout()\n",
    "\n",
    "plt.savefig('../plots/estimation_results_production_side.pdf')\n",
    "plt.show()"
   ]
  }
 ],
 "metadata": {
  "kernelspec": {
   "display_name": "Python 3",
   "language": "python",
   "name": "python3"
  },
  "language_info": {
   "codemirror_mode": {
    "name": "ipython",
    "version": 3
   },
   "file_extension": ".py",
   "mimetype": "text/x-python",
   "name": "python",
   "nbconvert_exporter": "python",
   "pygments_lexer": "ipython3",
   "version": "3.11.1"
  },
  "orig_nbformat": 4
 },
 "nbformat": 4,
 "nbformat_minor": 2
}
