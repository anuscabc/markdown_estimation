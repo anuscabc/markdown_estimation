{
 "cells": [
  {
   "cell_type": "code",
   "execution_count": 164,
   "metadata": {},
   "outputs": [],
   "source": [
    "import numpy as np\n",
    "import pandas as pd\n",
    "import matplotlib.pyplot as plt\n",
    "from scipy.optimize import minimize, fixed_point\n",
    "import matplotlib.pyplot as plt\n",
    "from sklearn.linear_model import LinearRegression\n",
    "from sklearn.metrics import mean_squared_error\n",
    "import estimation_functions\n",
    "# from integrated_market_model.market import IntegratedMarketModel"
   ]
  },
  {
   "cell_type": "code",
   "execution_count": 165,
   "metadata": {},
   "outputs": [],
   "source": [
    "np.random.seed(100)"
   ]
  },
  {
   "cell_type": "code",
   "execution_count": 166,
   "metadata": {},
   "outputs": [
    {
     "name": "stdout",
     "output_type": "stream",
     "text": [
      "     market_ids  firm_ids  characteristic1  characteristic2    prices  \\\n",
      "0             1         1         5.348061        20.964655  3.263354   \n",
      "1             1         2         5.134796        20.155075  4.093757   \n",
      "2             1         3         5.170203        20.191143  4.084675   \n",
      "3             1         4         5.551272        20.831672  3.431042   \n",
      "4             1         5         5.830341        20.934608  2.991747   \n",
      "..          ...       ...              ...              ...       ...   \n",
      "995         100         6         5.977387        20.225459  3.347218   \n",
      "996         100         7         5.083662        20.315749  3.435301   \n",
      "997         100         8         5.254944        20.117505  3.581924   \n",
      "998         100         9         5.849048        20.945524  2.807978   \n",
      "999         100        10         5.302210        20.055657  3.206264   \n",
      "\n",
      "     marginal_cost    shares   profits   markups  e_quantity    capital  \\\n",
      "0         0.870393  0.023810  0.056976  3.749289   11.904963  24.411287   \n",
      "1         1.279508  0.024545  0.069076  3.199478   12.272542  20.627650   \n",
      "2         1.274891  0.023932  0.067244  3.203941   11.965963  26.264913   \n",
      "3         0.952120  0.020898  0.051804  3.603582   10.448875  19.430429   \n",
      "4         0.739171  0.021217  0.047792  4.047434   10.608294  19.036235   \n",
      "..             ...       ...       ...       ...         ...        ...   \n",
      "995       1.194149  0.019311  0.041578  2.803015    9.655576  11.445583   \n",
      "996       1.246564  0.028217  0.061760  2.755816   14.108648  24.293321   \n",
      "997       1.336537  0.025731  0.057776  2.680003   12.865591  17.922185   \n",
      "998       0.870384  0.021590  0.041833  3.226138   10.795158  13.376924   \n",
      "999       1.108215  0.030430  0.063844  2.893179   15.215088  35.666614   \n",
      "\n",
      "     investment  productivity     labor  \n",
      "0      1.303921      0.034147  0.070952  \n",
      "1      1.004573     -0.012997  0.136113  \n",
      "2      1.057768     -0.097270  0.094286  \n",
      "3      0.932268     -0.020202  0.093764  \n",
      "4      1.089033      0.072084  0.076055  \n",
      "..          ...           ...       ...  \n",
      "995    0.577731      0.004763  0.227979  \n",
      "996    1.327935      0.046626  0.121247  \n",
      "997    0.979128      0.046322  0.181474  \n",
      "998    0.848195      0.134074  0.149346  \n",
      "999    1.880500      0.027244  0.067902  \n",
      "\n",
      "[1000 rows x 14 columns]\n"
     ]
    }
   ],
   "source": [
    "df = pd.read_csv(f'../data/market_integrates_1.csv')\n",
    "print(df)"
   ]
  },
  {
   "cell_type": "code",
   "execution_count": 167,
   "metadata": {},
   "outputs": [],
   "source": [
    "def solve_delta(theta, df, n_consumers, n_firms, time):\n",
    "\n",
    "    v_p_all = np.random.normal(0, 1, n_consumers*time)\n",
    "    # v_p_all = np.zeros(n_consumers*time)\n",
    "    all_est_shares = np.zeros(time*n_firms)\n",
    "    all_indirect_utilities = np.zeros(time*n_firms)\n",
    "\n",
    "    for t in range(0, time):\n",
    "        v_p = v_p_all[t*n_consumers:(t+1)*n_consumers]\n",
    "        try1 = estimation_functions.simulate_market_shares_per_period(theta, df, v_p, n_consumers, n_firms, t)\n",
    "        try2 = estimation_functions.get_indirect_utility(theta, df, n_firms, t)\n",
    "        all_est_shares[t*n_firms:(t+1)*n_firms] = try1\n",
    "        all_indirect_utilities[t*n_firms:(t+1)*n_firms] = try2\n",
    "\n",
    "    \n",
    "    return all_indirect_utilities + df.shares - all_est_shares"
   ]
  },
  {
   "cell_type": "code",
   "execution_count": null,
   "metadata": {},
   "outputs": [],
   "source": []
  },
  {
   "cell_type": "code",
   "execution_count": 168,
   "metadata": {},
   "outputs": [],
   "source": [
    "def get_indirect_utilities(theta, df, time, n_firms):\n",
    "    all_indirect_utilities = np.zeros(time*n_firms)\n",
    "    # all_estimated_shares = np.zeros(time*n_firms)\n",
    "    for t in range(0, time):\n",
    "        # v_p = np.random.normal(0, 1, n_consumers)\n",
    "        indirect_utility_at_true_param = estimation_functions.get_indirect_utility(theta, df, n_firms, t)\n",
    "        # estimated_share = estimation_functions.simulate_market_shares_per_period(theta_0, df, v_p, n_consumers, n_firms, t)\n",
    "\n",
    "        # all_estimated_shares[t*n_firms:(t+1)*n_firms] = estimated_share\n",
    "        all_indirect_utilities[t*n_firms:(t+1)*n_firms] = indirect_utility_at_true_param\n",
    "\n",
    "    return all_indirect_utilities\n",
    "\n",
    "# estimation_algorithm = solve_delta(theta_0, df, n_consumers, n_firms, time)\n",
    "\n",
    "# print(all_indirect_utilities - estimation_algorithm)\n",
    "# print(df.shares - all_estimated_shares)\n"
   ]
  },
  {
   "cell_type": "code",
   "execution_count": 169,
   "metadata": {},
   "outputs": [],
   "source": [
    "def function_minimization(theta, df, time, n_firms, n_consumers):\n",
    "    all_indirect_utilities = get_indirect_utilities(theta, df, time, n_firms)\n",
    "    estimation_algorithm = solve_delta(theta, df, n_consumers, n_firms, time)\n",
    "\n",
    "    return mean_squared_error(all_indirect_utilities, estimation_algorithm)\n"
   ]
  },
  {
   "cell_type": "code",
   "execution_count": 170,
   "metadata": {},
   "outputs": [
    {
     "name": "stdout",
     "output_type": "stream",
     "text": [
      "[0.011475217234954432, 0.011486206222511472, 0.01147393487626474, 0.011469932339141266, 0.011487994165045307]\n"
     ]
    }
   ],
   "source": [
    "# theta_0 = np.array([2., -0.5, -0.3, 0.5, 1.])\n",
    "theta_0 = np.array([1., 1., 1., 1., 1.])\n",
    "time = 100\n",
    "n_firms = 10\n",
    "n_consumers = 500\n",
    "\n",
    "\n",
    "minimization_values = []\n",
    "\n",
    "for l in range(0, 5):\n",
    "    res = minimize(function_minimization, theta_0, args=(df, time, n_firms, n_consumers))\n",
    "    minimization_values.append(res.fun)\n",
    "\n",
    "print(minimization_values)\n"
   ]
  }
 ],
 "metadata": {
  "kernelspec": {
   "display_name": "Python 3",
   "language": "python",
   "name": "python3"
  },
  "language_info": {
   "codemirror_mode": {
    "name": "ipython",
    "version": 3
   },
   "file_extension": ".py",
   "mimetype": "text/x-python",
   "name": "python",
   "nbconvert_exporter": "python",
   "pygments_lexer": "ipython3",
   "version": "3.11.1"
  },
  "orig_nbformat": 4
 },
 "nbformat": 4,
 "nbformat_minor": 2
}
