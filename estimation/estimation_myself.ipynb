{
 "cells": [
  {
   "cell_type": "code",
   "execution_count": 1,
   "metadata": {},
   "outputs": [],
   "source": [
    "import numpy as np\n",
    "import pandas as pd\n",
    "import matplotlib.pyplot as plt\n",
    "from scipy.optimize import minimize, fixed_point, root\n",
    "import matplotlib.pyplot as plt\n",
    "from sklearn.linear_model import LinearRegression\n",
    "from sklearn.metrics import mean_squared_error\n",
    "# from integrated_market_model.market import IntegratedMarketModel"
   ]
  },
  {
   "cell_type": "code",
   "execution_count": 2,
   "metadata": {},
   "outputs": [],
   "source": [
    "import sys\n",
    "sys.path.append('../')\n",
    "from integrated_market_model.market import IntegratedMarketModel\n",
    "# import sys\n",
    " \n",
    "# adding Folder_2 to the system path\n",
    "# sys.path.insert(0, '../integrated_market_model')\n",
    "\n"
   ]
  },
  {
   "cell_type": "code",
   "execution_count": 3,
   "metadata": {},
   "outputs": [
    {
     "name": "stdout",
     "output_type": "stream",
     "text": [
      "     market_ids  firm_ids  characteristic1  characteristic2    prices  \\\n",
      "0             1         1         2.188926         5.745330  5.453003   \n",
      "1             1         2         2.402535         5.397174  5.994910   \n",
      "2             1         3         2.542433         5.762500  5.361356   \n",
      "3             1         4         2.689597         5.384554  5.891059   \n",
      "4             1         5         2.185513         5.519165  5.603073   \n",
      "..          ...       ...              ...              ...       ...   \n",
      "995         100         6         2.790086         5.613213  4.789455   \n",
      "996         100         7         2.790538         5.254046  5.487079   \n",
      "997         100         8         2.410869         5.193101  5.231772   \n",
      "998         100         9         2.981482         5.553172  4.585670   \n",
      "999         100        10         2.588651         5.381388  5.245147   \n",
      "\n",
      "     marginal_cost    shares   profits   markups  e_quantity    capital  \\\n",
      "0         3.847582  0.040712  0.065360  1.417255   20.356055  15.607645   \n",
      "1         4.305568  0.032256  0.054492  1.392362   16.128085  11.352753   \n",
      "2         3.771502  0.033251  0.052864  1.421544   16.625456  11.894493   \n",
      "3         4.218054  0.028303  0.047352  1.396629   14.151684  10.705028   \n",
      "4         3.973850  0.043596  0.071028  1.409986   21.798004  15.673142   \n",
      "..             ...       ...       ...       ...         ...        ...   \n",
      "995       3.448115  0.036813  0.049378  1.389007   18.406304  12.814536   \n",
      "996       4.048579  0.028708  0.041297  1.355310   14.354154  10.595912   \n",
      "997       3.827926  0.046734  0.065607  1.366738   23.366750  16.594314   \n",
      "998       3.272797  0.039126  0.051367  1.401147   19.562984  14.291606   \n",
      "999       3.840177  0.035828  0.050337  1.365861   17.914027  11.433425   \n",
      "\n",
      "     investment  productivity     labor  indirect_util  \n",
      "0      0.710625     -0.044694  1.566432     -13.741530  \n",
      "1      0.546528     -0.018594  1.388811     -14.659763  \n",
      "2      0.606341      0.009766  1.254059     -13.829785  \n",
      "3      0.468001     -0.062821  1.193852     -14.657853  \n",
      "4      0.768917     -0.009405  1.732440     -13.861193  \n",
      "..          ...           ...       ...            ...  \n",
      "995    0.712152      0.055738  1.269341     -12.830189  \n",
      "996    0.494402     -0.033403  1.162279     -13.882421  \n",
      "997    0.847119      0.010488  1.788924     -13.097017  \n",
      "998    0.768446      0.037690  1.280514     -12.541418  \n",
      "999    0.668034      0.084281  1.375861     -13.378253  \n",
      "\n",
      "[1000 rows x 15 columns]\n"
     ]
    }
   ],
   "source": [
    "df = pd.read_csv(f'../data/market_integrates_1.csv')\n",
    "print(df)\n"
   ]
  },
  {
   "cell_type": "code",
   "execution_count": 4,
   "metadata": {},
   "outputs": [
    {
     "name": "stdout",
     "output_type": "stream",
     "text": [
      "Intercept: \n",
      " -0.36593815113043515\n",
      "Coefficients: \n",
      " [1.27620824 0.03546657 0.11582994]\n"
     ]
    }
   ],
   "source": [
    "# Generate market model at wrong theta \n",
    "theta_0 = [1., 1., 1., 1., 1.]\n",
    "# theta_0 = [2., -0.5, -0.3, 0.5, 1.]\n",
    "\n",
    "# Frist stage regression some work \n",
    "\n",
    "x = df[['marginal_cost', 'characteristic1', 'characteristic2']]\n",
    "\n",
    "res = LinearRegression().fit(x, df['prices'])\n",
    "\n",
    "print('Intercept: \\n', res.intercept_)\n",
    "print('Coefficients: \\n', res.coef_)\n",
    "\n",
    "predictions_price = res.predict(x)\n",
    "df['predict_prices'] = predictions_price\n",
    "\n"
   ]
  },
  {
   "cell_type": "code",
   "execution_count": 5,
   "metadata": {},
   "outputs": [],
   "source": [
    "# def objective_minimization(theta, n_firms, n_consumers, n_chars, T, s, df, v_p_all):\n",
    "#     estimation_model = IntegratedMarketModel(\n",
    "#             n_firms, \n",
    "#             n_consumers, \n",
    "#             n_chars, \n",
    "#             T,\n",
    "#             beta=np.array(theta[:3]),\n",
    "#             mu=theta[3],\n",
    "#             omega=theta[4],\n",
    "#             seed=s\n",
    "#         )\n",
    "    \n",
    "#     e=0\n",
    "#     all_estimated_shares = np.zeros(n_firms*T)\n",
    "#     all_indirect_utilities = np.zeros(n_firms*T)\n",
    "#     for t in range(0, T):\n",
    "#         v_p = v_p_all[:,t]\n",
    "#         # price_period = np.array(df.predict_prices[t*n_firms:(t+1)*n_firms])\n",
    "#         price_period = np.array(df.prices[t*n_firms:(t+1)*n_firms])\n",
    "#         estimated_shares, estimated_probabil, indirect_util = estimation_model.compute_share(v_p, price_period, e)\n",
    "#         all_estimated_shares[t*n_firms:(t+1)*n_firms] = estimated_shares\n",
    "#         all_indirect_utilities[t*n_firms:(t+1)*n_firms] = indirect_util\n",
    "\n",
    "#     # return  np.linalg.norm(np.log(df.shares) - np.log(all_estimated_shares))\n",
    "#     # return linalign.lstsq(np.log)\n",
    "#     return mean_squared_error(df.shares, all_estimated_shares) \n"
   ]
  },
  {
   "cell_type": "code",
   "execution_count": 6,
   "metadata": {},
   "outputs": [],
   "source": [
    "def objective_minimization(theta, n_firms, n_consumers, n_chars, T, s, df, v_p_all):\n",
    "    estimation_model = IntegratedMarketModel(\n",
    "            n_firms, \n",
    "            n_consumers, \n",
    "            n_chars, \n",
    "            T,\n",
    "            beta1=theta[0],\n",
    "            beta2=theta[1],\n",
    "            beta3=theta[2],\n",
    "            mu=theta[3],\n",
    "            omega=theta[4],\n",
    "            seed=s\n",
    "        )\n",
    "    \n",
    "    e=0\n",
    "    all_estimated_shares = np.zeros(n_firms*T)\n",
    "    all_indirect_utilities = np.zeros(n_firms*T)\n",
    "    for t in range(0, T):\n",
    "        v_p = v_p_all[:,t]\n",
    "        # price_period = np.array(df.predict_prices[t*n_firms:(t+1)*n_firms])\n",
    "        price_period = np.array(df.prices[t*n_firms:(t+1)*n_firms])\n",
    "        estimated_shares, estimated_probabil, indirect_util = estimation_model.compute_share(v_p, price_period, e)\n",
    "        all_estimated_shares[t*n_firms:(t+1)*n_firms] = estimated_shares\n",
    "        all_indirect_utilities[t*n_firms:(t+1)*n_firms] = indirect_util\n",
    "\n",
    "    # return all_indirect_utilities + np.log(df.shares) - np.log(all_estimated_shares)\n",
    "    return mean_squared_error(df.shares, all_estimated_shares)"
   ]
  },
  {
   "cell_type": "code",
   "execution_count": 7,
   "metadata": {},
   "outputs": [
    {
     "ename": "ValueError",
     "evalue": "cannot reshape array of size 0 into shape (1,4)",
     "output_type": "error",
     "traceback": [
      "\u001b[0;31m---------------------------------------------------------------------------\u001b[0m",
      "\u001b[0;31mValueError\u001b[0m                                Traceback (most recent call last)",
      "Cell \u001b[0;32mIn[7], line 9\u001b[0m\n\u001b[1;32m      6\u001b[0m v_p_all \u001b[39m=\u001b[39m np\u001b[39m.\u001b[39mrandom\u001b[39m.\u001b[39mnormal(\u001b[39m0\u001b[39m, \u001b[39m1\u001b[39m, (n_consumers, T))\n\u001b[1;32m      7\u001b[0m \u001b[39m# v_p_all = np.zeros((n_consumers, T))\u001b[39;00m\n\u001b[0;32m----> 9\u001b[0m res \u001b[39m=\u001b[39m minimize(objective_minimization, theta_0, args\u001b[39m=\u001b[39;49m(n_firms, n_consumers, n_chars, T, s, df, v_p_all), method \u001b[39m=\u001b[39;49m \u001b[39m'\u001b[39;49m\u001b[39mNelder-Mead\u001b[39;49m\u001b[39m'\u001b[39;49m )\n\u001b[1;32m     10\u001b[0m     \u001b[39m# optim_vec = res.x\u001b[39;00m\n\u001b[1;32m     11\u001b[0m \u001b[39mprint\u001b[39m(res)\n",
      "File \u001b[0;32m/Library/Frameworks/Python.framework/Versions/3.11/lib/python3.11/site-packages/scipy/optimize/_minimize.py:684\u001b[0m, in \u001b[0;36mminimize\u001b[0;34m(fun, x0, args, method, jac, hess, hessp, bounds, constraints, tol, callback, options)\u001b[0m\n\u001b[1;32m    681\u001b[0m     bounds \u001b[39m=\u001b[39m standardize_bounds(bounds, x0, meth)\n\u001b[1;32m    683\u001b[0m \u001b[39mif\u001b[39;00m meth \u001b[39m==\u001b[39m \u001b[39m'\u001b[39m\u001b[39mnelder-mead\u001b[39m\u001b[39m'\u001b[39m:\n\u001b[0;32m--> 684\u001b[0m     res \u001b[39m=\u001b[39m _minimize_neldermead(fun, x0, args, callback, bounds\u001b[39m=\u001b[39;49mbounds,\n\u001b[1;32m    685\u001b[0m                                \u001b[39m*\u001b[39;49m\u001b[39m*\u001b[39;49moptions)\n\u001b[1;32m    686\u001b[0m \u001b[39melif\u001b[39;00m meth \u001b[39m==\u001b[39m \u001b[39m'\u001b[39m\u001b[39mpowell\u001b[39m\u001b[39m'\u001b[39m:\n\u001b[1;32m    687\u001b[0m     res \u001b[39m=\u001b[39m _minimize_powell(fun, x0, args, callback, bounds, \u001b[39m*\u001b[39m\u001b[39m*\u001b[39moptions)\n",
      "File \u001b[0;32m/Library/Frameworks/Python.framework/Versions/3.11/lib/python3.11/site-packages/scipy/optimize/_optimize.py:845\u001b[0m, in \u001b[0;36m_minimize_neldermead\u001b[0;34m(func, x0, args, callback, maxiter, maxfev, disp, return_all, initial_simplex, xatol, fatol, adaptive, bounds, **unknown_options)\u001b[0m\n\u001b[1;32m    843\u001b[0m \u001b[39mtry\u001b[39;00m:\n\u001b[1;32m    844\u001b[0m     \u001b[39mfor\u001b[39;00m k \u001b[39min\u001b[39;00m \u001b[39mrange\u001b[39m(N \u001b[39m+\u001b[39m \u001b[39m1\u001b[39m):\n\u001b[0;32m--> 845\u001b[0m         fsim[k] \u001b[39m=\u001b[39m func(sim[k])\n\u001b[1;32m    846\u001b[0m \u001b[39mexcept\u001b[39;00m _MaxFuncCallError:\n\u001b[1;32m    847\u001b[0m     \u001b[39mpass\u001b[39;00m\n",
      "File \u001b[0;32m/Library/Frameworks/Python.framework/Versions/3.11/lib/python3.11/site-packages/scipy/optimize/_optimize.py:569\u001b[0m, in \u001b[0;36m_wrap_scalar_function_maxfun_validation.<locals>.function_wrapper\u001b[0;34m(x, *wrapper_args)\u001b[0m\n\u001b[1;32m    567\u001b[0m ncalls[\u001b[39m0\u001b[39m] \u001b[39m+\u001b[39m\u001b[39m=\u001b[39m \u001b[39m1\u001b[39m\n\u001b[1;32m    568\u001b[0m \u001b[39m# A copy of x is sent to the user function (gh13740)\u001b[39;00m\n\u001b[0;32m--> 569\u001b[0m fx \u001b[39m=\u001b[39m function(np\u001b[39m.\u001b[39;49mcopy(x), \u001b[39m*\u001b[39;49m(wrapper_args \u001b[39m+\u001b[39;49m args))\n\u001b[1;32m    570\u001b[0m \u001b[39m# Ideally, we'd like to a have a true scalar returned from f(x). For\u001b[39;00m\n\u001b[1;32m    571\u001b[0m \u001b[39m# backwards-compatibility, also allow np.array([1.3]),\u001b[39;00m\n\u001b[1;32m    572\u001b[0m \u001b[39m# np.array([[1.3]]) etc.\u001b[39;00m\n\u001b[1;32m    573\u001b[0m \u001b[39mif\u001b[39;00m \u001b[39mnot\u001b[39;00m np\u001b[39m.\u001b[39misscalar(fx):\n",
      "Cell \u001b[0;32mIn[6], line 22\u001b[0m, in \u001b[0;36mobjective_minimization\u001b[0;34m(theta, n_firms, n_consumers, n_chars, T, s, df, v_p_all)\u001b[0m\n\u001b[1;32m     20\u001b[0m \u001b[39m# price_period = np.array(df.predict_prices[t*n_firms:(t+1)*n_firms])\u001b[39;00m\n\u001b[1;32m     21\u001b[0m price_period \u001b[39m=\u001b[39m np\u001b[39m.\u001b[39marray(df\u001b[39m.\u001b[39mprices[t\u001b[39m*\u001b[39mn_firms:(t\u001b[39m+\u001b[39m\u001b[39m1\u001b[39m)\u001b[39m*\u001b[39mn_firms])\n\u001b[0;32m---> 22\u001b[0m estimated_shares, estimated_probabil, indirect_util \u001b[39m=\u001b[39m estimation_model\u001b[39m.\u001b[39;49mcompute_share(v_p, price_period, e)\n\u001b[1;32m     23\u001b[0m all_estimated_shares[t\u001b[39m*\u001b[39mn_firms:(t\u001b[39m+\u001b[39m\u001b[39m1\u001b[39m)\u001b[39m*\u001b[39mn_firms] \u001b[39m=\u001b[39m estimated_shares\n\u001b[1;32m     24\u001b[0m all_indirect_utilities[t\u001b[39m*\u001b[39mn_firms:(t\u001b[39m+\u001b[39m\u001b[39m1\u001b[39m)\u001b[39m*\u001b[39mn_firms] \u001b[39m=\u001b[39m indirect_util\n",
      "File \u001b[0;32m~/Desktop/Thesis/markdown_estimation/estimation/../integrated_market_model/market.py:231\u001b[0m, in \u001b[0;36mIntegratedMarketModel.compute_share\u001b[0;34m(self, v_p, price, e)\u001b[0m\n\u001b[1;32m    216\u001b[0m \u001b[39m\u001b[39m\u001b[39m\"\"\"Formula for computing the market share based on the multinomial \u001b[39;00m\n\u001b[1;32m    217\u001b[0m \u001b[39mlogit probability\"\u001b[39;00m\n\u001b[1;32m    218\u001b[0m \n\u001b[0;32m   (...)\u001b[0m\n\u001b[1;32m    226\u001b[0m \u001b[39m    probabilities of purchasing a product\u001b[39;00m\n\u001b[1;32m    227\u001b[0m \u001b[39m\"\"\"\u001b[39;00m\n\u001b[1;32m    228\u001b[0m \u001b[39m# The mean direct utility values\u001b[39;00m\n\u001b[0;32m--> 231\u001b[0m price_r \u001b[39m=\u001b[39m np\u001b[39m.\u001b[39;49mreshape(price, (\u001b[39m1\u001b[39;49m, \u001b[39mself\u001b[39;49m\u001b[39m.\u001b[39;49mn_firms))\n\u001b[1;32m    232\u001b[0m alpha_0 \u001b[39m=\u001b[39m \u001b[39m-\u001b[39mnp\u001b[39m.\u001b[39mexp(\u001b[39mself\u001b[39m\u001b[39m.\u001b[39mmu \u001b[39m+\u001b[39m (\u001b[39mself\u001b[39m\u001b[39m.\u001b[39momega)\u001b[39m*\u001b[39m\u001b[39m*\u001b[39m\u001b[39m2\u001b[39m\u001b[39m/\u001b[39m\u001b[39m2\u001b[39m)\n\u001b[1;32m    234\u001b[0m beta \u001b[39m=\u001b[39m np\u001b[39m.\u001b[39marray([\u001b[39mself\u001b[39m\u001b[39m.\u001b[39mbeta1, \u001b[39mself\u001b[39m\u001b[39m.\u001b[39mbeta2, \u001b[39mself\u001b[39m\u001b[39m.\u001b[39mbeta3])\n",
      "File \u001b[0;32m<__array_function__ internals>:200\u001b[0m, in \u001b[0;36mreshape\u001b[0;34m(*args, **kwargs)\u001b[0m\n",
      "File \u001b[0;32m/Library/Frameworks/Python.framework/Versions/3.11/lib/python3.11/site-packages/numpy/core/fromnumeric.py:298\u001b[0m, in \u001b[0;36mreshape\u001b[0;34m(a, newshape, order)\u001b[0m\n\u001b[1;32m    198\u001b[0m \u001b[39m@array_function_dispatch\u001b[39m(_reshape_dispatcher)\n\u001b[1;32m    199\u001b[0m \u001b[39mdef\u001b[39;00m \u001b[39mreshape\u001b[39m(a, newshape, order\u001b[39m=\u001b[39m\u001b[39m'\u001b[39m\u001b[39mC\u001b[39m\u001b[39m'\u001b[39m):\n\u001b[1;32m    200\u001b[0m \u001b[39m    \u001b[39m\u001b[39m\"\"\"\u001b[39;00m\n\u001b[1;32m    201\u001b[0m \u001b[39m    Gives a new shape to an array without changing its data.\u001b[39;00m\n\u001b[1;32m    202\u001b[0m \n\u001b[0;32m   (...)\u001b[0m\n\u001b[1;32m    296\u001b[0m \u001b[39m           [5, 6]])\u001b[39;00m\n\u001b[1;32m    297\u001b[0m \u001b[39m    \"\"\"\u001b[39;00m\n\u001b[0;32m--> 298\u001b[0m     \u001b[39mreturn\u001b[39;00m _wrapfunc(a, \u001b[39m'\u001b[39;49m\u001b[39mreshape\u001b[39;49m\u001b[39m'\u001b[39;49m, newshape, order\u001b[39m=\u001b[39;49morder)\n",
      "File \u001b[0;32m/Library/Frameworks/Python.framework/Versions/3.11/lib/python3.11/site-packages/numpy/core/fromnumeric.py:57\u001b[0m, in \u001b[0;36m_wrapfunc\u001b[0;34m(obj, method, *args, **kwds)\u001b[0m\n\u001b[1;32m     54\u001b[0m     \u001b[39mreturn\u001b[39;00m _wrapit(obj, method, \u001b[39m*\u001b[39margs, \u001b[39m*\u001b[39m\u001b[39m*\u001b[39mkwds)\n\u001b[1;32m     56\u001b[0m \u001b[39mtry\u001b[39;00m:\n\u001b[0;32m---> 57\u001b[0m     \u001b[39mreturn\u001b[39;00m bound(\u001b[39m*\u001b[39;49margs, \u001b[39m*\u001b[39;49m\u001b[39m*\u001b[39;49mkwds)\n\u001b[1;32m     58\u001b[0m \u001b[39mexcept\u001b[39;00m \u001b[39mTypeError\u001b[39;00m:\n\u001b[1;32m     59\u001b[0m     \u001b[39m# A TypeError occurs if the object does have such a method in its\u001b[39;00m\n\u001b[1;32m     60\u001b[0m     \u001b[39m# class, but its signature is not identical to that of NumPy's. This\u001b[39;00m\n\u001b[0;32m   (...)\u001b[0m\n\u001b[1;32m     64\u001b[0m     \u001b[39m# Call _wrapit from within the except clause to ensure a potential\u001b[39;00m\n\u001b[1;32m     65\u001b[0m     \u001b[39m# exception has a traceback chain.\u001b[39;00m\n\u001b[1;32m     66\u001b[0m     \u001b[39mreturn\u001b[39;00m _wrapit(obj, method, \u001b[39m*\u001b[39margs, \u001b[39m*\u001b[39m\u001b[39m*\u001b[39mkwds)\n",
      "\u001b[0;31mValueError\u001b[0m: cannot reshape array of size 0 into shape (1,4)"
     ]
    }
   ],
   "source": [
    "n_firms = 4\n",
    "n_consumers = 1000\n",
    "n_chars = 2\n",
    "T = 500\n",
    "s = 1\n",
    "v_p_all = np.random.normal(0, 1, (n_consumers, T))\n",
    "# v_p_all = np.zeros((n_consumers, T))\n",
    "\n",
    "res = minimize(objective_minimization, theta_0, args=(n_firms, n_consumers, n_chars, T, s, df, v_p_all), method = 'Nelder-Mead' )\n",
    "    # optim_vec = res.x\n",
    "print(res)\n"
   ]
  },
  {
   "cell_type": "code",
   "execution_count": null,
   "metadata": {},
   "outputs": [
    {
     "name": "stdout",
     "output_type": "stream",
     "text": [
      "[-1.3630853  -1.2646518  -1.38471967 ... -1.31467234 -1.18413597\n",
      " -1.69162622]\n"
     ]
    }
   ],
   "source": [
    "\n",
    "df2 = df.groupby('market_ids').sum('shares')\n",
    "outside_good = np.repeat(np.array(df2.shares), n_firms)\n",
    "\n",
    "# Get outside good same shape datagrame repeat each 10 times \n",
    "y = np.log(np.array(df.shares)) - np.log(outside_good)\n",
    "print(y)\n"
   ]
  },
  {
   "cell_type": "code",
   "execution_count": null,
   "metadata": {},
   "outputs": [],
   "source": [
    "# Easy ols estimation \n",
    "\n",
    "# x = df[['prices', 'characteristic1', 'characteristic2']]\n",
    "\n",
    "# res = LinearRegression().fit(x, y)\n",
    "\n",
    "# print('Intercept: \\n', res.intercept_)\n",
    "# print('Coefficients: \\n', res.coef_)\n",
    "\n"
   ]
  },
  {
   "cell_type": "code",
   "execution_count": null,
   "metadata": {},
   "outputs": [],
   "source": []
  },
  {
   "cell_type": "code",
   "execution_count": null,
   "metadata": {},
   "outputs": [],
   "source": [
    "# Second stage: \n",
    "\n",
    "# x = df[['predict_prices', 'characteristic1', 'characteristic2']]\n",
    "\n",
    "# res = LinearRegression().fit(x, y)\n",
    "\n",
    "# print('Intercept: \\n', res.intercept_)\n",
    "# print('Coefficients: \\n', res.coef_)\n",
    "\n"
   ]
  },
  {
   "cell_type": "code",
   "execution_count": null,
   "metadata": {},
   "outputs": [
    {
     "data": {
      "image/png": "[encoded data removed]",
      "text/plain": [
       "<Figure size 640x480 with 1 Axes>"
      ]
     },
     "metadata": {},
     "output_type": "display_data"
    }
   ],
   "source": [
    "\n",
    "plt.scatter(df.e_quantity, df.prices)\n",
    "plt.scatter(df.e_quantity, df.predict_prices)\n",
    "plt.show()"
   ]
  },
  {
   "cell_type": "code",
   "execution_count": null,
   "metadata": {},
   "outputs": [],
   "source": [
    "# N = 500\n",
    "# firms  = 5\n",
    "# time = 100 \n",
    "\n",
    "# all_val_b0 = []\n",
    "# all_val_b1 = []\n",
    "# all_val_b2 = []\n",
    "# all_val_mu = []\n",
    "# all_val_omega = []\n",
    "# mean_share = []\n",
    "\n",
    "# for l in range(1, 5):\n",
    "    \n",
    "#     res = minimize(f, theta_0, args=(df, N, firms, time), method = 'Nelder-Mead')\n",
    "#     optim_vec = res.x\n",
    "\n",
    "#     all_val_b0.append(optim_vec[0])\n",
    "#     all_val_b1.append(optim_vec[1])\n",
    "#     all_val_b2.append(optim_vec[2])\n",
    "#     all_val_mu.append(optim_vec[3])\n",
    "#     all_val_omega.append(optim_vec[4])\n",
    "\n",
    "#     # new_shares = estimation_functions.shares_optimal(optim_vec, df, v_p, N, firms, time)\n",
    "\n",
    "\n",
    "# df_estimation_values = pd.DataFrame({'beta_0': all_val_b0,\n",
    "#                                     'beta_1': all_val_b1,\n",
    "#                                     'beta_2': all_val_b2, \n",
    "#                                     'mu': all_val_mu, \n",
    "#                                     'omega': all_val_omega, \n",
    "#                                     })\n",
    "# df_estimation_values.to_csv(f'../data/first_estimation_market_inter_100', index=False)\n"
   ]
  },
  {
   "cell_type": "code",
   "execution_count": null,
   "metadata": {},
   "outputs": [],
   "source": [
    "# print(df_estimation_values)\n",
    "# df_estimation_values.to_csv(f'../data/estimation_thetaones.csv', index=False)"
   ]
  },
  {
   "cell_type": "code",
   "execution_count": null,
   "metadata": {},
   "outputs": [],
   "source": [
    "# fig, [[ax1, ax2], [ax3, ax4], [ax5, ax6]] = plt.subplots(3, 2)\n",
    "# fig.suptitle(f'Estimation results frist run')\n",
    "\n",
    "# ax1.hist(df_estimation_values.beta_0, bins=50, color='red')\n",
    "# ax2.hist(df_estimation_values.beta_1, bins=50, color='orange')\n",
    "# ax3.hist(df_estimation_values.beta_2, bins=50, color='green')\n",
    "# ax4.hist(df_estimation_values.mu, bins=50, color='lightblue')\n",
    "# ax5.hist(df_estimation_values.omega, bins=50, color='pink')\n",
    "# ax6.hist(df.shares, bins=50)\n",
    "\n",
    "\n",
    "# ax1.set_title('beta0')\n",
    "# ax2.set_title('beta1')\n",
    "# ax3.set_title('beta2')\n",
    "# ax4.set_title('mu')\n",
    "# ax5.set_title('omega')\n",
    "# ax6.set_title('shares')\n",
    "\n",
    "# plt.tight_layout()\n",
    "# plt.show()\n"
   ]
  }
 ],
 "metadata": {
  "kernelspec": {
   "display_name": "Python 3",
   "language": "python",
   "name": "python3"
  },
  "language_info": {
   "codemirror_mode": {
    "name": "ipython",
    "version": 3
   },
   "file_extension": ".py",
   "mimetype": "text/x-python",
   "name": "python",
   "nbconvert_exporter": "python",
   "pygments_lexer": "ipython3",
   "version": "3.11.1"
  },
  "orig_nbformat": 4
 },
 "nbformat": 4,
 "nbformat_minor": 2
}
