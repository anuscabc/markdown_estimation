{
 "cells": [
  {
   "cell_type": "code",
   "execution_count": 161,
   "metadata": {},
   "outputs": [],
   "source": [
    "import numpy as np\n",
    "import pandas as pd\n",
    "import matplotlib.pyplot as plt\n",
    "from scipy.optimize import minimize\n",
    "import matplotlib.pyplot as plt\n",
    "\n"
   ]
  },
  {
   "cell_type": "code",
   "execution_count": 162,
   "metadata": {},
   "outputs": [
    {
     "name": "stdout",
     "output_type": "stream",
     "text": [
      "      market_ids  firm_ids  characteristic1  characteristic2     prices  \\\n",
      "0              1         1         5.741020         2.586439  38.778167   \n",
      "1              1         2         5.728377         2.774003  37.705697   \n",
      "2              1         3         5.158599         2.988436  41.650372   \n",
      "3              1         4         5.159242         2.188203  39.860431   \n",
      "4              1         5         5.664929         2.845616  39.833859   \n",
      "...          ...       ...              ...              ...        ...   \n",
      "1995         100        16         5.547604         2.593617  48.170051   \n",
      "1996         100        17         5.278139         2.755727  56.017861   \n",
      "1997         100        18         5.668548         2.623788  46.831919   \n",
      "1998         100        19         5.336720         2.218909  47.785429   \n",
      "1999         100        20         5.495126         2.636772  49.415789   \n",
      "\n",
      "      marginal_cost    shares   profits   markups  e_quantity    capital  \\\n",
      "0         30.104214  0.035998  0.312246  1.288131   35.998156   9.969299   \n",
      "1         29.085293  0.042920  0.369987  1.296384   42.919938  10.029356   \n",
      "2         32.793775  0.040315  0.357053  1.270069   40.314916   9.983320   \n",
      "3         31.114257  0.038153  0.333691  1.281099   38.152851  10.102451   \n",
      "4         31.094660  0.036189  0.316261  1.281051   36.188828  10.187749   \n",
      "...             ...       ...       ...       ...         ...        ...   \n",
      "1995      37.934894  0.029943  0.306475  1.269809   29.943372   6.683257   \n",
      "1996      45.406306  0.018507  0.196385  1.233702   18.506702   2.030007   \n",
      "1997      36.670708  0.031972  0.324878  1.277093   31.972340   6.309881   \n",
      "1998      37.570128  0.030749  0.314105  1.271900   30.748511   4.708514   \n",
      "1999      39.114286  0.027956  0.287987  1.263369   27.955864   4.962672   \n",
      "\n",
      "      investment  productivity       labor  \n",
      "0       0.473431     -0.003587   25.997304  \n",
      "1       1.401283      0.128169   29.696241  \n",
      "2       0.845960      0.049625   31.653625  \n",
      "3       0.671239      0.023490   27.953760  \n",
      "4       0.397639     -0.015670   26.187984  \n",
      "...          ...           ...         ...  \n",
      "1995   -0.086357     -0.089888   47.698794  \n",
      "1996   -0.107395     -0.147006  187.111259  \n",
      "1997    0.237188     -0.017729   53.359935  \n",
      "1998    0.333150      0.029650   79.210097  \n",
      "1999    0.026486     -0.063804   69.655877  \n",
      "\n",
      "[2000 rows x 14 columns]\n"
     ]
    }
   ],
   "source": [
    "df = pd.read_csv(f'../data/market_integrates_100.csv')\n",
    "print(df)\n"
   ]
  },
  {
   "cell_type": "code",
   "execution_count": 163,
   "metadata": {},
   "outputs": [],
   "source": [
    "# theta_0 = np.array([2, -0.5, 0.3, 0.05, 1.])\n",
    "theta_0 = np.array([1., -1., 1., 0.5, 1.])\n",
    "\n",
    "\n"
   ]
  },
  {
   "cell_type": "code",
   "execution_count": 164,
   "metadata": {},
   "outputs": [],
   "source": [
    "def simulate_market_shares_per_period(theta, df, v_p, n_consumers, n_firms, t): \n",
    "    beta = theta[:3]\n",
    "    mu = theta[3]\n",
    "    omega = theta[4]\n",
    "    X0 = np.ones(n_firms)\n",
    "    X1 = df.characteristic1.head(n_firms)\n",
    "    X2 = df.characteristic2.head(n_firms)\n",
    "    X_car = np.column_stack((X1, X2))\n",
    "    X = np.column_stack((X0, X_car))\n",
    "\n",
    "    X_for_utility = np.repeat(X, n_consumers, axis=0)\n",
    "    price_r = np.reshape(np.array(df.prices[t*n_firms:(t+1)*n_firms]), (1, n_firms))\n",
    "    alpha_i = np.reshape(-(np.exp(mu + omega*v_p)), (n_consumers, 1))\n",
    "    random_coeff = np.ravel((alpha_i*price_r).T)\n",
    "\n",
    "    u = X_for_utility@beta + random_coeff\n",
    "    u_r = np.reshape(u, (n_firms, n_consumers))\n",
    "    sum_u = np.sum(np.exp(u_r))\n",
    "\n",
    "    all_probs = np.exp(u_r)/(1 + sum_u)\n",
    "    market_shares = np.sum(all_probs, axis=1)\n",
    "    \n",
    "    return market_shares"
   ]
  },
  {
   "cell_type": "code",
   "execution_count": 165,
   "metadata": {},
   "outputs": [],
   "source": [
    "def f(theta, df, n_consumers, n_firms, T):\n",
    "    true_share = df.shares\n",
    "    all_est_shares = np.zeros(T*n_firms)\n",
    "    v_p_all = np.random.normal(0, 1, n_consumers*T)\n",
    "    for t in range(0, T-1):\n",
    "        v_p = v_p_all[t*n_consumers:(t+1)*n_consumers]\n",
    "        estimates_shares_market = simulate_market_shares_per_period(theta, df, v_p, n_consumers, n_firms, t)\n",
    "        all_est_shares[t*n_firms:(t+1)*n_firms] = estimates_shares_market\n",
    "    return np.linalg.norm(true_share - all_est_shares)"
   ]
  },
  {
   "cell_type": "code",
   "execution_count": null,
   "metadata": {},
   "outputs": [],
   "source": []
  },
  {
   "cell_type": "code",
   "execution_count": 168,
   "metadata": {},
   "outputs": [],
   "source": [
    "N = 1000 \n",
    "firms  = 20\n",
    "time = 100 \n",
    "\n",
    "all_val_b0 = []\n",
    "all_val_b1 = []\n",
    "all_val_b2 = []\n",
    "all_val_mu = []\n",
    "all_val_omega = []\n",
    "\n",
    "for l in range(1, 2):\n",
    "    \n",
    "    res = minimize(f, theta_0, args=(df, N, firms, time), method = 'Nelder-Mead')\n",
    "    optim_vec = res.x\n",
    "\n",
    "    all_val_b0.append(optim_vec[0])\n",
    "    all_val_b1.append(optim_vec[1])\n",
    "    all_val_b2.append(optim_vec[2])\n",
    "    all_val_mu.append(optim_vec[3])\n",
    "    all_val_omega.append(optim_vec[4])\n",
    "\n",
    "\n",
    "df_estimation_values = pd.DataFrame({'beta_0': all_val_b0,\n",
    "                                    'beta_1': all_val_b1,\n",
    "                                    'beta_2': all_val_b2, \n",
    "                                    'mu': all_val_mu, \n",
    "                                    'omega': all_val_omega, \n",
    "                                    })\n",
    "df_estimation_values.to_csv(f'../data/first_estimation_market_inter_100', index=False)\n"
   ]
  },
  {
   "cell_type": "code",
   "execution_count": 169,
   "metadata": {},
   "outputs": [
    {
     "name": "stdout",
     "output_type": "stream",
     "text": [
      "     beta_0    beta_1    beta_2        mu     omega\n",
      "0  1.001611 -0.836345  1.069995  0.503408  1.096109\n"
     ]
    }
   ],
   "source": [
    "print(df_estimation_values)"
   ]
  }
 ],
 "metadata": {
  "kernelspec": {
   "display_name": "Python 3",
   "language": "python",
   "name": "python3"
  },
  "language_info": {
   "codemirror_mode": {
    "name": "ipython",
    "version": 3
   },
   "file_extension": ".py",
   "mimetype": "text/x-python",
   "name": "python",
   "nbconvert_exporter": "python",
   "pygments_lexer": "ipython3",
   "version": "3.11.1"
  },
  "orig_nbformat": 4
 },
 "nbformat": 4,
 "nbformat_minor": 2
}
