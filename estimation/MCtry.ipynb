{
 "cells": [
  {
   "cell_type": "code",
   "execution_count": 16,
   "metadata": {},
   "outputs": [],
   "source": [
    "import numpy as np\n",
    "import pandas as pd\n",
    "import matplotlib.pyplot as plt\n",
    "from scipy.optimize import minimize\n",
    "import matplotlib.pyplot as plt\n",
    "import firm_revised\n"
   ]
  },
  {
   "cell_type": "code",
   "execution_count": 17,
   "metadata": {},
   "outputs": [],
   "source": []
  },
  {
   "cell_type": "code",
   "execution_count": 26,
   "metadata": {},
   "outputs": [
    {
     "name": "stdout",
     "output_type": "stream",
     "text": [
      "        price      cost  product  time      Car1       Car2    mshare  \\\n",
      "0    3.568303  1.345290        1     1  5.543405   3.863025  0.102945   \n",
      "1    3.518983  1.320250        2     1  5.278369   6.530009  0.053990   \n",
      "2    3.713838  1.421020        3     1  5.424518   2.251838  0.166144   \n",
      "3    3.699450  1.418171        4     1  5.844776   7.610981  0.027146   \n",
      "4    3.591005  1.352147        5     1  5.004719   1.498430  0.271181   \n",
      "..        ...       ...      ...   ...       ...        ...       ...   \n",
      "985  2.922232  1.125753        6    99  5.121569   9.901082  0.021122   \n",
      "986  2.987741  1.166108        7    99  5.670749   9.036325  0.020068   \n",
      "987  2.832173  1.067825        8    99  5.825853   4.373533  0.082002   \n",
      "988  3.098913  1.231730        9    99  5.136707   1.812318  0.215581   \n",
      "989  2.888777  1.104799       10    99  5.575093  11.178396  0.011692   \n",
      "\n",
      "      profits   markups  \n",
      "0    0.228848  1.652441  \n",
      "1    0.118710  1.665392  \n",
      "2    0.380939  1.613502  \n",
      "3    0.061928  1.608606  \n",
      "4    0.607135  1.655781  \n",
      "..        ...       ...  \n",
      "985  0.037945  1.595803  \n",
      "986  0.036557  1.562147  \n",
      "987  0.144680  1.652281  \n",
      "988  0.402529  1.515903  \n",
      "989  0.020859  1.614753  \n",
      "\n",
      "[990 rows x 9 columns]\n"
     ]
    }
   ],
   "source": [
    "df = pd.read_csv(f'../data/market_100.csv')\n",
    "print(df)"
   ]
  },
  {
   "cell_type": "code",
   "execution_count": 19,
   "metadata": {},
   "outputs": [],
   "source": [
    "# All the parameters of interest \n",
    "beta = np.array([2, -0.5, -0.3])\n",
    "mu = 0.5\n",
    "omega = 1\n",
    "\n",
    "\n",
    "# The number of firms in the market\n",
    "J = 10\n",
    "\n",
    "# The number of product characteristics \n",
    "K = 2\n",
    "\n",
    "# The number of consumers in the market \n",
    "N = 500\n",
    "\n",
    "# The number of period that I want to run the market for \n",
    "T = 100"
   ]
  },
  {
   "cell_type": "code",
   "execution_count": 20,
   "metadata": {},
   "outputs": [],
   "source": [
    "# Unpacking the X and the price\n",
    "X1 = np.array(df['Car1'][:J])\n",
    "X2 = np.array(df['Car2'][:J])\n",
    "all_X = np.column_stack((X1, X2))\n",
    "X0 = np.ones(J)\n",
    "X = np.column_stack((X0, all_X))\n",
    "\n",
    "eq_price = np.array(df['price'])\n",
    "\n",
    "true_share = np.array(df['mshare'])\n",
    "# print(true_share)\n",
    "\n",
    "all_est_shares = np.zeros(J*(T-1))\n",
    "# print(all_est_shares)\n"
   ]
  },
  {
   "cell_type": "code",
   "execution_count": 21,
   "metadata": {},
   "outputs": [],
   "source": [
    "# The idea is that you want to min the distance between the true share and the made up share by optimizing the fiven vector theta that determines the share \n",
    "\n",
    "def f(theta, true_share, N, J, X, price):\n",
    "    beta = theta[:K+1]\n",
    "    mu = theta[K+1]\n",
    "    omega = theta[K+2]  \n",
    "    # make a numpy array all estimated shares \n",
    "    for t in range(0, T-1):\n",
    "        eq_price_slice = price[t*J:(t+1)*J]\n",
    "        v_p = np.random.normal(0, 1, N)\n",
    "        e = np.random.gumbel(0, 1, N*J)\n",
    "        shares_per_firm = firm_revised.share(N, J, X, v_p, eq_price_slice, beta, mu, omega, e)[0]\n",
    "        all_est_shares[t*J:(t+1)*J] = shares_per_firm\n",
    "    return np.linalg.norm(true_share - all_est_shares)"
   ]
  },
  {
   "cell_type": "code",
   "execution_count": 22,
   "metadata": {},
   "outputs": [],
   "source": [
    "# theta_0 = np.array([2., -0.5, -0.3, 0.5, 1.])\n",
    "theta_0 = np.array([1.5, -1., -1., 0.4, 1.])\n"
   ]
  },
  {
   "cell_type": "code",
   "execution_count": 23,
   "metadata": {},
   "outputs": [
    {
     "name": "stdout",
     "output_type": "stream",
     "text": [
      "[ 1.539615 -1.03241  -0.9048    0.409464  1.03241 ]\n"
     ]
    }
   ],
   "source": [
    "res = minimize(f, theta_0, args=(true_share, N, J, X, eq_price), method = 'Nelder-Mead')\n",
    "optim_vec = res.x\n",
    "print(optim_vec)"
   ]
  },
  {
   "cell_type": "code",
   "execution_count": 24,
   "metadata": {},
   "outputs": [
    {
     "name": "stdout",
     "output_type": "stream",
     "text": [
      "[1.5445294620652326, 1.533597011184653, 1.5000925016385158, 1.5008345213932603, 1.5248478589690415, 1.5553369736872442, 1.5089471290243461, 1.4636734360165824, 1.4999386312406822]\n",
      "[-1.003864589295763, -0.996836904534302, -0.9987509236670302, -1.0025761284204953, -1.0132299223453436, -0.9877159790633792, -0.9913833686970374, -1.0331552991090085, -0.9999039064897062]\n",
      "[-1.025855090764588, -1.0020146894209225, -0.9993761823400188, -0.9954613587004998, -0.9624035000143596, -0.9535323710718517, -1.0059491588241476, -0.9951074960721809, -1.0002130518245171]\n",
      "[0.38465081741745066, 0.39956111353293844, 0.3999274560731221, 0.4182669810881973, 0.40803511278011473, 0.4139409224550189, 0.4063849796476491, 0.4139521031268942, 0.41997384714914177]\n",
      "[1.0214688222673305, 1.0301909001397576, 1.0499669901478823, 1.0205079689705037, 1.0249292318502468, 1.0338105239124982, 1.0247585963241475, 1.0307462752440417, 0.9998706097808063]\n"
     ]
    }
   ],
   "source": [
    "all_val_b0 = []\n",
    "all_val_b1 = []\n",
    "all_val_b2 = []\n",
    "all_val_mu = []\n",
    "all_val_omega = []\n",
    "\n",
    "for l in range(1, 10):\n",
    "    \n",
    "    res = minimize(f, theta_0, args=(true_share, N, J, X, eq_price), method = 'Nelder-Mead')\n",
    "    optim_vec = res.x\n",
    "\n",
    "    all_val_b0.append(optim_vec[0])\n",
    "    all_val_b1.append(optim_vec[1])\n",
    "    all_val_b2.append(optim_vec[2])\n",
    "    all_val_mu.append(optim_vec[3])\n",
    "    all_val_omega.append(optim_vec[4])\n",
    "\n",
    "print(all_val_b0)\n",
    "print(all_val_b1)\n",
    "print(all_val_b2)\n",
    "print(all_val_mu)\n",
    "print(all_val_omega)\n"
   ]
  },
  {
   "cell_type": "code",
   "execution_count": 25,
   "metadata": {},
   "outputs": [
    {
     "name": "stdout",
     "output_type": "stream",
     "text": [
      "         b0        b1        b2        mu     omega\n",
      "0  1.544529 -1.003865 -1.025855  0.384651  1.021469\n",
      "1  1.533597 -0.996837 -1.002015  0.399561  1.030191\n",
      "2  1.500093 -0.998751 -0.999376  0.399927  1.049967\n",
      "3  1.500835 -1.002576 -0.995461  0.418267  1.020508\n",
      "4  1.524848 -1.013230 -0.962404  0.408035  1.024929\n",
      "5  1.555337 -0.987716 -0.953532  0.413941  1.033811\n",
      "6  1.508947 -0.991383 -1.005949  0.406385  1.024759\n",
      "7  1.463673 -1.033155 -0.995107  0.413952  1.030746\n",
      "8  1.499939 -0.999904 -1.000213  0.419974  0.999871\n"
     ]
    }
   ],
   "source": [
    "df = pd.DataFrame({'b0': all_val_b0,\n",
    "                   'b1': all_val_b1,\n",
    "                   'b2': all_val_b2, \n",
    "                   'mu': all_val_mu, \n",
    "                   'omega': all_val_omega,  \n",
    "                   })\n",
    "df.to_csv(f'../data/estimation_market_{seed}.csv', index=False)\n",
    "print(df)\n"
   ]
  }
 ],
 "metadata": {
  "kernelspec": {
   "display_name": "Python 3",
   "language": "python",
   "name": "python3"
  },
  "language_info": {
   "codemirror_mode": {
    "name": "ipython",
    "version": 3
   },
   "file_extension": ".py",
   "mimetype": "text/x-python",
   "name": "python",
   "nbconvert_exporter": "python",
   "pygments_lexer": "ipython3",
   "version": "3.9.6"
  },
  "orig_nbformat": 4,
  "vscode": {
   "interpreter": {
    "hash": "31f2aee4e71d21fbe5cf8b01ff0e069b9275f58929596ceb00d14d90e3e16cd6"
   }
  }
 },
 "nbformat": 4,
 "nbformat_minor": 2
}
