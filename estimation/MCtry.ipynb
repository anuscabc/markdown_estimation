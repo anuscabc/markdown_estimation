{
 "cells": [
  {
   "cell_type": "code",
   "execution_count": 20,
   "metadata": {},
   "outputs": [],
   "source": [
    "import numpy as np\n",
    "import pandas as pd\n",
    "import matplotlib.pyplot as plt\n",
    "from scipy.optimize import minimize\n",
    "import matplotlib.pyplot as plt\n",
    "import firm_revised"
   ]
  },
  {
   "cell_type": "code",
   "execution_count": 21,
   "metadata": {},
   "outputs": [],
   "source": [
    "seed = 100"
   ]
  },
  {
   "cell_type": "code",
   "execution_count": 22,
   "metadata": {},
   "outputs": [
    {
     "name": "stdout",
     "output_type": "stream",
     "text": [
      "        price      cost  product  time      Car1      Car2    mshare  \\\n",
      "0    3.695253  1.415698        1     1  5.543405  5.891322  0.078804   \n",
      "1    3.756714  1.447384        2     1  5.278369  5.209202  0.107499   \n",
      "2    3.576872  1.351142        3     1  5.424518  5.185328  0.108904   \n",
      "3    3.758122  1.449088        4     1  5.844776  5.108377  0.083422   \n",
      "4    3.711281  1.422723        5     1  5.004719  5.219697  0.125313   \n",
      "..        ...       ...      ...   ...       ...       ...       ...   \n",
      "985  3.541821  1.272978        6    99  5.121569  5.978624  0.083719   \n",
      "986  3.313260  1.139542        7    99  5.670749  5.811683  0.074091   \n",
      "987  3.249534  1.102120        8    99  5.825853  5.171941  0.085542   \n",
      "988  3.129622  1.032779        9    99  5.136707  5.816225  0.105268   \n",
      "989  3.216135  1.082681       10    99  5.575093  5.274074  0.095514   \n",
      "\n",
      "      profits   markups  \n",
      "0    0.179638  1.610199  \n",
      "1    0.248250  1.595521  \n",
      "2    0.242391  1.647296  \n",
      "3    0.192625  1.593439  \n",
      "4    0.286786  1.608576  \n",
      "..        ...       ...  \n",
      "985  0.189945  1.782312  \n",
      "986  0.161054  1.907537  \n",
      "987  0.183694  1.948438  \n",
      "988  0.220730  2.030292  \n",
      "989  0.203774  1.970530  \n",
      "\n",
      "[990 rows x 9 columns]\n"
     ]
    }
   ],
   "source": [
    "df = pd.read_csv(f'../data/market_{seed}.csv')\n",
    "print(df)"
   ]
  },
  {
   "cell_type": "code",
   "execution_count": 23,
   "metadata": {},
   "outputs": [],
   "source": [
    "# All the parameters of interest \n",
    "beta = np.array([2, -0.5, -0.3])\n",
    "mu = 0.5\n",
    "omega = 1\n",
    "\n",
    "\n",
    "# The number of firms in the market\n",
    "J = 10\n",
    "\n",
    "# The number of product characteristics \n",
    "K = 2\n",
    "\n",
    "# The number of consumers in the market \n",
    "N = 500\n",
    "\n",
    "# The number of period that I want to run the market for \n",
    "T = 100"
   ]
  },
  {
   "cell_type": "code",
   "execution_count": 24,
   "metadata": {},
   "outputs": [],
   "source": [
    "# Unpacking the X and the price\n",
    "X1 = np.array(df['Car1'][:J])\n",
    "X2 = np.array(df['Car2'][:J])\n",
    "all_X = np.column_stack((X1, X2))\n",
    "X0 = np.ones(J)\n",
    "X = np.column_stack((X0, all_X))\n",
    "\n",
    "eq_price = np.array(df['price'])\n",
    "# print(eq_price.shape)\n",
    "\n",
    "true_share = np.array(df['mshare'])\n",
    "# print(true_share)\n",
    "\n",
    "all_est_shares = np.zeros(J*(T-1))\n",
    "# print(all_est_shares)\n"
   ]
  },
  {
   "cell_type": "code",
   "execution_count": 25,
   "metadata": {},
   "outputs": [],
   "source": [
    "# The idea is that you want to min the distance between the true share and the made up share by optimizing the fiven vector theta that determines the share \n",
    "\n",
    "def f(theta, true_share, N, J, X, price):\n",
    "    beta = theta[:K+1]\n",
    "    mu = theta[K+1]\n",
    "    omega = theta[K+2]  \n",
    "    # make a numpy array all estimated shares \n",
    "    for t in range(0, T-1):\n",
    "        eq_price_slice = price[t*J:(t+1)*J]\n",
    "        v_p = np.random.normal(0, 1, size = N)\n",
    "        e = np.random.gumbel(size=N*J)\n",
    "        shares_per_firm = firm_revised.share(N, J, X, v_p, eq_price_slice, beta, mu, omega, e)[0]\n",
    "        all_est_shares[t*J:(t+1)*J] = shares_per_firm\n",
    "    return np.linalg.norm(true_share - all_est_shares)"
   ]
  },
  {
   "cell_type": "code",
   "execution_count": 26,
   "metadata": {},
   "outputs": [],
   "source": [
    "theta_0 = np.array([2., -0.5, -0.3, 0.5, 1.])\n",
    "# theta_0 = np.array([1., -1., -1., 1, 1.])"
   ]
  },
  {
   "cell_type": "code",
   "execution_count": 27,
   "metadata": {},
   "outputs": [
    {
     "name": "stdout",
     "output_type": "stream",
     "text": [
      "[ 2.0075832  -0.50192565 -0.30649216  0.50207344  1.00770571]\n"
     ]
    }
   ],
   "source": [
    "res = minimize(f, theta_0, args=(true_share, N, J, X, eq_price), method = 'Nelder-Mead')\n",
    "optim_vec = res.x\n",
    "print(optim_vec)"
   ]
  },
  {
   "cell_type": "code",
   "execution_count": 28,
   "metadata": {},
   "outputs": [
    {
     "name": "stdout",
     "output_type": "stream",
     "text": [
      "[2.0764837223000003, 1.9781834022004843, 2.017874629249346, 1.9793739392577319, 2.0084041989871224, 2.0154412886496265, 1.9789769790154623, 2.0464001189514596, 2.0928042053214266]\n",
      "[-0.49965623057499986, -0.525033505633274, -0.5021721133411639, -0.5207057458916116, -0.4998721112701069, -0.48901203747930777, -0.49695969701979614, -0.4780000232208431, -0.4996788919039755]\n",
      "[-0.303525858345, -0.29873527900847263, -0.30433678218828686, -0.2938405627686192, -0.29928469427959525, -0.3003558092151588, -0.3089227751221969, -0.3105599811932628, -0.29483505531462295]\n",
      "[0.49988625132500014, 0.5012901420758519, 0.49995897578345083, 0.507965695247135, 0.5154754449967522, 0.5006941060559522, 0.51362746330992, 0.4826000470996825, 0.5088480263809028]\n",
      "[1.0008153611500001, 1.0006827552669546, 0.9946545259811841, 1.013088034717415, 1.0127828030505484, 1.018155445333949, 1.0234532033157504, 1.0351998151356634, 0.9996454828632284]\n"
     ]
    }
   ],
   "source": [
    "all_val_b0 = []\n",
    "all_val_b1 = []\n",
    "all_val_b2 = []\n",
    "all_val_mu = []\n",
    "all_val_omega = []\n",
    "\n",
    "for l in range(1, 10):\n",
    "    \n",
    "    res = minimize(f, theta_0, args=(true_share, N, J, X, eq_price), method = 'Nelder-Mead')\n",
    "    optim_vec = res.x\n",
    "\n",
    "    all_val_b0.append(optim_vec[0])\n",
    "    all_val_b1.append(optim_vec[1])\n",
    "    all_val_b2.append(optim_vec[2])\n",
    "    all_val_mu.append(optim_vec[3])\n",
    "    all_val_omega.append(optim_vec[4])\n",
    "\n",
    "print(all_val_b0)\n",
    "print(all_val_b1)\n",
    "print(all_val_b2)\n",
    "print(all_val_mu)\n",
    "print(all_val_omega)\n"
   ]
  }
 ],
 "metadata": {
  "kernelspec": {
   "display_name": "Python 3",
   "language": "python",
   "name": "python3"
  },
  "language_info": {
   "codemirror_mode": {
    "name": "ipython",
    "version": 3
   },
   "file_extension": ".py",
   "mimetype": "text/x-python",
   "name": "python",
   "nbconvert_exporter": "python",
   "pygments_lexer": "ipython3",
   "version": "3.9.6"
  },
  "orig_nbformat": 4,
  "vscode": {
   "interpreter": {
    "hash": "31f2aee4e71d21fbe5cf8b01ff0e069b9275f58929596ceb00d14d90e3e16cd6"
   }
  }
 },
 "nbformat": 4,
 "nbformat_minor": 2
}
