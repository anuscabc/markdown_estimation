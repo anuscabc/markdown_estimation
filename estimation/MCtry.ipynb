{
 "cells": [
  {
   "cell_type": "code",
   "execution_count": 4,
   "metadata": {},
   "outputs": [],
   "source": [
    "import numpy as np\n",
    "import pandas as pd\n",
    "import matplotlib.pyplot as plt\n",
    "from scipy.optimize import minimize\n",
    "import matplotlib.pyplot as plt\n",
    "import firm_revised\n"
   ]
  },
  {
   "cell_type": "code",
   "execution_count": 5,
   "metadata": {},
   "outputs": [
    {
     "name": "stdout",
     "output_type": "stream",
     "text": [
      "     market_ids  firm_ids  characteristic1  characteristic2     prices  \\\n",
      "0             1         1         5.433865              0.0  27.819272   \n",
      "1             1         2         5.907737              0.0  25.803538   \n",
      "2             1         3         5.943911              0.0  25.973388   \n",
      "3             1         4         5.329441              0.0  28.459103   \n",
      "4             1         5         5.083033              0.0  28.699048   \n",
      "..          ...       ...              ...              ...        ...   \n",
      "995         100         6         5.360283              0.0  25.856118   \n",
      "996         100         7         5.958183              0.0  25.904819   \n",
      "997         100         8         5.184745              0.0  30.535777   \n",
      "998         100         9         5.223118              0.0  30.247094   \n",
      "999         100        10         5.019838              0.0  27.472039   \n",
      "\n",
      "     marginal_cost    shares   profits   markups  e_quantity    capital  \\\n",
      "0        20.129811  0.057534  0.442407  1.381994   28.767080  10.115080   \n",
      "1        18.335178  0.058274  0.435213  1.407324   29.137125   9.848192   \n",
      "2        18.489873  0.056021  0.419234  1.404736   28.010498  10.052510   \n",
      "3        20.706827  0.056085  0.434785  1.374383   28.042398   9.841924   \n",
      "4        20.910171  0.061627  0.480003  1.372492   30.813376   9.900945   \n",
      "..             ...       ...       ...       ...         ...        ...   \n",
      "995      18.427480  0.081963  0.608876  1.403128   40.981706  21.717484   \n",
      "996      18.505890  0.060406  0.446938  1.399815   30.202887  11.902408   \n",
      "997      22.713517  0.050066  0.391630  1.344388   25.033029   6.076612   \n",
      "998      22.448627  0.050855  0.396592  1.347392   25.427568   7.672343   \n",
      "999      19.880182  0.079189  0.601195  1.381881   39.594704  20.777852   \n",
      "\n",
      "     investment  productivity      labor  \n",
      "0      0.195071     -0.043878  13.612243  \n",
      "1      0.496338      0.000570  13.037190  \n",
      "2      0.254200     -0.035304  12.280660  \n",
      "3      0.061158     -0.062551  14.182995  \n",
      "4      0.486763     -0.001195  15.606330  \n",
      "..          ...           ...        ...  \n",
      "995    1.335341      0.016410   6.090794  \n",
      "996    0.344252     -0.030110  10.462149  \n",
      "997    0.156024     -0.034748  27.278654  \n",
      "998   -0.075957     -0.085572  19.758167  \n",
      "999    0.776058     -0.018071   6.754105  \n",
      "\n",
      "[1000 rows x 14 columns]\n"
     ]
    }
   ],
   "source": [
    "df = pd.read_csv(f'../data/market_integrates_100.csv')\n",
    "print(df)"
   ]
  },
  {
   "cell_type": "code",
   "execution_count": 6,
   "metadata": {},
   "outputs": [],
   "source": [
    "# All the parameters of interest \n",
    "beta = np.array([2, -0.5, -0.3])\n",
    "mu = 0.5\n",
    "omega = 1\n",
    "\n",
    "\n",
    "# The number of firms in the market\n",
    "J = 10\n",
    "\n",
    "# The number of product characteristics \n",
    "K = 2\n",
    "\n",
    "# The number of consumers in the market \n",
    "N = 500\n",
    "\n",
    "# The number of period that I want to run the market for \n",
    "T = 100"
   ]
  },
  {
   "cell_type": "code",
   "execution_count": 8,
   "metadata": {},
   "outputs": [],
   "source": [
    "# Unpacking the X and the price\n",
    "X1 = np.array(df['characteristic1'][:J])\n",
    "X2 = np.array(df['characteristic2'][:J])\n",
    "all_X = np.column_stack((X1, X2))\n",
    "X0 = np.ones(J)\n",
    "X = np.column_stack((X0, all_X))\n",
    "\n",
    "eq_price = np.array(df['prices'])\n",
    "\n",
    "true_share = np.array(df['shares'])\n",
    "# print(true_share)\n",
    "\n",
    "all_est_shares = np.zeros(J*(T-1))\n",
    "# print(all_est_shares)\n"
   ]
  },
  {
   "cell_type": "code",
   "execution_count": 9,
   "metadata": {},
   "outputs": [],
   "source": [
    "# The idea is that you want to min the distance between the true share and the made up share by optimizing the fiven vector theta that determines the share \n",
    "\n",
    "def f(theta, true_share, N, J, X, price):\n",
    "    beta = theta[:K+1]\n",
    "    mu = theta[K+1]\n",
    "    omega = theta[K+2]  \n",
    "    # make a numpy array all estimated shares \n",
    "    for t in range(0, T-1):\n",
    "        eq_price_slice = price[t*J:(t+1)*J]\n",
    "        v_p = np.random.normal(0, 1, N)\n",
    "        e = np.random.gumbel(0, 1, N*J)\n",
    "        shares_per_firm = firm_revised.share(N, J, X, v_p, eq_price_slice, beta, mu, omega, e)[0]\n",
    "        all_est_shares[t*J:(t+1)*J] = shares_per_firm\n",
    "    return np.linalg.norm(true_share - all_est_shares)"
   ]
  },
  {
   "cell_type": "code",
   "execution_count": null,
   "metadata": {},
   "outputs": [],
   "source": [
    "theta_0 = np.array([2., -0.5, -0.3, 0.5, 1.])\n",
    "# theta_0 = np.array([1.5, -1., -1., 0.4, 1.])\n"
   ]
  },
  {
   "cell_type": "code",
   "execution_count": null,
   "metadata": {},
   "outputs": [
    {
     "ename": "ValueError",
     "evalue": "cannot reshape array of size 0 into shape (1,10)",
     "output_type": "error",
     "traceback": [
      "\u001b[0;31m---------------------------------------------------------------------------\u001b[0m",
      "\u001b[0;31mValueError\u001b[0m                                Traceback (most recent call last)",
      "\u001b[1;32m/Users/popovici/Desktop/Thesis/markdown_estimation/estimation/MCtry.ipynb Cell 8\u001b[0m in \u001b[0;36m1\n\u001b[0;32m----> <a href='vscode-notebook-cell:/Users/popovici/Desktop/Thesis/markdown_estimation/estimation/MCtry.ipynb#X10sZmlsZQ%3D%3D?line=0'>1</a>\u001b[0m res \u001b[39m=\u001b[39m minimize(f, theta_0, args\u001b[39m=\u001b[39m(true_share, N, J, X, eq_price), method \u001b[39m=\u001b[39m \u001b[39m'\u001b[39m\u001b[39mNelder-Mead\u001b[39m\u001b[39m'\u001b[39m)\n\u001b[1;32m      <a href='vscode-notebook-cell:/Users/popovici/Desktop/Thesis/markdown_estimation/estimation/MCtry.ipynb#X10sZmlsZQ%3D%3D?line=1'>2</a>\u001b[0m optim_vec \u001b[39m=\u001b[39m res\u001b[39m.\u001b[39mx\n\u001b[1;32m      <a href='vscode-notebook-cell:/Users/popovici/Desktop/Thesis/markdown_estimation/estimation/MCtry.ipynb#X10sZmlsZQ%3D%3D?line=2'>3</a>\u001b[0m \u001b[39mprint\u001b[39m(optim_vec)\n",
      "File \u001b[0;32m~/Library/Python/3.9/lib/python/site-packages/scipy/optimize/_minimize.py:687\u001b[0m, in \u001b[0;36mminimize\u001b[0;34m(fun, x0, args, method, jac, hess, hessp, bounds, constraints, tol, callback, options)\u001b[0m\n\u001b[1;32m    684\u001b[0m     bounds \u001b[39m=\u001b[39m standardize_bounds(bounds, x0, meth)\n\u001b[1;32m    686\u001b[0m \u001b[39mif\u001b[39;00m meth \u001b[39m==\u001b[39m \u001b[39m'\u001b[39m\u001b[39mnelder-mead\u001b[39m\u001b[39m'\u001b[39m:\n\u001b[0;32m--> 687\u001b[0m     res \u001b[39m=\u001b[39m _minimize_neldermead(fun, x0, args, callback, bounds\u001b[39m=\u001b[39;49mbounds,\n\u001b[1;32m    688\u001b[0m                                \u001b[39m*\u001b[39;49m\u001b[39m*\u001b[39;49moptions)\n\u001b[1;32m    689\u001b[0m \u001b[39melif\u001b[39;00m meth \u001b[39m==\u001b[39m \u001b[39m'\u001b[39m\u001b[39mpowell\u001b[39m\u001b[39m'\u001b[39m:\n\u001b[1;32m    690\u001b[0m     res \u001b[39m=\u001b[39m _minimize_powell(fun, x0, args, callback, bounds, \u001b[39m*\u001b[39m\u001b[39m*\u001b[39moptions)\n",
      "File \u001b[0;32m~/Library/Python/3.9/lib/python/site-packages/scipy/optimize/_optimize.py:772\u001b[0m, in \u001b[0;36m_minimize_neldermead\u001b[0;34m(func, x0, args, callback, maxiter, maxfev, disp, return_all, initial_simplex, xatol, fatol, adaptive, bounds, **unknown_options)\u001b[0m\n\u001b[1;32m    770\u001b[0m \u001b[39mtry\u001b[39;00m:\n\u001b[1;32m    771\u001b[0m     \u001b[39mfor\u001b[39;00m k \u001b[39min\u001b[39;00m \u001b[39mrange\u001b[39m(N \u001b[39m+\u001b[39m \u001b[39m1\u001b[39m):\n\u001b[0;32m--> 772\u001b[0m         fsim[k] \u001b[39m=\u001b[39m func(sim[k])\n\u001b[1;32m    773\u001b[0m \u001b[39mexcept\u001b[39;00m _MaxFuncCallError:\n\u001b[1;32m    774\u001b[0m     \u001b[39mpass\u001b[39;00m\n",
      "File \u001b[0;32m~/Library/Python/3.9/lib/python/site-packages/scipy/optimize/_optimize.py:496\u001b[0m, in \u001b[0;36m_wrap_scalar_function_maxfun_validation.<locals>.function_wrapper\u001b[0;34m(x, *wrapper_args)\u001b[0m\n\u001b[1;32m    494\u001b[0m ncalls[\u001b[39m0\u001b[39m] \u001b[39m+\u001b[39m\u001b[39m=\u001b[39m \u001b[39m1\u001b[39m\n\u001b[1;32m    495\u001b[0m \u001b[39m# A copy of x is sent to the user function (gh13740)\u001b[39;00m\n\u001b[0;32m--> 496\u001b[0m fx \u001b[39m=\u001b[39m function(np\u001b[39m.\u001b[39;49mcopy(x), \u001b[39m*\u001b[39;49m(wrapper_args \u001b[39m+\u001b[39;49m args))\n\u001b[1;32m    497\u001b[0m \u001b[39m# Ideally, we'd like to a have a true scalar returned from f(x). For\u001b[39;00m\n\u001b[1;32m    498\u001b[0m \u001b[39m# backwards-compatibility, also allow np.array([1.3]),\u001b[39;00m\n\u001b[1;32m    499\u001b[0m \u001b[39m# np.array([[1.3]]) etc.\u001b[39;00m\n\u001b[1;32m    500\u001b[0m \u001b[39mif\u001b[39;00m \u001b[39mnot\u001b[39;00m np\u001b[39m.\u001b[39misscalar(fx):\n",
      "\u001b[1;32m/Users/popovici/Desktop/Thesis/markdown_estimation/estimation/MCtry.ipynb Cell 8\u001b[0m in \u001b[0;36m1\n\u001b[1;32m     <a href='vscode-notebook-cell:/Users/popovici/Desktop/Thesis/markdown_estimation/estimation/MCtry.ipynb#X10sZmlsZQ%3D%3D?line=9'>10</a>\u001b[0m     v_p \u001b[39m=\u001b[39m np\u001b[39m.\u001b[39mrandom\u001b[39m.\u001b[39mnormal(\u001b[39m0\u001b[39m, \u001b[39m1\u001b[39m, N)\n\u001b[1;32m     <a href='vscode-notebook-cell:/Users/popovici/Desktop/Thesis/markdown_estimation/estimation/MCtry.ipynb#X10sZmlsZQ%3D%3D?line=10'>11</a>\u001b[0m     e \u001b[39m=\u001b[39m np\u001b[39m.\u001b[39mrandom\u001b[39m.\u001b[39mgumbel(\u001b[39m0\u001b[39m, \u001b[39m1\u001b[39m, N\u001b[39m*\u001b[39mJ)\n\u001b[0;32m---> <a href='vscode-notebook-cell:/Users/popovici/Desktop/Thesis/markdown_estimation/estimation/MCtry.ipynb#X10sZmlsZQ%3D%3D?line=11'>12</a>\u001b[0m     shares_per_firm \u001b[39m=\u001b[39m firm_revised\u001b[39m.\u001b[39;49mshare(N, J, X, v_p, eq_price_slice, beta, mu, omega, e)[\u001b[39m0\u001b[39m]\n\u001b[1;32m     <a href='vscode-notebook-cell:/Users/popovici/Desktop/Thesis/markdown_estimation/estimation/MCtry.ipynb#X10sZmlsZQ%3D%3D?line=12'>13</a>\u001b[0m     all_est_shares[t\u001b[39m*\u001b[39mJ:(t\u001b[39m+\u001b[39m\u001b[39m1\u001b[39m)\u001b[39m*\u001b[39mJ] \u001b[39m=\u001b[39m shares_per_firm\n\u001b[1;32m     <a href='vscode-notebook-cell:/Users/popovici/Desktop/Thesis/markdown_estimation/estimation/MCtry.ipynb#X10sZmlsZQ%3D%3D?line=13'>14</a>\u001b[0m \u001b[39mreturn\u001b[39;00m np\u001b[39m.\u001b[39mlinalg\u001b[39m.\u001b[39mnorm(true_share \u001b[39m-\u001b[39m all_est_shares)\n",
      "File \u001b[0;32m~/Desktop/Thesis/markdown_estimation/estimation/firm_revised.py:17\u001b[0m, in \u001b[0;36mshare\u001b[0;34m(N_cons, J_prod, X_char, v_p, price, coef_car, mu, omega, e)\u001b[0m\n\u001b[1;32m     15\u001b[0m \u001b[39mdef\u001b[39;00m \u001b[39mshare\u001b[39m(N_cons, J_prod, X_char, v_p, price, coef_car, mu, omega, e): \n\u001b[1;32m     16\u001b[0m     X_for_utility \u001b[39m=\u001b[39m np\u001b[39m.\u001b[39mrepeat(X_char, N_cons, axis\u001b[39m=\u001b[39m\u001b[39m0\u001b[39m)\n\u001b[0;32m---> 17\u001b[0m     price_r \u001b[39m=\u001b[39m np\u001b[39m.\u001b[39;49mreshape(price, (\u001b[39m1\u001b[39;49m, J_prod))\n\u001b[1;32m     18\u001b[0m     alpha_i \u001b[39m=\u001b[39m np\u001b[39m.\u001b[39mreshape(\u001b[39m-\u001b[39m(np\u001b[39m.\u001b[39mexp(mu \u001b[39m+\u001b[39m omega\u001b[39m*\u001b[39mv_p)), (N_cons, \u001b[39m1\u001b[39m))\n\u001b[1;32m     19\u001b[0m     random_coeff \u001b[39m=\u001b[39m np\u001b[39m.\u001b[39mravel((alpha_i\u001b[39m*\u001b[39mprice_r)\u001b[39m.\u001b[39mT)\n",
      "File \u001b[0;32m<__array_function__ internals>:180\u001b[0m, in \u001b[0;36mreshape\u001b[0;34m(*args, **kwargs)\u001b[0m\n",
      "File \u001b[0;32m~/Library/Python/3.9/lib/python/site-packages/numpy/core/fromnumeric.py:298\u001b[0m, in \u001b[0;36mreshape\u001b[0;34m(a, newshape, order)\u001b[0m\n\u001b[1;32m    198\u001b[0m \u001b[39m@array_function_dispatch\u001b[39m(_reshape_dispatcher)\n\u001b[1;32m    199\u001b[0m \u001b[39mdef\u001b[39;00m \u001b[39mreshape\u001b[39m(a, newshape, order\u001b[39m=\u001b[39m\u001b[39m'\u001b[39m\u001b[39mC\u001b[39m\u001b[39m'\u001b[39m):\n\u001b[1;32m    200\u001b[0m     \u001b[39m\"\"\"\u001b[39;00m\n\u001b[1;32m    201\u001b[0m \u001b[39m    Gives a new shape to an array without changing its data.\u001b[39;00m\n\u001b[1;32m    202\u001b[0m \n\u001b[0;32m   (...)\u001b[0m\n\u001b[1;32m    296\u001b[0m \u001b[39m           [5, 6]])\u001b[39;00m\n\u001b[1;32m    297\u001b[0m \u001b[39m    \"\"\"\u001b[39;00m\n\u001b[0;32m--> 298\u001b[0m     \u001b[39mreturn\u001b[39;00m _wrapfunc(a, \u001b[39m'\u001b[39;49m\u001b[39mreshape\u001b[39;49m\u001b[39m'\u001b[39;49m, newshape, order\u001b[39m=\u001b[39;49morder)\n",
      "File \u001b[0;32m~/Library/Python/3.9/lib/python/site-packages/numpy/core/fromnumeric.py:57\u001b[0m, in \u001b[0;36m_wrapfunc\u001b[0;34m(obj, method, *args, **kwds)\u001b[0m\n\u001b[1;32m     54\u001b[0m     \u001b[39mreturn\u001b[39;00m _wrapit(obj, method, \u001b[39m*\u001b[39margs, \u001b[39m*\u001b[39m\u001b[39m*\u001b[39mkwds)\n\u001b[1;32m     56\u001b[0m \u001b[39mtry\u001b[39;00m:\n\u001b[0;32m---> 57\u001b[0m     \u001b[39mreturn\u001b[39;00m bound(\u001b[39m*\u001b[39;49margs, \u001b[39m*\u001b[39;49m\u001b[39m*\u001b[39;49mkwds)\n\u001b[1;32m     58\u001b[0m \u001b[39mexcept\u001b[39;00m \u001b[39mTypeError\u001b[39;00m:\n\u001b[1;32m     59\u001b[0m     \u001b[39m# A TypeError occurs if the object does have such a method in its\u001b[39;00m\n\u001b[1;32m     60\u001b[0m     \u001b[39m# class, but its signature is not identical to that of NumPy's. This\u001b[39;00m\n\u001b[0;32m   (...)\u001b[0m\n\u001b[1;32m     64\u001b[0m     \u001b[39m# Call _wrapit from within the except clause to ensure a potential\u001b[39;00m\n\u001b[1;32m     65\u001b[0m     \u001b[39m# exception has a traceback chain.\u001b[39;00m\n\u001b[1;32m     66\u001b[0m     \u001b[39mreturn\u001b[39;00m _wrapit(obj, method, \u001b[39m*\u001b[39margs, \u001b[39m*\u001b[39m\u001b[39m*\u001b[39mkwds)\n",
      "\u001b[0;31mValueError\u001b[0m: cannot reshape array of size 0 into shape (1,10)"
     ]
    }
   ],
   "source": [
    "res = minimize(f, theta_0, args=(true_share, N, J, X, eq_price), method = 'Nelder-Mead')\n",
    "optim_vec = res.x\n",
    "print(optim_vec)"
   ]
  },
  {
   "cell_type": "code",
   "execution_count": null,
   "metadata": {},
   "outputs": [
    {
     "name": "stdout",
     "output_type": "stream",
     "text": [
      "[1.5445294620652326, 1.533597011184653, 1.5000925016385158, 1.5008345213932603, 1.5248478589690415, 1.5553369736872442, 1.5089471290243461, 1.4636734360165824, 1.4999386312406822]\n",
      "[-1.003864589295763, -0.996836904534302, -0.9987509236670302, -1.0025761284204953, -1.0132299223453436, -0.9877159790633792, -0.9913833686970374, -1.0331552991090085, -0.9999039064897062]\n",
      "[-1.025855090764588, -1.0020146894209225, -0.9993761823400188, -0.9954613587004998, -0.9624035000143596, -0.9535323710718517, -1.0059491588241476, -0.9951074960721809, -1.0002130518245171]\n",
      "[0.38465081741745066, 0.39956111353293844, 0.3999274560731221, 0.4182669810881973, 0.40803511278011473, 0.4139409224550189, 0.4063849796476491, 0.4139521031268942, 0.41997384714914177]\n",
      "[1.0214688222673305, 1.0301909001397576, 1.0499669901478823, 1.0205079689705037, 1.0249292318502468, 1.0338105239124982, 1.0247585963241475, 1.0307462752440417, 0.9998706097808063]\n"
     ]
    }
   ],
   "source": [
    "all_val_b0 = []\n",
    "all_val_b1 = []\n",
    "all_val_b2 = []\n",
    "all_val_mu = []\n",
    "all_val_omega = []\n",
    "\n",
    "for l in range(1, 10):\n",
    "    \n",
    "    res = minimize(f, theta_0, args=(true_share, N, J, X, eq_price), method = 'Nelder-Mead')\n",
    "    optim_vec = res.x\n",
    "\n",
    "    all_val_b0.append(optim_vec[0])\n",
    "    all_val_b1.append(optim_vec[1])\n",
    "    all_val_b2.append(optim_vec[2])\n",
    "    all_val_mu.append(optim_vec[3])\n",
    "    all_val_omega.append(optim_vec[4])\n",
    "\n",
    "print(all_val_b0)\n",
    "print(all_val_b1)\n",
    "print(all_val_b2)\n",
    "print(all_val_mu)\n",
    "print(all_val_omega)\n"
   ]
  },
  {
   "cell_type": "code",
   "execution_count": null,
   "metadata": {},
   "outputs": [
    {
     "name": "stdout",
     "output_type": "stream",
     "text": [
      "         b0        b1        b2        mu     omega\n",
      "0  1.544529 -1.003865 -1.025855  0.384651  1.021469\n",
      "1  1.533597 -0.996837 -1.002015  0.399561  1.030191\n",
      "2  1.500093 -0.998751 -0.999376  0.399927  1.049967\n",
      "3  1.500835 -1.002576 -0.995461  0.418267  1.020508\n",
      "4  1.524848 -1.013230 -0.962404  0.408035  1.024929\n",
      "5  1.555337 -0.987716 -0.953532  0.413941  1.033811\n",
      "6  1.508947 -0.991383 -1.005949  0.406385  1.024759\n",
      "7  1.463673 -1.033155 -0.995107  0.413952  1.030746\n",
      "8  1.499939 -0.999904 -1.000213  0.419974  0.999871\n"
     ]
    }
   ],
   "source": [
    "df = pd.DataFrame({'b0': all_val_b0,\n",
    "                   'b1': all_val_b1,\n",
    "                   'b2': all_val_b2, \n",
    "                   'mu': all_val_mu, \n",
    "                   'omega': all_val_omega,  \n",
    "                   })\n",
    "df.to_csv(f'../data/estimation_market_{seed}.csv', index=False)\n",
    "print(df)\n"
   ]
  }
 ],
 "metadata": {
  "kernelspec": {
   "display_name": "Python 3",
   "language": "python",
   "name": "python3"
  },
  "language_info": {
   "codemirror_mode": {
    "name": "ipython",
    "version": 3
   },
   "file_extension": ".py",
   "mimetype": "text/x-python",
   "name": "python",
   "nbconvert_exporter": "python",
   "pygments_lexer": "ipython3",
   "version": "3.9.6"
  },
  "orig_nbformat": 4,
  "vscode": {
   "interpreter": {
    "hash": "31f2aee4e71d21fbe5cf8b01ff0e069b9275f58929596ceb00d14d90e3e16cd6"
   }
  }
 },
 "nbformat": 4,
 "nbformat_minor": 2
}
