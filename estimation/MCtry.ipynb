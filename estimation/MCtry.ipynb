{
 "cells": [
  {
   "cell_type": "code",
   "execution_count": 33,
   "metadata": {},
   "outputs": [],
   "source": [
    "import numpy as np\n",
    "import pandas as pd\n",
    "import matplotlib.pyplot as plt\n",
    "from scipy.optimize import minimize\n",
    "import matplotlib.pyplot as plt\n",
    "import firm_revised\n"
   ]
  },
  {
   "cell_type": "code",
   "execution_count": 34,
   "metadata": {},
   "outputs": [],
   "source": [
    "seed = 100"
   ]
  },
  {
   "cell_type": "code",
   "execution_count": 35,
   "metadata": {},
   "outputs": [
    {
     "name": "stdout",
     "output_type": "stream",
     "text": [
      "        price      cost  product  time      Car1      Car2    mshare  \\\n",
      "0    3.641920  1.386685        1     1  5.543405  5.891322  0.077929   \n",
      "1    3.590798  1.358202        2     1  5.278369  5.209202  0.111678   \n",
      "2    3.561183  1.342556        3     1  5.424518  5.185328  0.105947   \n",
      "3    3.666598  1.399770        4     1  5.844776  5.108377  0.083860   \n",
      "4    3.568812  1.345970        5     1  5.004719  5.219697  0.128910   \n",
      "..        ...       ...      ...   ...       ...       ...       ...   \n",
      "985  3.085907  1.248011        6    99  5.121569  5.978624  0.088213   \n",
      "986  2.980473  1.182043        7    99  5.670749  5.811683  0.074662   \n",
      "987  2.966102  1.172727        8    99  5.825853  5.171941  0.084378   \n",
      "988  2.917306  1.141750        9    99  5.136707  5.816225  0.100868   \n",
      "989  2.894211  1.127399       10    99  5.575093  5.274074  0.096568   \n",
      "\n",
      "      profits   markups  \n",
      "0    0.175749  1.626350  \n",
      "1    0.249331  1.643788  \n",
      "2    0.235057  1.652539  \n",
      "3    0.190096  1.619429  \n",
      "4    0.286546  1.651479  \n",
      "..        ...       ...  \n",
      "985  0.162127  1.472660  \n",
      "986  0.134274  1.521459  \n",
      "987  0.151321  1.529235  \n",
      "988  0.179097  1.555119  \n",
      "989  0.170618  1.567159  \n",
      "\n",
      "[990 rows x 9 columns]\n"
     ]
    }
   ],
   "source": [
    "df = pd.read_csv(f'../data/market_{seed}.csv')\n",
    "print(df)"
   ]
  },
  {
   "cell_type": "code",
   "execution_count": 36,
   "metadata": {},
   "outputs": [],
   "source": [
    "# All the parameters of interest \n",
    "beta = np.array([2, -0.5, -0.3])\n",
    "mu = 0.5\n",
    "omega = 1\n",
    "\n",
    "\n",
    "# The number of firms in the market\n",
    "J = 10\n",
    "\n",
    "# The number of product characteristics \n",
    "K = 2\n",
    "\n",
    "# The number of consumers in the market \n",
    "N = 500\n",
    "\n",
    "# The number of period that I want to run the market for \n",
    "T = 100"
   ]
  },
  {
   "cell_type": "code",
   "execution_count": 37,
   "metadata": {},
   "outputs": [],
   "source": [
    "# Unpacking the X and the price\n",
    "X1 = np.array(df['Car1'][:J])\n",
    "X2 = np.array(df['Car2'][:J])\n",
    "all_X = np.column_stack((X1, X2))\n",
    "X0 = np.ones(J)\n",
    "X = np.column_stack((X0, all_X))\n",
    "\n",
    "eq_price = np.array(df['price'])\n",
    "\n",
    "true_share = np.array(df['mshare'])\n",
    "# print(true_share)\n",
    "\n",
    "all_est_shares = np.zeros(J*(T-1))\n",
    "# print(all_est_shares)\n"
   ]
  },
  {
   "cell_type": "code",
   "execution_count": 38,
   "metadata": {},
   "outputs": [],
   "source": [
    "# The idea is that you want to min the distance between the true share and the made up share by optimizing the fiven vector theta that determines the share \n",
    "\n",
    "def f(theta, true_share, N, J, X, price):\n",
    "    beta = theta[:K+1]\n",
    "    mu = theta[K+1]\n",
    "    omega = theta[K+2]  \n",
    "    # make a numpy array all estimated shares \n",
    "    for t in range(0, T-1):\n",
    "        eq_price_slice = price[t*J:(t+1)*J]\n",
    "        v_p = np.random.normal(0, 1, N)\n",
    "        e = np.random.gumbel(0, 1, N*J)\n",
    "        shares_per_firm = firm_revised.share(N, J, X, v_p, eq_price_slice, beta, mu, omega, e)[0]\n",
    "        all_est_shares[t*J:(t+1)*J] = shares_per_firm\n",
    "    return np.linalg.norm(true_share - all_est_shares)"
   ]
  },
  {
   "cell_type": "code",
   "execution_count": null,
   "metadata": {},
   "outputs": [],
   "source": [
    "v_p = np.random.normal(0, 1, N)\n",
    "e = np.random.gumbel(0, 1, N*J)\n",
    "shares_estimation = firm_revised.share(N, J, X, v_p, eq_price_slice, beta, mu, omega, e)[0]"
   ]
  },
  {
   "cell_type": "code",
   "execution_count": 39,
   "metadata": {},
   "outputs": [],
   "source": [
    "# theta_0 = np.array([2., -0.5, -0.3, 0.5, 1.])\n",
    "theta_0 = np.array([1.5, -1., -1., 0.4, 1.])\n"
   ]
  },
  {
   "cell_type": "code",
   "execution_count": 40,
   "metadata": {},
   "outputs": [
    {
     "ename": "ValueError",
     "evalue": "operands could not be broadcast together with shapes (5000,) (500,) ",
     "output_type": "error",
     "traceback": [
      "\u001b[0;31m---------------------------------------------------------------------------\u001b[0m",
      "\u001b[0;31mValueError\u001b[0m                                Traceback (most recent call last)",
      "\u001b[1;32m/Users/popovici/Desktop/Thesis/markdown_estimation/estimation/MCtry.ipynb Cell 9\u001b[0m in \u001b[0;36m1\n\u001b[0;32m----> <a href='vscode-notebook-cell:/Users/popovici/Desktop/Thesis/markdown_estimation/estimation/MCtry.ipynb#X10sZmlsZQ%3D%3D?line=0'>1</a>\u001b[0m res \u001b[39m=\u001b[39m minimize(f, theta_0, args\u001b[39m=\u001b[39m(true_share, N, J, X, eq_price), method \u001b[39m=\u001b[39m \u001b[39m'\u001b[39m\u001b[39mNelder-Mead\u001b[39m\u001b[39m'\u001b[39m)\n\u001b[1;32m      <a href='vscode-notebook-cell:/Users/popovici/Desktop/Thesis/markdown_estimation/estimation/MCtry.ipynb#X10sZmlsZQ%3D%3D?line=1'>2</a>\u001b[0m optim_vec \u001b[39m=\u001b[39m res\u001b[39m.\u001b[39mx\n\u001b[1;32m      <a href='vscode-notebook-cell:/Users/popovici/Desktop/Thesis/markdown_estimation/estimation/MCtry.ipynb#X10sZmlsZQ%3D%3D?line=2'>3</a>\u001b[0m \u001b[39mprint\u001b[39m(optim_vec)\n",
      "File \u001b[0;32m~/Library/Python/3.9/lib/python/site-packages/scipy/optimize/_minimize.py:687\u001b[0m, in \u001b[0;36mminimize\u001b[0;34m(fun, x0, args, method, jac, hess, hessp, bounds, constraints, tol, callback, options)\u001b[0m\n\u001b[1;32m    684\u001b[0m     bounds \u001b[39m=\u001b[39m standardize_bounds(bounds, x0, meth)\n\u001b[1;32m    686\u001b[0m \u001b[39mif\u001b[39;00m meth \u001b[39m==\u001b[39m \u001b[39m'\u001b[39m\u001b[39mnelder-mead\u001b[39m\u001b[39m'\u001b[39m:\n\u001b[0;32m--> 687\u001b[0m     res \u001b[39m=\u001b[39m _minimize_neldermead(fun, x0, args, callback, bounds\u001b[39m=\u001b[39;49mbounds,\n\u001b[1;32m    688\u001b[0m                                \u001b[39m*\u001b[39;49m\u001b[39m*\u001b[39;49moptions)\n\u001b[1;32m    689\u001b[0m \u001b[39melif\u001b[39;00m meth \u001b[39m==\u001b[39m \u001b[39m'\u001b[39m\u001b[39mpowell\u001b[39m\u001b[39m'\u001b[39m:\n\u001b[1;32m    690\u001b[0m     res \u001b[39m=\u001b[39m _minimize_powell(fun, x0, args, callback, bounds, \u001b[39m*\u001b[39m\u001b[39m*\u001b[39moptions)\n",
      "File \u001b[0;32m~/Library/Python/3.9/lib/python/site-packages/scipy/optimize/_optimize.py:772\u001b[0m, in \u001b[0;36m_minimize_neldermead\u001b[0;34m(func, x0, args, callback, maxiter, maxfev, disp, return_all, initial_simplex, xatol, fatol, adaptive, bounds, **unknown_options)\u001b[0m\n\u001b[1;32m    770\u001b[0m \u001b[39mtry\u001b[39;00m:\n\u001b[1;32m    771\u001b[0m     \u001b[39mfor\u001b[39;00m k \u001b[39min\u001b[39;00m \u001b[39mrange\u001b[39m(N \u001b[39m+\u001b[39m \u001b[39m1\u001b[39m):\n\u001b[0;32m--> 772\u001b[0m         fsim[k] \u001b[39m=\u001b[39m func(sim[k])\n\u001b[1;32m    773\u001b[0m \u001b[39mexcept\u001b[39;00m _MaxFuncCallError:\n\u001b[1;32m    774\u001b[0m     \u001b[39mpass\u001b[39;00m\n",
      "File \u001b[0;32m~/Library/Python/3.9/lib/python/site-packages/scipy/optimize/_optimize.py:496\u001b[0m, in \u001b[0;36m_wrap_scalar_function_maxfun_validation.<locals>.function_wrapper\u001b[0;34m(x, *wrapper_args)\u001b[0m\n\u001b[1;32m    494\u001b[0m ncalls[\u001b[39m0\u001b[39m] \u001b[39m+\u001b[39m\u001b[39m=\u001b[39m \u001b[39m1\u001b[39m\n\u001b[1;32m    495\u001b[0m \u001b[39m# A copy of x is sent to the user function (gh13740)\u001b[39;00m\n\u001b[0;32m--> 496\u001b[0m fx \u001b[39m=\u001b[39m function(np\u001b[39m.\u001b[39;49mcopy(x), \u001b[39m*\u001b[39;49m(wrapper_args \u001b[39m+\u001b[39;49m args))\n\u001b[1;32m    497\u001b[0m \u001b[39m# Ideally, we'd like to a have a true scalar returned from f(x). For\u001b[39;00m\n\u001b[1;32m    498\u001b[0m \u001b[39m# backwards-compatibility, also allow np.array([1.3]),\u001b[39;00m\n\u001b[1;32m    499\u001b[0m \u001b[39m# np.array([[1.3]]) etc.\u001b[39;00m\n\u001b[1;32m    500\u001b[0m \u001b[39mif\u001b[39;00m \u001b[39mnot\u001b[39;00m np\u001b[39m.\u001b[39misscalar(fx):\n",
      "\u001b[1;32m/Users/popovici/Desktop/Thesis/markdown_estimation/estimation/MCtry.ipynb Cell 9\u001b[0m in \u001b[0;36m1\n\u001b[1;32m     <a href='vscode-notebook-cell:/Users/popovici/Desktop/Thesis/markdown_estimation/estimation/MCtry.ipynb#X10sZmlsZQ%3D%3D?line=9'>10</a>\u001b[0m     v_p \u001b[39m=\u001b[39m np\u001b[39m.\u001b[39mrandom\u001b[39m.\u001b[39mnormal(\u001b[39m0\u001b[39m, \u001b[39m1\u001b[39m, N)\n\u001b[1;32m     <a href='vscode-notebook-cell:/Users/popovici/Desktop/Thesis/markdown_estimation/estimation/MCtry.ipynb#X10sZmlsZQ%3D%3D?line=10'>11</a>\u001b[0m     e \u001b[39m=\u001b[39m np\u001b[39m.\u001b[39mrandom\u001b[39m.\u001b[39mgumbel(\u001b[39m0\u001b[39m, \u001b[39m1\u001b[39m, N)\n\u001b[0;32m---> <a href='vscode-notebook-cell:/Users/popovici/Desktop/Thesis/markdown_estimation/estimation/MCtry.ipynb#X10sZmlsZQ%3D%3D?line=11'>12</a>\u001b[0m     shares_per_firm \u001b[39m=\u001b[39m firm_revised\u001b[39m.\u001b[39;49mshare(N, J, X, v_p, eq_price_slice, beta, mu, omega, e)[\u001b[39m0\u001b[39m]\n\u001b[1;32m     <a href='vscode-notebook-cell:/Users/popovici/Desktop/Thesis/markdown_estimation/estimation/MCtry.ipynb#X10sZmlsZQ%3D%3D?line=12'>13</a>\u001b[0m     all_est_shares[t\u001b[39m*\u001b[39mJ:(t\u001b[39m+\u001b[39m\u001b[39m1\u001b[39m)\u001b[39m*\u001b[39mJ] \u001b[39m=\u001b[39m shares_per_firm\n\u001b[1;32m     <a href='vscode-notebook-cell:/Users/popovici/Desktop/Thesis/markdown_estimation/estimation/MCtry.ipynb#X10sZmlsZQ%3D%3D?line=13'>14</a>\u001b[0m \u001b[39mreturn\u001b[39;00m np\u001b[39m.\u001b[39mlinalg\u001b[39m.\u001b[39mnorm(true_share \u001b[39m-\u001b[39m all_est_shares)\n",
      "File \u001b[0;32m~/Desktop/Thesis/markdown_estimation/estimation/firm_revised.py:20\u001b[0m, in \u001b[0;36mshare\u001b[0;34m(N_cons, J_prod, X_char, v_p, price, coef_car, mu, omega, e)\u001b[0m\n\u001b[1;32m     18\u001b[0m alpha_i \u001b[39m=\u001b[39m np\u001b[39m.\u001b[39mreshape(\u001b[39m-\u001b[39m(np\u001b[39m.\u001b[39mexp(mu \u001b[39m+\u001b[39m omega\u001b[39m*\u001b[39mv_p)), (N_cons, \u001b[39m1\u001b[39m))\n\u001b[1;32m     19\u001b[0m random_coeff \u001b[39m=\u001b[39m np\u001b[39m.\u001b[39mravel((alpha_i\u001b[39m*\u001b[39mprice_r)\u001b[39m.\u001b[39mT)\n\u001b[0;32m---> 20\u001b[0m u \u001b[39m=\u001b[39m X_for_utility\u001b[39m@coef_car\u001b[39;49m \u001b[39m+\u001b[39;49m random_coeff \u001b[39m+\u001b[39;49m e\n\u001b[1;32m     21\u001b[0m u_r \u001b[39m=\u001b[39m np\u001b[39m.\u001b[39mreshape(u, (J_prod, N_cons))\n\u001b[1;32m     22\u001b[0m sum_u \u001b[39m=\u001b[39m np\u001b[39m.\u001b[39msum(np\u001b[39m.\u001b[39mexp(u_r))\n",
      "\u001b[0;31mValueError\u001b[0m: operands could not be broadcast together with shapes (5000,) (500,) "
     ]
    }
   ],
   "source": [
    "res = minimize(f, theta_0, args=(true_share, N, J, X, eq_price), method = 'Nelder-Mead')\n",
    "optim_vec = res.x\n",
    "print(optim_vec)"
   ]
  },
  {
   "cell_type": "code",
   "execution_count": null,
   "metadata": {},
   "outputs": [],
   "source": [
    "# Retriving the estimated market shares at the estimated parametre \n"
   ]
  },
  {
   "cell_type": "code",
   "execution_count": null,
   "metadata": {},
   "outputs": [
    {
     "ename": "KeyboardInterrupt",
     "evalue": "",
     "output_type": "error",
     "traceback": [
      "\u001b[0;31m---------------------------------------------------------------------------\u001b[0m",
      "\u001b[0;31mKeyboardInterrupt\u001b[0m                         Traceback (most recent call last)",
      "\u001b[1;32m/Users/popovici/Desktop/Thesis/markdown_estimation/estimation/MCtry.ipynb Cell 10\u001b[0m in \u001b[0;36m9\n\u001b[1;32m      <a href='vscode-notebook-cell:/Users/popovici/Desktop/Thesis/markdown_estimation/estimation/MCtry.ipynb#X11sZmlsZQ%3D%3D?line=4'>5</a>\u001b[0m all_val_omega \u001b[39m=\u001b[39m []\n\u001b[1;32m      <a href='vscode-notebook-cell:/Users/popovici/Desktop/Thesis/markdown_estimation/estimation/MCtry.ipynb#X11sZmlsZQ%3D%3D?line=6'>7</a>\u001b[0m \u001b[39mfor\u001b[39;00m l \u001b[39min\u001b[39;00m \u001b[39mrange\u001b[39m(\u001b[39m1\u001b[39m, \u001b[39m10\u001b[39m):\n\u001b[0;32m----> <a href='vscode-notebook-cell:/Users/popovici/Desktop/Thesis/markdown_estimation/estimation/MCtry.ipynb#X11sZmlsZQ%3D%3D?line=8'>9</a>\u001b[0m     res \u001b[39m=\u001b[39m minimize(f, theta_0, args\u001b[39m=\u001b[39m(true_share, N, J, X, eq_price), method \u001b[39m=\u001b[39m \u001b[39m'\u001b[39m\u001b[39mNelder-Mead\u001b[39m\u001b[39m'\u001b[39m)\n\u001b[1;32m     <a href='vscode-notebook-cell:/Users/popovici/Desktop/Thesis/markdown_estimation/estimation/MCtry.ipynb#X11sZmlsZQ%3D%3D?line=9'>10</a>\u001b[0m     optim_vec \u001b[39m=\u001b[39m res\u001b[39m.\u001b[39mx\n\u001b[1;32m     <a href='vscode-notebook-cell:/Users/popovici/Desktop/Thesis/markdown_estimation/estimation/MCtry.ipynb#X11sZmlsZQ%3D%3D?line=11'>12</a>\u001b[0m     all_val_b0\u001b[39m.\u001b[39mappend(optim_vec[\u001b[39m0\u001b[39m])\n",
      "File \u001b[0;32m~/Library/Python/3.9/lib/python/site-packages/scipy/optimize/_minimize.py:687\u001b[0m, in \u001b[0;36mminimize\u001b[0;34m(fun, x0, args, method, jac, hess, hessp, bounds, constraints, tol, callback, options)\u001b[0m\n\u001b[1;32m    684\u001b[0m     bounds \u001b[39m=\u001b[39m standardize_bounds(bounds, x0, meth)\n\u001b[1;32m    686\u001b[0m \u001b[39mif\u001b[39;00m meth \u001b[39m==\u001b[39m \u001b[39m'\u001b[39m\u001b[39mnelder-mead\u001b[39m\u001b[39m'\u001b[39m:\n\u001b[0;32m--> 687\u001b[0m     res \u001b[39m=\u001b[39m _minimize_neldermead(fun, x0, args, callback, bounds\u001b[39m=\u001b[39;49mbounds,\n\u001b[1;32m    688\u001b[0m                                \u001b[39m*\u001b[39;49m\u001b[39m*\u001b[39;49moptions)\n\u001b[1;32m    689\u001b[0m \u001b[39melif\u001b[39;00m meth \u001b[39m==\u001b[39m \u001b[39m'\u001b[39m\u001b[39mpowell\u001b[39m\u001b[39m'\u001b[39m:\n\u001b[1;32m    690\u001b[0m     res \u001b[39m=\u001b[39m _minimize_powell(fun, x0, args, callback, bounds, \u001b[39m*\u001b[39m\u001b[39m*\u001b[39moptions)\n",
      "File \u001b[0;32m~/Library/Python/3.9/lib/python/site-packages/scipy/optimize/_optimize.py:834\u001b[0m, in \u001b[0;36m_minimize_neldermead\u001b[0;34m(func, x0, args, callback, maxiter, maxfev, disp, return_all, initial_simplex, xatol, fatol, adaptive, bounds, **unknown_options)\u001b[0m\n\u001b[1;32m    832\u001b[0m \u001b[39mif\u001b[39;00m bounds \u001b[39mis\u001b[39;00m \u001b[39mnot\u001b[39;00m \u001b[39mNone\u001b[39;00m:\n\u001b[1;32m    833\u001b[0m     xcc \u001b[39m=\u001b[39m np\u001b[39m.\u001b[39mclip(xcc, lower_bound, upper_bound)\n\u001b[0;32m--> 834\u001b[0m fxcc \u001b[39m=\u001b[39m func(xcc)\n\u001b[1;32m    836\u001b[0m \u001b[39mif\u001b[39;00m fxcc \u001b[39m<\u001b[39m fsim[\u001b[39m-\u001b[39m\u001b[39m1\u001b[39m]:\n\u001b[1;32m    837\u001b[0m     sim[\u001b[39m-\u001b[39m\u001b[39m1\u001b[39m] \u001b[39m=\u001b[39m xcc\n",
      "File \u001b[0;32m~/Library/Python/3.9/lib/python/site-packages/scipy/optimize/_optimize.py:496\u001b[0m, in \u001b[0;36m_wrap_scalar_function_maxfun_validation.<locals>.function_wrapper\u001b[0;34m(x, *wrapper_args)\u001b[0m\n\u001b[1;32m    494\u001b[0m ncalls[\u001b[39m0\u001b[39m] \u001b[39m+\u001b[39m\u001b[39m=\u001b[39m \u001b[39m1\u001b[39m\n\u001b[1;32m    495\u001b[0m \u001b[39m# A copy of x is sent to the user function (gh13740)\u001b[39;00m\n\u001b[0;32m--> 496\u001b[0m fx \u001b[39m=\u001b[39m function(np\u001b[39m.\u001b[39;49mcopy(x), \u001b[39m*\u001b[39;49m(wrapper_args \u001b[39m+\u001b[39;49m args))\n\u001b[1;32m    497\u001b[0m \u001b[39m# Ideally, we'd like to a have a true scalar returned from f(x). For\u001b[39;00m\n\u001b[1;32m    498\u001b[0m \u001b[39m# backwards-compatibility, also allow np.array([1.3]),\u001b[39;00m\n\u001b[1;32m    499\u001b[0m \u001b[39m# np.array([[1.3]]) etc.\u001b[39;00m\n\u001b[1;32m    500\u001b[0m \u001b[39mif\u001b[39;00m \u001b[39mnot\u001b[39;00m np\u001b[39m.\u001b[39misscalar(fx):\n",
      "\u001b[1;32m/Users/popovici/Desktop/Thesis/markdown_estimation/estimation/MCtry.ipynb Cell 10\u001b[0m in \u001b[0;36m1\n\u001b[1;32m      <a href='vscode-notebook-cell:/Users/popovici/Desktop/Thesis/markdown_estimation/estimation/MCtry.ipynb#X11sZmlsZQ%3D%3D?line=7'>8</a>\u001b[0m \u001b[39mfor\u001b[39;00m t \u001b[39min\u001b[39;00m \u001b[39mrange\u001b[39m(\u001b[39m0\u001b[39m, T\u001b[39m-\u001b[39m\u001b[39m1\u001b[39m):\n\u001b[1;32m      <a href='vscode-notebook-cell:/Users/popovici/Desktop/Thesis/markdown_estimation/estimation/MCtry.ipynb#X11sZmlsZQ%3D%3D?line=8'>9</a>\u001b[0m     eq_price_slice \u001b[39m=\u001b[39m price[t\u001b[39m*\u001b[39mJ:(t\u001b[39m+\u001b[39m\u001b[39m1\u001b[39m)\u001b[39m*\u001b[39mJ]\n\u001b[0;32m---> <a href='vscode-notebook-cell:/Users/popovici/Desktop/Thesis/markdown_estimation/estimation/MCtry.ipynb#X11sZmlsZQ%3D%3D?line=10'>11</a>\u001b[0m     v_p \u001b[39m=\u001b[39m np\u001b[39m.\u001b[39;49mrandom\u001b[39m.\u001b[39;49mnormal(\u001b[39m0\u001b[39;49m, \u001b[39m1\u001b[39;49m, N)\n\u001b[1;32m     <a href='vscode-notebook-cell:/Users/popovici/Desktop/Thesis/markdown_estimation/estimation/MCtry.ipynb#X11sZmlsZQ%3D%3D?line=12'>13</a>\u001b[0m     \u001b[39m# Latin Hyper\u001b[39;00m\n\u001b[1;32m     <a href='vscode-notebook-cell:/Users/popovici/Desktop/Thesis/markdown_estimation/estimation/MCtry.ipynb#X11sZmlsZQ%3D%3D?line=13'>14</a>\u001b[0m     e \u001b[39m=\u001b[39m \u001b[39m0.\u001b[39m\n",
      "\u001b[0;31mKeyboardInterrupt\u001b[0m: "
     ]
    }
   ],
   "source": [
    "all_val_b0 = []\n",
    "all_val_b1 = []\n",
    "all_val_b2 = []\n",
    "all_val_mu = []\n",
    "all_val_omega = []\n",
    "\n",
    "for l in range(1, 10):\n",
    "    \n",
    "    res = minimize(f, theta_0, args=(true_share, N, J, X, eq_price), method = 'Nelder-Mead')\n",
    "    optim_vec = res.x\n",
    "\n",
    "    all_val_b0.append(optim_vec[0])\n",
    "    all_val_b1.append(optim_vec[1])\n",
    "    all_val_b2.append(optim_vec[2])\n",
    "    all_val_mu.append(optim_vec[3])\n",
    "    all_val_omega.append(optim_vec[4])\n",
    "\n",
    "print(all_val_b0)\n",
    "print(all_val_b1)\n",
    "print(all_val_b2)\n",
    "print(all_val_mu)\n",
    "print(all_val_omega)\n"
   ]
  }
 ],
 "metadata": {
  "kernelspec": {
   "display_name": "Python 3",
   "language": "python",
   "name": "python3"
  },
  "language_info": {
   "codemirror_mode": {
    "name": "ipython",
    "version": 3
   },
   "file_extension": ".py",
   "mimetype": "text/x-python",
   "name": "python",
   "nbconvert_exporter": "python",
   "pygments_lexer": "ipython3",
   "version": "3.9.6"
  },
  "orig_nbformat": 4,
  "vscode": {
   "interpreter": {
    "hash": "31f2aee4e71d21fbe5cf8b01ff0e069b9275f58929596ceb00d14d90e3e16cd6"
   }
  }
 },
 "nbformat": 4,
 "nbformat_minor": 2
}
